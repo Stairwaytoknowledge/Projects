{
 "cells": [
  {
   "cell_type": "code",
   "execution_count": 1,
   "metadata": {},
   "outputs": [],
   "source": [
    "from __future__ import print_function\n",
    "import os\n",
    "import sys\n",
    "import pandas as pd\n",
    "#import pandas_datareader as pdr\n",
    "import numpy as np\n",
    "from matplotlib import pyplot as plt\n",
    "import seaborn as sns\n",
    "import datetime\n",
    "from statsmodels.graphics.tsaplots import plot_acf, plot_pacf\n",
    "from statsmodels.tsa.stattools import adfuller, kpss\n",
    "from statsmodels.tsa.seasonal import seasonal_decompose\n",
    "plt.style.use('ggplot')\n",
    "\n",
    "import warnings\n",
    "warnings.filterwarnings(\"ignore\")"
   ]
  },
  {
   "cell_type": "code",
   "execution_count": 3,
   "metadata": {},
   "outputs": [
    {
     "data": {
      "text/plain": [
       "(7281, 84)"
      ]
     },
     "execution_count": 3,
     "metadata": {},
     "output_type": "execute_result"
    }
   ],
   "source": [
    "df = pd.read_csv(r'C:\\Users\\Sid\\Documents\\Code\\dengue-data-resampled.csv')\n",
    "df.head()\n",
    "df = df.set_index('Date')\n",
    "df.index= pd.to_datetime(df.index)\n",
    "df.head()\n",
    "df.shape"
   ]
  },
  {
   "cell_type": "code",
   "execution_count": 10,
   "metadata": {},
   "outputs": [],
   "source": [
    "list_of_columns = ['temperature-admiralty','temperature-ang-mo-kio','temperature-boon-lay-east',\n",
    "            'temperature-changi','temperature-choa-chu-kang-south','temperature-clementi',\n",
    "            'temperature-east-coast-parkway','temperature-jurong-island','temperature-khatib',\n",
    "            'temperature-marina-barrage','temperature-newton','temperature-pasir-panjang',\n",
    "            'temperature-pulau-ubin','temperature-seletar','temperature-semakau-island',\n",
    "            'temperature-sembawang','temperature-sentosa-island','temperature-tai-seng',\n",
    "            'temperature-tengah','temperature-tuas-south','rainfall-admiralty','rainfall-admiralty-west',\n",
    "            'rainfall-ang-mo-kio','rainfall-boon-lay-east','rainfall-boon-lay-west',\n",
    "            'rainfall-botanic-garden','rainfall-buangkok','rainfall-bukit-panjang','rainfall-bukit-timah',\n",
    "            'rainfall-buona-vista','rainfall-chai-chee','rainfall-changi','rainfall-choa-chu-kang-central',\n",
    "            'rainfall-choa-chu-kang-south','rainfall-choa-chu-kang-west','rainfall-clementi',\n",
    "            'rainfall-dhoby-ghaut','rainfall-east-coast-parkway','rainfall-jurong-east',\n",
    "            'rainfall-jurong-north','rainfall-jurong-island','rainfall-jurong-pier',\n",
    "            'rainfall-kampong-bahru',\n",
    "            'rainfall-kent-ridge','rainfall-khatib','rainfall-kranji-reservoir',\n",
    "            'rainfall-lim-chu-kang','rainfall-lower-peirce-reservoir',\n",
    "            'rainfall-macritchie-reservoir','rainfall-mandai','rainfall-marina-barrage',\n",
    "            'rainfall-marine-parade','rainfall-newton','rainfall-nicoll-highway','rainfall-pasir-panjang',\n",
    "            'rainfall-pasir-ris-central','rainfall-pasir-ris-west','rainfall-paya-lebar',\n",
    "            'rainfall-pulau-ubin','rainfall-punggol',\n",
    "            'rainfall-queenstown','rainfall-seletar','rainfall-semakau-island',\n",
    "            'rainfall-sembawang','rainfall-sentosa-island','rainfall-serangoon',\n",
    "            'rainfall-serangoon-north','rainfall-simei','rainfall-somerset-road','rainfall-tai-seng',\n",
    "            'rainfall-tanjong-katong','rainfall-tanjong-pagar','rainfall-tengah','rainfall-toa-payoh',\n",
    "            'rainfall-tuas','rainfall-tuas-south','rainfall-tuas-west','rainfall-ulu-pandan',\n",
    "            'rainfall-upper-peirce-reservoir','rainfall-upper-thomson','rainfall-whampoa',\n",
    "            'rainfall-yishun','population-sg']"
   ]
  },
  {
   "cell_type": "code",
   "execution_count": 24,
   "metadata": {},
   "outputs": [
    {
     "name": "stdout",
     "output_type": "stream",
     "text": [
      "Shape of train: (3573, 84)\n",
      "Shape of test: (57, 84)\n"
     ]
    }
   ],
   "source": [
    "#split the data\n",
    "df = df[df.index>'2010']\n",
    "split_date = datetime.datetime(year=2019, month=10, day=15, hour=0)\n",
    "df_train = df.loc[df.index<split_date]\n",
    "df_val = df.loc[df.index>=split_date]\n",
    "print('Shape of train:', df_train.shape)\n",
    "print('Shape of test:', df_val.shape)"
   ]
  },
  {
   "cell_type": "code",
   "execution_count": 25,
   "metadata": {},
   "outputs": [],
   "source": [
    "from sklearn.ensemble import RandomForestClassifier\n",
    "from sklearn.datasets import make_classification\n",
    "from sklearn  import preprocessing\n",
    "y_train = df_train['dengue-sg'].astype(int)\n",
    "y_test = df_val['dengue-sg'].astype(int)\n",
    "X_train = df_train.iloc[:,:-1]\n",
    "X_test = df_val.iloc[:,:-1]"
   ]
  },
  {
   "cell_type": "code",
   "execution_count": 26,
   "metadata": {},
   "outputs": [
    {
     "data": {
      "text/plain": [
       "82    0.034594\n",
       "13    0.023388\n",
       "5     0.022785\n",
       "7     0.022673\n",
       "11    0.021610\n",
       "        ...   \n",
       "79    0.007141\n",
       "23    0.006720\n",
       "38    0.006536\n",
       "60    0.006097\n",
       "71    0.005192\n",
       "Length: 83, dtype: float64"
      ]
     },
     "execution_count": 26,
     "metadata": {},
     "output_type": "execute_result"
    }
   ],
   "source": [
    "np.random.seed(42)\n",
    "clf = RandomForestClassifier(max_depth=5,random_state = 42,)\n",
    "clf.fit(X_train, y_train)\n",
    "importance = pd.Series(clf.feature_importances_)\n",
    "importance.sort_values(ascending = False)"
   ]
  },
  {
   "cell_type": "code",
   "execution_count": 27,
   "metadata": {},
   "outputs": [
    {
     "name": "stdout",
     "output_type": "stream",
     "text": [
      "population-sg\n",
      "temperature-seletar\n",
      "temperature-clementi\n",
      "temperature-jurong-island\n",
      "temperature-pasir-panjang\n",
      "temperature-semakau-island\n",
      "temperature-east-coast-parkway\n",
      "temperature-tai-seng\n",
      "temperature-tuas-south\n",
      "temperature-sembawang\n",
      "temperature-newton\n",
      "temperature-changi\n",
      "temperature-khatib\n",
      "temperature-boon-lay-east\n",
      "temperature-tengah\n",
      "temperature-marina-barrage\n",
      "temperature-choa-chu-kang-south\n",
      "rainfall-tuas-west\n",
      "temperature-admiralty\n",
      "temperature-sentosa-island\n",
      "rainfall-mandai\n",
      "temperature-pulau-ubin\n",
      "temperature-ang-mo-kio\n",
      "rainfall-buangkok\n",
      "rainfall-tuas\n",
      "rainfall-admiralty-west\n",
      "rainfall-bukit-timah\n",
      "rainfall-lim-chu-kang\n",
      "rainfall-tuas-south\n",
      "rainfall-pasir-ris-west\n",
      "rainfall-pulau-ubin\n",
      "rainfall-serangoon-north\n",
      "rainfall-serangoon\n",
      "rainfall-marine-parade\n",
      "rainfall-simei\n",
      "rainfall-semakau-island\n",
      "rainfall-yishun\n",
      "rainfall-jurong-island\n",
      "rainfall-paya-lebar\n",
      "rainfall-jurong-north\n",
      "rainfall-sentosa-island\n",
      "rainfall-east-coast-parkway\n",
      "rainfall-dhoby-ghaut\n",
      "rainfall-upper-peirce-reservoir\n",
      "rainfall-clementi\n",
      "rainfall-choa-chu-kang-central\n",
      "rainfall-whampoa\n",
      "rainfall-tanjong-katong\n",
      "rainfall-choa-chu-kang-south\n",
      "rainfall-toa-payoh\n",
      "rainfall-marina-barrage\n",
      "rainfall-changi\n",
      "rainfall-boon-lay-west\n",
      "rainfall-macritchie-reservoir\n",
      "rainfall-bukit-panjang\n",
      "rainfall-chai-chee\n",
      "rainfall-seletar\n",
      "rainfall-buona-vista\n",
      "rainfall-jurong-pier\n",
      "rainfall-pasir-ris-central\n",
      "rainfall-kent-ridge\n",
      "rainfall-somerset-road\n",
      "rainfall-pasir-panjang\n",
      "rainfall-kampong-bahru\n",
      "rainfall-choa-chu-kang-west\n",
      "rainfall-admiralty\n",
      "rainfall-tai-seng\n",
      "rainfall-kranji-reservoir\n",
      "rainfall-khatib\n",
      "rainfall-newton\n",
      "rainfall-tengah\n",
      "rainfall-sembawang\n",
      "rainfall-ang-mo-kio\n",
      "rainfall-botanic-garden\n",
      "rainfall-punggol\n",
      "rainfall-ulu-pandan\n",
      "rainfall-lower-peirce-reservoir\n",
      "rainfall-nicoll-highway\n",
      "rainfall-upper-thomson\n",
      "rainfall-boon-lay-east\n",
      "rainfall-jurong-east\n",
      "rainfall-queenstown\n",
      "rainfall-tanjong-pagar\n"
     ]
    }
   ],
   "source": [
    "importance_list = [importance.sort_values(ascending=False)]\n",
    "imp_df = pd.DataFrame(importance_list)\n",
    "feature_imp_list = list(imp_df.columns.values)\n",
    "j=0\n",
    "for i in range(len(list_of_columns)):\n",
    "    j = feature_imp_list[i]\n",
    "    print(list_of_columns[j])"
   ]
  },
  {
   "cell_type": "code",
   "execution_count": 28,
   "metadata": {},
   "outputs": [
    {
     "data": {
      "image/png": "[encoded data removed]",
      "text/plain": [
       "<Figure size 432x288 with 1 Axes>"
      ]
     },
     "metadata": {
      "needs_background": "light"
     },
     "output_type": "display_data"
    }
   ],
   "source": [
    "\n",
    "imp_frame = importance.to_frame()\n",
    "imp_frame.plot(kind='bar')\n",
    "plt.xticks([])\n",
    "plt.xlabel('Features')\n",
    "plt.ylabel('Importance')\n",
    "plt.title('Feature Importance Plot')\n",
    "plt.savefig('importance.png')"
   ]
  },
  {
   "cell_type": "code",
   "execution_count": 29,
   "metadata": {},
   "outputs": [
    {
     "name": "stdout",
     "output_type": "stream",
     "text": [
      "              precision    recall  f1-score   support\n",
      "\n",
      "          28       0.00      0.00      0.00         0\n",
      "         134       0.00      0.00      0.00         0\n",
      "         194       1.00      1.00      1.00         2\n",
      "         228       0.00      0.00      0.00         0\n",
      "         239       0.00      0.00      0.00         7\n",
      "         242       0.71      0.83      0.77         6\n",
      "         245       0.00      0.00      0.00         0\n",
      "         246       1.00      1.00      1.00         2\n",
      "         287       0.57      0.80      0.67         5\n",
      "         308       1.00      0.50      0.67         2\n",
      "         322       1.00      0.50      0.67         2\n",
      "         330       0.00      0.00      0.00         2\n",
      "         334       0.00      0.00      0.00         8\n",
      "         373       0.00      0.00      0.00         7\n",
      "         400       0.50      1.00      0.67         2\n",
      "         401       1.00      1.00      1.00         2\n",
      "         523       0.43      1.00      0.60         6\n",
      "         593       1.00      1.00      1.00         2\n",
      "         600       1.00      1.00      1.00         2\n",
      "         664       0.00      0.00      0.00         0\n",
      "\n",
      "    accuracy                           0.51        57\n",
      "   macro avg       0.46      0.48      0.45        57\n",
      "weighted avg       0.43      0.51      0.45        57\n",
      "\n",
      "29 (57,)\n"
     ]
    }
   ],
   "source": [
    "from sklearn.metrics import classification_report\n",
    "\n",
    "y_pred  = clf.predict(X_test)\n",
    "print(classification_report(y_test,y_pred))\n",
    "print(np.sum(y_test== y_pred),y_test.shape)"
   ]
  },
  {
   "cell_type": "code",
   "execution_count": 32,
   "metadata": {},
   "outputs": [],
   "source": [
    "from sklearn.metrics import roc_curve, auc\n",
    "from sklearn.metrics import confusion_matrix\n",
    "from sklearn.metrics import classification_report\n",
    "from sklearn.model_selection import KFold, cross_val_score\n",
    "from sklearn.model_selection import train_test_split, GridSearchCV\n",
    "from sklearn.ensemble import RandomForestClassifier \n",
    "from urllib.request import urlopen "
   ]
  },
  {
   "cell_type": "code",
   "execution_count": null,
   "metadata": {},
   "outputs": [],
   "source": []
  }
 ],
 "metadata": {
  "kernelspec": {
   "display_name": "Python 3",
   "language": "python",
   "name": "python3"
  },
  "language_info": {
   "codemirror_mode": {
    "name": "ipython",
    "version": 3
   },
   "file_extension": ".py",
   "mimetype": "text/x-python",
   "name": "python",
   "nbconvert_exporter": "python",
   "pygments_lexer": "ipython3",
   "version": "3.7.3"
  }
 },
 "nbformat": 4,
 "nbformat_minor": 2
}
