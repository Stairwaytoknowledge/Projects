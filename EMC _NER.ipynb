{
 "cells": [
  {
   "cell_type": "code",
   "execution_count": 1,
   "metadata": {},
   "outputs": [],
   "source": [
    "import numpy as np\n",
    "import pandas as pd"
   ]
  },
  {
   "cell_type": "code",
   "execution_count": 2,
   "metadata": {},
   "outputs": [],
   "source": [
    "import spacy\n",
    "import en_core_web_lg\n",
    "#nlp = spacy.load('en_core_web_lg')\n",
    "nlp = en_core_web_lg.load()"
   ]
  },
  {
   "cell_type": "code",
   "execution_count": 3,
   "metadata": {
    "scrolled": true
   },
   "outputs": [
    {
     "data": {
      "text/html": [
       "<div>\n",
       "<style scoped>\n",
       "    .dataframe tbody tr th:only-of-type {\n",
       "        vertical-align: middle;\n",
       "    }\n",
       "\n",
       "    .dataframe tbody tr th {\n",
       "        vertical-align: top;\n",
       "    }\n",
       "\n",
       "    .dataframe thead th {\n",
       "        text-align: right;\n",
       "    }\n",
       "</style>\n",
       "<table border=\"1\" class=\"dataframe\">\n",
       "  <thead>\n",
       "    <tr style=\"text-align: right;\">\n",
       "      <th></th>\n",
       "      <th>FROM_DISPATCH_DATE</th>\n",
       "      <th>FROM_DISPATCH_PERIOD</th>\n",
       "      <th>TO_DISPATCH_DATE</th>\n",
       "      <th>TO_DISPATCH_PERIOD</th>\n",
       "      <th>CONDITION_DESCRIPTION</th>\n",
       "      <th>A</th>\n",
       "      <th>B</th>\n",
       "      <th>C</th>\n",
       "      <th>D</th>\n",
       "      <th>E</th>\n",
       "      <th>F</th>\n",
       "      <th>G</th>\n",
       "      <th>H</th>\n",
       "      <th>I</th>\n",
       "      <th>J</th>\n",
       "      <th>K</th>\n",
       "    </tr>\n",
       "  </thead>\n",
       "  <tbody>\n",
       "    <tr>\n",
       "      <td>0</td>\n",
       "      <td>02-Jan-15</td>\n",
       "      <td>23</td>\n",
       "      <td>02-Jan-15</td>\n",
       "      <td>23.0</td>\n",
       "      <td>Outage of Paya Lebar I/Kaki Bukit 66kV Feeder ...</td>\n",
       "      <td>NaN</td>\n",
       "      <td>NaN</td>\n",
       "      <td>NaN</td>\n",
       "      <td>NaN</td>\n",
       "      <td>NaN</td>\n",
       "      <td>NaN</td>\n",
       "      <td>NaN</td>\n",
       "      <td>NaN</td>\n",
       "      <td>NaN</td>\n",
       "      <td>NaN</td>\n",
       "      <td>NaN</td>\n",
       "    </tr>\n",
       "    <tr>\n",
       "      <td>1</td>\n",
       "      <td>06-Jan-15</td>\n",
       "      <td>39</td>\n",
       "      <td>06-Jan-15</td>\n",
       "      <td>41.0</td>\n",
       "      <td>Fuel changeover test of Generating Unit SNKCCP...</td>\n",
       "      <td>NaN</td>\n",
       "      <td>NaN</td>\n",
       "      <td>NaN</td>\n",
       "      <td>NaN</td>\n",
       "      <td>NaN</td>\n",
       "      <td>NaN</td>\n",
       "      <td>NaN</td>\n",
       "      <td>NaN</td>\n",
       "      <td>NaN</td>\n",
       "      <td>NaN</td>\n",
       "      <td>NaN</td>\n",
       "    </tr>\n",
       "    <tr>\n",
       "      <td>2</td>\n",
       "      <td>06-Jan-15</td>\n",
       "      <td>39</td>\n",
       "      <td>06-Jan-15</td>\n",
       "      <td>41.0</td>\n",
       "      <td>Fuel changeover test of Generating Unit SNKCCP...</td>\n",
       "      <td>NaN</td>\n",
       "      <td>NaN</td>\n",
       "      <td>NaN</td>\n",
       "      <td>NaN</td>\n",
       "      <td>NaN</td>\n",
       "      <td>NaN</td>\n",
       "      <td>NaN</td>\n",
       "      <td>NaN</td>\n",
       "      <td>NaN</td>\n",
       "      <td>NaN</td>\n",
       "      <td>NaN</td>\n",
       "    </tr>\n",
       "    <tr>\n",
       "      <td>3</td>\n",
       "      <td>07-Jan-15</td>\n",
       "      <td>39</td>\n",
       "      <td>07-Jan-15</td>\n",
       "      <td>40.0</td>\n",
       "      <td>Fuel changeover test of Generating Unit SER CC...</td>\n",
       "      <td>NaN</td>\n",
       "      <td>NaN</td>\n",
       "      <td>NaN</td>\n",
       "      <td>NaN</td>\n",
       "      <td>NaN</td>\n",
       "      <td>NaN</td>\n",
       "      <td>NaN</td>\n",
       "      <td>NaN</td>\n",
       "      <td>NaN</td>\n",
       "      <td>NaN</td>\n",
       "      <td>NaN</td>\n",
       "    </tr>\n",
       "    <tr>\n",
       "      <td>4</td>\n",
       "      <td>07-Jan-15</td>\n",
       "      <td>39</td>\n",
       "      <td>07-Jan-15</td>\n",
       "      <td>41.0</td>\n",
       "      <td>Fuel changeover test of Generating Unit SER CC...</td>\n",
       "      <td>NaN</td>\n",
       "      <td>NaN</td>\n",
       "      <td>NaN</td>\n",
       "      <td>NaN</td>\n",
       "      <td>NaN</td>\n",
       "      <td>NaN</td>\n",
       "      <td>NaN</td>\n",
       "      <td>NaN</td>\n",
       "      <td>NaN</td>\n",
       "      <td>NaN</td>\n",
       "      <td>NaN</td>\n",
       "    </tr>\n",
       "    <tr>\n",
       "      <td>...</td>\n",
       "      <td>...</td>\n",
       "      <td>...</td>\n",
       "      <td>...</td>\n",
       "      <td>...</td>\n",
       "      <td>...</td>\n",
       "      <td>...</td>\n",
       "      <td>...</td>\n",
       "      <td>...</td>\n",
       "      <td>...</td>\n",
       "      <td>...</td>\n",
       "      <td>...</td>\n",
       "      <td>...</td>\n",
       "      <td>...</td>\n",
       "      <td>...</td>\n",
       "      <td>...</td>\n",
       "      <td>...</td>\n",
       "    </tr>\n",
       "    <tr>\n",
       "      <td>4447</td>\n",
       "      <td>27-Dec-19</td>\n",
       "      <td>42</td>\n",
       "      <td>27-Dec-19</td>\n",
       "      <td>42.0</td>\n",
       "      <td>Forced outage of generating unit KMCBLK4 at 39...</td>\n",
       "      <td>NaN</td>\n",
       "      <td>NaN</td>\n",
       "      <td>NaN</td>\n",
       "      <td>NaN</td>\n",
       "      <td>NaN</td>\n",
       "      <td>NaN</td>\n",
       "      <td>NaN</td>\n",
       "      <td>NaN</td>\n",
       "      <td>NaN</td>\n",
       "      <td>NaN</td>\n",
       "      <td>NaN</td>\n",
       "    </tr>\n",
       "    <tr>\n",
       "      <td>4448</td>\n",
       "      <td>27-Dec-19</td>\n",
       "      <td>42</td>\n",
       "      <td>27-Dec-19</td>\n",
       "      <td>42.0</td>\n",
       "      <td>Activate scheduled contingency reserve from Lo...</td>\n",
       "      <td>NaN</td>\n",
       "      <td>NaN</td>\n",
       "      <td>NaN</td>\n",
       "      <td>NaN</td>\n",
       "      <td>NaN</td>\n",
       "      <td>NaN</td>\n",
       "      <td>NaN</td>\n",
       "      <td>NaN</td>\n",
       "      <td>NaN</td>\n",
       "      <td>NaN</td>\n",
       "      <td>NaN</td>\n",
       "    </tr>\n",
       "    <tr>\n",
       "      <td>4449</td>\n",
       "      <td>27-Dec-19</td>\n",
       "      <td>42</td>\n",
       "      <td>27-Dec-19</td>\n",
       "      <td>44.0</td>\n",
       "      <td>Load interrupted can be restored with immediat...</td>\n",
       "      <td>NaN</td>\n",
       "      <td>NaN</td>\n",
       "      <td>NaN</td>\n",
       "      <td>NaN</td>\n",
       "      <td>NaN</td>\n",
       "      <td>NaN</td>\n",
       "      <td>NaN</td>\n",
       "      <td>NaN</td>\n",
       "      <td>NaN</td>\n",
       "      <td>NaN</td>\n",
       "      <td>NaN</td>\n",
       "    </tr>\n",
       "    <tr>\n",
       "      <td>4450</td>\n",
       "      <td>30-Dec-19</td>\n",
       "      <td>1</td>\n",
       "      <td>07-Jan-20</td>\n",
       "      <td>48.0</td>\n",
       "      <td>Outage of Generating Unit KMCBLK4 on 30 Dec 20...</td>\n",
       "      <td>NaN</td>\n",
       "      <td>NaN</td>\n",
       "      <td>NaN</td>\n",
       "      <td>NaN</td>\n",
       "      <td>NaN</td>\n",
       "      <td>NaN</td>\n",
       "      <td>NaN</td>\n",
       "      <td>NaN</td>\n",
       "      <td>NaN</td>\n",
       "      <td>NaN</td>\n",
       "      <td>NaN</td>\n",
       "    </tr>\n",
       "    <tr>\n",
       "      <td>4451</td>\n",
       "      <td>30-Dec-19</td>\n",
       "      <td>1</td>\n",
       "      <td>12-Jan-20</td>\n",
       "      <td>48.0</td>\n",
       "      <td>Outage of Generating Unit SNKCCP2 on 30 Dec 20...</td>\n",
       "      <td>NaN</td>\n",
       "      <td>NaN</td>\n",
       "      <td>NaN</td>\n",
       "      <td>NaN</td>\n",
       "      <td>NaN</td>\n",
       "      <td>NaN</td>\n",
       "      <td>NaN</td>\n",
       "      <td>NaN</td>\n",
       "      <td>NaN</td>\n",
       "      <td>NaN</td>\n",
       "      <td>NaN</td>\n",
       "    </tr>\n",
       "  </tbody>\n",
       "</table>\n",
       "<p>4452 rows × 16 columns</p>\n",
       "</div>"
      ],
      "text/plain": [
       "     FROM_DISPATCH_DATE FROM_DISPATCH_PERIOD TO_DISPATCH_DATE  \\\n",
       "0             02-Jan-15                   23        02-Jan-15   \n",
       "1             06-Jan-15                   39        06-Jan-15   \n",
       "2             06-Jan-15                   39        06-Jan-15   \n",
       "3             07-Jan-15                   39        07-Jan-15   \n",
       "4             07-Jan-15                   39        07-Jan-15   \n",
       "...                 ...                  ...              ...   \n",
       "4447          27-Dec-19                   42        27-Dec-19   \n",
       "4448          27-Dec-19                   42        27-Dec-19   \n",
       "4449          27-Dec-19                   42        27-Dec-19   \n",
       "4450          30-Dec-19                    1        07-Jan-20   \n",
       "4451          30-Dec-19                    1        12-Jan-20   \n",
       "\n",
       "      TO_DISPATCH_PERIOD                              CONDITION_DESCRIPTION  \\\n",
       "0                   23.0  Outage of Paya Lebar I/Kaki Bukit 66kV Feeder ...   \n",
       "1                   41.0  Fuel changeover test of Generating Unit SNKCCP...   \n",
       "2                   41.0  Fuel changeover test of Generating Unit SNKCCP...   \n",
       "3                   40.0  Fuel changeover test of Generating Unit SER CC...   \n",
       "4                   41.0  Fuel changeover test of Generating Unit SER CC...   \n",
       "...                  ...                                                ...   \n",
       "4447                42.0  Forced outage of generating unit KMCBLK4 at 39...   \n",
       "4448                42.0  Activate scheduled contingency reserve from Lo...   \n",
       "4449                44.0  Load interrupted can be restored with immediat...   \n",
       "4450                48.0  Outage of Generating Unit KMCBLK4 on 30 Dec 20...   \n",
       "4451                48.0  Outage of Generating Unit SNKCCP2 on 30 Dec 20...   \n",
       "\n",
       "        A    B    C    D    E    F    G    H    I    J    K  \n",
       "0     NaN  NaN  NaN  NaN  NaN  NaN  NaN  NaN  NaN  NaN  NaN  \n",
       "1     NaN  NaN  NaN  NaN  NaN  NaN  NaN  NaN  NaN  NaN  NaN  \n",
       "2     NaN  NaN  NaN  NaN  NaN  NaN  NaN  NaN  NaN  NaN  NaN  \n",
       "3     NaN  NaN  NaN  NaN  NaN  NaN  NaN  NaN  NaN  NaN  NaN  \n",
       "4     NaN  NaN  NaN  NaN  NaN  NaN  NaN  NaN  NaN  NaN  NaN  \n",
       "...   ...  ...  ...  ...  ...  ...  ...  ...  ...  ...  ...  \n",
       "4447  NaN  NaN  NaN  NaN  NaN  NaN  NaN  NaN  NaN  NaN  NaN  \n",
       "4448  NaN  NaN  NaN  NaN  NaN  NaN  NaN  NaN  NaN  NaN  NaN  \n",
       "4449  NaN  NaN  NaN  NaN  NaN  NaN  NaN  NaN  NaN  NaN  NaN  \n",
       "4450  NaN  NaN  NaN  NaN  NaN  NaN  NaN  NaN  NaN  NaN  NaN  \n",
       "4451  NaN  NaN  NaN  NaN  NaN  NaN  NaN  NaN  NaN  NaN  NaN  \n",
       "\n",
       "[4452 rows x 16 columns]"
      ]
     },
     "execution_count": 3,
     "metadata": {},
     "output_type": "execute_result"
    }
   ],
   "source": [
    "df = pd.read_csv(r\"C:\\Users\\Sid\\Downloads\\Full_Data_Sets_EMC\\Advisory_2015_2019c.csv\",\n",
    "                 encoding = \"ISO-8859-1\",error_bad_lines=False)\n",
    "df"
   ]
  },
  {
   "cell_type": "code",
   "execution_count": 4,
   "metadata": {},
   "outputs": [
    {
     "name": "stdout",
     "output_type": "stream",
     "text": [
      "<class 'pandas.core.frame.DataFrame'>\n",
      "RangeIndex: 4452 entries, 0 to 4451\n",
      "Data columns (total 5 columns):\n",
      "FROM_DISPATCH_DATE       4107 non-null object\n",
      "FROM_DISPATCH_PERIOD     3965 non-null object\n",
      "TO_DISPATCH_DATE         3964 non-null object\n",
      "TO_DISPATCH_PERIOD       3964 non-null float64\n",
      "CONDITION_DESCRIPTION    3943 non-null object\n",
      "dtypes: float64(1), object(4)\n",
      "memory usage: 174.0+ KB\n"
     ]
    }
   ],
   "source": [
    "df.head()\n",
    "#df.info()\n",
    "df = df.drop([\"A\",\"B\",\"C\",\"D\",\"E\",\"F\",\"G\",\"H\",\"I\",\"J\",\"K\"],axis =1)\n",
    "df.info()"
   ]
  },
  {
   "cell_type": "code",
   "execution_count": 5,
   "metadata": {},
   "outputs": [
    {
     "data": {
      "text/plain": [
       "0       Outage of Paya Lebar I/Kaki Bukit 66kV Feeder ...\n",
       "1       Fuel changeover test of Generating Unit SNKCCP...\n",
       "2       Fuel changeover test of Generating Unit SNKCCP...\n",
       "3       Fuel changeover test of Generating Unit SER CC...\n",
       "4       Fuel changeover test of Generating Unit SER CC...\n",
       "                              ...                        \n",
       "4447    Forced outage of generating unit KMCBLK4 at 39...\n",
       "4448    Activate scheduled contingency reserve from Lo...\n",
       "4449    Load interrupted can be restored with immediat...\n",
       "4450    Outage of Generating Unit KMCBLK4 on 30 Dec 20...\n",
       "4451    Outage of Generating Unit SNKCCP2 on 30 Dec 20...\n",
       "Name: CONDITION_DESCRIPTION, Length: 4452, dtype: object"
      ]
     },
     "execution_count": 5,
     "metadata": {},
     "output_type": "execute_result"
    }
   ],
   "source": [
    "df.CONDITION_DESCRIPTION"
   ]
  },
  {
   "cell_type": "code",
   "execution_count": 6,
   "metadata": {},
   "outputs": [
    {
     "data": {
      "text/plain": [
       "FROM_DISPATCH_DATE       345\n",
       "FROM_DISPATCH_PERIOD     487\n",
       "TO_DISPATCH_DATE         488\n",
       "TO_DISPATCH_PERIOD       488\n",
       "CONDITION_DESCRIPTION    509\n",
       "dtype: int64"
      ]
     },
     "execution_count": 6,
     "metadata": {},
     "output_type": "execute_result"
    }
   ],
   "source": [
    "df.isnull().sum()"
   ]
  },
  {
   "cell_type": "code",
   "execution_count": 7,
   "metadata": {},
   "outputs": [],
   "source": [
    "df = df.dropna(how = 'any')"
   ]
  },
  {
   "cell_type": "code",
   "execution_count": 8,
   "metadata": {},
   "outputs": [
    {
     "data": {
      "text/plain": [
       "FROM_DISPATCH_DATE       0\n",
       "FROM_DISPATCH_PERIOD     0\n",
       "TO_DISPATCH_DATE         0\n",
       "TO_DISPATCH_PERIOD       0\n",
       "CONDITION_DESCRIPTION    0\n",
       "dtype: int64"
      ]
     },
     "execution_count": 8,
     "metadata": {},
     "output_type": "execute_result"
    }
   ],
   "source": [
    "df.isnull().sum()"
   ]
  },
  {
   "cell_type": "code",
   "execution_count": 9,
   "metadata": {},
   "outputs": [
    {
     "name": "stdout",
     "output_type": "stream",
     "text": [
      "<class 'pandas.core.frame.DataFrame'>\n",
      "Int64Index: 3943 entries, 0 to 4451\n",
      "Data columns (total 5 columns):\n",
      "FROM_DISPATCH_DATE       3943 non-null object\n",
      "FROM_DISPATCH_PERIOD     3943 non-null object\n",
      "TO_DISPATCH_DATE         3943 non-null object\n",
      "TO_DISPATCH_PERIOD       3943 non-null float64\n",
      "CONDITION_DESCRIPTION    3943 non-null object\n",
      "dtypes: float64(1), object(4)\n",
      "memory usage: 184.8+ KB\n"
     ]
    }
   ],
   "source": [
    "df.info()"
   ]
  },
  {
   "cell_type": "code",
   "execution_count": 10,
   "metadata": {},
   "outputs": [
    {
     "name": "stdout",
     "output_type": "stream",
     "text": [
      "Outage ****************** NOUN ***************** nsubj\n",
      "of ****************** ADP ***************** prep\n",
      "Paya ****************** PROPN ***************** compound\n",
      "Lebar ****************** PROPN ***************** nmod\n",
      "I ****************** PROPN ***************** nmod\n",
      "/ ****************** SYM ***************** punct\n",
      "Kaki ****************** PROPN ***************** nmod\n",
      "Bukit ****************** PROPN ***************** pobj\n",
      "66kV ****************** NUM ***************** nummod\n",
      "Feeder ****************** NOUN ***************** compound\n",
      "No ****************** NOUN ***************** dep\n",
      ". ****************** NOUN ***************** appos\n",
      "1 ****************** NUM ***************** nummod\n",
      "on ****************** ADP ***************** prep\n",
      "02 ****************** NUM ***************** nummod\n",
      "Jan ****************** PROPN ***************** pobj\n",
      "2015 ****************** NUM ***************** nummod\n",
      "at ****************** ADP ***************** prep\n",
      "1113Hrs ****************** NUM ***************** pobj\n",
      "was ****************** AUX ***************** ROOT\n",
      "without ****************** ADP ***************** prep\n",
      "Final ****************** PROPN ***************** nmod\n",
      "Approval ****************** PROPN ***************** nmod\n",
      "/ ****************** SYM ***************** punct\n",
      "Consent.(The ****************** PROPN ***************** pobj\n",
      "relevant ****************** ADJ ***************** amod\n",
      "Market ****************** PROPN ***************** compound\n",
      "Participant ****************** PROPN ***************** appos\n",
      "to ****************** PART ***************** aux\n",
      "submit ****************** VERB ***************** advcl\n",
      "a ****************** DET ***************** det\n",
      "preliminary ****************** ADJ ***************** amod\n",
      "report ****************** NOUN ***************** dobj\n",
      "within ****************** ADP ***************** prep\n",
      "24hours ****************** PROPN ***************** pobj\n",
      "& ****************** CCONJ ***************** cc\n",
      "a ****************** DET ***************** det\n",
      "detailed ****************** ADJ ***************** amod\n",
      "report ****************** NOUN ***************** conj\n",
      "within ****************** ADP ***************** prep\n",
      "1 ****************** NUM ***************** nummod\n",
      "week ****************** NOUN ***************** pobj\n",
      "of ****************** ADP ***************** prep\n",
      "this ****************** DET ***************** det\n",
      "notice ****************** NOUN ***************** pobj\n",
      ". ****************** PUNCT ***************** punct\n",
      ") ****************** PUNCT ***************** punct\n"
     ]
    }
   ],
   "source": [
    "#nlp = spacy.load('en')\n",
    "#counter =0\n",
    "\n",
    "#PART OF SPEECH AND DEPENDENCY\n",
    "#parts of speech tell us what is the function of a word and how it is used in a sentence.\n",
    "#Some of the common parts of speech in English are Noun, Pronoun, Adjective, Verb, Adverb, etc.\n",
    "\n",
    "#Every sentence has a grammatical structure to it and with the help \n",
    "#of dependency parsing, we can extract this structure. It can also be thought of\n",
    "#as a directed graph, where nodes correspond to the words in the sentence and \n",
    "#the edges between the nodes are the corresponding dependencies between the word.\n",
    "\n",
    "document = []\n",
    "ents = []\n",
    "doc = nlp(df.CONDITION_DESCRIPTION[0])\n",
    "for token in doc:\n",
    "    print(token.text,'******************',token.pos_,'*****************',token.dep_)\n",
    "#for i in range(len(df.CONDITION_DESCRIPTION)):\n",
    "#        to_analyze = df.CONDITION_DESCRIPTION[i]\n",
    "   #     doc = nlp(to_analyze)\n",
    "     #   document.append(doc)\n",
    "    #    ents.append([(x.text,x.label_) for x  in  doc.ents])"
   ]
  },
  {
   "cell_type": "code",
   "execution_count": 11,
   "metadata": {},
   "outputs": [],
   "source": [
    "#define the pattern \n",
    "pattern = [{'POS':'NOUN'}, \n",
    "           {'LOWER': 'without'}, \n",
    "           {'POS': 'PROPN'} ]#proper noun]"
   ]
  },
  {
   "cell_type": "code",
   "execution_count": 12,
   "metadata": {},
   "outputs": [
    {
     "name": "stdout",
     "output_type": "stream",
     "text": [
      "Outage *** 5391369137823619649 *** NN *** Xxxxx *** True *** False\n",
      "of *** 886050111519832510 *** IN *** xx *** True *** True\n",
      "Paya *** 16547792547373081141 *** NNP *** Xxxx *** True *** False\n",
      "Lebar *** 8951953812375999372 *** NNP *** Xxxxx *** True *** False\n",
      "I *** 4690420944186131903 *** NNP *** X *** True *** True\n",
      "/ *** 2466615745961202537 *** SYM *** / *** False *** False\n",
      "Kaki *** 10706140488300152899 *** NNP *** Xxxx *** True *** False\n",
      "Bukit *** 10924459901176058600 *** NNP *** Xxxxx *** True *** False\n",
      "66kV *** 15194295343338893198 *** CD *** ddxX *** False *** False\n",
      "Feeder *** 16766867856818837499 *** NN *** Xxxxx *** True *** False\n",
      "No *** 13055779130471031426 *** NN *** Xx *** True *** True\n",
      ". *** 12646065887601541794 *** NN *** . *** False *** False\n",
      "1 *** 5533571732986600803 *** CD *** d *** False *** False\n",
      "on *** 5640369432778651323 *** IN *** xx *** True *** True\n",
      "02 *** 17086341747085514672 *** CD *** dd *** False *** False\n",
      "Jan *** 4725195979119739748 *** NNP *** Xxx *** True *** False\n",
      "2015 *** 5268047934427719614 *** CD *** dddd *** False *** False\n",
      "at *** 11667289587015813222 *** IN *** xx *** True *** True\n",
      "1113Hrs *** 5721237878976498838 *** CD *** ddddXxx *** False *** False\n",
      "was *** 10382539506755952630 *** VBD *** xxx *** True *** True\n",
      "without *** 4711265942760212190 *** IN *** xxxx *** True *** True\n",
      "Final *** 2880986651375165546 *** NNP *** Xxxxx *** True *** False\n",
      "Approval *** 1687251468116567279 *** NNP *** Xxxxx *** True *** False\n",
      "/ *** 2466615745961202537 *** SYM *** / *** False *** False\n",
      "Consent.(The *** 3341011678639397535 *** NNP *** Xxxxx.(Xxx *** False *** False\n",
      "relevant *** 17355397762532421057 *** JJ *** xxxx *** True *** False\n",
      "Market *** 12200839382758013798 *** NNP *** Xxxxx *** True *** False\n",
      "Participant *** 13252071841280500756 *** NNP *** Xxxxx *** True *** False\n",
      "to *** 3791531372978436496 *** TO *** xx *** True *** True\n",
      "submit *** 5773581125884228108 *** VB *** xxxx *** True *** False\n",
      "a *** 11901859001352538922 *** DT *** x *** True *** True\n",
      "preliminary *** 13673896622731106059 *** JJ *** xxxx *** True *** False\n",
      "report *** 2729752284408055516 *** NN *** xxxx *** True *** False\n",
      "within *** 7666004699573636134 *** IN *** xxxx *** True *** True\n",
      "24hours *** 6278386576289435452 *** NNP *** ddxxxx *** False *** False\n",
      "& *** 15473034735919704609 *** CC *** & *** False *** False\n",
      "a *** 11901859001352538922 *** DT *** x *** True *** True\n",
      "detailed *** 8214554006204516643 *** JJ *** xxxx *** True *** False\n",
      "report *** 2729752284408055516 *** NN *** xxxx *** True *** False\n",
      "within *** 7666004699573636134 *** IN *** xxxx *** True *** True\n",
      "1 *** 5533571732986600803 *** CD *** d *** False *** False\n",
      "week *** 14249255431398666181 *** NN *** xxxx *** True *** False\n",
      "of *** 886050111519832510 *** IN *** xx *** True *** True\n",
      "this *** 1995909169258310477 *** DT *** xxxx *** True *** True\n",
      "notice *** 9236818973772229989 *** NN *** xxxx *** True *** False\n",
      ". *** 12646065887601541794 *** . *** . *** False *** False\n",
      ") *** 3842344029291005339 *** -RRB- *** ) *** False *** False\n"
     ]
    }
   ],
   "source": [
    "#lemmatization, match id ,token shape,alpabetical character\n",
    "for token in doc:\n",
    "    print(token.text,'***',token.lemma,'***',token.tag_,'***',token.shape_,'***',token.is_alpha,'***',\n",
    "          token.is_stop)"
   ]
  },
  {
   "cell_type": "code",
   "execution_count": 13,
   "metadata": {},
   "outputs": [
    {
     "name": "stdout",
     "output_type": "stream",
     "text": [
      "Paya Lebar 10 20 GPE\n",
      "Kaki Bukit 66kV 23 38 PERSON\n",
      "Feeder No. 1 39 51 ORG\n",
      "02 Jan 2015 55 66 DATE\n",
      "24hours & a detailed report within 184 218 WORK_OF_ART\n",
      "1 week 219 225 DATE\n"
     ]
    }
   ],
   "source": [
    "\n",
    "for ent in doc.ents:\n",
    "    print(ent.text, ent.start_char, ent.end_char, ent.label_)"
   ]
  },
  {
   "cell_type": "code",
   "execution_count": 14,
   "metadata": {},
   "outputs": [
    {
     "name": "stdout",
     "output_type": "stream",
     "text": [
      "Outage True 6.7426662 False\n",
      "of True 4.97793 False\n",
      "Paya True 7.2354813 False\n",
      "Lebar False 0.0 True\n",
      "I True 6.4231944 False\n",
      "/ True 5.9076996 False\n",
      "Kaki True 7.047583 False\n",
      "Bukit True 7.953994 False\n",
      "66kV False 0.0 True\n",
      "Feeder True 6.5485134 False\n",
      "No True 5.3881946 False\n",
      ". True 4.9316354 False\n",
      "1 True 5.269974 False\n",
      "on True 5.218119 False\n",
      "02 True 6.497909 False\n",
      "Jan True 6.7230024 False\n",
      "2015 True 6.5892215 False\n",
      "at True 6.0998254 False\n",
      "1113Hrs False 0.0 True\n",
      "was True 5.4562387 False\n",
      "without True 5.2419915 False\n",
      "Final True 6.064207 False\n",
      "Approval True 6.263399 False\n",
      "/ True 5.9076996 False\n",
      "Consent.(The False 0.0 True\n",
      "relevant True 5.9772906 False\n",
      "Market True 6.3516088 False\n",
      "Participant True 5.695897 False\n",
      "to True 4.74484 False\n",
      "submit True 6.068321 False\n",
      "a True 5.306696 False\n",
      "preliminary True 5.9539866 False\n",
      "report True 6.0273056 False\n",
      "within True 5.622528 False\n",
      "24hours True 6.20697 False\n",
      "& True 5.9343824 False\n",
      "a True 5.306696 False\n",
      "detailed True 5.9708343 False\n",
      "report True 6.0273056 False\n",
      "within True 5.622528 False\n",
      "1 True 5.269974 False\n",
      "week True 5.696966 False\n",
      "of True 4.97793 False\n",
      "this True 5.0461264 False\n",
      "notice True 5.339411 False\n",
      ". True 4.9316354 False\n",
      ") True 5.489806 False\n"
     ]
    }
   ],
   "source": [
    "for token in doc:\n",
    "    print(token.text, token.has_vector, token.vector_norm, token.is_oov)"
   ]
  },
  {
   "cell_type": "code",
   "execution_count": 15,
   "metadata": {},
   "outputs": [
    {
     "name": "stdout",
     "output_type": "stream",
     "text": [
      "Outage Outage 1.0\n",
      "Outage of 0.10118017\n",
      "Outage Paya -0.02328628\n"
     ]
    },
    {
     "name": "stderr",
     "output_type": "stream",
     "text": [
      "C:\\Users\\Sid\\Anaconda3\\lib\\runpy.py:193: UserWarning: [W008] Evaluating Token.similarity based on empty vectors.\n",
      "  \"__main__\", mod_spec)\n"
     ]
    },
    {
     "name": "stdout",
     "output_type": "stream",
     "text": [
      "Outage Lebar 0.0\n",
      "Outage I 0.102136634\n",
      "Outage / -0.08074525\n",
      "Outage Kaki -0.06918918\n",
      "Outage Bukit 0.013046956\n"
     ]
    },
    {
     "name": "stderr",
     "output_type": "stream",
     "text": [
      "C:\\Users\\Sid\\Anaconda3\\lib\\runpy.py:193: UserWarning: [W008] Evaluating Token.similarity based on empty vectors.\n",
      "  \"__main__\", mod_spec)\n"
     ]
    },
    {
     "name": "stdout",
     "output_type": "stream",
     "text": [
      "Outage 66kV 0.0\n",
      "Outage Feeder 0.12488227\n",
      "Outage No 0.17622763\n",
      "Outage . 0.07834026\n",
      "Outage 1 0.001130742\n",
      "Outage on 0.11987773\n",
      "Outage 02 -0.03475561\n",
      "Outage Jan 0.10847185\n",
      "Outage 2015 0.088769846\n",
      "Outage at 0.121026956\n"
     ]
    },
    {
     "name": "stderr",
     "output_type": "stream",
     "text": [
      "C:\\Users\\Sid\\Anaconda3\\lib\\runpy.py:193: UserWarning: [W008] Evaluating Token.similarity based on empty vectors.\n",
      "  \"__main__\", mod_spec)\n"
     ]
    },
    {
     "name": "stdout",
     "output_type": "stream",
     "text": [
      "Outage 1113Hrs 0.0\n",
      "Outage was 0.16000126\n",
      "Outage without 0.15129542\n",
      "Outage Final 0.11896275\n",
      "Outage Approval 0.13899021\n",
      "Outage / -0.08074525\n"
     ]
    },
    {
     "name": "stderr",
     "output_type": "stream",
     "text": [
      "C:\\Users\\Sid\\Anaconda3\\lib\\runpy.py:193: UserWarning: [W008] Evaluating Token.similarity based on empty vectors.\n",
      "  \"__main__\", mod_spec)\n"
     ]
    },
    {
     "name": "stdout",
     "output_type": "stream",
     "text": [
      "Outage Consent.(The 0.0\n",
      "Outage relevant 0.12174985\n",
      "Outage Market 0.13361885\n",
      "Outage Participant 0.10602767\n",
      "Outage to 0.10967243\n",
      "Outage submit 0.079062715\n",
      "Outage a 0.117808186\n",
      "Outage preliminary 0.20240654\n",
      "Outage report 0.2567493\n",
      "Outage within 0.14153743\n",
      "Outage 24hours 0.23834452\n",
      "Outage & -0.14006115\n",
      "Outage a 0.117808186\n",
      "Outage detailed 0.09357784\n",
      "Outage report 0.2567493\n",
      "Outage within 0.14153743\n",
      "Outage 1 0.001130742\n",
      "Outage week 0.26728383\n",
      "Outage of 0.10118017\n",
      "Outage this 0.18531796\n",
      "Outage notice 0.24839458\n",
      "Outage . 0.07834026\n",
      "Outage ) 0.009075448\n",
      "of Outage 0.10118017\n",
      "of of 1.0\n",
      "of Paya -0.2344447\n"
     ]
    },
    {
     "name": "stderr",
     "output_type": "stream",
     "text": [
      "C:\\Users\\Sid\\Anaconda3\\lib\\runpy.py:193: UserWarning: [W008] Evaluating Token.similarity based on empty vectors.\n",
      "  \"__main__\", mod_spec)\n"
     ]
    },
    {
     "name": "stdout",
     "output_type": "stream",
     "text": [
      "of Lebar 0.0\n",
      "of I 0.23158608\n",
      "of / 0.11303724\n",
      "of Kaki -0.16861627\n",
      "of Bukit -0.14818837\n"
     ]
    },
    {
     "name": "stderr",
     "output_type": "stream",
     "text": [
      "C:\\Users\\Sid\\Anaconda3\\lib\\runpy.py:193: UserWarning: [W008] Evaluating Token.similarity based on empty vectors.\n",
      "  \"__main__\", mod_spec)\n"
     ]
    },
    {
     "name": "stdout",
     "output_type": "stream",
     "text": [
      "of 66kV 0.0\n",
      "of Feeder 0.09884871\n",
      "of No 0.368211\n",
      "of . 0.3146837\n",
      "of 1 0.23696744\n",
      "of on 0.43057546\n",
      "of 02 0.044215884\n",
      "of Jan 0.09760648\n",
      "of 2015 0.06495885\n",
      "of at 0.37929595\n"
     ]
    },
    {
     "name": "stderr",
     "output_type": "stream",
     "text": [
      "C:\\Users\\Sid\\Anaconda3\\lib\\runpy.py:193: UserWarning: [W008] Evaluating Token.similarity based on empty vectors.\n",
      "  \"__main__\", mod_spec)\n"
     ]
    },
    {
     "name": "stdout",
     "output_type": "stream",
     "text": [
      "of 1113Hrs 0.0\n",
      "of was 0.43483952\n",
      "of without 0.44791552\n",
      "of Final 0.33789214\n",
      "of Approval 0.3168003\n",
      "of / 0.11303724\n"
     ]
    },
    {
     "name": "stderr",
     "output_type": "stream",
     "text": [
      "C:\\Users\\Sid\\Anaconda3\\lib\\runpy.py:193: UserWarning: [W008] Evaluating Token.similarity based on empty vectors.\n",
      "  \"__main__\", mod_spec)\n"
     ]
    },
    {
     "name": "stdout",
     "output_type": "stream",
     "text": [
      "of Consent.(The 0.0\n",
      "of relevant 0.34743223\n",
      "of Market 0.31343827\n",
      "of Participant 0.22943644\n",
      "of to 0.47368884\n",
      "of submit 0.21334375\n",
      "of a 0.4505857\n",
      "of preliminary 0.26707092\n",
      "of report 0.30852666\n",
      "of within 0.48493576\n",
      "of 24hours -0.1140748\n",
      "of & 0.1719598\n",
      "of a 0.4505857\n",
      "of detailed 0.32270616\n",
      "of report 0.30852666\n",
      "of within 0.48493576\n",
      "of 1 0.23696744\n",
      "of week 0.34422174\n",
      "of of 1.0\n",
      "of this 0.45488158\n",
      "of notice 0.38311297\n",
      "of . 0.3146837\n",
      "of ) 0.16387315\n",
      "Paya Outage -0.02328628\n",
      "Paya of -0.2344447\n",
      "Paya Paya 1.0\n"
     ]
    },
    {
     "name": "stderr",
     "output_type": "stream",
     "text": [
      "C:\\Users\\Sid\\Anaconda3\\lib\\runpy.py:193: UserWarning: [W008] Evaluating Token.similarity based on empty vectors.\n",
      "  \"__main__\", mod_spec)\n"
     ]
    },
    {
     "name": "stdout",
     "output_type": "stream",
     "text": [
      "Paya Lebar 0.0\n",
      "Paya I 0.009391765\n",
      "Paya / -0.19576041\n",
      "Paya Kaki 0.3320666\n",
      "Paya Bukit 0.5179305\n"
     ]
    },
    {
     "name": "stderr",
     "output_type": "stream",
     "text": [
      "C:\\Users\\Sid\\Anaconda3\\lib\\runpy.py:193: UserWarning: [W008] Evaluating Token.similarity based on empty vectors.\n",
      "  \"__main__\", mod_spec)\n"
     ]
    },
    {
     "name": "stdout",
     "output_type": "stream",
     "text": [
      "Paya 66kV 0.0\n",
      "Paya Feeder 0.082328\n",
      "Paya No -0.07853624\n",
      "Paya . -0.010789873\n",
      "Paya 1 -0.16711165\n",
      "Paya on -0.16314247\n",
      "Paya 02 -0.110505804\n",
      "Paya Jan 0.13268416\n",
      "Paya 2015 -0.016728858\n",
      "Paya at -0.05945935\n"
     ]
    },
    {
     "name": "stderr",
     "output_type": "stream",
     "text": [
      "C:\\Users\\Sid\\Anaconda3\\lib\\runpy.py:193: UserWarning: [W008] Evaluating Token.similarity based on empty vectors.\n",
      "  \"__main__\", mod_spec)\n"
     ]
    },
    {
     "name": "stdout",
     "output_type": "stream",
     "text": [
      "Paya 1113Hrs 0.0\n",
      "Paya was -0.10982558\n",
      "Paya without -0.14948024\n",
      "Paya Final -0.10097208\n",
      "Paya Approval -0.0671355\n",
      "Paya / -0.19576041\n"
     ]
    },
    {
     "name": "stderr",
     "output_type": "stream",
     "text": [
      "C:\\Users\\Sid\\Anaconda3\\lib\\runpy.py:193: UserWarning: [W008] Evaluating Token.similarity based on empty vectors.\n",
      "  \"__main__\", mod_spec)\n"
     ]
    },
    {
     "name": "stdout",
     "output_type": "stream",
     "text": [
      "Paya Consent.(The 0.0\n",
      "Paya relevant -0.081661336\n",
      "Paya Market -0.038420234\n",
      "Paya Participant -0.041460723\n",
      "Paya to -0.06437807\n",
      "Paya submit -0.03509973\n",
      "Paya a -0.13864306\n",
      "Paya preliminary -0.083955124\n",
      "Paya report -0.16985083\n",
      "Paya within -0.15600942\n",
      "Paya 24hours 0.16239192\n",
      "Paya & -0.21056719\n",
      "Paya a -0.13864306\n",
      "Paya detailed -0.13607961\n",
      "Paya report -0.16985083\n",
      "Paya within -0.15600942\n",
      "Paya 1 -0.16711165\n",
      "Paya week -0.15052634\n",
      "Paya of -0.2344447\n",
      "Paya this -0.17011909\n",
      "Paya notice -0.067912035\n",
      "Paya . -0.010789873\n",
      "Paya ) -0.17190947\n"
     ]
    },
    {
     "name": "stderr",
     "output_type": "stream",
     "text": [
      "C:\\Users\\Sid\\Anaconda3\\lib\\runpy.py:193: UserWarning: [W008] Evaluating Token.similarity based on empty vectors.\n",
      "  \"__main__\", mod_spec)\n"
     ]
    },
    {
     "name": "stdout",
     "output_type": "stream",
     "text": [
      "Lebar Outage 0.0\n"
     ]
    },
    {
     "name": "stderr",
     "output_type": "stream",
     "text": [
      "C:\\Users\\Sid\\Anaconda3\\lib\\runpy.py:193: UserWarning: [W008] Evaluating Token.similarity based on empty vectors.\n",
      "  \"__main__\", mod_spec)\n"
     ]
    },
    {
     "name": "stdout",
     "output_type": "stream",
     "text": [
      "Lebar of 0.0\n"
     ]
    },
    {
     "name": "stderr",
     "output_type": "stream",
     "text": [
      "C:\\Users\\Sid\\Anaconda3\\lib\\runpy.py:193: UserWarning: [W008] Evaluating Token.similarity based on empty vectors.\n",
      "  \"__main__\", mod_spec)\n"
     ]
    },
    {
     "name": "stdout",
     "output_type": "stream",
     "text": [
      "Lebar Paya 0.0\n",
      "Lebar Lebar 1.0\n"
     ]
    },
    {
     "name": "stderr",
     "output_type": "stream",
     "text": [
      "C:\\Users\\Sid\\Anaconda3\\lib\\runpy.py:193: UserWarning: [W008] Evaluating Token.similarity based on empty vectors.\n",
      "  \"__main__\", mod_spec)\n"
     ]
    },
    {
     "name": "stdout",
     "output_type": "stream",
     "text": [
      "Lebar I 0.0\n"
     ]
    },
    {
     "name": "stderr",
     "output_type": "stream",
     "text": [
      "C:\\Users\\Sid\\Anaconda3\\lib\\runpy.py:193: UserWarning: [W008] Evaluating Token.similarity based on empty vectors.\n",
      "  \"__main__\", mod_spec)\n"
     ]
    },
    {
     "name": "stdout",
     "output_type": "stream",
     "text": [
      "Lebar / 0.0\n"
     ]
    },
    {
     "name": "stderr",
     "output_type": "stream",
     "text": [
      "C:\\Users\\Sid\\Anaconda3\\lib\\runpy.py:193: UserWarning: [W008] Evaluating Token.similarity based on empty vectors.\n",
      "  \"__main__\", mod_spec)\n"
     ]
    },
    {
     "name": "stdout",
     "output_type": "stream",
     "text": [
      "Lebar Kaki 0.0\n"
     ]
    },
    {
     "name": "stderr",
     "output_type": "stream",
     "text": [
      "C:\\Users\\Sid\\Anaconda3\\lib\\runpy.py:193: UserWarning: [W008] Evaluating Token.similarity based on empty vectors.\n",
      "  \"__main__\", mod_spec)\n"
     ]
    },
    {
     "name": "stdout",
     "output_type": "stream",
     "text": [
      "Lebar Bukit 0.0\n"
     ]
    },
    {
     "name": "stderr",
     "output_type": "stream",
     "text": [
      "C:\\Users\\Sid\\Anaconda3\\lib\\runpy.py:193: UserWarning: [W008] Evaluating Token.similarity based on empty vectors.\n",
      "  \"__main__\", mod_spec)\n"
     ]
    },
    {
     "name": "stdout",
     "output_type": "stream",
     "text": [
      "Lebar 66kV 0.0\n"
     ]
    },
    {
     "name": "stderr",
     "output_type": "stream",
     "text": [
      "C:\\Users\\Sid\\Anaconda3\\lib\\runpy.py:193: UserWarning: [W008] Evaluating Token.similarity based on empty vectors.\n",
      "  \"__main__\", mod_spec)\n"
     ]
    },
    {
     "name": "stdout",
     "output_type": "stream",
     "text": [
      "Lebar Feeder 0.0\n"
     ]
    },
    {
     "name": "stderr",
     "output_type": "stream",
     "text": [
      "C:\\Users\\Sid\\Anaconda3\\lib\\runpy.py:193: UserWarning: [W008] Evaluating Token.similarity based on empty vectors.\n",
      "  \"__main__\", mod_spec)\n"
     ]
    },
    {
     "name": "stdout",
     "output_type": "stream",
     "text": [
      "Lebar No 0.0\n"
     ]
    },
    {
     "name": "stderr",
     "output_type": "stream",
     "text": [
      "C:\\Users\\Sid\\Anaconda3\\lib\\runpy.py:193: UserWarning: [W008] Evaluating Token.similarity based on empty vectors.\n",
      "  \"__main__\", mod_spec)\n"
     ]
    },
    {
     "name": "stdout",
     "output_type": "stream",
     "text": [
      "Lebar . 0.0\n"
     ]
    },
    {
     "name": "stderr",
     "output_type": "stream",
     "text": [
      "C:\\Users\\Sid\\Anaconda3\\lib\\runpy.py:193: UserWarning: [W008] Evaluating Token.similarity based on empty vectors.\n",
      "  \"__main__\", mod_spec)\n"
     ]
    },
    {
     "name": "stdout",
     "output_type": "stream",
     "text": [
      "Lebar 1 0.0\n"
     ]
    },
    {
     "name": "stderr",
     "output_type": "stream",
     "text": [
      "C:\\Users\\Sid\\Anaconda3\\lib\\runpy.py:193: UserWarning: [W008] Evaluating Token.similarity based on empty vectors.\n",
      "  \"__main__\", mod_spec)\n"
     ]
    },
    {
     "name": "stdout",
     "output_type": "stream",
     "text": [
      "Lebar on 0.0\n"
     ]
    },
    {
     "name": "stderr",
     "output_type": "stream",
     "text": [
      "C:\\Users\\Sid\\Anaconda3\\lib\\runpy.py:193: UserWarning: [W008] Evaluating Token.similarity based on empty vectors.\n",
      "  \"__main__\", mod_spec)\n"
     ]
    },
    {
     "name": "stdout",
     "output_type": "stream",
     "text": [
      "Lebar 02 0.0\n"
     ]
    },
    {
     "name": "stderr",
     "output_type": "stream",
     "text": [
      "C:\\Users\\Sid\\Anaconda3\\lib\\runpy.py:193: UserWarning: [W008] Evaluating Token.similarity based on empty vectors.\n",
      "  \"__main__\", mod_spec)\n"
     ]
    },
    {
     "name": "stdout",
     "output_type": "stream",
     "text": [
      "Lebar Jan 0.0\n"
     ]
    },
    {
     "name": "stderr",
     "output_type": "stream",
     "text": [
      "C:\\Users\\Sid\\Anaconda3\\lib\\runpy.py:193: UserWarning: [W008] Evaluating Token.similarity based on empty vectors.\n",
      "  \"__main__\", mod_spec)\n"
     ]
    },
    {
     "name": "stdout",
     "output_type": "stream",
     "text": [
      "Lebar 2015 0.0\n"
     ]
    },
    {
     "name": "stderr",
     "output_type": "stream",
     "text": [
      "C:\\Users\\Sid\\Anaconda3\\lib\\runpy.py:193: UserWarning: [W008] Evaluating Token.similarity based on empty vectors.\n",
      "  \"__main__\", mod_spec)\n"
     ]
    },
    {
     "name": "stdout",
     "output_type": "stream",
     "text": [
      "Lebar at 0.0\n"
     ]
    },
    {
     "name": "stderr",
     "output_type": "stream",
     "text": [
      "C:\\Users\\Sid\\Anaconda3\\lib\\runpy.py:193: UserWarning: [W008] Evaluating Token.similarity based on empty vectors.\n",
      "  \"__main__\", mod_spec)\n"
     ]
    },
    {
     "name": "stdout",
     "output_type": "stream",
     "text": [
      "Lebar 1113Hrs 0.0\n"
     ]
    },
    {
     "name": "stderr",
     "output_type": "stream",
     "text": [
      "C:\\Users\\Sid\\Anaconda3\\lib\\runpy.py:193: UserWarning: [W008] Evaluating Token.similarity based on empty vectors.\n",
      "  \"__main__\", mod_spec)\n"
     ]
    },
    {
     "name": "stdout",
     "output_type": "stream",
     "text": [
      "Lebar was 0.0\n"
     ]
    },
    {
     "name": "stderr",
     "output_type": "stream",
     "text": [
      "C:\\Users\\Sid\\Anaconda3\\lib\\runpy.py:193: UserWarning: [W008] Evaluating Token.similarity based on empty vectors.\n",
      "  \"__main__\", mod_spec)\n"
     ]
    },
    {
     "name": "stdout",
     "output_type": "stream",
     "text": [
      "Lebar without 0.0\n"
     ]
    },
    {
     "name": "stderr",
     "output_type": "stream",
     "text": [
      "C:\\Users\\Sid\\Anaconda3\\lib\\runpy.py:193: UserWarning: [W008] Evaluating Token.similarity based on empty vectors.\n",
      "  \"__main__\", mod_spec)\n"
     ]
    },
    {
     "name": "stdout",
     "output_type": "stream",
     "text": [
      "Lebar Final 0.0\n"
     ]
    },
    {
     "name": "stderr",
     "output_type": "stream",
     "text": [
      "C:\\Users\\Sid\\Anaconda3\\lib\\runpy.py:193: UserWarning: [W008] Evaluating Token.similarity based on empty vectors.\n",
      "  \"__main__\", mod_spec)\n"
     ]
    },
    {
     "name": "stdout",
     "output_type": "stream",
     "text": [
      "Lebar Approval 0.0\n"
     ]
    },
    {
     "name": "stderr",
     "output_type": "stream",
     "text": [
      "C:\\Users\\Sid\\Anaconda3\\lib\\runpy.py:193: UserWarning: [W008] Evaluating Token.similarity based on empty vectors.\n",
      "  \"__main__\", mod_spec)\n"
     ]
    },
    {
     "name": "stdout",
     "output_type": "stream",
     "text": [
      "Lebar / 0.0\n"
     ]
    },
    {
     "name": "stderr",
     "output_type": "stream",
     "text": [
      "C:\\Users\\Sid\\Anaconda3\\lib\\runpy.py:193: UserWarning: [W008] Evaluating Token.similarity based on empty vectors.\n",
      "  \"__main__\", mod_spec)\n"
     ]
    },
    {
     "name": "stdout",
     "output_type": "stream",
     "text": [
      "Lebar Consent.(The 0.0\n"
     ]
    },
    {
     "name": "stderr",
     "output_type": "stream",
     "text": [
      "C:\\Users\\Sid\\Anaconda3\\lib\\runpy.py:193: UserWarning: [W008] Evaluating Token.similarity based on empty vectors.\n",
      "  \"__main__\", mod_spec)\n"
     ]
    },
    {
     "name": "stdout",
     "output_type": "stream",
     "text": [
      "Lebar relevant 0.0\n"
     ]
    },
    {
     "name": "stderr",
     "output_type": "stream",
     "text": [
      "C:\\Users\\Sid\\Anaconda3\\lib\\runpy.py:193: UserWarning: [W008] Evaluating Token.similarity based on empty vectors.\n",
      "  \"__main__\", mod_spec)\n"
     ]
    },
    {
     "name": "stdout",
     "output_type": "stream",
     "text": [
      "Lebar Market 0.0\n"
     ]
    },
    {
     "name": "stderr",
     "output_type": "stream",
     "text": [
      "C:\\Users\\Sid\\Anaconda3\\lib\\runpy.py:193: UserWarning: [W008] Evaluating Token.similarity based on empty vectors.\n",
      "  \"__main__\", mod_spec)\n"
     ]
    },
    {
     "name": "stdout",
     "output_type": "stream",
     "text": [
      "Lebar Participant 0.0\n"
     ]
    },
    {
     "name": "stderr",
     "output_type": "stream",
     "text": [
      "C:\\Users\\Sid\\Anaconda3\\lib\\runpy.py:193: UserWarning: [W008] Evaluating Token.similarity based on empty vectors.\n",
      "  \"__main__\", mod_spec)\n"
     ]
    },
    {
     "name": "stdout",
     "output_type": "stream",
     "text": [
      "Lebar to 0.0\n"
     ]
    },
    {
     "name": "stderr",
     "output_type": "stream",
     "text": [
      "C:\\Users\\Sid\\Anaconda3\\lib\\runpy.py:193: UserWarning: [W008] Evaluating Token.similarity based on empty vectors.\n",
      "  \"__main__\", mod_spec)\n"
     ]
    },
    {
     "name": "stdout",
     "output_type": "stream",
     "text": [
      "Lebar submit 0.0\n"
     ]
    },
    {
     "name": "stderr",
     "output_type": "stream",
     "text": [
      "C:\\Users\\Sid\\Anaconda3\\lib\\runpy.py:193: UserWarning: [W008] Evaluating Token.similarity based on empty vectors.\n",
      "  \"__main__\", mod_spec)\n"
     ]
    },
    {
     "name": "stdout",
     "output_type": "stream",
     "text": [
      "Lebar a 0.0\n"
     ]
    },
    {
     "name": "stderr",
     "output_type": "stream",
     "text": [
      "C:\\Users\\Sid\\Anaconda3\\lib\\runpy.py:193: UserWarning: [W008] Evaluating Token.similarity based on empty vectors.\n",
      "  \"__main__\", mod_spec)\n"
     ]
    },
    {
     "name": "stdout",
     "output_type": "stream",
     "text": [
      "Lebar preliminary 0.0\n"
     ]
    },
    {
     "name": "stderr",
     "output_type": "stream",
     "text": [
      "C:\\Users\\Sid\\Anaconda3\\lib\\runpy.py:193: UserWarning: [W008] Evaluating Token.similarity based on empty vectors.\n",
      "  \"__main__\", mod_spec)\n"
     ]
    },
    {
     "name": "stdout",
     "output_type": "stream",
     "text": [
      "Lebar report 0.0\n"
     ]
    },
    {
     "name": "stderr",
     "output_type": "stream",
     "text": [
      "C:\\Users\\Sid\\Anaconda3\\lib\\runpy.py:193: UserWarning: [W008] Evaluating Token.similarity based on empty vectors.\n",
      "  \"__main__\", mod_spec)\n"
     ]
    },
    {
     "name": "stdout",
     "output_type": "stream",
     "text": [
      "Lebar within 0.0\n"
     ]
    },
    {
     "name": "stderr",
     "output_type": "stream",
     "text": [
      "C:\\Users\\Sid\\Anaconda3\\lib\\runpy.py:193: UserWarning: [W008] Evaluating Token.similarity based on empty vectors.\n",
      "  \"__main__\", mod_spec)\n"
     ]
    },
    {
     "name": "stdout",
     "output_type": "stream",
     "text": [
      "Lebar 24hours 0.0\n"
     ]
    },
    {
     "name": "stderr",
     "output_type": "stream",
     "text": [
      "C:\\Users\\Sid\\Anaconda3\\lib\\runpy.py:193: UserWarning: [W008] Evaluating Token.similarity based on empty vectors.\n",
      "  \"__main__\", mod_spec)\n"
     ]
    },
    {
     "name": "stdout",
     "output_type": "stream",
     "text": [
      "Lebar & 0.0\n"
     ]
    },
    {
     "name": "stderr",
     "output_type": "stream",
     "text": [
      "C:\\Users\\Sid\\Anaconda3\\lib\\runpy.py:193: UserWarning: [W008] Evaluating Token.similarity based on empty vectors.\n",
      "  \"__main__\", mod_spec)\n"
     ]
    },
    {
     "name": "stdout",
     "output_type": "stream",
     "text": [
      "Lebar a 0.0\n"
     ]
    },
    {
     "name": "stderr",
     "output_type": "stream",
     "text": [
      "C:\\Users\\Sid\\Anaconda3\\lib\\runpy.py:193: UserWarning: [W008] Evaluating Token.similarity based on empty vectors.\n",
      "  \"__main__\", mod_spec)\n"
     ]
    },
    {
     "name": "stdout",
     "output_type": "stream",
     "text": [
      "Lebar detailed 0.0\n"
     ]
    },
    {
     "name": "stderr",
     "output_type": "stream",
     "text": [
      "C:\\Users\\Sid\\Anaconda3\\lib\\runpy.py:193: UserWarning: [W008] Evaluating Token.similarity based on empty vectors.\n",
      "  \"__main__\", mod_spec)\n"
     ]
    },
    {
     "name": "stdout",
     "output_type": "stream",
     "text": [
      "Lebar report 0.0\n"
     ]
    },
    {
     "name": "stderr",
     "output_type": "stream",
     "text": [
      "C:\\Users\\Sid\\Anaconda3\\lib\\runpy.py:193: UserWarning: [W008] Evaluating Token.similarity based on empty vectors.\n",
      "  \"__main__\", mod_spec)\n"
     ]
    },
    {
     "name": "stdout",
     "output_type": "stream",
     "text": [
      "Lebar within 0.0\n"
     ]
    },
    {
     "name": "stderr",
     "output_type": "stream",
     "text": [
      "C:\\Users\\Sid\\Anaconda3\\lib\\runpy.py:193: UserWarning: [W008] Evaluating Token.similarity based on empty vectors.\n",
      "  \"__main__\", mod_spec)\n"
     ]
    },
    {
     "name": "stdout",
     "output_type": "stream",
     "text": [
      "Lebar 1 0.0\n"
     ]
    },
    {
     "name": "stderr",
     "output_type": "stream",
     "text": [
      "C:\\Users\\Sid\\Anaconda3\\lib\\runpy.py:193: UserWarning: [W008] Evaluating Token.similarity based on empty vectors.\n",
      "  \"__main__\", mod_spec)\n"
     ]
    },
    {
     "name": "stdout",
     "output_type": "stream",
     "text": [
      "Lebar week 0.0\n"
     ]
    },
    {
     "name": "stderr",
     "output_type": "stream",
     "text": [
      "C:\\Users\\Sid\\Anaconda3\\lib\\runpy.py:193: UserWarning: [W008] Evaluating Token.similarity based on empty vectors.\n",
      "  \"__main__\", mod_spec)\n"
     ]
    },
    {
     "name": "stdout",
     "output_type": "stream",
     "text": [
      "Lebar of 0.0\n"
     ]
    },
    {
     "name": "stderr",
     "output_type": "stream",
     "text": [
      "C:\\Users\\Sid\\Anaconda3\\lib\\runpy.py:193: UserWarning: [W008] Evaluating Token.similarity based on empty vectors.\n",
      "  \"__main__\", mod_spec)\n"
     ]
    },
    {
     "name": "stdout",
     "output_type": "stream",
     "text": [
      "Lebar this 0.0\n"
     ]
    },
    {
     "name": "stderr",
     "output_type": "stream",
     "text": [
      "C:\\Users\\Sid\\Anaconda3\\lib\\runpy.py:193: UserWarning: [W008] Evaluating Token.similarity based on empty vectors.\n",
      "  \"__main__\", mod_spec)\n"
     ]
    },
    {
     "name": "stdout",
     "output_type": "stream",
     "text": [
      "Lebar notice 0.0\n"
     ]
    },
    {
     "name": "stderr",
     "output_type": "stream",
     "text": [
      "C:\\Users\\Sid\\Anaconda3\\lib\\runpy.py:193: UserWarning: [W008] Evaluating Token.similarity based on empty vectors.\n",
      "  \"__main__\", mod_spec)\n"
     ]
    },
    {
     "name": "stdout",
     "output_type": "stream",
     "text": [
      "Lebar . 0.0\n"
     ]
    },
    {
     "name": "stderr",
     "output_type": "stream",
     "text": [
      "C:\\Users\\Sid\\Anaconda3\\lib\\runpy.py:193: UserWarning: [W008] Evaluating Token.similarity based on empty vectors.\n",
      "  \"__main__\", mod_spec)\n"
     ]
    },
    {
     "name": "stdout",
     "output_type": "stream",
     "text": [
      "Lebar ) 0.0\n",
      "I Outage 0.102136634\n",
      "I of 0.23158608\n",
      "I Paya 0.009391765\n"
     ]
    },
    {
     "name": "stderr",
     "output_type": "stream",
     "text": [
      "C:\\Users\\Sid\\Anaconda3\\lib\\runpy.py:193: UserWarning: [W008] Evaluating Token.similarity based on empty vectors.\n",
      "  \"__main__\", mod_spec)\n"
     ]
    },
    {
     "name": "stdout",
     "output_type": "stream",
     "text": [
      "I Lebar 0.0\n",
      "I I 1.0\n",
      "I / 0.10141526\n",
      "I Kaki 0.08535696\n",
      "I Bukit 0.12693338\n"
     ]
    },
    {
     "name": "stderr",
     "output_type": "stream",
     "text": [
      "C:\\Users\\Sid\\Anaconda3\\lib\\runpy.py:193: UserWarning: [W008] Evaluating Token.similarity based on empty vectors.\n",
      "  \"__main__\", mod_spec)\n"
     ]
    },
    {
     "name": "stdout",
     "output_type": "stream",
     "text": [
      "I 66kV 0.0\n",
      "I Feeder 0.13498245\n",
      "I No 0.39711848\n",
      "I . 0.3779279\n",
      "I 1 0.18238333\n",
      "I on 0.27457917\n",
      "I 02 0.15308651\n",
      "I Jan 0.32636264\n",
      "I 2015 -0.022905469\n",
      "I at 0.24199136\n"
     ]
    },
    {
     "name": "stderr",
     "output_type": "stream",
     "text": [
      "C:\\Users\\Sid\\Anaconda3\\lib\\runpy.py:193: UserWarning: [W008] Evaluating Token.similarity based on empty vectors.\n",
      "  \"__main__\", mod_spec)\n"
     ]
    },
    {
     "name": "stdout",
     "output_type": "stream",
     "text": [
      "I 1113Hrs 0.0\n",
      "I was 0.44471362\n",
      "I without 0.35829425\n",
      "I Final 0.257556\n",
      "I Approval 0.16336903\n",
      "I / 0.10141526\n"
     ]
    },
    {
     "name": "stderr",
     "output_type": "stream",
     "text": [
      "C:\\Users\\Sid\\Anaconda3\\lib\\runpy.py:193: UserWarning: [W008] Evaluating Token.similarity based on empty vectors.\n",
      "  \"__main__\", mod_spec)\n"
     ]
    },
    {
     "name": "stdout",
     "output_type": "stream",
     "text": [
      "I Consent.(The 0.0\n",
      "I relevant 0.23232146\n",
      "I Market 0.20831832\n",
      "I Participant 0.13767311\n",
      "I to 0.34577534\n",
      "I submit 0.26834878\n",
      "I a 0.30590197\n",
      "I preliminary 0.11450787\n",
      "I report 0.2155716\n",
      "I within 0.21410444\n",
      "I 24hours 0.08802102\n",
      "I & 0.1378262\n",
      "I a 0.30590197\n",
      "I detailed 0.14216307\n",
      "I report 0.2155716\n",
      "I within 0.21410444\n",
      "I 1 0.18238333\n",
      "I week 0.31380823\n",
      "I of 0.23158608\n",
      "I this 0.44733685\n",
      "I notice 0.4726053\n",
      "I . 0.3779279\n",
      "I ) 0.12402085\n",
      "/ Outage -0.08074525\n",
      "/ of 0.11303724\n",
      "/ Paya -0.19576041\n"
     ]
    },
    {
     "name": "stderr",
     "output_type": "stream",
     "text": [
      "C:\\Users\\Sid\\Anaconda3\\lib\\runpy.py:193: UserWarning: [W008] Evaluating Token.similarity based on empty vectors.\n",
      "  \"__main__\", mod_spec)\n"
     ]
    },
    {
     "name": "stdout",
     "output_type": "stream",
     "text": [
      "/ Lebar 0.0\n",
      "/ I 0.10141526\n",
      "/ / 1.0\n",
      "/ Kaki -0.116229944\n",
      "/ Bukit -0.12165931\n"
     ]
    },
    {
     "name": "stderr",
     "output_type": "stream",
     "text": [
      "C:\\Users\\Sid\\Anaconda3\\lib\\runpy.py:193: UserWarning: [W008] Evaluating Token.similarity based on empty vectors.\n",
      "  \"__main__\", mod_spec)\n"
     ]
    },
    {
     "name": "stdout",
     "output_type": "stream",
     "text": [
      "/ 66kV 0.0\n",
      "/ Feeder -0.007951095\n",
      "/ No 0.10011948\n",
      "/ . 0.30296203\n",
      "/ 1 0.3307608\n",
      "/ on 0.107599184\n",
      "/ 02 0.30998453\n",
      "/ Jan 0.06676969\n",
      "/ 2015 0.03108653\n",
      "/ at 0.14789088\n"
     ]
    },
    {
     "name": "stderr",
     "output_type": "stream",
     "text": [
      "C:\\Users\\Sid\\Anaconda3\\lib\\runpy.py:193: UserWarning: [W008] Evaluating Token.similarity based on empty vectors.\n",
      "  \"__main__\", mod_spec)\n"
     ]
    },
    {
     "name": "stdout",
     "output_type": "stream",
     "text": [
      "/ 1113Hrs 0.0\n",
      "/ was 0.03608006\n",
      "/ without 0.11368058\n",
      "/ Final 0.047410782\n",
      "/ Approval 0.108783305\n",
      "/ / 1.0\n"
     ]
    },
    {
     "name": "stderr",
     "output_type": "stream",
     "text": [
      "C:\\Users\\Sid\\Anaconda3\\lib\\runpy.py:193: UserWarning: [W008] Evaluating Token.similarity based on empty vectors.\n",
      "  \"__main__\", mod_spec)\n"
     ]
    },
    {
     "name": "stdout",
     "output_type": "stream",
     "text": [
      "/ Consent.(The 0.0\n",
      "/ relevant 0.034148246\n",
      "/ Market 0.06513298\n",
      "/ Participant -0.07978954\n",
      "/ to 0.1389264\n",
      "/ submit 0.05938015\n",
      "/ a 0.08062348\n",
      "/ preliminary -0.068473175\n",
      "/ report 0.08847272\n",
      "/ within 0.07031502\n",
      "/ 24hours -0.07559304\n",
      "/ & 0.42578092\n",
      "/ a 0.08062348\n",
      "/ detailed 0.0060124556\n",
      "/ report 0.08847272\n",
      "/ within 0.07031502\n",
      "/ 1 0.3307608\n",
      "/ week 0.14223774\n",
      "/ of 0.11303724\n",
      "/ this 0.084899634\n",
      "/ notice 0.042418737\n",
      "/ . 0.30296203\n",
      "/ ) 0.3606067\n",
      "Kaki Outage -0.06918918\n",
      "Kaki of -0.16861627\n",
      "Kaki Paya 0.3320666\n"
     ]
    },
    {
     "name": "stderr",
     "output_type": "stream",
     "text": [
      "C:\\Users\\Sid\\Anaconda3\\lib\\runpy.py:193: UserWarning: [W008] Evaluating Token.similarity based on empty vectors.\n",
      "  \"__main__\", mod_spec)\n"
     ]
    },
    {
     "name": "stdout",
     "output_type": "stream",
     "text": [
      "Kaki Lebar 0.0\n",
      "Kaki I 0.08535696\n",
      "Kaki / -0.116229944\n",
      "Kaki Kaki 1.0\n",
      "Kaki Bukit 0.47287107\n"
     ]
    },
    {
     "name": "stderr",
     "output_type": "stream",
     "text": [
      "C:\\Users\\Sid\\Anaconda3\\lib\\runpy.py:193: UserWarning: [W008] Evaluating Token.similarity based on empty vectors.\n",
      "  \"__main__\", mod_spec)\n"
     ]
    },
    {
     "name": "stdout",
     "output_type": "stream",
     "text": [
      "Kaki 66kV 0.0\n",
      "Kaki Feeder -0.028907165\n",
      "Kaki No -0.005382817\n",
      "Kaki . -0.006775103\n",
      "Kaki 1 -0.10070785\n",
      "Kaki on -0.0822187\n",
      "Kaki 02 -0.056091513\n",
      "Kaki Jan 0.12035514\n",
      "Kaki 2015 -0.074280605\n",
      "Kaki at -0.08593033\n"
     ]
    },
    {
     "name": "stderr",
     "output_type": "stream",
     "text": [
      "C:\\Users\\Sid\\Anaconda3\\lib\\runpy.py:193: UserWarning: [W008] Evaluating Token.similarity based on empty vectors.\n",
      "  \"__main__\", mod_spec)\n"
     ]
    },
    {
     "name": "stdout",
     "output_type": "stream",
     "text": [
      "Kaki 1113Hrs 0.0\n",
      "Kaki was -0.040734224\n",
      "Kaki without -0.07553597\n",
      "Kaki Final -0.10765442\n",
      "Kaki Approval -0.15994555\n",
      "Kaki / -0.116229944\n"
     ]
    },
    {
     "name": "stderr",
     "output_type": "stream",
     "text": [
      "C:\\Users\\Sid\\Anaconda3\\lib\\runpy.py:193: UserWarning: [W008] Evaluating Token.similarity based on empty vectors.\n",
      "  \"__main__\", mod_spec)\n"
     ]
    },
    {
     "name": "stdout",
     "output_type": "stream",
     "text": [
      "Kaki Consent.(The 0.0\n",
      "Kaki relevant -0.12961134\n",
      "Kaki Market -0.08192043\n",
      "Kaki Participant -0.061397385\n",
      "Kaki to -0.12649958\n",
      "Kaki submit -0.12330513\n",
      "Kaki a -0.118620746\n",
      "Kaki preliminary -0.13753994\n",
      "Kaki report -0.17778683\n",
      "Kaki within -0.1690849\n",
      "Kaki 24hours 0.14572425\n",
      "Kaki & -0.13772169\n",
      "Kaki a -0.118620746\n",
      "Kaki detailed -0.16575712\n",
      "Kaki report -0.17778683\n",
      "Kaki within -0.1690849\n",
      "Kaki 1 -0.10070785\n",
      "Kaki week -0.09853282\n",
      "Kaki of -0.16861627\n",
      "Kaki this -0.15251204\n",
      "Kaki notice -0.03842039\n",
      "Kaki . -0.006775103\n",
      "Kaki ) -0.08754782\n",
      "Bukit Outage 0.013046956\n",
      "Bukit of -0.14818837\n",
      "Bukit Paya 0.5179305\n"
     ]
    },
    {
     "name": "stderr",
     "output_type": "stream",
     "text": [
      "C:\\Users\\Sid\\Anaconda3\\lib\\runpy.py:193: UserWarning: [W008] Evaluating Token.similarity based on empty vectors.\n",
      "  \"__main__\", mod_spec)\n"
     ]
    },
    {
     "name": "stdout",
     "output_type": "stream",
     "text": [
      "Bukit Lebar 0.0\n",
      "Bukit I 0.12693338\n",
      "Bukit / -0.12165931\n",
      "Bukit Kaki 0.47287107\n",
      "Bukit Bukit 1.0\n"
     ]
    },
    {
     "name": "stderr",
     "output_type": "stream",
     "text": [
      "C:\\Users\\Sid\\Anaconda3\\lib\\runpy.py:193: UserWarning: [W008] Evaluating Token.similarity based on empty vectors.\n",
      "  \"__main__\", mod_spec)\n"
     ]
    },
    {
     "name": "stdout",
     "output_type": "stream",
     "text": [
      "Bukit 66kV 0.0\n",
      "Bukit Feeder 0.026866376\n",
      "Bukit No -0.091312714\n",
      "Bukit . 0.062102217\n",
      "Bukit 1 -0.03494045\n",
      "Bukit on -0.09349912\n",
      "Bukit 02 -0.06058201\n",
      "Bukit Jan 0.17445052\n",
      "Bukit 2015 0.023715414\n",
      "Bukit at 0.020167148\n"
     ]
    },
    {
     "name": "stderr",
     "output_type": "stream",
     "text": [
      "C:\\Users\\Sid\\Anaconda3\\lib\\runpy.py:193: UserWarning: [W008] Evaluating Token.similarity based on empty vectors.\n",
      "  \"__main__\", mod_spec)\n"
     ]
    },
    {
     "name": "stdout",
     "output_type": "stream",
     "text": [
      "Bukit 1113Hrs 0.0\n",
      "Bukit was -0.009330226\n",
      "Bukit without -0.10368837\n",
      "Bukit Final -0.002837862\n",
      "Bukit Approval -0.03849058\n",
      "Bukit / -0.12165931\n"
     ]
    },
    {
     "name": "stderr",
     "output_type": "stream",
     "text": [
      "C:\\Users\\Sid\\Anaconda3\\lib\\runpy.py:193: UserWarning: [W008] Evaluating Token.similarity based on empty vectors.\n",
      "  \"__main__\", mod_spec)\n"
     ]
    },
    {
     "name": "stdout",
     "output_type": "stream",
     "text": [
      "Bukit Consent.(The 0.0\n",
      "Bukit relevant -0.021336952\n",
      "Bukit Market 0.009399745\n",
      "Bukit Participant -0.09250667\n",
      "Bukit to -0.0226074\n",
      "Bukit submit -0.07310345\n",
      "Bukit a -0.091099285\n",
      "Bukit preliminary -0.07489238\n",
      "Bukit report -0.1416983\n",
      "Bukit within -0.048796173\n",
      "Bukit 24hours 0.20912105\n",
      "Bukit & -0.08798837\n",
      "Bukit a -0.091099285\n",
      "Bukit detailed -0.12335796\n",
      "Bukit report -0.1416983\n",
      "Bukit within -0.048796173\n",
      "Bukit 1 -0.03494045\n",
      "Bukit week -0.05069949\n",
      "Bukit of -0.14818837\n",
      "Bukit this -0.07934091\n",
      "Bukit notice -0.054965634\n",
      "Bukit . 0.062102217\n",
      "Bukit ) -0.076422565\n"
     ]
    },
    {
     "name": "stderr",
     "output_type": "stream",
     "text": [
      "C:\\Users\\Sid\\Anaconda3\\lib\\runpy.py:193: UserWarning: [W008] Evaluating Token.similarity based on empty vectors.\n",
      "  \"__main__\", mod_spec)\n"
     ]
    },
    {
     "name": "stdout",
     "output_type": "stream",
     "text": [
      "66kV Outage 0.0\n"
     ]
    },
    {
     "name": "stderr",
     "output_type": "stream",
     "text": [
      "C:\\Users\\Sid\\Anaconda3\\lib\\runpy.py:193: UserWarning: [W008] Evaluating Token.similarity based on empty vectors.\n",
      "  \"__main__\", mod_spec)\n"
     ]
    },
    {
     "name": "stdout",
     "output_type": "stream",
     "text": [
      "66kV of 0.0\n"
     ]
    },
    {
     "name": "stderr",
     "output_type": "stream",
     "text": [
      "C:\\Users\\Sid\\Anaconda3\\lib\\runpy.py:193: UserWarning: [W008] Evaluating Token.similarity based on empty vectors.\n",
      "  \"__main__\", mod_spec)\n"
     ]
    },
    {
     "name": "stdout",
     "output_type": "stream",
     "text": [
      "66kV Paya 0.0\n"
     ]
    },
    {
     "name": "stderr",
     "output_type": "stream",
     "text": [
      "C:\\Users\\Sid\\Anaconda3\\lib\\runpy.py:193: UserWarning: [W008] Evaluating Token.similarity based on empty vectors.\n",
      "  \"__main__\", mod_spec)\n"
     ]
    },
    {
     "name": "stdout",
     "output_type": "stream",
     "text": [
      "66kV Lebar 0.0\n"
     ]
    },
    {
     "name": "stderr",
     "output_type": "stream",
     "text": [
      "C:\\Users\\Sid\\Anaconda3\\lib\\runpy.py:193: UserWarning: [W008] Evaluating Token.similarity based on empty vectors.\n",
      "  \"__main__\", mod_spec)\n"
     ]
    },
    {
     "name": "stdout",
     "output_type": "stream",
     "text": [
      "66kV I 0.0\n"
     ]
    },
    {
     "name": "stderr",
     "output_type": "stream",
     "text": [
      "C:\\Users\\Sid\\Anaconda3\\lib\\runpy.py:193: UserWarning: [W008] Evaluating Token.similarity based on empty vectors.\n",
      "  \"__main__\", mod_spec)\n"
     ]
    },
    {
     "name": "stdout",
     "output_type": "stream",
     "text": [
      "66kV / 0.0\n"
     ]
    },
    {
     "name": "stderr",
     "output_type": "stream",
     "text": [
      "C:\\Users\\Sid\\Anaconda3\\lib\\runpy.py:193: UserWarning: [W008] Evaluating Token.similarity based on empty vectors.\n",
      "  \"__main__\", mod_spec)\n"
     ]
    },
    {
     "name": "stdout",
     "output_type": "stream",
     "text": [
      "66kV Kaki 0.0\n"
     ]
    },
    {
     "name": "stderr",
     "output_type": "stream",
     "text": [
      "C:\\Users\\Sid\\Anaconda3\\lib\\runpy.py:193: UserWarning: [W008] Evaluating Token.similarity based on empty vectors.\n",
      "  \"__main__\", mod_spec)\n"
     ]
    },
    {
     "name": "stdout",
     "output_type": "stream",
     "text": [
      "66kV Bukit 0.0\n",
      "66kV 66kV 1.0\n"
     ]
    },
    {
     "name": "stderr",
     "output_type": "stream",
     "text": [
      "C:\\Users\\Sid\\Anaconda3\\lib\\runpy.py:193: UserWarning: [W008] Evaluating Token.similarity based on empty vectors.\n",
      "  \"__main__\", mod_spec)\n"
     ]
    },
    {
     "name": "stdout",
     "output_type": "stream",
     "text": [
      "66kV Feeder 0.0\n"
     ]
    },
    {
     "name": "stderr",
     "output_type": "stream",
     "text": [
      "C:\\Users\\Sid\\Anaconda3\\lib\\runpy.py:193: UserWarning: [W008] Evaluating Token.similarity based on empty vectors.\n",
      "  \"__main__\", mod_spec)\n"
     ]
    },
    {
     "name": "stdout",
     "output_type": "stream",
     "text": [
      "66kV No 0.0\n"
     ]
    },
    {
     "name": "stderr",
     "output_type": "stream",
     "text": [
      "C:\\Users\\Sid\\Anaconda3\\lib\\runpy.py:193: UserWarning: [W008] Evaluating Token.similarity based on empty vectors.\n",
      "  \"__main__\", mod_spec)\n"
     ]
    },
    {
     "name": "stdout",
     "output_type": "stream",
     "text": [
      "66kV . 0.0\n"
     ]
    },
    {
     "name": "stderr",
     "output_type": "stream",
     "text": [
      "C:\\Users\\Sid\\Anaconda3\\lib\\runpy.py:193: UserWarning: [W008] Evaluating Token.similarity based on empty vectors.\n",
      "  \"__main__\", mod_spec)\n"
     ]
    },
    {
     "name": "stdout",
     "output_type": "stream",
     "text": [
      "66kV 1 0.0\n"
     ]
    },
    {
     "name": "stderr",
     "output_type": "stream",
     "text": [
      "C:\\Users\\Sid\\Anaconda3\\lib\\runpy.py:193: UserWarning: [W008] Evaluating Token.similarity based on empty vectors.\n",
      "  \"__main__\", mod_spec)\n"
     ]
    },
    {
     "name": "stdout",
     "output_type": "stream",
     "text": [
      "66kV on 0.0\n"
     ]
    },
    {
     "name": "stderr",
     "output_type": "stream",
     "text": [
      "C:\\Users\\Sid\\Anaconda3\\lib\\runpy.py:193: UserWarning: [W008] Evaluating Token.similarity based on empty vectors.\n",
      "  \"__main__\", mod_spec)\n"
     ]
    },
    {
     "name": "stdout",
     "output_type": "stream",
     "text": [
      "66kV 02 0.0\n"
     ]
    },
    {
     "name": "stderr",
     "output_type": "stream",
     "text": [
      "C:\\Users\\Sid\\Anaconda3\\lib\\runpy.py:193: UserWarning: [W008] Evaluating Token.similarity based on empty vectors.\n",
      "  \"__main__\", mod_spec)\n"
     ]
    },
    {
     "name": "stdout",
     "output_type": "stream",
     "text": [
      "66kV Jan 0.0\n"
     ]
    },
    {
     "name": "stderr",
     "output_type": "stream",
     "text": [
      "C:\\Users\\Sid\\Anaconda3\\lib\\runpy.py:193: UserWarning: [W008] Evaluating Token.similarity based on empty vectors.\n",
      "  \"__main__\", mod_spec)\n"
     ]
    },
    {
     "name": "stdout",
     "output_type": "stream",
     "text": [
      "66kV 2015 0.0\n"
     ]
    },
    {
     "name": "stderr",
     "output_type": "stream",
     "text": [
      "C:\\Users\\Sid\\Anaconda3\\lib\\runpy.py:193: UserWarning: [W008] Evaluating Token.similarity based on empty vectors.\n",
      "  \"__main__\", mod_spec)\n"
     ]
    },
    {
     "name": "stdout",
     "output_type": "stream",
     "text": [
      "66kV at 0.0\n"
     ]
    },
    {
     "name": "stderr",
     "output_type": "stream",
     "text": [
      "C:\\Users\\Sid\\Anaconda3\\lib\\runpy.py:193: UserWarning: [W008] Evaluating Token.similarity based on empty vectors.\n",
      "  \"__main__\", mod_spec)\n"
     ]
    },
    {
     "name": "stdout",
     "output_type": "stream",
     "text": [
      "66kV 1113Hrs 0.0\n"
     ]
    },
    {
     "name": "stderr",
     "output_type": "stream",
     "text": [
      "C:\\Users\\Sid\\Anaconda3\\lib\\runpy.py:193: UserWarning: [W008] Evaluating Token.similarity based on empty vectors.\n",
      "  \"__main__\", mod_spec)\n"
     ]
    },
    {
     "name": "stdout",
     "output_type": "stream",
     "text": [
      "66kV was 0.0\n"
     ]
    },
    {
     "name": "stderr",
     "output_type": "stream",
     "text": [
      "C:\\Users\\Sid\\Anaconda3\\lib\\runpy.py:193: UserWarning: [W008] Evaluating Token.similarity based on empty vectors.\n",
      "  \"__main__\", mod_spec)\n"
     ]
    },
    {
     "name": "stdout",
     "output_type": "stream",
     "text": [
      "66kV without 0.0\n"
     ]
    },
    {
     "name": "stderr",
     "output_type": "stream",
     "text": [
      "C:\\Users\\Sid\\Anaconda3\\lib\\runpy.py:193: UserWarning: [W008] Evaluating Token.similarity based on empty vectors.\n",
      "  \"__main__\", mod_spec)\n"
     ]
    },
    {
     "name": "stdout",
     "output_type": "stream",
     "text": [
      "66kV Final 0.0\n"
     ]
    },
    {
     "name": "stderr",
     "output_type": "stream",
     "text": [
      "C:\\Users\\Sid\\Anaconda3\\lib\\runpy.py:193: UserWarning: [W008] Evaluating Token.similarity based on empty vectors.\n",
      "  \"__main__\", mod_spec)\n"
     ]
    },
    {
     "name": "stdout",
     "output_type": "stream",
     "text": [
      "66kV Approval 0.0\n"
     ]
    },
    {
     "name": "stderr",
     "output_type": "stream",
     "text": [
      "C:\\Users\\Sid\\Anaconda3\\lib\\runpy.py:193: UserWarning: [W008] Evaluating Token.similarity based on empty vectors.\n",
      "  \"__main__\", mod_spec)\n"
     ]
    },
    {
     "name": "stdout",
     "output_type": "stream",
     "text": [
      "66kV / 0.0\n"
     ]
    },
    {
     "name": "stderr",
     "output_type": "stream",
     "text": [
      "C:\\Users\\Sid\\Anaconda3\\lib\\runpy.py:193: UserWarning: [W008] Evaluating Token.similarity based on empty vectors.\n",
      "  \"__main__\", mod_spec)\n"
     ]
    },
    {
     "name": "stdout",
     "output_type": "stream",
     "text": [
      "66kV Consent.(The 0.0\n"
     ]
    },
    {
     "name": "stderr",
     "output_type": "stream",
     "text": [
      "C:\\Users\\Sid\\Anaconda3\\lib\\runpy.py:193: UserWarning: [W008] Evaluating Token.similarity based on empty vectors.\n",
      "  \"__main__\", mod_spec)\n"
     ]
    },
    {
     "name": "stdout",
     "output_type": "stream",
     "text": [
      "66kV relevant 0.0\n"
     ]
    },
    {
     "name": "stderr",
     "output_type": "stream",
     "text": [
      "C:\\Users\\Sid\\Anaconda3\\lib\\runpy.py:193: UserWarning: [W008] Evaluating Token.similarity based on empty vectors.\n",
      "  \"__main__\", mod_spec)\n"
     ]
    },
    {
     "name": "stdout",
     "output_type": "stream",
     "text": [
      "66kV Market 0.0\n"
     ]
    },
    {
     "name": "stderr",
     "output_type": "stream",
     "text": [
      "C:\\Users\\Sid\\Anaconda3\\lib\\runpy.py:193: UserWarning: [W008] Evaluating Token.similarity based on empty vectors.\n",
      "  \"__main__\", mod_spec)\n"
     ]
    },
    {
     "name": "stdout",
     "output_type": "stream",
     "text": [
      "66kV Participant 0.0\n"
     ]
    },
    {
     "name": "stderr",
     "output_type": "stream",
     "text": [
      "C:\\Users\\Sid\\Anaconda3\\lib\\runpy.py:193: UserWarning: [W008] Evaluating Token.similarity based on empty vectors.\n",
      "  \"__main__\", mod_spec)\n"
     ]
    },
    {
     "name": "stdout",
     "output_type": "stream",
     "text": [
      "66kV to 0.0\n"
     ]
    },
    {
     "name": "stderr",
     "output_type": "stream",
     "text": [
      "C:\\Users\\Sid\\Anaconda3\\lib\\runpy.py:193: UserWarning: [W008] Evaluating Token.similarity based on empty vectors.\n",
      "  \"__main__\", mod_spec)\n"
     ]
    },
    {
     "name": "stdout",
     "output_type": "stream",
     "text": [
      "66kV submit 0.0\n"
     ]
    },
    {
     "name": "stderr",
     "output_type": "stream",
     "text": [
      "C:\\Users\\Sid\\Anaconda3\\lib\\runpy.py:193: UserWarning: [W008] Evaluating Token.similarity based on empty vectors.\n",
      "  \"__main__\", mod_spec)\n"
     ]
    },
    {
     "name": "stdout",
     "output_type": "stream",
     "text": [
      "66kV a 0.0\n"
     ]
    },
    {
     "name": "stderr",
     "output_type": "stream",
     "text": [
      "C:\\Users\\Sid\\Anaconda3\\lib\\runpy.py:193: UserWarning: [W008] Evaluating Token.similarity based on empty vectors.\n",
      "  \"__main__\", mod_spec)\n"
     ]
    },
    {
     "name": "stdout",
     "output_type": "stream",
     "text": [
      "66kV preliminary 0.0\n"
     ]
    },
    {
     "name": "stderr",
     "output_type": "stream",
     "text": [
      "C:\\Users\\Sid\\Anaconda3\\lib\\runpy.py:193: UserWarning: [W008] Evaluating Token.similarity based on empty vectors.\n",
      "  \"__main__\", mod_spec)\n"
     ]
    },
    {
     "name": "stdout",
     "output_type": "stream",
     "text": [
      "66kV report 0.0\n"
     ]
    },
    {
     "name": "stderr",
     "output_type": "stream",
     "text": [
      "C:\\Users\\Sid\\Anaconda3\\lib\\runpy.py:193: UserWarning: [W008] Evaluating Token.similarity based on empty vectors.\n",
      "  \"__main__\", mod_spec)\n"
     ]
    },
    {
     "name": "stdout",
     "output_type": "stream",
     "text": [
      "66kV within 0.0\n"
     ]
    },
    {
     "name": "stderr",
     "output_type": "stream",
     "text": [
      "C:\\Users\\Sid\\Anaconda3\\lib\\runpy.py:193: UserWarning: [W008] Evaluating Token.similarity based on empty vectors.\n",
      "  \"__main__\", mod_spec)\n"
     ]
    },
    {
     "name": "stdout",
     "output_type": "stream",
     "text": [
      "66kV 24hours 0.0\n"
     ]
    },
    {
     "name": "stderr",
     "output_type": "stream",
     "text": [
      "C:\\Users\\Sid\\Anaconda3\\lib\\runpy.py:193: UserWarning: [W008] Evaluating Token.similarity based on empty vectors.\n",
      "  \"__main__\", mod_spec)\n"
     ]
    },
    {
     "name": "stdout",
     "output_type": "stream",
     "text": [
      "66kV & 0.0\n"
     ]
    },
    {
     "name": "stderr",
     "output_type": "stream",
     "text": [
      "C:\\Users\\Sid\\Anaconda3\\lib\\runpy.py:193: UserWarning: [W008] Evaluating Token.similarity based on empty vectors.\n",
      "  \"__main__\", mod_spec)\n"
     ]
    },
    {
     "name": "stdout",
     "output_type": "stream",
     "text": [
      "66kV a 0.0\n"
     ]
    },
    {
     "name": "stderr",
     "output_type": "stream",
     "text": [
      "C:\\Users\\Sid\\Anaconda3\\lib\\runpy.py:193: UserWarning: [W008] Evaluating Token.similarity based on empty vectors.\n",
      "  \"__main__\", mod_spec)\n"
     ]
    },
    {
     "name": "stdout",
     "output_type": "stream",
     "text": [
      "66kV detailed 0.0\n"
     ]
    },
    {
     "name": "stderr",
     "output_type": "stream",
     "text": [
      "C:\\Users\\Sid\\Anaconda3\\lib\\runpy.py:193: UserWarning: [W008] Evaluating Token.similarity based on empty vectors.\n",
      "  \"__main__\", mod_spec)\n"
     ]
    },
    {
     "name": "stdout",
     "output_type": "stream",
     "text": [
      "66kV report 0.0\n"
     ]
    },
    {
     "name": "stderr",
     "output_type": "stream",
     "text": [
      "C:\\Users\\Sid\\Anaconda3\\lib\\runpy.py:193: UserWarning: [W008] Evaluating Token.similarity based on empty vectors.\n",
      "  \"__main__\", mod_spec)\n"
     ]
    },
    {
     "name": "stdout",
     "output_type": "stream",
     "text": [
      "66kV within 0.0\n"
     ]
    },
    {
     "name": "stderr",
     "output_type": "stream",
     "text": [
      "C:\\Users\\Sid\\Anaconda3\\lib\\runpy.py:193: UserWarning: [W008] Evaluating Token.similarity based on empty vectors.\n",
      "  \"__main__\", mod_spec)\n"
     ]
    },
    {
     "name": "stdout",
     "output_type": "stream",
     "text": [
      "66kV 1 0.0\n"
     ]
    },
    {
     "name": "stderr",
     "output_type": "stream",
     "text": [
      "C:\\Users\\Sid\\Anaconda3\\lib\\runpy.py:193: UserWarning: [W008] Evaluating Token.similarity based on empty vectors.\n",
      "  \"__main__\", mod_spec)\n"
     ]
    },
    {
     "name": "stdout",
     "output_type": "stream",
     "text": [
      "66kV week 0.0\n"
     ]
    },
    {
     "name": "stderr",
     "output_type": "stream",
     "text": [
      "C:\\Users\\Sid\\Anaconda3\\lib\\runpy.py:193: UserWarning: [W008] Evaluating Token.similarity based on empty vectors.\n",
      "  \"__main__\", mod_spec)\n"
     ]
    },
    {
     "name": "stdout",
     "output_type": "stream",
     "text": [
      "66kV of 0.0\n"
     ]
    },
    {
     "name": "stderr",
     "output_type": "stream",
     "text": [
      "C:\\Users\\Sid\\Anaconda3\\lib\\runpy.py:193: UserWarning: [W008] Evaluating Token.similarity based on empty vectors.\n",
      "  \"__main__\", mod_spec)\n"
     ]
    },
    {
     "name": "stdout",
     "output_type": "stream",
     "text": [
      "66kV this 0.0\n"
     ]
    },
    {
     "name": "stderr",
     "output_type": "stream",
     "text": [
      "C:\\Users\\Sid\\Anaconda3\\lib\\runpy.py:193: UserWarning: [W008] Evaluating Token.similarity based on empty vectors.\n",
      "  \"__main__\", mod_spec)\n"
     ]
    },
    {
     "name": "stdout",
     "output_type": "stream",
     "text": [
      "66kV notice 0.0\n"
     ]
    },
    {
     "name": "stderr",
     "output_type": "stream",
     "text": [
      "C:\\Users\\Sid\\Anaconda3\\lib\\runpy.py:193: UserWarning: [W008] Evaluating Token.similarity based on empty vectors.\n",
      "  \"__main__\", mod_spec)\n"
     ]
    },
    {
     "name": "stdout",
     "output_type": "stream",
     "text": [
      "66kV . 0.0\n"
     ]
    },
    {
     "name": "stderr",
     "output_type": "stream",
     "text": [
      "C:\\Users\\Sid\\Anaconda3\\lib\\runpy.py:193: UserWarning: [W008] Evaluating Token.similarity based on empty vectors.\n",
      "  \"__main__\", mod_spec)\n"
     ]
    },
    {
     "name": "stdout",
     "output_type": "stream",
     "text": [
      "66kV ) 0.0\n",
      "Feeder Outage 0.12488227\n",
      "Feeder of 0.09884871\n",
      "Feeder Paya 0.082328\n"
     ]
    },
    {
     "name": "stderr",
     "output_type": "stream",
     "text": [
      "C:\\Users\\Sid\\Anaconda3\\lib\\runpy.py:193: UserWarning: [W008] Evaluating Token.similarity based on empty vectors.\n",
      "  \"__main__\", mod_spec)\n"
     ]
    },
    {
     "name": "stdout",
     "output_type": "stream",
     "text": [
      "Feeder Lebar 0.0\n",
      "Feeder I 0.13498245\n",
      "Feeder / -0.007951095\n",
      "Feeder Kaki -0.028907165\n",
      "Feeder Bukit 0.026866376\n"
     ]
    },
    {
     "name": "stderr",
     "output_type": "stream",
     "text": [
      "C:\\Users\\Sid\\Anaconda3\\lib\\runpy.py:193: UserWarning: [W008] Evaluating Token.similarity based on empty vectors.\n",
      "  \"__main__\", mod_spec)\n"
     ]
    },
    {
     "name": "stdout",
     "output_type": "stream",
     "text": [
      "Feeder 66kV 0.0\n",
      "Feeder Feeder 1.0\n",
      "Feeder No 0.14899682\n",
      "Feeder . 0.077706754\n",
      "Feeder 1 0.052728053\n",
      "Feeder on 0.12245809\n",
      "Feeder 02 -0.04796518\n",
      "Feeder Jan 0.09583771\n",
      "Feeder 2015 -0.029383145\n",
      "Feeder at 0.08482553\n"
     ]
    },
    {
     "name": "stderr",
     "output_type": "stream",
     "text": [
      "C:\\Users\\Sid\\Anaconda3\\lib\\runpy.py:193: UserWarning: [W008] Evaluating Token.similarity based on empty vectors.\n",
      "  \"__main__\", mod_spec)\n"
     ]
    },
    {
     "name": "stdout",
     "output_type": "stream",
     "text": [
      "Feeder 1113Hrs 0.0\n",
      "Feeder was 0.083581775\n",
      "Feeder without 0.15159288\n",
      "Feeder Final 0.06679048\n",
      "Feeder Approval 0.07337231\n",
      "Feeder / -0.007951095\n"
     ]
    },
    {
     "name": "stderr",
     "output_type": "stream",
     "text": [
      "C:\\Users\\Sid\\Anaconda3\\lib\\runpy.py:193: UserWarning: [W008] Evaluating Token.similarity based on empty vectors.\n",
      "  \"__main__\", mod_spec)\n"
     ]
    },
    {
     "name": "stdout",
     "output_type": "stream",
     "text": [
      "Feeder Consent.(The 0.0\n",
      "Feeder relevant 0.051674046\n",
      "Feeder Market 0.1652575\n",
      "Feeder Participant 0.08125136\n",
      "Feeder to 0.13589035\n",
      "Feeder submit 0.04828836\n",
      "Feeder a 0.14646702\n",
      "Feeder preliminary 0.086966835\n",
      "Feeder report 0.03700346\n",
      "Feeder within 0.15508002\n",
      "Feeder 24hours -0.008290538\n",
      "Feeder & -0.047791798\n",
      "Feeder a 0.14646702\n",
      "Feeder detailed 0.04704458\n",
      "Feeder report 0.03700346\n",
      "Feeder within 0.15508002\n",
      "Feeder 1 0.052728053\n",
      "Feeder week 0.108425684\n",
      "Feeder of 0.09884871\n",
      "Feeder this 0.19190635\n",
      "Feeder notice 0.12810725\n",
      "Feeder . 0.077706754\n",
      "Feeder ) -0.0047891266\n",
      "No Outage 0.17622763\n",
      "No of 0.368211\n",
      "No Paya -0.07853624\n"
     ]
    },
    {
     "name": "stderr",
     "output_type": "stream",
     "text": [
      "C:\\Users\\Sid\\Anaconda3\\lib\\runpy.py:193: UserWarning: [W008] Evaluating Token.similarity based on empty vectors.\n",
      "  \"__main__\", mod_spec)\n"
     ]
    },
    {
     "name": "stdout",
     "output_type": "stream",
     "text": [
      "No Lebar 0.0\n",
      "No I 0.39711848\n",
      "No / 0.10011948\n",
      "No Kaki -0.005382817\n",
      "No Bukit -0.091312714\n"
     ]
    },
    {
     "name": "stderr",
     "output_type": "stream",
     "text": [
      "C:\\Users\\Sid\\Anaconda3\\lib\\runpy.py:193: UserWarning: [W008] Evaluating Token.similarity based on empty vectors.\n",
      "  \"__main__\", mod_spec)\n"
     ]
    },
    {
     "name": "stdout",
     "output_type": "stream",
     "text": [
      "No 66kV 0.0\n",
      "No Feeder 0.14899682\n",
      "No No 1.0\n",
      "No . 0.36241406\n",
      "No 1 0.15910721\n",
      "No on 0.37189037\n",
      "No 02 0.075651065\n",
      "No Jan 0.0622799\n",
      "No 2015 0.08202596\n",
      "No at 0.2695447\n"
     ]
    },
    {
     "name": "stderr",
     "output_type": "stream",
     "text": [
      "C:\\Users\\Sid\\Anaconda3\\lib\\runpy.py:193: UserWarning: [W008] Evaluating Token.similarity based on empty vectors.\n",
      "  \"__main__\", mod_spec)\n"
     ]
    },
    {
     "name": "stdout",
     "output_type": "stream",
     "text": [
      "No 1113Hrs 0.0\n",
      "No was 0.42635208\n",
      "No without 0.7306508\n",
      "No Final 0.42466703\n",
      "No Approval 0.37329447\n",
      "No / 0.10011948\n"
     ]
    },
    {
     "name": "stderr",
     "output_type": "stream",
     "text": [
      "C:\\Users\\Sid\\Anaconda3\\lib\\runpy.py:193: UserWarning: [W008] Evaluating Token.similarity based on empty vectors.\n",
      "  \"__main__\", mod_spec)\n"
     ]
    },
    {
     "name": "stdout",
     "output_type": "stream",
     "text": [
      "No Consent.(The 0.0\n",
      "No relevant 0.31350332\n",
      "No Market 0.27727878\n",
      "No Participant 0.22901122\n",
      "No to 0.40242955\n",
      "No submit 0.32132757\n",
      "No a 0.471355\n",
      "No preliminary 0.29120842\n",
      "No report 0.2889068\n",
      "No within 0.32496074\n",
      "No 24hours 0.054770317\n",
      "No & 0.061493237\n",
      "No a 0.471355\n",
      "No detailed 0.28773773\n",
      "No report 0.2889068\n",
      "No within 0.32496074\n",
      "No 1 0.15910721\n",
      "No week 0.29652202\n",
      "No of 0.368211\n",
      "No this 0.46246904\n",
      "No notice 0.5404912\n",
      "No . 0.36241406\n",
      "No ) 0.16060431\n",
      ". Outage 0.07834026\n",
      ". of 0.3146837\n",
      ". Paya -0.010789873\n"
     ]
    },
    {
     "name": "stderr",
     "output_type": "stream",
     "text": [
      "C:\\Users\\Sid\\Anaconda3\\lib\\runpy.py:193: UserWarning: [W008] Evaluating Token.similarity based on empty vectors.\n",
      "  \"__main__\", mod_spec)\n"
     ]
    },
    {
     "name": "stdout",
     "output_type": "stream",
     "text": [
      ". Lebar 0.0\n",
      ". I 0.3779279\n",
      ". / 0.30296203\n",
      ". Kaki -0.006775103\n",
      ". Bukit 0.062102217\n"
     ]
    },
    {
     "name": "stderr",
     "output_type": "stream",
     "text": [
      "C:\\Users\\Sid\\Anaconda3\\lib\\runpy.py:193: UserWarning: [W008] Evaluating Token.similarity based on empty vectors.\n",
      "  \"__main__\", mod_spec)\n"
     ]
    },
    {
     "name": "stdout",
     "output_type": "stream",
     "text": [
      ". 66kV 0.0\n",
      ". Feeder 0.077706754\n",
      ". No 0.36241406\n",
      ". . 1.0\n",
      ". 1 0.21600552\n",
      ". on 0.29028577\n",
      ". 02 0.13963448\n",
      ". Jan 0.16679074\n",
      ". 2015 0.10497709\n",
      ". at 0.3307109\n"
     ]
    },
    {
     "name": "stderr",
     "output_type": "stream",
     "text": [
      "C:\\Users\\Sid\\Anaconda3\\lib\\runpy.py:193: UserWarning: [W008] Evaluating Token.similarity based on empty vectors.\n",
      "  \"__main__\", mod_spec)\n"
     ]
    },
    {
     "name": "stdout",
     "output_type": "stream",
     "text": [
      ". 1113Hrs 0.0\n",
      ". was 0.38910556\n",
      ". without 0.43714267\n",
      ". Final 0.25159624\n",
      ". Approval 0.26995304\n",
      ". / 0.30296203\n"
     ]
    },
    {
     "name": "stderr",
     "output_type": "stream",
     "text": [
      "C:\\Users\\Sid\\Anaconda3\\lib\\runpy.py:193: UserWarning: [W008] Evaluating Token.similarity based on empty vectors.\n",
      "  \"__main__\", mod_spec)\n"
     ]
    },
    {
     "name": "stdout",
     "output_type": "stream",
     "text": [
      ". Consent.(The 0.0\n",
      ". relevant 0.2830945\n",
      ". Market 0.27776983\n",
      ". Participant 0.13250117\n",
      ". to 0.35827494\n",
      ". submit 0.20323052\n",
      ". a 0.29160026\n",
      ". preliminary 0.1668905\n",
      ". report 0.26991194\n",
      ". within 0.26375017\n",
      ". 24hours -0.03430295\n",
      ". & 0.16853671\n",
      ". a 0.29160026\n",
      ". detailed 0.24845503\n",
      ". report 0.26991194\n",
      ". within 0.26375017\n",
      ". 1 0.21600552\n",
      ". week 0.30663863\n",
      ". of 0.3146837\n",
      ". this 0.37573797\n",
      ". notice 0.35611314\n",
      ". . 1.0\n",
      ". ) 0.37816033\n",
      "1 Outage 0.001130742\n",
      "1 of 0.23696744\n",
      "1 Paya -0.16711165\n"
     ]
    },
    {
     "name": "stderr",
     "output_type": "stream",
     "text": [
      "C:\\Users\\Sid\\Anaconda3\\lib\\runpy.py:193: UserWarning: [W008] Evaluating Token.similarity based on empty vectors.\n",
      "  \"__main__\", mod_spec)\n"
     ]
    },
    {
     "name": "stdout",
     "output_type": "stream",
     "text": [
      "1 Lebar 0.0\n",
      "1 I 0.18238333\n",
      "1 / 0.3307608\n",
      "1 Kaki -0.10070785\n",
      "1 Bukit -0.03494045\n"
     ]
    },
    {
     "name": "stderr",
     "output_type": "stream",
     "text": [
      "C:\\Users\\Sid\\Anaconda3\\lib\\runpy.py:193: UserWarning: [W008] Evaluating Token.similarity based on empty vectors.\n",
      "  \"__main__\", mod_spec)\n"
     ]
    },
    {
     "name": "stdout",
     "output_type": "stream",
     "text": [
      "1 66kV 0.0\n",
      "1 Feeder 0.052728053\n",
      "1 No 0.15910721\n",
      "1 . 0.21600552\n",
      "1 1 1.0\n",
      "1 on 0.20950367\n",
      "1 02 0.35364988\n",
      "1 Jan 0.1328886\n",
      "1 2015 0.13906586\n",
      "1 at 0.20370494\n"
     ]
    },
    {
     "name": "stderr",
     "output_type": "stream",
     "text": [
      "C:\\Users\\Sid\\Anaconda3\\lib\\runpy.py:193: UserWarning: [W008] Evaluating Token.similarity based on empty vectors.\n",
      "  \"__main__\", mod_spec)\n"
     ]
    },
    {
     "name": "stdout",
     "output_type": "stream",
     "text": [
      "1 1113Hrs 0.0\n",
      "1 was 0.13218753\n",
      "1 without 0.09262657\n",
      "1 Final 0.20823985\n",
      "1 Approval 0.09570196\n",
      "1 / 0.3307608\n"
     ]
    },
    {
     "name": "stderr",
     "output_type": "stream",
     "text": [
      "C:\\Users\\Sid\\Anaconda3\\lib\\runpy.py:193: UserWarning: [W008] Evaluating Token.similarity based on empty vectors.\n",
      "  \"__main__\", mod_spec)\n"
     ]
    },
    {
     "name": "stdout",
     "output_type": "stream",
     "text": [
      "1 Consent.(The 0.0\n",
      "1 relevant 0.09954029\n",
      "1 Market 0.109104626\n",
      "1 Participant 0.107917756\n",
      "1 to 0.18657084\n",
      "1 submit 0.12592998\n",
      "1 a 0.21441382\n",
      "1 preliminary 0.059172645\n",
      "1 report 0.11742985\n",
      "1 within 0.22533092\n",
      "1 24hours -0.06341642\n",
      "1 & 0.2858166\n",
      "1 a 0.21441382\n",
      "1 detailed 0.046406426\n",
      "1 report 0.11742985\n",
      "1 within 0.22533092\n",
      "1 1 1.0\n",
      "1 week 0.2944326\n",
      "1 of 0.23696744\n",
      "1 this 0.200264\n",
      "1 notice 0.13940759\n",
      "1 . 0.21600552\n",
      "1 ) 0.49578607\n",
      "on Outage 0.11987773\n",
      "on of 0.43057546\n",
      "on Paya -0.16314247\n"
     ]
    },
    {
     "name": "stderr",
     "output_type": "stream",
     "text": [
      "C:\\Users\\Sid\\Anaconda3\\lib\\runpy.py:193: UserWarning: [W008] Evaluating Token.similarity based on empty vectors.\n",
      "  \"__main__\", mod_spec)\n"
     ]
    },
    {
     "name": "stdout",
     "output_type": "stream",
     "text": [
      "on Lebar 0.0\n",
      "on I 0.27457917\n",
      "on / 0.107599184\n",
      "on Kaki -0.0822187\n",
      "on Bukit -0.09349912\n"
     ]
    },
    {
     "name": "stderr",
     "output_type": "stream",
     "text": [
      "C:\\Users\\Sid\\Anaconda3\\lib\\runpy.py:193: UserWarning: [W008] Evaluating Token.similarity based on empty vectors.\n",
      "  \"__main__\", mod_spec)\n"
     ]
    },
    {
     "name": "stdout",
     "output_type": "stream",
     "text": [
      "on 66kV 0.0\n",
      "on Feeder 0.12245809\n",
      "on No 0.37189037\n",
      "on . 0.29028577\n",
      "on 1 0.20950367\n",
      "on on 1.0\n",
      "on 02 0.15232328\n",
      "on Jan 0.0346756\n",
      "on 2015 0.07941118\n",
      "on at 0.44432384\n"
     ]
    },
    {
     "name": "stderr",
     "output_type": "stream",
     "text": [
      "C:\\Users\\Sid\\Anaconda3\\lib\\runpy.py:193: UserWarning: [W008] Evaluating Token.similarity based on empty vectors.\n",
      "  \"__main__\", mod_spec)\n"
     ]
    },
    {
     "name": "stdout",
     "output_type": "stream",
     "text": [
      "on 1113Hrs 0.0\n",
      "on was 0.35307482\n",
      "on without 0.4508556\n",
      "on Final 0.25062418\n",
      "on Approval 0.23251536\n",
      "on / 0.107599184\n"
     ]
    },
    {
     "name": "stderr",
     "output_type": "stream",
     "text": [
      "C:\\Users\\Sid\\Anaconda3\\lib\\runpy.py:193: UserWarning: [W008] Evaluating Token.similarity based on empty vectors.\n",
      "  \"__main__\", mod_spec)\n"
     ]
    },
    {
     "name": "stdout",
     "output_type": "stream",
     "text": [
      "on Consent.(The 0.0\n",
      "on relevant 0.31925654\n",
      "on Market 0.3180929\n",
      "on Participant 0.1616183\n",
      "on to 0.4288443\n",
      "on submit 0.24888821\n",
      "on a 0.3767637\n",
      "on preliminary 0.27596262\n",
      "on report 0.34672776\n",
      "on within 0.3245046\n",
      "on 24hours -0.012207803\n",
      "on & 0.15051557\n",
      "on a 0.3767637\n",
      "on detailed 0.3108196\n",
      "on report 0.34672776\n",
      "on within 0.3245046\n",
      "on 1 0.20950367\n",
      "on week 0.37547812\n",
      "on of 0.43057546\n",
      "on this 0.41738042\n",
      "on notice 0.32554853\n",
      "on . 0.29028577\n",
      "on ) 0.13061488\n",
      "02 Outage -0.03475561\n",
      "02 of 0.044215884\n",
      "02 Paya -0.110505804\n"
     ]
    },
    {
     "name": "stderr",
     "output_type": "stream",
     "text": [
      "C:\\Users\\Sid\\Anaconda3\\lib\\runpy.py:193: UserWarning: [W008] Evaluating Token.similarity based on empty vectors.\n",
      "  \"__main__\", mod_spec)\n"
     ]
    },
    {
     "name": "stdout",
     "output_type": "stream",
     "text": [
      "02 Lebar 0.0\n",
      "02 I 0.15308651\n",
      "02 / 0.30998453\n",
      "02 Kaki -0.056091513\n",
      "02 Bukit -0.06058201\n"
     ]
    },
    {
     "name": "stderr",
     "output_type": "stream",
     "text": [
      "C:\\Users\\Sid\\Anaconda3\\lib\\runpy.py:193: UserWarning: [W008] Evaluating Token.similarity based on empty vectors.\n",
      "  \"__main__\", mod_spec)\n"
     ]
    },
    {
     "name": "stdout",
     "output_type": "stream",
     "text": [
      "02 66kV 0.0\n",
      "02 Feeder -0.04796518\n",
      "02 No 0.075651065\n",
      "02 . 0.13963448\n",
      "02 1 0.35364988\n",
      "02 on 0.15232328\n",
      "02 02 1.0\n",
      "02 Jan 0.27214548\n",
      "02 2015 0.13543877\n",
      "02 at 0.20530686\n"
     ]
    },
    {
     "name": "stderr",
     "output_type": "stream",
     "text": [
      "C:\\Users\\Sid\\Anaconda3\\lib\\runpy.py:193: UserWarning: [W008] Evaluating Token.similarity based on empty vectors.\n",
      "  \"__main__\", mod_spec)\n"
     ]
    },
    {
     "name": "stdout",
     "output_type": "stream",
     "text": [
      "02 1113Hrs 0.0\n",
      "02 was 0.04775495\n",
      "02 without -0.031968504\n",
      "02 Final 0.066918716\n",
      "02 Approval -0.013172289\n",
      "02 / 0.30998453\n"
     ]
    },
    {
     "name": "stderr",
     "output_type": "stream",
     "text": [
      "C:\\Users\\Sid\\Anaconda3\\lib\\runpy.py:193: UserWarning: [W008] Evaluating Token.similarity based on empty vectors.\n",
      "  \"__main__\", mod_spec)\n"
     ]
    },
    {
     "name": "stdout",
     "output_type": "stream",
     "text": [
      "02 Consent.(The 0.0\n",
      "02 relevant -0.11736298\n",
      "02 Market -0.05095602\n",
      "02 Participant -0.08214576\n",
      "02 to 0.01229603\n",
      "02 submit 0.038816452\n",
      "02 a 0.020246487\n",
      "02 preliminary -0.04755394\n",
      "02 report 0.057215918\n",
      "02 within -0.07739106\n",
      "02 24hours -0.13789596\n",
      "02 & 0.124060065\n",
      "02 a 0.020246487\n",
      "02 detailed -0.07097216\n",
      "02 report 0.057215918\n",
      "02 within -0.07739106\n",
      "02 1 0.35364988\n",
      "02 week 0.035017647\n",
      "02 of 0.044215884\n",
      "02 this 0.019654948\n",
      "02 notice 0.03840768\n",
      "02 . 0.13963448\n",
      "02 ) 0.23491614\n",
      "Jan Outage 0.10847185\n",
      "Jan of 0.09760648\n",
      "Jan Paya 0.13268416\n"
     ]
    },
    {
     "name": "stderr",
     "output_type": "stream",
     "text": [
      "C:\\Users\\Sid\\Anaconda3\\lib\\runpy.py:193: UserWarning: [W008] Evaluating Token.similarity based on empty vectors.\n",
      "  \"__main__\", mod_spec)\n"
     ]
    },
    {
     "name": "stdout",
     "output_type": "stream",
     "text": [
      "Jan Lebar 0.0\n",
      "Jan I 0.32636264\n",
      "Jan / 0.06676969\n",
      "Jan Kaki 0.12035514\n",
      "Jan Bukit 0.17445052\n"
     ]
    },
    {
     "name": "stderr",
     "output_type": "stream",
     "text": [
      "C:\\Users\\Sid\\Anaconda3\\lib\\runpy.py:193: UserWarning: [W008] Evaluating Token.similarity based on empty vectors.\n",
      "  \"__main__\", mod_spec)\n"
     ]
    },
    {
     "name": "stdout",
     "output_type": "stream",
     "text": [
      "Jan 66kV 0.0\n",
      "Jan Feeder 0.09583771\n",
      "Jan No 0.0622799\n",
      "Jan . 0.16679074\n",
      "Jan 1 0.1328886\n",
      "Jan on 0.0346756\n",
      "Jan 02 0.27214548\n",
      "Jan Jan 1.0\n",
      "Jan 2015 0.09112235\n",
      "Jan at 0.10364941\n"
     ]
    },
    {
     "name": "stderr",
     "output_type": "stream",
     "text": [
      "C:\\Users\\Sid\\Anaconda3\\lib\\runpy.py:193: UserWarning: [W008] Evaluating Token.similarity based on empty vectors.\n",
      "  \"__main__\", mod_spec)\n"
     ]
    },
    {
     "name": "stdout",
     "output_type": "stream",
     "text": [
      "Jan 1113Hrs 0.0\n",
      "Jan was 0.09442873\n",
      "Jan without 0.08430064\n",
      "Jan Final 0.059790246\n",
      "Jan Approval 0.08491443\n",
      "Jan / 0.06676969\n"
     ]
    },
    {
     "name": "stderr",
     "output_type": "stream",
     "text": [
      "C:\\Users\\Sid\\Anaconda3\\lib\\runpy.py:193: UserWarning: [W008] Evaluating Token.similarity based on empty vectors.\n",
      "  \"__main__\", mod_spec)\n"
     ]
    },
    {
     "name": "stdout",
     "output_type": "stream",
     "text": [
      "Jan Consent.(The 0.0\n",
      "Jan relevant 0.036126018\n",
      "Jan Market 0.08881706\n",
      "Jan Participant 0.076989315\n",
      "Jan to 0.040613633\n",
      "Jan submit 0.08574246\n",
      "Jan a 0.067579426\n",
      "Jan preliminary 0.037637323\n",
      "Jan report 0.085550055\n",
      "Jan within 0.04098593\n",
      "Jan 24hours 0.0150910625\n",
      "Jan & 0.1168604\n",
      "Jan a 0.067579426\n",
      "Jan detailed -0.010936103\n",
      "Jan report 0.085550055\n",
      "Jan within 0.04098593\n",
      "Jan 1 0.1328886\n",
      "Jan week 0.08603433\n",
      "Jan of 0.09760648\n",
      "Jan this 0.050530925\n",
      "Jan notice 0.11147635\n",
      "Jan . 0.16679074\n",
      "Jan ) 0.016475093\n",
      "2015 Outage 0.088769846\n",
      "2015 of 0.06495885\n",
      "2015 Paya -0.016728858\n"
     ]
    },
    {
     "name": "stderr",
     "output_type": "stream",
     "text": [
      "C:\\Users\\Sid\\Anaconda3\\lib\\runpy.py:193: UserWarning: [W008] Evaluating Token.similarity based on empty vectors.\n",
      "  \"__main__\", mod_spec)\n"
     ]
    },
    {
     "name": "stdout",
     "output_type": "stream",
     "text": [
      "2015 Lebar 0.0\n",
      "2015 I -0.022905469\n",
      "2015 / 0.03108653\n",
      "2015 Kaki -0.074280605\n",
      "2015 Bukit 0.023715414\n"
     ]
    },
    {
     "name": "stderr",
     "output_type": "stream",
     "text": [
      "C:\\Users\\Sid\\Anaconda3\\lib\\runpy.py:193: UserWarning: [W008] Evaluating Token.similarity based on empty vectors.\n",
      "  \"__main__\", mod_spec)\n"
     ]
    },
    {
     "name": "stdout",
     "output_type": "stream",
     "text": [
      "2015 66kV 0.0\n",
      "2015 Feeder -0.029383145\n",
      "2015 No 0.08202596\n",
      "2015 . 0.10497709\n",
      "2015 1 0.13906586\n",
      "2015 on 0.07941118\n",
      "2015 02 0.13543877\n",
      "2015 Jan 0.09112235\n",
      "2015 2015 1.0\n",
      "2015 at 0.13536519\n"
     ]
    },
    {
     "name": "stderr",
     "output_type": "stream",
     "text": [
      "C:\\Users\\Sid\\Anaconda3\\lib\\runpy.py:193: UserWarning: [W008] Evaluating Token.similarity based on empty vectors.\n",
      "  \"__main__\", mod_spec)\n"
     ]
    },
    {
     "name": "stdout",
     "output_type": "stream",
     "text": [
      "2015 1113Hrs 0.0\n",
      "2015 was 0.0077124834\n",
      "2015 without 0.08535611\n",
      "2015 Final 0.23615083\n",
      "2015 Approval 0.1758934\n",
      "2015 / 0.03108653\n"
     ]
    },
    {
     "name": "stderr",
     "output_type": "stream",
     "text": [
      "C:\\Users\\Sid\\Anaconda3\\lib\\runpy.py:193: UserWarning: [W008] Evaluating Token.similarity based on empty vectors.\n",
      "  \"__main__\", mod_spec)\n"
     ]
    },
    {
     "name": "stdout",
     "output_type": "stream",
     "text": [
      "2015 Consent.(The 0.0\n",
      "2015 relevant 0.1425835\n",
      "2015 Market 0.29339707\n",
      "2015 Participant 0.08557399\n",
      "2015 to 0.15312684\n",
      "2015 submit 0.05206728\n",
      "2015 a 0.05140205\n",
      "2015 preliminary 0.20712404\n",
      "2015 report 0.17611088\n",
      "2015 within 0.116897196\n",
      "2015 24hours 0.008416334\n",
      "2015 & -0.014893684\n",
      "2015 a 0.05140205\n",
      "2015 detailed 0.0396118\n",
      "2015 report 0.17611088\n",
      "2015 within 0.116897196\n",
      "2015 1 0.13906586\n",
      "2015 week 0.21559815\n",
      "2015 of 0.06495885\n",
      "2015 this 0.11059574\n",
      "2015 notice 0.032370802\n",
      "2015 . 0.10497709\n",
      "2015 ) 0.08736268\n",
      "at Outage 0.121026956\n",
      "at of 0.37929595\n",
      "at Paya -0.05945935\n"
     ]
    },
    {
     "name": "stderr",
     "output_type": "stream",
     "text": [
      "C:\\Users\\Sid\\Anaconda3\\lib\\runpy.py:193: UserWarning: [W008] Evaluating Token.similarity based on empty vectors.\n",
      "  \"__main__\", mod_spec)\n"
     ]
    },
    {
     "name": "stdout",
     "output_type": "stream",
     "text": [
      "at Lebar 0.0\n",
      "at I 0.24199136\n",
      "at / 0.14789088\n",
      "at Kaki -0.08593033\n",
      "at Bukit 0.020167148\n"
     ]
    },
    {
     "name": "stderr",
     "output_type": "stream",
     "text": [
      "C:\\Users\\Sid\\Anaconda3\\lib\\runpy.py:193: UserWarning: [W008] Evaluating Token.similarity based on empty vectors.\n",
      "  \"__main__\", mod_spec)\n"
     ]
    },
    {
     "name": "stdout",
     "output_type": "stream",
     "text": [
      "at 66kV 0.0\n",
      "at Feeder 0.08482553\n",
      "at No 0.2695447\n",
      "at . 0.3307109\n",
      "at 1 0.20370494\n",
      "at on 0.44432384\n",
      "at 02 0.20530686\n",
      "at Jan 0.10364941\n",
      "at 2015 0.13536519\n",
      "at at 1.0\n"
     ]
    },
    {
     "name": "stderr",
     "output_type": "stream",
     "text": [
      "C:\\Users\\Sid\\Anaconda3\\lib\\runpy.py:193: UserWarning: [W008] Evaluating Token.similarity based on empty vectors.\n",
      "  \"__main__\", mod_spec)\n"
     ]
    },
    {
     "name": "stdout",
     "output_type": "stream",
     "text": [
      "at 1113Hrs 0.0\n",
      "at was 0.37314582\n",
      "at without 0.28351507\n",
      "at Final 0.24601242\n",
      "at Approval 0.17775816\n",
      "at / 0.14789088\n"
     ]
    },
    {
     "name": "stderr",
     "output_type": "stream",
     "text": [
      "C:\\Users\\Sid\\Anaconda3\\lib\\runpy.py:193: UserWarning: [W008] Evaluating Token.similarity based on empty vectors.\n",
      "  \"__main__\", mod_spec)\n"
     ]
    },
    {
     "name": "stdout",
     "output_type": "stream",
     "text": [
      "at Consent.(The 0.0\n",
      "at relevant 0.2257122\n",
      "at Market 0.21323851\n",
      "at Participant 0.19587642\n",
      "at to 0.37443733\n",
      "at submit 0.18044898\n",
      "at a 0.2630203\n",
      "at preliminary 0.17901678\n",
      "at report 0.21228464\n",
      "at within 0.35864794\n",
      "at 24hours 0.038054228\n",
      "at & 0.10662599\n",
      "at a 0.2630203\n",
      "at detailed 0.14899576\n",
      "at report 0.21228464\n",
      "at within 0.35864794\n",
      "at 1 0.20370494\n",
      "at week 0.29970917\n",
      "at of 0.37929595\n",
      "at this 0.2597436\n",
      "at notice 0.2933656\n",
      "at . 0.3307109\n",
      "at ) 0.20790838\n"
     ]
    },
    {
     "name": "stderr",
     "output_type": "stream",
     "text": [
      "C:\\Users\\Sid\\Anaconda3\\lib\\runpy.py:193: UserWarning: [W008] Evaluating Token.similarity based on empty vectors.\n",
      "  \"__main__\", mod_spec)\n"
     ]
    },
    {
     "name": "stdout",
     "output_type": "stream",
     "text": [
      "1113Hrs Outage 0.0\n"
     ]
    },
    {
     "name": "stderr",
     "output_type": "stream",
     "text": [
      "C:\\Users\\Sid\\Anaconda3\\lib\\runpy.py:193: UserWarning: [W008] Evaluating Token.similarity based on empty vectors.\n",
      "  \"__main__\", mod_spec)\n"
     ]
    },
    {
     "name": "stdout",
     "output_type": "stream",
     "text": [
      "1113Hrs of 0.0\n"
     ]
    },
    {
     "name": "stderr",
     "output_type": "stream",
     "text": [
      "C:\\Users\\Sid\\Anaconda3\\lib\\runpy.py:193: UserWarning: [W008] Evaluating Token.similarity based on empty vectors.\n",
      "  \"__main__\", mod_spec)\n"
     ]
    },
    {
     "name": "stdout",
     "output_type": "stream",
     "text": [
      "1113Hrs Paya 0.0\n"
     ]
    },
    {
     "name": "stderr",
     "output_type": "stream",
     "text": [
      "C:\\Users\\Sid\\Anaconda3\\lib\\runpy.py:193: UserWarning: [W008] Evaluating Token.similarity based on empty vectors.\n",
      "  \"__main__\", mod_spec)\n"
     ]
    },
    {
     "name": "stdout",
     "output_type": "stream",
     "text": [
      "1113Hrs Lebar 0.0\n"
     ]
    },
    {
     "name": "stderr",
     "output_type": "stream",
     "text": [
      "C:\\Users\\Sid\\Anaconda3\\lib\\runpy.py:193: UserWarning: [W008] Evaluating Token.similarity based on empty vectors.\n",
      "  \"__main__\", mod_spec)\n"
     ]
    },
    {
     "name": "stdout",
     "output_type": "stream",
     "text": [
      "1113Hrs I 0.0\n"
     ]
    },
    {
     "name": "stderr",
     "output_type": "stream",
     "text": [
      "C:\\Users\\Sid\\Anaconda3\\lib\\runpy.py:193: UserWarning: [W008] Evaluating Token.similarity based on empty vectors.\n",
      "  \"__main__\", mod_spec)\n"
     ]
    },
    {
     "name": "stdout",
     "output_type": "stream",
     "text": [
      "1113Hrs / 0.0\n"
     ]
    },
    {
     "name": "stderr",
     "output_type": "stream",
     "text": [
      "C:\\Users\\Sid\\Anaconda3\\lib\\runpy.py:193: UserWarning: [W008] Evaluating Token.similarity based on empty vectors.\n",
      "  \"__main__\", mod_spec)\n"
     ]
    },
    {
     "name": "stdout",
     "output_type": "stream",
     "text": [
      "1113Hrs Kaki 0.0\n"
     ]
    },
    {
     "name": "stderr",
     "output_type": "stream",
     "text": [
      "C:\\Users\\Sid\\Anaconda3\\lib\\runpy.py:193: UserWarning: [W008] Evaluating Token.similarity based on empty vectors.\n",
      "  \"__main__\", mod_spec)\n"
     ]
    },
    {
     "name": "stdout",
     "output_type": "stream",
     "text": [
      "1113Hrs Bukit 0.0\n"
     ]
    },
    {
     "name": "stderr",
     "output_type": "stream",
     "text": [
      "C:\\Users\\Sid\\Anaconda3\\lib\\runpy.py:193: UserWarning: [W008] Evaluating Token.similarity based on empty vectors.\n",
      "  \"__main__\", mod_spec)\n"
     ]
    },
    {
     "name": "stdout",
     "output_type": "stream",
     "text": [
      "1113Hrs 66kV 0.0\n"
     ]
    },
    {
     "name": "stderr",
     "output_type": "stream",
     "text": [
      "C:\\Users\\Sid\\Anaconda3\\lib\\runpy.py:193: UserWarning: [W008] Evaluating Token.similarity based on empty vectors.\n",
      "  \"__main__\", mod_spec)\n"
     ]
    },
    {
     "name": "stdout",
     "output_type": "stream",
     "text": [
      "1113Hrs Feeder 0.0\n"
     ]
    },
    {
     "name": "stderr",
     "output_type": "stream",
     "text": [
      "C:\\Users\\Sid\\Anaconda3\\lib\\runpy.py:193: UserWarning: [W008] Evaluating Token.similarity based on empty vectors.\n",
      "  \"__main__\", mod_spec)\n"
     ]
    },
    {
     "name": "stdout",
     "output_type": "stream",
     "text": [
      "1113Hrs No 0.0\n"
     ]
    },
    {
     "name": "stderr",
     "output_type": "stream",
     "text": [
      "C:\\Users\\Sid\\Anaconda3\\lib\\runpy.py:193: UserWarning: [W008] Evaluating Token.similarity based on empty vectors.\n",
      "  \"__main__\", mod_spec)\n"
     ]
    },
    {
     "name": "stdout",
     "output_type": "stream",
     "text": [
      "1113Hrs . 0.0\n"
     ]
    },
    {
     "name": "stderr",
     "output_type": "stream",
     "text": [
      "C:\\Users\\Sid\\Anaconda3\\lib\\runpy.py:193: UserWarning: [W008] Evaluating Token.similarity based on empty vectors.\n",
      "  \"__main__\", mod_spec)\n"
     ]
    },
    {
     "name": "stdout",
     "output_type": "stream",
     "text": [
      "1113Hrs 1 0.0\n"
     ]
    },
    {
     "name": "stderr",
     "output_type": "stream",
     "text": [
      "C:\\Users\\Sid\\Anaconda3\\lib\\runpy.py:193: UserWarning: [W008] Evaluating Token.similarity based on empty vectors.\n",
      "  \"__main__\", mod_spec)\n"
     ]
    },
    {
     "name": "stdout",
     "output_type": "stream",
     "text": [
      "1113Hrs on 0.0\n"
     ]
    },
    {
     "name": "stderr",
     "output_type": "stream",
     "text": [
      "C:\\Users\\Sid\\Anaconda3\\lib\\runpy.py:193: UserWarning: [W008] Evaluating Token.similarity based on empty vectors.\n",
      "  \"__main__\", mod_spec)\n"
     ]
    },
    {
     "name": "stdout",
     "output_type": "stream",
     "text": [
      "1113Hrs 02 0.0\n"
     ]
    },
    {
     "name": "stderr",
     "output_type": "stream",
     "text": [
      "C:\\Users\\Sid\\Anaconda3\\lib\\runpy.py:193: UserWarning: [W008] Evaluating Token.similarity based on empty vectors.\n",
      "  \"__main__\", mod_spec)\n"
     ]
    },
    {
     "name": "stdout",
     "output_type": "stream",
     "text": [
      "1113Hrs Jan 0.0\n"
     ]
    },
    {
     "name": "stderr",
     "output_type": "stream",
     "text": [
      "C:\\Users\\Sid\\Anaconda3\\lib\\runpy.py:193: UserWarning: [W008] Evaluating Token.similarity based on empty vectors.\n",
      "  \"__main__\", mod_spec)\n"
     ]
    },
    {
     "name": "stdout",
     "output_type": "stream",
     "text": [
      "1113Hrs 2015 0.0\n"
     ]
    },
    {
     "name": "stderr",
     "output_type": "stream",
     "text": [
      "C:\\Users\\Sid\\Anaconda3\\lib\\runpy.py:193: UserWarning: [W008] Evaluating Token.similarity based on empty vectors.\n",
      "  \"__main__\", mod_spec)\n"
     ]
    },
    {
     "name": "stdout",
     "output_type": "stream",
     "text": [
      "1113Hrs at 0.0\n",
      "1113Hrs 1113Hrs 1.0\n"
     ]
    },
    {
     "name": "stderr",
     "output_type": "stream",
     "text": [
      "C:\\Users\\Sid\\Anaconda3\\lib\\runpy.py:193: UserWarning: [W008] Evaluating Token.similarity based on empty vectors.\n",
      "  \"__main__\", mod_spec)\n"
     ]
    },
    {
     "name": "stdout",
     "output_type": "stream",
     "text": [
      "1113Hrs was 0.0\n"
     ]
    },
    {
     "name": "stderr",
     "output_type": "stream",
     "text": [
      "C:\\Users\\Sid\\Anaconda3\\lib\\runpy.py:193: UserWarning: [W008] Evaluating Token.similarity based on empty vectors.\n",
      "  \"__main__\", mod_spec)\n"
     ]
    },
    {
     "name": "stdout",
     "output_type": "stream",
     "text": [
      "1113Hrs without 0.0\n"
     ]
    },
    {
     "name": "stderr",
     "output_type": "stream",
     "text": [
      "C:\\Users\\Sid\\Anaconda3\\lib\\runpy.py:193: UserWarning: [W008] Evaluating Token.similarity based on empty vectors.\n",
      "  \"__main__\", mod_spec)\n"
     ]
    },
    {
     "name": "stdout",
     "output_type": "stream",
     "text": [
      "1113Hrs Final 0.0\n"
     ]
    },
    {
     "name": "stderr",
     "output_type": "stream",
     "text": [
      "C:\\Users\\Sid\\Anaconda3\\lib\\runpy.py:193: UserWarning: [W008] Evaluating Token.similarity based on empty vectors.\n",
      "  \"__main__\", mod_spec)\n"
     ]
    },
    {
     "name": "stdout",
     "output_type": "stream",
     "text": [
      "1113Hrs Approval 0.0\n"
     ]
    },
    {
     "name": "stderr",
     "output_type": "stream",
     "text": [
      "C:\\Users\\Sid\\Anaconda3\\lib\\runpy.py:193: UserWarning: [W008] Evaluating Token.similarity based on empty vectors.\n",
      "  \"__main__\", mod_spec)\n"
     ]
    },
    {
     "name": "stdout",
     "output_type": "stream",
     "text": [
      "1113Hrs / 0.0\n"
     ]
    },
    {
     "name": "stderr",
     "output_type": "stream",
     "text": [
      "C:\\Users\\Sid\\Anaconda3\\lib\\runpy.py:193: UserWarning: [W008] Evaluating Token.similarity based on empty vectors.\n",
      "  \"__main__\", mod_spec)\n"
     ]
    },
    {
     "name": "stdout",
     "output_type": "stream",
     "text": [
      "1113Hrs Consent.(The 0.0\n"
     ]
    },
    {
     "name": "stderr",
     "output_type": "stream",
     "text": [
      "C:\\Users\\Sid\\Anaconda3\\lib\\runpy.py:193: UserWarning: [W008] Evaluating Token.similarity based on empty vectors.\n",
      "  \"__main__\", mod_spec)\n"
     ]
    },
    {
     "name": "stdout",
     "output_type": "stream",
     "text": [
      "1113Hrs relevant 0.0\n"
     ]
    },
    {
     "name": "stderr",
     "output_type": "stream",
     "text": [
      "C:\\Users\\Sid\\Anaconda3\\lib\\runpy.py:193: UserWarning: [W008] Evaluating Token.similarity based on empty vectors.\n",
      "  \"__main__\", mod_spec)\n"
     ]
    },
    {
     "name": "stdout",
     "output_type": "stream",
     "text": [
      "1113Hrs Market 0.0\n"
     ]
    },
    {
     "name": "stderr",
     "output_type": "stream",
     "text": [
      "C:\\Users\\Sid\\Anaconda3\\lib\\runpy.py:193: UserWarning: [W008] Evaluating Token.similarity based on empty vectors.\n",
      "  \"__main__\", mod_spec)\n"
     ]
    },
    {
     "name": "stdout",
     "output_type": "stream",
     "text": [
      "1113Hrs Participant 0.0\n"
     ]
    },
    {
     "name": "stderr",
     "output_type": "stream",
     "text": [
      "C:\\Users\\Sid\\Anaconda3\\lib\\runpy.py:193: UserWarning: [W008] Evaluating Token.similarity based on empty vectors.\n",
      "  \"__main__\", mod_spec)\n"
     ]
    },
    {
     "name": "stdout",
     "output_type": "stream",
     "text": [
      "1113Hrs to 0.0\n"
     ]
    },
    {
     "name": "stderr",
     "output_type": "stream",
     "text": [
      "C:\\Users\\Sid\\Anaconda3\\lib\\runpy.py:193: UserWarning: [W008] Evaluating Token.similarity based on empty vectors.\n",
      "  \"__main__\", mod_spec)\n"
     ]
    },
    {
     "name": "stdout",
     "output_type": "stream",
     "text": [
      "1113Hrs submit 0.0\n"
     ]
    },
    {
     "name": "stderr",
     "output_type": "stream",
     "text": [
      "C:\\Users\\Sid\\Anaconda3\\lib\\runpy.py:193: UserWarning: [W008] Evaluating Token.similarity based on empty vectors.\n",
      "  \"__main__\", mod_spec)\n"
     ]
    },
    {
     "name": "stdout",
     "output_type": "stream",
     "text": [
      "1113Hrs a 0.0\n"
     ]
    },
    {
     "name": "stderr",
     "output_type": "stream",
     "text": [
      "C:\\Users\\Sid\\Anaconda3\\lib\\runpy.py:193: UserWarning: [W008] Evaluating Token.similarity based on empty vectors.\n",
      "  \"__main__\", mod_spec)\n"
     ]
    },
    {
     "name": "stdout",
     "output_type": "stream",
     "text": [
      "1113Hrs preliminary 0.0\n"
     ]
    },
    {
     "name": "stderr",
     "output_type": "stream",
     "text": [
      "C:\\Users\\Sid\\Anaconda3\\lib\\runpy.py:193: UserWarning: [W008] Evaluating Token.similarity based on empty vectors.\n",
      "  \"__main__\", mod_spec)\n"
     ]
    },
    {
     "name": "stdout",
     "output_type": "stream",
     "text": [
      "1113Hrs report 0.0\n"
     ]
    },
    {
     "name": "stderr",
     "output_type": "stream",
     "text": [
      "C:\\Users\\Sid\\Anaconda3\\lib\\runpy.py:193: UserWarning: [W008] Evaluating Token.similarity based on empty vectors.\n",
      "  \"__main__\", mod_spec)\n"
     ]
    },
    {
     "name": "stdout",
     "output_type": "stream",
     "text": [
      "1113Hrs within 0.0\n"
     ]
    },
    {
     "name": "stderr",
     "output_type": "stream",
     "text": [
      "C:\\Users\\Sid\\Anaconda3\\lib\\runpy.py:193: UserWarning: [W008] Evaluating Token.similarity based on empty vectors.\n",
      "  \"__main__\", mod_spec)\n"
     ]
    },
    {
     "name": "stdout",
     "output_type": "stream",
     "text": [
      "1113Hrs 24hours 0.0\n"
     ]
    },
    {
     "name": "stderr",
     "output_type": "stream",
     "text": [
      "C:\\Users\\Sid\\Anaconda3\\lib\\runpy.py:193: UserWarning: [W008] Evaluating Token.similarity based on empty vectors.\n",
      "  \"__main__\", mod_spec)\n"
     ]
    },
    {
     "name": "stdout",
     "output_type": "stream",
     "text": [
      "1113Hrs & 0.0\n"
     ]
    },
    {
     "name": "stderr",
     "output_type": "stream",
     "text": [
      "C:\\Users\\Sid\\Anaconda3\\lib\\runpy.py:193: UserWarning: [W008] Evaluating Token.similarity based on empty vectors.\n",
      "  \"__main__\", mod_spec)\n"
     ]
    },
    {
     "name": "stdout",
     "output_type": "stream",
     "text": [
      "1113Hrs a 0.0\n"
     ]
    },
    {
     "name": "stderr",
     "output_type": "stream",
     "text": [
      "C:\\Users\\Sid\\Anaconda3\\lib\\runpy.py:193: UserWarning: [W008] Evaluating Token.similarity based on empty vectors.\n",
      "  \"__main__\", mod_spec)\n"
     ]
    },
    {
     "name": "stdout",
     "output_type": "stream",
     "text": [
      "1113Hrs detailed 0.0\n"
     ]
    },
    {
     "name": "stderr",
     "output_type": "stream",
     "text": [
      "C:\\Users\\Sid\\Anaconda3\\lib\\runpy.py:193: UserWarning: [W008] Evaluating Token.similarity based on empty vectors.\n",
      "  \"__main__\", mod_spec)\n"
     ]
    },
    {
     "name": "stdout",
     "output_type": "stream",
     "text": [
      "1113Hrs report 0.0\n"
     ]
    },
    {
     "name": "stderr",
     "output_type": "stream",
     "text": [
      "C:\\Users\\Sid\\Anaconda3\\lib\\runpy.py:193: UserWarning: [W008] Evaluating Token.similarity based on empty vectors.\n",
      "  \"__main__\", mod_spec)\n"
     ]
    },
    {
     "name": "stdout",
     "output_type": "stream",
     "text": [
      "1113Hrs within 0.0\n"
     ]
    },
    {
     "name": "stderr",
     "output_type": "stream",
     "text": [
      "C:\\Users\\Sid\\Anaconda3\\lib\\runpy.py:193: UserWarning: [W008] Evaluating Token.similarity based on empty vectors.\n",
      "  \"__main__\", mod_spec)\n"
     ]
    },
    {
     "name": "stdout",
     "output_type": "stream",
     "text": [
      "1113Hrs 1 0.0\n"
     ]
    },
    {
     "name": "stderr",
     "output_type": "stream",
     "text": [
      "C:\\Users\\Sid\\Anaconda3\\lib\\runpy.py:193: UserWarning: [W008] Evaluating Token.similarity based on empty vectors.\n",
      "  \"__main__\", mod_spec)\n"
     ]
    },
    {
     "name": "stdout",
     "output_type": "stream",
     "text": [
      "1113Hrs week 0.0\n"
     ]
    },
    {
     "name": "stderr",
     "output_type": "stream",
     "text": [
      "C:\\Users\\Sid\\Anaconda3\\lib\\runpy.py:193: UserWarning: [W008] Evaluating Token.similarity based on empty vectors.\n",
      "  \"__main__\", mod_spec)\n"
     ]
    },
    {
     "name": "stdout",
     "output_type": "stream",
     "text": [
      "1113Hrs of 0.0\n"
     ]
    },
    {
     "name": "stderr",
     "output_type": "stream",
     "text": [
      "C:\\Users\\Sid\\Anaconda3\\lib\\runpy.py:193: UserWarning: [W008] Evaluating Token.similarity based on empty vectors.\n",
      "  \"__main__\", mod_spec)\n"
     ]
    },
    {
     "name": "stdout",
     "output_type": "stream",
     "text": [
      "1113Hrs this 0.0\n"
     ]
    },
    {
     "name": "stderr",
     "output_type": "stream",
     "text": [
      "C:\\Users\\Sid\\Anaconda3\\lib\\runpy.py:193: UserWarning: [W008] Evaluating Token.similarity based on empty vectors.\n",
      "  \"__main__\", mod_spec)\n"
     ]
    },
    {
     "name": "stdout",
     "output_type": "stream",
     "text": [
      "1113Hrs notice 0.0\n"
     ]
    },
    {
     "name": "stderr",
     "output_type": "stream",
     "text": [
      "C:\\Users\\Sid\\Anaconda3\\lib\\runpy.py:193: UserWarning: [W008] Evaluating Token.similarity based on empty vectors.\n",
      "  \"__main__\", mod_spec)\n"
     ]
    },
    {
     "name": "stdout",
     "output_type": "stream",
     "text": [
      "1113Hrs . 0.0\n"
     ]
    },
    {
     "name": "stderr",
     "output_type": "stream",
     "text": [
      "C:\\Users\\Sid\\Anaconda3\\lib\\runpy.py:193: UserWarning: [W008] Evaluating Token.similarity based on empty vectors.\n",
      "  \"__main__\", mod_spec)\n"
     ]
    },
    {
     "name": "stdout",
     "output_type": "stream",
     "text": [
      "1113Hrs ) 0.0\n",
      "was Outage 0.16000126\n",
      "was of 0.43483952\n",
      "was Paya -0.10982558\n"
     ]
    },
    {
     "name": "stderr",
     "output_type": "stream",
     "text": [
      "C:\\Users\\Sid\\Anaconda3\\lib\\runpy.py:193: UserWarning: [W008] Evaluating Token.similarity based on empty vectors.\n",
      "  \"__main__\", mod_spec)\n"
     ]
    },
    {
     "name": "stdout",
     "output_type": "stream",
     "text": [
      "was Lebar 0.0\n",
      "was I 0.44471362\n",
      "was / 0.03608006\n",
      "was Kaki -0.040734224\n",
      "was Bukit -0.009330226\n"
     ]
    },
    {
     "name": "stderr",
     "output_type": "stream",
     "text": [
      "C:\\Users\\Sid\\Anaconda3\\lib\\runpy.py:193: UserWarning: [W008] Evaluating Token.similarity based on empty vectors.\n",
      "  \"__main__\", mod_spec)\n"
     ]
    },
    {
     "name": "stdout",
     "output_type": "stream",
     "text": [
      "was 66kV 0.0\n",
      "was Feeder 0.083581775\n",
      "was No 0.42635208\n",
      "was . 0.38910556\n",
      "was 1 0.13218753\n",
      "was on 0.35307482\n",
      "was 02 0.04775495\n",
      "was Jan 0.09442873\n",
      "was 2015 0.0077124834\n",
      "was at 0.37314582\n"
     ]
    },
    {
     "name": "stderr",
     "output_type": "stream",
     "text": [
      "C:\\Users\\Sid\\Anaconda3\\lib\\runpy.py:193: UserWarning: [W008] Evaluating Token.similarity based on empty vectors.\n",
      "  \"__main__\", mod_spec)\n"
     ]
    },
    {
     "name": "stdout",
     "output_type": "stream",
     "text": [
      "was 1113Hrs 0.0\n",
      "was was 1.0\n",
      "was without 0.41895676\n",
      "was Final 0.38751882\n",
      "was Approval 0.2801919\n",
      "was / 0.03608006\n"
     ]
    },
    {
     "name": "stderr",
     "output_type": "stream",
     "text": [
      "C:\\Users\\Sid\\Anaconda3\\lib\\runpy.py:193: UserWarning: [W008] Evaluating Token.similarity based on empty vectors.\n",
      "  \"__main__\", mod_spec)\n"
     ]
    },
    {
     "name": "stdout",
     "output_type": "stream",
     "text": [
      "was Consent.(The 0.0\n",
      "was relevant 0.2194787\n",
      "was Market 0.27425578\n",
      "was Participant 0.24161004\n",
      "was to 0.35836205\n",
      "was submit 0.15264072\n",
      "was a 0.52676684\n",
      "was preliminary 0.2961415\n",
      "was report 0.37776133\n",
      "was within 0.2847142\n",
      "was 24hours -0.020972168\n",
      "was & 0.08543685\n",
      "was a 0.52676684\n",
      "was detailed 0.21211655\n",
      "was report 0.37776133\n",
      "was within 0.2847142\n",
      "was 1 0.13218753\n",
      "was week 0.4798926\n",
      "was of 0.43483952\n",
      "was this 0.50793546\n",
      "was notice 0.40008837\n",
      "was . 0.38910556\n",
      "was ) 0.1591337\n",
      "without Outage 0.15129542\n",
      "without of 0.44791552\n",
      "without Paya -0.14948024\n"
     ]
    },
    {
     "name": "stderr",
     "output_type": "stream",
     "text": [
      "C:\\Users\\Sid\\Anaconda3\\lib\\runpy.py:193: UserWarning: [W008] Evaluating Token.similarity based on empty vectors.\n",
      "  \"__main__\", mod_spec)\n"
     ]
    },
    {
     "name": "stdout",
     "output_type": "stream",
     "text": [
      "without Lebar 0.0\n",
      "without I 0.35829425\n",
      "without / 0.11368058\n",
      "without Kaki -0.07553597\n",
      "without Bukit -0.10368837\n"
     ]
    },
    {
     "name": "stderr",
     "output_type": "stream",
     "text": [
      "C:\\Users\\Sid\\Anaconda3\\lib\\runpy.py:193: UserWarning: [W008] Evaluating Token.similarity based on empty vectors.\n",
      "  \"__main__\", mod_spec)\n"
     ]
    },
    {
     "name": "stdout",
     "output_type": "stream",
     "text": [
      "without 66kV 0.0\n",
      "without Feeder 0.15159288\n",
      "without No 0.7306508\n",
      "without . 0.43714267\n",
      "without 1 0.09262657\n",
      "without on 0.4508556\n",
      "without 02 -0.031968504\n",
      "without Jan 0.08430064\n",
      "without 2015 0.08535611\n",
      "without at 0.28351507\n"
     ]
    },
    {
     "name": "stderr",
     "output_type": "stream",
     "text": [
      "C:\\Users\\Sid\\Anaconda3\\lib\\runpy.py:193: UserWarning: [W008] Evaluating Token.similarity based on empty vectors.\n",
      "  \"__main__\", mod_spec)\n"
     ]
    },
    {
     "name": "stdout",
     "output_type": "stream",
     "text": [
      "without 1113Hrs 0.0\n",
      "without was 0.41895676\n",
      "without without 1.0\n",
      "without Final 0.39173844\n",
      "without Approval 0.40981477\n",
      "without / 0.11368058\n"
     ]
    },
    {
     "name": "stderr",
     "output_type": "stream",
     "text": [
      "C:\\Users\\Sid\\Anaconda3\\lib\\runpy.py:193: UserWarning: [W008] Evaluating Token.similarity based on empty vectors.\n",
      "  \"__main__\", mod_spec)\n"
     ]
    },
    {
     "name": "stdout",
     "output_type": "stream",
     "text": [
      "without Consent.(The 0.0\n",
      "without relevant 0.39966416\n",
      "without Market 0.32236725\n",
      "without Participant 0.23896146\n",
      "without to 0.50233155\n",
      "without submit 0.3544366\n",
      "without a 0.45670414\n",
      "without preliminary 0.27596498\n",
      "without report 0.28715846\n",
      "without within 0.45092273\n",
      "without 24hours 0.10378464\n",
      "without & 0.08467564\n",
      "without a 0.45670414\n",
      "without detailed 0.31145793\n",
      "without report 0.28715846\n",
      "without within 0.45092273\n",
      "without 1 0.09262657\n",
      "without week 0.29443443\n",
      "without of 0.44791552\n",
      "without this 0.5270851\n",
      "without notice 0.5396194\n",
      "without . 0.43714267\n",
      "without ) 0.18338434\n",
      "Final Outage 0.11896275\n",
      "Final of 0.33789214\n",
      "Final Paya -0.10097208\n"
     ]
    },
    {
     "name": "stderr",
     "output_type": "stream",
     "text": [
      "C:\\Users\\Sid\\Anaconda3\\lib\\runpy.py:193: UserWarning: [W008] Evaluating Token.similarity based on empty vectors.\n",
      "  \"__main__\", mod_spec)\n"
     ]
    },
    {
     "name": "stdout",
     "output_type": "stream",
     "text": [
      "Final Lebar 0.0\n",
      "Final I 0.257556\n",
      "Final / 0.047410782\n",
      "Final Kaki -0.10765442\n",
      "Final Bukit -0.002837862\n"
     ]
    },
    {
     "name": "stderr",
     "output_type": "stream",
     "text": [
      "C:\\Users\\Sid\\Anaconda3\\lib\\runpy.py:193: UserWarning: [W008] Evaluating Token.similarity based on empty vectors.\n",
      "  \"__main__\", mod_spec)\n"
     ]
    },
    {
     "name": "stdout",
     "output_type": "stream",
     "text": [
      "Final 66kV 0.0\n",
      "Final Feeder 0.06679048\n",
      "Final No 0.42466703\n",
      "Final . 0.25159624\n",
      "Final 1 0.20823985\n",
      "Final on 0.25062418\n",
      "Final 02 0.066918716\n",
      "Final Jan 0.059790246\n",
      "Final 2015 0.23615083\n",
      "Final at 0.24601242\n"
     ]
    },
    {
     "name": "stderr",
     "output_type": "stream",
     "text": [
      "C:\\Users\\Sid\\Anaconda3\\lib\\runpy.py:193: UserWarning: [W008] Evaluating Token.similarity based on empty vectors.\n",
      "  \"__main__\", mod_spec)\n"
     ]
    },
    {
     "name": "stdout",
     "output_type": "stream",
     "text": [
      "Final 1113Hrs 0.0\n",
      "Final was 0.38751882\n",
      "Final without 0.39173844\n",
      "Final Final 1.0\n",
      "Final Approval 0.40869305\n",
      "Final / 0.047410782\n"
     ]
    },
    {
     "name": "stderr",
     "output_type": "stream",
     "text": [
      "C:\\Users\\Sid\\Anaconda3\\lib\\runpy.py:193: UserWarning: [W008] Evaluating Token.similarity based on empty vectors.\n",
      "  \"__main__\", mod_spec)\n"
     ]
    },
    {
     "name": "stdout",
     "output_type": "stream",
     "text": [
      "Final Consent.(The 0.0\n",
      "Final relevant 0.29412973\n",
      "Final Market 0.20736143\n",
      "Final Participant 0.35249498\n",
      "Final to 0.3518261\n",
      "Final submit 0.3763596\n",
      "Final a 0.43445694\n",
      "Final preliminary 0.6013817\n",
      "Final report 0.38749132\n",
      "Final within 0.33327648\n",
      "Final 24hours -0.0030478458\n",
      "Final & 0.01425337\n",
      "Final a 0.43445694\n",
      "Final detailed 0.3435362\n",
      "Final report 0.38749132\n",
      "Final within 0.33327648\n",
      "Final 1 0.20823985\n",
      "Final week 0.46077707\n",
      "Final of 0.33789214\n",
      "Final this 0.44002488\n",
      "Final notice 0.35479483\n",
      "Final . 0.25159624\n",
      "Final ) 0.16116618\n",
      "Approval Outage 0.13899021\n",
      "Approval of 0.3168003\n",
      "Approval Paya -0.0671355\n"
     ]
    },
    {
     "name": "stderr",
     "output_type": "stream",
     "text": [
      "C:\\Users\\Sid\\Anaconda3\\lib\\runpy.py:193: UserWarning: [W008] Evaluating Token.similarity based on empty vectors.\n",
      "  \"__main__\", mod_spec)\n"
     ]
    },
    {
     "name": "stdout",
     "output_type": "stream",
     "text": [
      "Approval Lebar 0.0\n",
      "Approval I 0.16336903\n",
      "Approval / 0.108783305\n",
      "Approval Kaki -0.15994555\n",
      "Approval Bukit -0.03849058\n"
     ]
    },
    {
     "name": "stderr",
     "output_type": "stream",
     "text": [
      "C:\\Users\\Sid\\Anaconda3\\lib\\runpy.py:193: UserWarning: [W008] Evaluating Token.similarity based on empty vectors.\n",
      "  \"__main__\", mod_spec)\n"
     ]
    },
    {
     "name": "stdout",
     "output_type": "stream",
     "text": [
      "Approval 66kV 0.0\n",
      "Approval Feeder 0.07337231\n",
      "Approval No 0.37329447\n",
      "Approval . 0.26995304\n",
      "Approval 1 0.09570196\n",
      "Approval on 0.23251536\n",
      "Approval 02 -0.013172289\n",
      "Approval Jan 0.08491443\n",
      "Approval 2015 0.1758934\n",
      "Approval at 0.17775816\n"
     ]
    },
    {
     "name": "stderr",
     "output_type": "stream",
     "text": [
      "C:\\Users\\Sid\\Anaconda3\\lib\\runpy.py:193: UserWarning: [W008] Evaluating Token.similarity based on empty vectors.\n",
      "  \"__main__\", mod_spec)\n"
     ]
    },
    {
     "name": "stdout",
     "output_type": "stream",
     "text": [
      "Approval 1113Hrs 0.0\n",
      "Approval was 0.2801919\n",
      "Approval without 0.40981477\n",
      "Approval Final 0.40869305\n",
      "Approval Approval 1.0\n",
      "Approval / 0.108783305\n"
     ]
    },
    {
     "name": "stderr",
     "output_type": "stream",
     "text": [
      "C:\\Users\\Sid\\Anaconda3\\lib\\runpy.py:193: UserWarning: [W008] Evaluating Token.similarity based on empty vectors.\n",
      "  \"__main__\", mod_spec)\n"
     ]
    },
    {
     "name": "stdout",
     "output_type": "stream",
     "text": [
      "Approval Consent.(The 0.0\n",
      "Approval relevant 0.3877072\n",
      "Approval Market 0.29041535\n",
      "Approval Participant 0.29615113\n",
      "Approval to 0.36072877\n",
      "Approval submit 0.50200266\n",
      "Approval a 0.26914692\n",
      "Approval preliminary 0.5165758\n",
      "Approval report 0.4100455\n",
      "Approval within 0.35406303\n",
      "Approval 24hours 0.061300557\n",
      "Approval & -0.019598553\n",
      "Approval a 0.26914692\n",
      "Approval detailed 0.29055768\n",
      "Approval report 0.4100455\n",
      "Approval within 0.35406303\n",
      "Approval 1 0.09570196\n",
      "Approval week 0.26323318\n",
      "Approval of 0.3168003\n",
      "Approval this 0.31040883\n",
      "Approval notice 0.5110701\n",
      "Approval . 0.26995304\n",
      "Approval ) 0.16451322\n",
      "/ Outage -0.08074525\n",
      "/ of 0.11303724\n",
      "/ Paya -0.19576041\n"
     ]
    },
    {
     "name": "stderr",
     "output_type": "stream",
     "text": [
      "C:\\Users\\Sid\\Anaconda3\\lib\\runpy.py:193: UserWarning: [W008] Evaluating Token.similarity based on empty vectors.\n",
      "  \"__main__\", mod_spec)\n"
     ]
    },
    {
     "name": "stdout",
     "output_type": "stream",
     "text": [
      "/ Lebar 0.0\n",
      "/ I 0.10141526\n",
      "/ / 1.0\n",
      "/ Kaki -0.116229944\n",
      "/ Bukit -0.12165931\n"
     ]
    },
    {
     "name": "stderr",
     "output_type": "stream",
     "text": [
      "C:\\Users\\Sid\\Anaconda3\\lib\\runpy.py:193: UserWarning: [W008] Evaluating Token.similarity based on empty vectors.\n",
      "  \"__main__\", mod_spec)\n"
     ]
    },
    {
     "name": "stdout",
     "output_type": "stream",
     "text": [
      "/ 66kV 0.0\n",
      "/ Feeder -0.007951095\n",
      "/ No 0.10011948\n",
      "/ . 0.30296203\n",
      "/ 1 0.3307608\n",
      "/ on 0.107599184\n",
      "/ 02 0.30998453\n",
      "/ Jan 0.06676969\n",
      "/ 2015 0.03108653\n",
      "/ at 0.14789088\n"
     ]
    },
    {
     "name": "stderr",
     "output_type": "stream",
     "text": [
      "C:\\Users\\Sid\\Anaconda3\\lib\\runpy.py:193: UserWarning: [W008] Evaluating Token.similarity based on empty vectors.\n",
      "  \"__main__\", mod_spec)\n"
     ]
    },
    {
     "name": "stdout",
     "output_type": "stream",
     "text": [
      "/ 1113Hrs 0.0\n",
      "/ was 0.03608006\n",
      "/ without 0.11368058\n",
      "/ Final 0.047410782\n",
      "/ Approval 0.108783305\n",
      "/ / 1.0\n"
     ]
    },
    {
     "name": "stderr",
     "output_type": "stream",
     "text": [
      "C:\\Users\\Sid\\Anaconda3\\lib\\runpy.py:193: UserWarning: [W008] Evaluating Token.similarity based on empty vectors.\n",
      "  \"__main__\", mod_spec)\n"
     ]
    },
    {
     "name": "stdout",
     "output_type": "stream",
     "text": [
      "/ Consent.(The 0.0\n",
      "/ relevant 0.034148246\n",
      "/ Market 0.06513298\n",
      "/ Participant -0.07978954\n",
      "/ to 0.1389264\n",
      "/ submit 0.05938015\n",
      "/ a 0.08062348\n",
      "/ preliminary -0.068473175\n",
      "/ report 0.08847272\n",
      "/ within 0.07031502\n",
      "/ 24hours -0.07559304\n",
      "/ & 0.42578092\n",
      "/ a 0.08062348\n",
      "/ detailed 0.0060124556\n",
      "/ report 0.08847272\n",
      "/ within 0.07031502\n",
      "/ 1 0.3307608\n",
      "/ week 0.14223774\n",
      "/ of 0.11303724\n",
      "/ this 0.084899634\n",
      "/ notice 0.042418737\n",
      "/ . 0.30296203\n",
      "/ ) 0.3606067\n"
     ]
    },
    {
     "name": "stderr",
     "output_type": "stream",
     "text": [
      "C:\\Users\\Sid\\Anaconda3\\lib\\runpy.py:193: UserWarning: [W008] Evaluating Token.similarity based on empty vectors.\n",
      "  \"__main__\", mod_spec)\n"
     ]
    },
    {
     "name": "stdout",
     "output_type": "stream",
     "text": [
      "Consent.(The Outage 0.0\n"
     ]
    },
    {
     "name": "stderr",
     "output_type": "stream",
     "text": [
      "C:\\Users\\Sid\\Anaconda3\\lib\\runpy.py:193: UserWarning: [W008] Evaluating Token.similarity based on empty vectors.\n",
      "  \"__main__\", mod_spec)\n"
     ]
    },
    {
     "name": "stdout",
     "output_type": "stream",
     "text": [
      "Consent.(The of 0.0\n"
     ]
    },
    {
     "name": "stderr",
     "output_type": "stream",
     "text": [
      "C:\\Users\\Sid\\Anaconda3\\lib\\runpy.py:193: UserWarning: [W008] Evaluating Token.similarity based on empty vectors.\n",
      "  \"__main__\", mod_spec)\n"
     ]
    },
    {
     "name": "stdout",
     "output_type": "stream",
     "text": [
      "Consent.(The Paya 0.0\n"
     ]
    },
    {
     "name": "stderr",
     "output_type": "stream",
     "text": [
      "C:\\Users\\Sid\\Anaconda3\\lib\\runpy.py:193: UserWarning: [W008] Evaluating Token.similarity based on empty vectors.\n",
      "  \"__main__\", mod_spec)\n"
     ]
    },
    {
     "name": "stdout",
     "output_type": "stream",
     "text": [
      "Consent.(The Lebar 0.0\n"
     ]
    },
    {
     "name": "stderr",
     "output_type": "stream",
     "text": [
      "C:\\Users\\Sid\\Anaconda3\\lib\\runpy.py:193: UserWarning: [W008] Evaluating Token.similarity based on empty vectors.\n",
      "  \"__main__\", mod_spec)\n"
     ]
    },
    {
     "name": "stdout",
     "output_type": "stream",
     "text": [
      "Consent.(The I 0.0\n"
     ]
    },
    {
     "name": "stderr",
     "output_type": "stream",
     "text": [
      "C:\\Users\\Sid\\Anaconda3\\lib\\runpy.py:193: UserWarning: [W008] Evaluating Token.similarity based on empty vectors.\n",
      "  \"__main__\", mod_spec)\n"
     ]
    },
    {
     "name": "stdout",
     "output_type": "stream",
     "text": [
      "Consent.(The / 0.0\n"
     ]
    },
    {
     "name": "stderr",
     "output_type": "stream",
     "text": [
      "C:\\Users\\Sid\\Anaconda3\\lib\\runpy.py:193: UserWarning: [W008] Evaluating Token.similarity based on empty vectors.\n",
      "  \"__main__\", mod_spec)\n"
     ]
    },
    {
     "name": "stdout",
     "output_type": "stream",
     "text": [
      "Consent.(The Kaki 0.0\n"
     ]
    },
    {
     "name": "stderr",
     "output_type": "stream",
     "text": [
      "C:\\Users\\Sid\\Anaconda3\\lib\\runpy.py:193: UserWarning: [W008] Evaluating Token.similarity based on empty vectors.\n",
      "  \"__main__\", mod_spec)\n"
     ]
    },
    {
     "name": "stdout",
     "output_type": "stream",
     "text": [
      "Consent.(The Bukit 0.0\n"
     ]
    },
    {
     "name": "stderr",
     "output_type": "stream",
     "text": [
      "C:\\Users\\Sid\\Anaconda3\\lib\\runpy.py:193: UserWarning: [W008] Evaluating Token.similarity based on empty vectors.\n",
      "  \"__main__\", mod_spec)\n"
     ]
    },
    {
     "name": "stdout",
     "output_type": "stream",
     "text": [
      "Consent.(The 66kV 0.0\n"
     ]
    },
    {
     "name": "stderr",
     "output_type": "stream",
     "text": [
      "C:\\Users\\Sid\\Anaconda3\\lib\\runpy.py:193: UserWarning: [W008] Evaluating Token.similarity based on empty vectors.\n",
      "  \"__main__\", mod_spec)\n"
     ]
    },
    {
     "name": "stdout",
     "output_type": "stream",
     "text": [
      "Consent.(The Feeder 0.0\n"
     ]
    },
    {
     "name": "stderr",
     "output_type": "stream",
     "text": [
      "C:\\Users\\Sid\\Anaconda3\\lib\\runpy.py:193: UserWarning: [W008] Evaluating Token.similarity based on empty vectors.\n",
      "  \"__main__\", mod_spec)\n"
     ]
    },
    {
     "name": "stdout",
     "output_type": "stream",
     "text": [
      "Consent.(The No 0.0\n"
     ]
    },
    {
     "name": "stderr",
     "output_type": "stream",
     "text": [
      "C:\\Users\\Sid\\Anaconda3\\lib\\runpy.py:193: UserWarning: [W008] Evaluating Token.similarity based on empty vectors.\n",
      "  \"__main__\", mod_spec)\n"
     ]
    },
    {
     "name": "stdout",
     "output_type": "stream",
     "text": [
      "Consent.(The . 0.0\n"
     ]
    },
    {
     "name": "stderr",
     "output_type": "stream",
     "text": [
      "C:\\Users\\Sid\\Anaconda3\\lib\\runpy.py:193: UserWarning: [W008] Evaluating Token.similarity based on empty vectors.\n",
      "  \"__main__\", mod_spec)\n"
     ]
    },
    {
     "name": "stdout",
     "output_type": "stream",
     "text": [
      "Consent.(The 1 0.0\n"
     ]
    },
    {
     "name": "stderr",
     "output_type": "stream",
     "text": [
      "C:\\Users\\Sid\\Anaconda3\\lib\\runpy.py:193: UserWarning: [W008] Evaluating Token.similarity based on empty vectors.\n",
      "  \"__main__\", mod_spec)\n"
     ]
    },
    {
     "name": "stdout",
     "output_type": "stream",
     "text": [
      "Consent.(The on 0.0\n"
     ]
    },
    {
     "name": "stderr",
     "output_type": "stream",
     "text": [
      "C:\\Users\\Sid\\Anaconda3\\lib\\runpy.py:193: UserWarning: [W008] Evaluating Token.similarity based on empty vectors.\n",
      "  \"__main__\", mod_spec)\n"
     ]
    },
    {
     "name": "stdout",
     "output_type": "stream",
     "text": [
      "Consent.(The 02 0.0\n"
     ]
    },
    {
     "name": "stderr",
     "output_type": "stream",
     "text": [
      "C:\\Users\\Sid\\Anaconda3\\lib\\runpy.py:193: UserWarning: [W008] Evaluating Token.similarity based on empty vectors.\n",
      "  \"__main__\", mod_spec)\n"
     ]
    },
    {
     "name": "stdout",
     "output_type": "stream",
     "text": [
      "Consent.(The Jan 0.0\n"
     ]
    },
    {
     "name": "stderr",
     "output_type": "stream",
     "text": [
      "C:\\Users\\Sid\\Anaconda3\\lib\\runpy.py:193: UserWarning: [W008] Evaluating Token.similarity based on empty vectors.\n",
      "  \"__main__\", mod_spec)\n"
     ]
    },
    {
     "name": "stdout",
     "output_type": "stream",
     "text": [
      "Consent.(The 2015 0.0\n"
     ]
    },
    {
     "name": "stderr",
     "output_type": "stream",
     "text": [
      "C:\\Users\\Sid\\Anaconda3\\lib\\runpy.py:193: UserWarning: [W008] Evaluating Token.similarity based on empty vectors.\n",
      "  \"__main__\", mod_spec)\n"
     ]
    },
    {
     "name": "stdout",
     "output_type": "stream",
     "text": [
      "Consent.(The at 0.0\n"
     ]
    },
    {
     "name": "stderr",
     "output_type": "stream",
     "text": [
      "C:\\Users\\Sid\\Anaconda3\\lib\\runpy.py:193: UserWarning: [W008] Evaluating Token.similarity based on empty vectors.\n",
      "  \"__main__\", mod_spec)\n"
     ]
    },
    {
     "name": "stdout",
     "output_type": "stream",
     "text": [
      "Consent.(The 1113Hrs 0.0\n"
     ]
    },
    {
     "name": "stderr",
     "output_type": "stream",
     "text": [
      "C:\\Users\\Sid\\Anaconda3\\lib\\runpy.py:193: UserWarning: [W008] Evaluating Token.similarity based on empty vectors.\n",
      "  \"__main__\", mod_spec)\n"
     ]
    },
    {
     "name": "stdout",
     "output_type": "stream",
     "text": [
      "Consent.(The was 0.0\n"
     ]
    },
    {
     "name": "stderr",
     "output_type": "stream",
     "text": [
      "C:\\Users\\Sid\\Anaconda3\\lib\\runpy.py:193: UserWarning: [W008] Evaluating Token.similarity based on empty vectors.\n",
      "  \"__main__\", mod_spec)\n"
     ]
    },
    {
     "name": "stdout",
     "output_type": "stream",
     "text": [
      "Consent.(The without 0.0\n"
     ]
    },
    {
     "name": "stderr",
     "output_type": "stream",
     "text": [
      "C:\\Users\\Sid\\Anaconda3\\lib\\runpy.py:193: UserWarning: [W008] Evaluating Token.similarity based on empty vectors.\n",
      "  \"__main__\", mod_spec)\n"
     ]
    },
    {
     "name": "stdout",
     "output_type": "stream",
     "text": [
      "Consent.(The Final 0.0\n"
     ]
    },
    {
     "name": "stderr",
     "output_type": "stream",
     "text": [
      "C:\\Users\\Sid\\Anaconda3\\lib\\runpy.py:193: UserWarning: [W008] Evaluating Token.similarity based on empty vectors.\n",
      "  \"__main__\", mod_spec)\n"
     ]
    },
    {
     "name": "stdout",
     "output_type": "stream",
     "text": [
      "Consent.(The Approval 0.0\n"
     ]
    },
    {
     "name": "stderr",
     "output_type": "stream",
     "text": [
      "C:\\Users\\Sid\\Anaconda3\\lib\\runpy.py:193: UserWarning: [W008] Evaluating Token.similarity based on empty vectors.\n",
      "  \"__main__\", mod_spec)\n"
     ]
    },
    {
     "name": "stdout",
     "output_type": "stream",
     "text": [
      "Consent.(The / 0.0\n",
      "Consent.(The Consent.(The 1.0\n"
     ]
    },
    {
     "name": "stderr",
     "output_type": "stream",
     "text": [
      "C:\\Users\\Sid\\Anaconda3\\lib\\runpy.py:193: UserWarning: [W008] Evaluating Token.similarity based on empty vectors.\n",
      "  \"__main__\", mod_spec)\n"
     ]
    },
    {
     "name": "stdout",
     "output_type": "stream",
     "text": [
      "Consent.(The relevant 0.0\n"
     ]
    },
    {
     "name": "stderr",
     "output_type": "stream",
     "text": [
      "C:\\Users\\Sid\\Anaconda3\\lib\\runpy.py:193: UserWarning: [W008] Evaluating Token.similarity based on empty vectors.\n",
      "  \"__main__\", mod_spec)\n"
     ]
    },
    {
     "name": "stdout",
     "output_type": "stream",
     "text": [
      "Consent.(The Market 0.0\n"
     ]
    },
    {
     "name": "stderr",
     "output_type": "stream",
     "text": [
      "C:\\Users\\Sid\\Anaconda3\\lib\\runpy.py:193: UserWarning: [W008] Evaluating Token.similarity based on empty vectors.\n",
      "  \"__main__\", mod_spec)\n"
     ]
    },
    {
     "name": "stdout",
     "output_type": "stream",
     "text": [
      "Consent.(The Participant 0.0\n"
     ]
    },
    {
     "name": "stderr",
     "output_type": "stream",
     "text": [
      "C:\\Users\\Sid\\Anaconda3\\lib\\runpy.py:193: UserWarning: [W008] Evaluating Token.similarity based on empty vectors.\n",
      "  \"__main__\", mod_spec)\n"
     ]
    },
    {
     "name": "stdout",
     "output_type": "stream",
     "text": [
      "Consent.(The to 0.0\n"
     ]
    },
    {
     "name": "stderr",
     "output_type": "stream",
     "text": [
      "C:\\Users\\Sid\\Anaconda3\\lib\\runpy.py:193: UserWarning: [W008] Evaluating Token.similarity based on empty vectors.\n",
      "  \"__main__\", mod_spec)\n"
     ]
    },
    {
     "name": "stdout",
     "output_type": "stream",
     "text": [
      "Consent.(The submit 0.0\n"
     ]
    },
    {
     "name": "stderr",
     "output_type": "stream",
     "text": [
      "C:\\Users\\Sid\\Anaconda3\\lib\\runpy.py:193: UserWarning: [W008] Evaluating Token.similarity based on empty vectors.\n",
      "  \"__main__\", mod_spec)\n"
     ]
    },
    {
     "name": "stdout",
     "output_type": "stream",
     "text": [
      "Consent.(The a 0.0\n"
     ]
    },
    {
     "name": "stderr",
     "output_type": "stream",
     "text": [
      "C:\\Users\\Sid\\Anaconda3\\lib\\runpy.py:193: UserWarning: [W008] Evaluating Token.similarity based on empty vectors.\n",
      "  \"__main__\", mod_spec)\n"
     ]
    },
    {
     "name": "stdout",
     "output_type": "stream",
     "text": [
      "Consent.(The preliminary 0.0\n"
     ]
    },
    {
     "name": "stderr",
     "output_type": "stream",
     "text": [
      "C:\\Users\\Sid\\Anaconda3\\lib\\runpy.py:193: UserWarning: [W008] Evaluating Token.similarity based on empty vectors.\n",
      "  \"__main__\", mod_spec)\n"
     ]
    },
    {
     "name": "stdout",
     "output_type": "stream",
     "text": [
      "Consent.(The report 0.0\n"
     ]
    },
    {
     "name": "stderr",
     "output_type": "stream",
     "text": [
      "C:\\Users\\Sid\\Anaconda3\\lib\\runpy.py:193: UserWarning: [W008] Evaluating Token.similarity based on empty vectors.\n",
      "  \"__main__\", mod_spec)\n"
     ]
    },
    {
     "name": "stdout",
     "output_type": "stream",
     "text": [
      "Consent.(The within 0.0\n"
     ]
    },
    {
     "name": "stderr",
     "output_type": "stream",
     "text": [
      "C:\\Users\\Sid\\Anaconda3\\lib\\runpy.py:193: UserWarning: [W008] Evaluating Token.similarity based on empty vectors.\n",
      "  \"__main__\", mod_spec)\n"
     ]
    },
    {
     "name": "stdout",
     "output_type": "stream",
     "text": [
      "Consent.(The 24hours 0.0\n"
     ]
    },
    {
     "name": "stderr",
     "output_type": "stream",
     "text": [
      "C:\\Users\\Sid\\Anaconda3\\lib\\runpy.py:193: UserWarning: [W008] Evaluating Token.similarity based on empty vectors.\n",
      "  \"__main__\", mod_spec)\n"
     ]
    },
    {
     "name": "stdout",
     "output_type": "stream",
     "text": [
      "Consent.(The & 0.0\n"
     ]
    },
    {
     "name": "stderr",
     "output_type": "stream",
     "text": [
      "C:\\Users\\Sid\\Anaconda3\\lib\\runpy.py:193: UserWarning: [W008] Evaluating Token.similarity based on empty vectors.\n",
      "  \"__main__\", mod_spec)\n"
     ]
    },
    {
     "name": "stdout",
     "output_type": "stream",
     "text": [
      "Consent.(The a 0.0\n"
     ]
    },
    {
     "name": "stderr",
     "output_type": "stream",
     "text": [
      "C:\\Users\\Sid\\Anaconda3\\lib\\runpy.py:193: UserWarning: [W008] Evaluating Token.similarity based on empty vectors.\n",
      "  \"__main__\", mod_spec)\n"
     ]
    },
    {
     "name": "stdout",
     "output_type": "stream",
     "text": [
      "Consent.(The detailed 0.0\n"
     ]
    },
    {
     "name": "stderr",
     "output_type": "stream",
     "text": [
      "C:\\Users\\Sid\\Anaconda3\\lib\\runpy.py:193: UserWarning: [W008] Evaluating Token.similarity based on empty vectors.\n",
      "  \"__main__\", mod_spec)\n"
     ]
    },
    {
     "name": "stdout",
     "output_type": "stream",
     "text": [
      "Consent.(The report 0.0\n"
     ]
    },
    {
     "name": "stderr",
     "output_type": "stream",
     "text": [
      "C:\\Users\\Sid\\Anaconda3\\lib\\runpy.py:193: UserWarning: [W008] Evaluating Token.similarity based on empty vectors.\n",
      "  \"__main__\", mod_spec)\n"
     ]
    },
    {
     "name": "stdout",
     "output_type": "stream",
     "text": [
      "Consent.(The within 0.0\n"
     ]
    },
    {
     "name": "stderr",
     "output_type": "stream",
     "text": [
      "C:\\Users\\Sid\\Anaconda3\\lib\\runpy.py:193: UserWarning: [W008] Evaluating Token.similarity based on empty vectors.\n",
      "  \"__main__\", mod_spec)\n"
     ]
    },
    {
     "name": "stdout",
     "output_type": "stream",
     "text": [
      "Consent.(The 1 0.0\n"
     ]
    },
    {
     "name": "stderr",
     "output_type": "stream",
     "text": [
      "C:\\Users\\Sid\\Anaconda3\\lib\\runpy.py:193: UserWarning: [W008] Evaluating Token.similarity based on empty vectors.\n",
      "  \"__main__\", mod_spec)\n"
     ]
    },
    {
     "name": "stdout",
     "output_type": "stream",
     "text": [
      "Consent.(The week 0.0\n"
     ]
    },
    {
     "name": "stderr",
     "output_type": "stream",
     "text": [
      "C:\\Users\\Sid\\Anaconda3\\lib\\runpy.py:193: UserWarning: [W008] Evaluating Token.similarity based on empty vectors.\n",
      "  \"__main__\", mod_spec)\n"
     ]
    },
    {
     "name": "stdout",
     "output_type": "stream",
     "text": [
      "Consent.(The of 0.0\n"
     ]
    },
    {
     "name": "stderr",
     "output_type": "stream",
     "text": [
      "C:\\Users\\Sid\\Anaconda3\\lib\\runpy.py:193: UserWarning: [W008] Evaluating Token.similarity based on empty vectors.\n",
      "  \"__main__\", mod_spec)\n"
     ]
    },
    {
     "name": "stdout",
     "output_type": "stream",
     "text": [
      "Consent.(The this 0.0\n"
     ]
    },
    {
     "name": "stderr",
     "output_type": "stream",
     "text": [
      "C:\\Users\\Sid\\Anaconda3\\lib\\runpy.py:193: UserWarning: [W008] Evaluating Token.similarity based on empty vectors.\n",
      "  \"__main__\", mod_spec)\n"
     ]
    },
    {
     "name": "stdout",
     "output_type": "stream",
     "text": [
      "Consent.(The notice 0.0\n"
     ]
    },
    {
     "name": "stderr",
     "output_type": "stream",
     "text": [
      "C:\\Users\\Sid\\Anaconda3\\lib\\runpy.py:193: UserWarning: [W008] Evaluating Token.similarity based on empty vectors.\n",
      "  \"__main__\", mod_spec)\n"
     ]
    },
    {
     "name": "stdout",
     "output_type": "stream",
     "text": [
      "Consent.(The . 0.0\n"
     ]
    },
    {
     "name": "stderr",
     "output_type": "stream",
     "text": [
      "C:\\Users\\Sid\\Anaconda3\\lib\\runpy.py:193: UserWarning: [W008] Evaluating Token.similarity based on empty vectors.\n",
      "  \"__main__\", mod_spec)\n"
     ]
    },
    {
     "name": "stdout",
     "output_type": "stream",
     "text": [
      "Consent.(The ) 0.0\n",
      "relevant Outage 0.12174985\n",
      "relevant of 0.34743223\n",
      "relevant Paya -0.081661336\n"
     ]
    },
    {
     "name": "stderr",
     "output_type": "stream",
     "text": [
      "C:\\Users\\Sid\\Anaconda3\\lib\\runpy.py:193: UserWarning: [W008] Evaluating Token.similarity based on empty vectors.\n",
      "  \"__main__\", mod_spec)\n"
     ]
    },
    {
     "name": "stdout",
     "output_type": "stream",
     "text": [
      "relevant Lebar 0.0\n",
      "relevant I 0.23232146\n",
      "relevant / 0.034148246\n",
      "relevant Kaki -0.12961134\n",
      "relevant Bukit -0.021336952\n"
     ]
    },
    {
     "name": "stderr",
     "output_type": "stream",
     "text": [
      "C:\\Users\\Sid\\Anaconda3\\lib\\runpy.py:193: UserWarning: [W008] Evaluating Token.similarity based on empty vectors.\n",
      "  \"__main__\", mod_spec)\n"
     ]
    },
    {
     "name": "stdout",
     "output_type": "stream",
     "text": [
      "relevant 66kV 0.0\n",
      "relevant Feeder 0.051674046\n",
      "relevant No 0.31350332\n",
      "relevant . 0.2830945\n",
      "relevant 1 0.09954029\n",
      "relevant on 0.31925654\n",
      "relevant 02 -0.11736298\n",
      "relevant Jan 0.036126018\n",
      "relevant 2015 0.1425835\n",
      "relevant at 0.2257122\n"
     ]
    },
    {
     "name": "stderr",
     "output_type": "stream",
     "text": [
      "C:\\Users\\Sid\\Anaconda3\\lib\\runpy.py:193: UserWarning: [W008] Evaluating Token.similarity based on empty vectors.\n",
      "  \"__main__\", mod_spec)\n"
     ]
    },
    {
     "name": "stdout",
     "output_type": "stream",
     "text": [
      "relevant 1113Hrs 0.0\n",
      "relevant was 0.2194787\n",
      "relevant without 0.39966416\n",
      "relevant Final 0.29412973\n",
      "relevant Approval 0.3877072\n",
      "relevant / 0.034148246\n"
     ]
    },
    {
     "name": "stderr",
     "output_type": "stream",
     "text": [
      "C:\\Users\\Sid\\Anaconda3\\lib\\runpy.py:193: UserWarning: [W008] Evaluating Token.similarity based on empty vectors.\n",
      "  \"__main__\", mod_spec)\n"
     ]
    },
    {
     "name": "stdout",
     "output_type": "stream",
     "text": [
      "relevant Consent.(The 0.0\n",
      "relevant relevant 1.0\n",
      "relevant Market 0.34001148\n",
      "relevant Participant 0.38295537\n",
      "relevant to 0.41692105\n",
      "relevant submit 0.5281858\n",
      "relevant a 0.3071877\n",
      "relevant preliminary 0.42324802\n",
      "relevant report 0.44165492\n",
      "relevant within 0.53709924\n",
      "relevant 24hours 0.008428652\n",
      "relevant & 0.05995445\n",
      "relevant a 0.3071877\n",
      "relevant detailed 0.5753644\n",
      "relevant report 0.44165492\n",
      "relevant within 0.53709924\n",
      "relevant 1 0.09954029\n",
      "relevant week 0.1943776\n",
      "relevant of 0.34743223\n",
      "relevant this 0.44457808\n",
      "relevant notice 0.45152336\n",
      "relevant . 0.2830945\n",
      "relevant ) 0.13740623\n",
      "Market Outage 0.13361885\n",
      "Market of 0.31343827\n",
      "Market Paya -0.038420234\n"
     ]
    },
    {
     "name": "stderr",
     "output_type": "stream",
     "text": [
      "C:\\Users\\Sid\\Anaconda3\\lib\\runpy.py:193: UserWarning: [W008] Evaluating Token.similarity based on empty vectors.\n",
      "  \"__main__\", mod_spec)\n"
     ]
    },
    {
     "name": "stdout",
     "output_type": "stream",
     "text": [
      "Market Lebar 0.0\n",
      "Market I 0.20831832\n",
      "Market / 0.06513298\n",
      "Market Kaki -0.08192043\n",
      "Market Bukit 0.009399745\n"
     ]
    },
    {
     "name": "stderr",
     "output_type": "stream",
     "text": [
      "C:\\Users\\Sid\\Anaconda3\\lib\\runpy.py:193: UserWarning: [W008] Evaluating Token.similarity based on empty vectors.\n",
      "  \"__main__\", mod_spec)\n"
     ]
    },
    {
     "name": "stdout",
     "output_type": "stream",
     "text": [
      "Market 66kV 0.0\n",
      "Market Feeder 0.1652575\n",
      "Market No 0.27727878\n",
      "Market . 0.27776983\n",
      "Market 1 0.109104626\n",
      "Market on 0.3180929\n",
      "Market 02 -0.05095602\n",
      "Market Jan 0.08881706\n",
      "Market 2015 0.29339707\n",
      "Market at 0.21323851\n"
     ]
    },
    {
     "name": "stderr",
     "output_type": "stream",
     "text": [
      "C:\\Users\\Sid\\Anaconda3\\lib\\runpy.py:193: UserWarning: [W008] Evaluating Token.similarity based on empty vectors.\n",
      "  \"__main__\", mod_spec)\n"
     ]
    },
    {
     "name": "stdout",
     "output_type": "stream",
     "text": [
      "Market 1113Hrs 0.0\n",
      "Market was 0.27425578\n",
      "Market without 0.32236725\n",
      "Market Final 0.20736143\n",
      "Market Approval 0.29041535\n",
      "Market / 0.06513298\n"
     ]
    },
    {
     "name": "stderr",
     "output_type": "stream",
     "text": [
      "C:\\Users\\Sid\\Anaconda3\\lib\\runpy.py:193: UserWarning: [W008] Evaluating Token.similarity based on empty vectors.\n",
      "  \"__main__\", mod_spec)\n"
     ]
    },
    {
     "name": "stdout",
     "output_type": "stream",
     "text": [
      "Market Consent.(The 0.0\n",
      "Market relevant 0.34001148\n",
      "Market Market 1.0\n",
      "Market Participant 0.18446586\n",
      "Market to 0.3608044\n",
      "Market submit 0.121452756\n",
      "Market a 0.27128407\n",
      "Market preliminary 0.25166592\n",
      "Market report 0.35224208\n",
      "Market within 0.36546224\n",
      "Market 24hours -0.047242165\n",
      "Market & 0.12050489\n",
      "Market a 0.27128407\n",
      "Market detailed 0.26919743\n",
      "Market report 0.35224208\n",
      "Market within 0.36546224\n",
      "Market 1 0.109104626\n",
      "Market week 0.31196582\n",
      "Market of 0.31343827\n",
      "Market this 0.3770068\n",
      "Market notice 0.2573685\n",
      "Market . 0.27776983\n",
      "Market ) 0.114828214\n",
      "Participant Outage 0.10602767\n",
      "Participant of 0.22943644\n",
      "Participant Paya -0.041460723\n"
     ]
    },
    {
     "name": "stderr",
     "output_type": "stream",
     "text": [
      "C:\\Users\\Sid\\Anaconda3\\lib\\runpy.py:193: UserWarning: [W008] Evaluating Token.similarity based on empty vectors.\n",
      "  \"__main__\", mod_spec)\n"
     ]
    },
    {
     "name": "stdout",
     "output_type": "stream",
     "text": [
      "Participant Lebar 0.0\n",
      "Participant I 0.13767311\n",
      "Participant / -0.07978954\n",
      "Participant Kaki -0.061397385\n",
      "Participant Bukit -0.09250667\n"
     ]
    },
    {
     "name": "stderr",
     "output_type": "stream",
     "text": [
      "C:\\Users\\Sid\\Anaconda3\\lib\\runpy.py:193: UserWarning: [W008] Evaluating Token.similarity based on empty vectors.\n",
      "  \"__main__\", mod_spec)\n"
     ]
    },
    {
     "name": "stdout",
     "output_type": "stream",
     "text": [
      "Participant 66kV 0.0\n",
      "Participant Feeder 0.08125136\n",
      "Participant No 0.22901122\n",
      "Participant . 0.13250117\n",
      "Participant 1 0.107917756\n",
      "Participant on 0.1616183\n",
      "Participant 02 -0.08214576\n",
      "Participant Jan 0.076989315\n",
      "Participant 2015 0.08557399\n",
      "Participant at 0.19587642\n"
     ]
    },
    {
     "name": "stderr",
     "output_type": "stream",
     "text": [
      "C:\\Users\\Sid\\Anaconda3\\lib\\runpy.py:193: UserWarning: [W008] Evaluating Token.similarity based on empty vectors.\n",
      "  \"__main__\", mod_spec)\n"
     ]
    },
    {
     "name": "stdout",
     "output_type": "stream",
     "text": [
      "Participant 1113Hrs 0.0\n",
      "Participant was 0.24161004\n",
      "Participant without 0.23896146\n",
      "Participant Final 0.35249498\n",
      "Participant Approval 0.29615113\n",
      "Participant / -0.07978954\n"
     ]
    },
    {
     "name": "stderr",
     "output_type": "stream",
     "text": [
      "C:\\Users\\Sid\\Anaconda3\\lib\\runpy.py:193: UserWarning: [W008] Evaluating Token.similarity based on empty vectors.\n",
      "  \"__main__\", mod_spec)\n"
     ]
    },
    {
     "name": "stdout",
     "output_type": "stream",
     "text": [
      "Participant Consent.(The 0.0\n",
      "Participant relevant 0.38295537\n",
      "Participant Market 0.18446586\n",
      "Participant Participant 1.0\n",
      "Participant to 0.2771974\n",
      "Participant submit 0.40803173\n",
      "Participant a 0.30583888\n",
      "Participant preliminary 0.37907466\n",
      "Participant report 0.28337964\n",
      "Participant within 0.30676797\n",
      "Participant 24hours -0.009992765\n",
      "Participant & -0.07486082\n",
      "Participant a 0.30583888\n",
      "Participant detailed 0.2426996\n",
      "Participant report 0.28337964\n",
      "Participant within 0.30676797\n",
      "Participant 1 0.107917756\n",
      "Participant week 0.23440823\n",
      "Participant of 0.22943644\n",
      "Participant this 0.24050343\n",
      "Participant notice 0.3028829\n",
      "Participant . 0.13250117\n",
      "Participant ) 0.10298862\n",
      "to Outage 0.10967243\n",
      "to of 0.47368884\n",
      "to Paya -0.06437807\n"
     ]
    },
    {
     "name": "stderr",
     "output_type": "stream",
     "text": [
      "C:\\Users\\Sid\\Anaconda3\\lib\\runpy.py:193: UserWarning: [W008] Evaluating Token.similarity based on empty vectors.\n",
      "  \"__main__\", mod_spec)\n"
     ]
    },
    {
     "name": "stdout",
     "output_type": "stream",
     "text": [
      "to Lebar 0.0\n",
      "to I 0.34577534\n",
      "to / 0.1389264\n",
      "to Kaki -0.12649958\n",
      "to Bukit -0.0226074\n"
     ]
    },
    {
     "name": "stderr",
     "output_type": "stream",
     "text": [
      "C:\\Users\\Sid\\Anaconda3\\lib\\runpy.py:193: UserWarning: [W008] Evaluating Token.similarity based on empty vectors.\n",
      "  \"__main__\", mod_spec)\n"
     ]
    },
    {
     "name": "stdout",
     "output_type": "stream",
     "text": [
      "to 66kV 0.0\n",
      "to Feeder 0.13589035\n",
      "to No 0.40242955\n",
      "to . 0.35827494\n",
      "to 1 0.18657084\n",
      "to on 0.4288443\n",
      "to 02 0.01229603\n",
      "to Jan 0.040613633\n",
      "to 2015 0.15312684\n",
      "to at 0.37443733\n"
     ]
    },
    {
     "name": "stderr",
     "output_type": "stream",
     "text": [
      "C:\\Users\\Sid\\Anaconda3\\lib\\runpy.py:193: UserWarning: [W008] Evaluating Token.similarity based on empty vectors.\n",
      "  \"__main__\", mod_spec)\n"
     ]
    },
    {
     "name": "stdout",
     "output_type": "stream",
     "text": [
      "to 1113Hrs 0.0\n",
      "to was 0.35836205\n",
      "to without 0.50233155\n",
      "to Final 0.3518261\n",
      "to Approval 0.36072877\n",
      "to / 0.1389264\n"
     ]
    },
    {
     "name": "stderr",
     "output_type": "stream",
     "text": [
      "C:\\Users\\Sid\\Anaconda3\\lib\\runpy.py:193: UserWarning: [W008] Evaluating Token.similarity based on empty vectors.\n",
      "  \"__main__\", mod_spec)\n"
     ]
    },
    {
     "name": "stdout",
     "output_type": "stream",
     "text": [
      "to Consent.(The 0.0\n",
      "to relevant 0.41692105\n",
      "to Market 0.3608044\n",
      "to Participant 0.2771974\n",
      "to to 1.0\n",
      "to submit 0.48010674\n",
      "to a 0.5058919\n",
      "to preliminary 0.2652937\n",
      "to report 0.35051063\n",
      "to within 0.4710565\n",
      "to 24hours -0.009028813\n",
      "to & 0.14305672\n",
      "to a 0.5058919\n",
      "to detailed 0.32020685\n",
      "to report 0.35051063\n",
      "to within 0.4710565\n",
      "to 1 0.18657084\n",
      "to week 0.36064085\n",
      "to of 0.47368884\n",
      "to this 0.5391266\n",
      "to notice 0.4486459\n",
      "to . 0.35827494\n",
      "to ) 0.18532217\n",
      "submit Outage 0.079062715\n",
      "submit of 0.21334375\n",
      "submit Paya -0.03509973\n"
     ]
    },
    {
     "name": "stderr",
     "output_type": "stream",
     "text": [
      "C:\\Users\\Sid\\Anaconda3\\lib\\runpy.py:193: UserWarning: [W008] Evaluating Token.similarity based on empty vectors.\n",
      "  \"__main__\", mod_spec)\n"
     ]
    },
    {
     "name": "stdout",
     "output_type": "stream",
     "text": [
      "submit Lebar 0.0\n",
      "submit I 0.26834878\n",
      "submit / 0.05938015\n",
      "submit Kaki -0.12330513\n",
      "submit Bukit -0.07310345\n"
     ]
    },
    {
     "name": "stderr",
     "output_type": "stream",
     "text": [
      "C:\\Users\\Sid\\Anaconda3\\lib\\runpy.py:193: UserWarning: [W008] Evaluating Token.similarity based on empty vectors.\n",
      "  \"__main__\", mod_spec)\n"
     ]
    },
    {
     "name": "stdout",
     "output_type": "stream",
     "text": [
      "submit 66kV 0.0\n",
      "submit Feeder 0.04828836\n",
      "submit No 0.32132757\n",
      "submit . 0.20323052\n",
      "submit 1 0.12592998\n",
      "submit on 0.24888821\n",
      "submit 02 0.038816452\n",
      "submit Jan 0.08574246\n",
      "submit 2015 0.05206728\n",
      "submit at 0.18044898\n"
     ]
    },
    {
     "name": "stderr",
     "output_type": "stream",
     "text": [
      "C:\\Users\\Sid\\Anaconda3\\lib\\runpy.py:193: UserWarning: [W008] Evaluating Token.similarity based on empty vectors.\n",
      "  \"__main__\", mod_spec)\n"
     ]
    },
    {
     "name": "stdout",
     "output_type": "stream",
     "text": [
      "submit 1113Hrs 0.0\n",
      "submit was 0.15264072\n",
      "submit without 0.3544366\n",
      "submit Final 0.3763596\n",
      "submit Approval 0.50200266\n",
      "submit / 0.05938015\n"
     ]
    },
    {
     "name": "stderr",
     "output_type": "stream",
     "text": [
      "C:\\Users\\Sid\\Anaconda3\\lib\\runpy.py:193: UserWarning: [W008] Evaluating Token.similarity based on empty vectors.\n",
      "  \"__main__\", mod_spec)\n"
     ]
    },
    {
     "name": "stdout",
     "output_type": "stream",
     "text": [
      "submit Consent.(The 0.0\n",
      "submit relevant 0.5281858\n",
      "submit Market 0.121452756\n",
      "submit Participant 0.40803173\n",
      "submit to 0.48010674\n",
      "submit submit 1.0\n",
      "submit a 0.3160847\n",
      "submit preliminary 0.42195222\n",
      "submit report 0.43625093\n",
      "submit within 0.35617852\n",
      "submit 24hours 0.1018909\n",
      "submit & 0.0116835\n",
      "submit a 0.3160847\n",
      "submit detailed 0.40435848\n",
      "submit report 0.43625093\n",
      "submit within 0.35617852\n",
      "submit 1 0.12592998\n",
      "submit week 0.2360725\n",
      "submit of 0.21334375\n",
      "submit this 0.43751556\n",
      "submit notice 0.5228056\n",
      "submit . 0.20323052\n",
      "submit ) 0.11662455\n",
      "a Outage 0.117808186\n",
      "a of 0.4505857\n",
      "a Paya -0.13864306\n"
     ]
    },
    {
     "name": "stderr",
     "output_type": "stream",
     "text": [
      "C:\\Users\\Sid\\Anaconda3\\lib\\runpy.py:193: UserWarning: [W008] Evaluating Token.similarity based on empty vectors.\n",
      "  \"__main__\", mod_spec)\n"
     ]
    },
    {
     "name": "stdout",
     "output_type": "stream",
     "text": [
      "a Lebar 0.0\n",
      "a I 0.30590197\n",
      "a / 0.08062348\n",
      "a Kaki -0.118620746\n",
      "a Bukit -0.091099285\n"
     ]
    },
    {
     "name": "stderr",
     "output_type": "stream",
     "text": [
      "C:\\Users\\Sid\\Anaconda3\\lib\\runpy.py:193: UserWarning: [W008] Evaluating Token.similarity based on empty vectors.\n",
      "  \"__main__\", mod_spec)\n"
     ]
    },
    {
     "name": "stdout",
     "output_type": "stream",
     "text": [
      "a 66kV 0.0\n",
      "a Feeder 0.14646702\n",
      "a No 0.471355\n",
      "a . 0.29160026\n",
      "a 1 0.21441382\n",
      "a on 0.3767637\n",
      "a 02 0.020246487\n",
      "a Jan 0.067579426\n",
      "a 2015 0.05140205\n",
      "a at 0.2630203\n"
     ]
    },
    {
     "name": "stderr",
     "output_type": "stream",
     "text": [
      "C:\\Users\\Sid\\Anaconda3\\lib\\runpy.py:193: UserWarning: [W008] Evaluating Token.similarity based on empty vectors.\n",
      "  \"__main__\", mod_spec)\n"
     ]
    },
    {
     "name": "stdout",
     "output_type": "stream",
     "text": [
      "a 1113Hrs 0.0\n",
      "a was 0.52676684\n",
      "a without 0.45670414\n",
      "a Final 0.43445694\n",
      "a Approval 0.26914692\n",
      "a / 0.08062348\n"
     ]
    },
    {
     "name": "stderr",
     "output_type": "stream",
     "text": [
      "C:\\Users\\Sid\\Anaconda3\\lib\\runpy.py:193: UserWarning: [W008] Evaluating Token.similarity based on empty vectors.\n",
      "  \"__main__\", mod_spec)\n"
     ]
    },
    {
     "name": "stdout",
     "output_type": "stream",
     "text": [
      "a Consent.(The 0.0\n",
      "a relevant 0.3071877\n",
      "a Market 0.27128407\n",
      "a Participant 0.30583888\n",
      "a to 0.5058919\n",
      "a submit 0.3160847\n",
      "a a 1.0\n",
      "a preliminary 0.31713507\n",
      "a report 0.32245213\n",
      "a within 0.42526042\n",
      "a 24hours -0.018350523\n",
      "a & 0.021041088\n",
      "a a 1.0\n",
      "a detailed 0.34833375\n",
      "a report 0.32245213\n",
      "a within 0.42526042\n",
      "a 1 0.21441382\n",
      "a week 0.3660633\n",
      "a of 0.4505857\n",
      "a this 0.5745549\n",
      "a notice 0.37288916\n",
      "a . 0.29160026\n",
      "a ) 0.118794486\n",
      "preliminary Outage 0.20240654\n",
      "preliminary of 0.26707092\n",
      "preliminary Paya -0.083955124\n"
     ]
    },
    {
     "name": "stderr",
     "output_type": "stream",
     "text": [
      "C:\\Users\\Sid\\Anaconda3\\lib\\runpy.py:193: UserWarning: [W008] Evaluating Token.similarity based on empty vectors.\n",
      "  \"__main__\", mod_spec)\n"
     ]
    },
    {
     "name": "stdout",
     "output_type": "stream",
     "text": [
      "preliminary Lebar 0.0\n",
      "preliminary I 0.11450787\n",
      "preliminary / -0.068473175\n",
      "preliminary Kaki -0.13753994\n",
      "preliminary Bukit -0.07489238\n"
     ]
    },
    {
     "name": "stderr",
     "output_type": "stream",
     "text": [
      "C:\\Users\\Sid\\Anaconda3\\lib\\runpy.py:193: UserWarning: [W008] Evaluating Token.similarity based on empty vectors.\n",
      "  \"__main__\", mod_spec)\n"
     ]
    },
    {
     "name": "stdout",
     "output_type": "stream",
     "text": [
      "preliminary 66kV 0.0\n",
      "preliminary Feeder 0.086966835\n",
      "preliminary No 0.29120842\n",
      "preliminary . 0.1668905\n",
      "preliminary 1 0.059172645\n",
      "preliminary on 0.27596262\n",
      "preliminary 02 -0.04755394\n",
      "preliminary Jan 0.037637323\n",
      "preliminary 2015 0.20712404\n",
      "preliminary at 0.17901678\n"
     ]
    },
    {
     "name": "stderr",
     "output_type": "stream",
     "text": [
      "C:\\Users\\Sid\\Anaconda3\\lib\\runpy.py:193: UserWarning: [W008] Evaluating Token.similarity based on empty vectors.\n",
      "  \"__main__\", mod_spec)\n"
     ]
    },
    {
     "name": "stdout",
     "output_type": "stream",
     "text": [
      "preliminary 1113Hrs 0.0\n",
      "preliminary was 0.2961415\n",
      "preliminary without 0.27596498\n",
      "preliminary Final 0.6013817\n",
      "preliminary Approval 0.5165758\n",
      "preliminary / -0.068473175\n"
     ]
    },
    {
     "name": "stderr",
     "output_type": "stream",
     "text": [
      "C:\\Users\\Sid\\Anaconda3\\lib\\runpy.py:193: UserWarning: [W008] Evaluating Token.similarity based on empty vectors.\n",
      "  \"__main__\", mod_spec)\n"
     ]
    },
    {
     "name": "stdout",
     "output_type": "stream",
     "text": [
      "preliminary Consent.(The 0.0\n",
      "preliminary relevant 0.42324802\n",
      "preliminary Market 0.25166592\n",
      "preliminary Participant 0.37907466\n",
      "preliminary to 0.2652937\n",
      "preliminary submit 0.42195222\n",
      "preliminary a 0.31713507\n",
      "preliminary preliminary 1.0\n",
      "preliminary report 0.5515199\n",
      "preliminary within 0.255082\n",
      "preliminary 24hours -0.051557444\n",
      "preliminary & -0.06837572\n",
      "preliminary a 0.31713507\n",
      "preliminary detailed 0.51599133\n",
      "preliminary report 0.5515199\n",
      "preliminary within 0.255082\n",
      "preliminary 1 0.059172645\n",
      "preliminary week 0.32598683\n",
      "preliminary of 0.26707092\n",
      "preliminary this 0.34986773\n",
      "preliminary notice 0.373315\n",
      "preliminary . 0.1668905\n",
      "preliminary ) 0.054774564\n",
      "report Outage 0.2567493\n",
      "report of 0.30852666\n",
      "report Paya -0.16985083\n"
     ]
    },
    {
     "name": "stderr",
     "output_type": "stream",
     "text": [
      "C:\\Users\\Sid\\Anaconda3\\lib\\runpy.py:193: UserWarning: [W008] Evaluating Token.similarity based on empty vectors.\n",
      "  \"__main__\", mod_spec)\n"
     ]
    },
    {
     "name": "stdout",
     "output_type": "stream",
     "text": [
      "report Lebar 0.0\n",
      "report I 0.2155716\n",
      "report / 0.08847272\n",
      "report Kaki -0.17778683\n",
      "report Bukit -0.1416983\n"
     ]
    },
    {
     "name": "stderr",
     "output_type": "stream",
     "text": [
      "C:\\Users\\Sid\\Anaconda3\\lib\\runpy.py:193: UserWarning: [W008] Evaluating Token.similarity based on empty vectors.\n",
      "  \"__main__\", mod_spec)\n"
     ]
    },
    {
     "name": "stdout",
     "output_type": "stream",
     "text": [
      "report 66kV 0.0\n",
      "report Feeder 0.03700346\n",
      "report No 0.2889068\n",
      "report . 0.26991194\n",
      "report 1 0.11742985\n",
      "report on 0.34672776\n",
      "report 02 0.057215918\n",
      "report Jan 0.085550055\n",
      "report 2015 0.17611088\n",
      "report at 0.21228464\n"
     ]
    },
    {
     "name": "stderr",
     "output_type": "stream",
     "text": [
      "C:\\Users\\Sid\\Anaconda3\\lib\\runpy.py:193: UserWarning: [W008] Evaluating Token.similarity based on empty vectors.\n",
      "  \"__main__\", mod_spec)\n"
     ]
    },
    {
     "name": "stdout",
     "output_type": "stream",
     "text": [
      "report 1113Hrs 0.0\n",
      "report was 0.37776133\n",
      "report without 0.28715846\n",
      "report Final 0.38749132\n",
      "report Approval 0.4100455\n",
      "report / 0.08847272\n"
     ]
    },
    {
     "name": "stderr",
     "output_type": "stream",
     "text": [
      "C:\\Users\\Sid\\Anaconda3\\lib\\runpy.py:193: UserWarning: [W008] Evaluating Token.similarity based on empty vectors.\n",
      "  \"__main__\", mod_spec)\n"
     ]
    },
    {
     "name": "stdout",
     "output_type": "stream",
     "text": [
      "report Consent.(The 0.0\n",
      "report relevant 0.44165492\n",
      "report Market 0.35224208\n",
      "report Participant 0.28337964\n",
      "report to 0.35051063\n",
      "report submit 0.43625093\n",
      "report a 0.32245213\n",
      "report preliminary 0.5515199\n",
      "report report 1.0\n",
      "report within 0.2720398\n",
      "report 24hours -0.028497485\n",
      "report & 0.09280486\n",
      "report a 0.32245213\n",
      "report detailed 0.5078494\n",
      "report report 1.0\n",
      "report within 0.2720398\n",
      "report 1 0.11742985\n",
      "report week 0.43345147\n",
      "report of 0.30852666\n",
      "report this 0.45053226\n",
      "report notice 0.4067047\n",
      "report . 0.26991194\n",
      "report ) 0.14006424\n",
      "within Outage 0.14153743\n",
      "within of 0.48493576\n",
      "within Paya -0.15600942\n"
     ]
    },
    {
     "name": "stderr",
     "output_type": "stream",
     "text": [
      "C:\\Users\\Sid\\Anaconda3\\lib\\runpy.py:193: UserWarning: [W008] Evaluating Token.similarity based on empty vectors.\n",
      "  \"__main__\", mod_spec)\n"
     ]
    },
    {
     "name": "stdout",
     "output_type": "stream",
     "text": [
      "within Lebar 0.0\n",
      "within I 0.21410444\n",
      "within / 0.07031502\n",
      "within Kaki -0.1690849\n",
      "within Bukit -0.048796173\n"
     ]
    },
    {
     "name": "stderr",
     "output_type": "stream",
     "text": [
      "C:\\Users\\Sid\\Anaconda3\\lib\\runpy.py:193: UserWarning: [W008] Evaluating Token.similarity based on empty vectors.\n",
      "  \"__main__\", mod_spec)\n"
     ]
    },
    {
     "name": "stdout",
     "output_type": "stream",
     "text": [
      "within 66kV 0.0\n",
      "within Feeder 0.15508002\n",
      "within No 0.32496074\n",
      "within . 0.26375017\n",
      "within 1 0.22533092\n",
      "within on 0.3245046\n",
      "within 02 -0.07739106\n",
      "within Jan 0.04098593\n",
      "within 2015 0.116897196\n",
      "within at 0.35864794\n"
     ]
    },
    {
     "name": "stderr",
     "output_type": "stream",
     "text": [
      "C:\\Users\\Sid\\Anaconda3\\lib\\runpy.py:193: UserWarning: [W008] Evaluating Token.similarity based on empty vectors.\n",
      "  \"__main__\", mod_spec)\n"
     ]
    },
    {
     "name": "stdout",
     "output_type": "stream",
     "text": [
      "within 1113Hrs 0.0\n",
      "within was 0.2847142\n",
      "within without 0.45092273\n",
      "within Final 0.33327648\n",
      "within Approval 0.35406303\n",
      "within / 0.07031502\n"
     ]
    },
    {
     "name": "stderr",
     "output_type": "stream",
     "text": [
      "C:\\Users\\Sid\\Anaconda3\\lib\\runpy.py:193: UserWarning: [W008] Evaluating Token.similarity based on empty vectors.\n",
      "  \"__main__\", mod_spec)\n"
     ]
    },
    {
     "name": "stdout",
     "output_type": "stream",
     "text": [
      "within Consent.(The 0.0\n",
      "within relevant 0.53709924\n",
      "within Market 0.36546224\n",
      "within Participant 0.30676797\n",
      "within to 0.4710565\n",
      "within submit 0.35617852\n",
      "within a 0.42526042\n",
      "within preliminary 0.255082\n",
      "within report 0.2720398\n",
      "within within 1.0\n",
      "within 24hours 0.1724149\n",
      "within & 0.081746936\n",
      "within a 0.42526042\n",
      "within detailed 0.3393097\n",
      "within report 0.2720398\n",
      "within within 1.0\n",
      "within 1 0.22533092\n",
      "within week 0.30286798\n",
      "within of 0.48493576\n",
      "within this 0.44141936\n",
      "within notice 0.38997886\n",
      "within . 0.26375017\n",
      "within ) 0.15337741\n",
      "24hours Outage 0.23834452\n",
      "24hours of -0.1140748\n",
      "24hours Paya 0.16239192\n"
     ]
    },
    {
     "name": "stderr",
     "output_type": "stream",
     "text": [
      "C:\\Users\\Sid\\Anaconda3\\lib\\runpy.py:193: UserWarning: [W008] Evaluating Token.similarity based on empty vectors.\n",
      "  \"__main__\", mod_spec)\n"
     ]
    },
    {
     "name": "stdout",
     "output_type": "stream",
     "text": [
      "24hours Lebar 0.0\n",
      "24hours I 0.08802102\n",
      "24hours / -0.07559304\n",
      "24hours Kaki 0.14572425\n",
      "24hours Bukit 0.20912105\n"
     ]
    },
    {
     "name": "stderr",
     "output_type": "stream",
     "text": [
      "C:\\Users\\Sid\\Anaconda3\\lib\\runpy.py:193: UserWarning: [W008] Evaluating Token.similarity based on empty vectors.\n",
      "  \"__main__\", mod_spec)\n"
     ]
    },
    {
     "name": "stdout",
     "output_type": "stream",
     "text": [
      "24hours 66kV 0.0\n",
      "24hours Feeder -0.008290538\n",
      "24hours No 0.054770317\n",
      "24hours . -0.03430295\n",
      "24hours 1 -0.06341642\n",
      "24hours on -0.012207803\n",
      "24hours 02 -0.13789596\n",
      "24hours Jan 0.0150910625\n",
      "24hours 2015 0.008416334\n",
      "24hours at 0.038054228\n"
     ]
    },
    {
     "name": "stderr",
     "output_type": "stream",
     "text": [
      "C:\\Users\\Sid\\Anaconda3\\lib\\runpy.py:193: UserWarning: [W008] Evaluating Token.similarity based on empty vectors.\n",
      "  \"__main__\", mod_spec)\n"
     ]
    },
    {
     "name": "stdout",
     "output_type": "stream",
     "text": [
      "24hours 1113Hrs 0.0\n",
      "24hours was -0.020972168\n",
      "24hours without 0.10378464\n",
      "24hours Final -0.0030478458\n",
      "24hours Approval 0.061300557\n",
      "24hours / -0.07559304\n"
     ]
    },
    {
     "name": "stderr",
     "output_type": "stream",
     "text": [
      "C:\\Users\\Sid\\Anaconda3\\lib\\runpy.py:193: UserWarning: [W008] Evaluating Token.similarity based on empty vectors.\n",
      "  \"__main__\", mod_spec)\n"
     ]
    },
    {
     "name": "stdout",
     "output_type": "stream",
     "text": [
      "24hours Consent.(The 0.0\n",
      "24hours relevant 0.008428652\n",
      "24hours Market -0.047242165\n",
      "24hours Participant -0.009992765\n",
      "24hours to -0.009028813\n",
      "24hours submit 0.1018909\n",
      "24hours a -0.018350523\n",
      "24hours preliminary -0.051557444\n",
      "24hours report -0.028497485\n",
      "24hours within 0.1724149\n",
      "24hours 24hours 1.0\n",
      "24hours & -0.119282864\n",
      "24hours a -0.018350523\n",
      "24hours detailed -0.05119142\n",
      "24hours report -0.028497485\n",
      "24hours within 0.1724149\n",
      "24hours 1 -0.06341642\n",
      "24hours week 0.13334696\n",
      "24hours of -0.1140748\n",
      "24hours this -0.005259327\n",
      "24hours notice 0.15633398\n",
      "24hours . -0.03430295\n",
      "24hours ) -0.10443935\n",
      "& Outage -0.14006115\n",
      "& of 0.1719598\n",
      "& Paya -0.21056719\n"
     ]
    },
    {
     "name": "stderr",
     "output_type": "stream",
     "text": [
      "C:\\Users\\Sid\\Anaconda3\\lib\\runpy.py:193: UserWarning: [W008] Evaluating Token.similarity based on empty vectors.\n",
      "  \"__main__\", mod_spec)\n"
     ]
    },
    {
     "name": "stdout",
     "output_type": "stream",
     "text": [
      "& Lebar 0.0\n",
      "& I 0.1378262\n",
      "& / 0.42578092\n",
      "& Kaki -0.13772169\n",
      "& Bukit -0.08798837\n"
     ]
    },
    {
     "name": "stderr",
     "output_type": "stream",
     "text": [
      "C:\\Users\\Sid\\Anaconda3\\lib\\runpy.py:193: UserWarning: [W008] Evaluating Token.similarity based on empty vectors.\n",
      "  \"__main__\", mod_spec)\n"
     ]
    },
    {
     "name": "stdout",
     "output_type": "stream",
     "text": [
      "& 66kV 0.0\n",
      "& Feeder -0.047791798\n",
      "& No 0.061493237\n",
      "& . 0.16853671\n",
      "& 1 0.2858166\n",
      "& on 0.15051557\n",
      "& 02 0.124060065\n",
      "& Jan 0.1168604\n",
      "& 2015 -0.014893684\n",
      "& at 0.10662599\n"
     ]
    },
    {
     "name": "stderr",
     "output_type": "stream",
     "text": [
      "C:\\Users\\Sid\\Anaconda3\\lib\\runpy.py:193: UserWarning: [W008] Evaluating Token.similarity based on empty vectors.\n",
      "  \"__main__\", mod_spec)\n"
     ]
    },
    {
     "name": "stdout",
     "output_type": "stream",
     "text": [
      "& 1113Hrs 0.0\n",
      "& was 0.08543685\n",
      "& without 0.08467564\n",
      "& Final 0.01425337\n",
      "& Approval -0.019598553\n",
      "& / 0.42578092\n"
     ]
    },
    {
     "name": "stderr",
     "output_type": "stream",
     "text": [
      "C:\\Users\\Sid\\Anaconda3\\lib\\runpy.py:193: UserWarning: [W008] Evaluating Token.similarity based on empty vectors.\n",
      "  \"__main__\", mod_spec)\n"
     ]
    },
    {
     "name": "stdout",
     "output_type": "stream",
     "text": [
      "& Consent.(The 0.0\n",
      "& relevant 0.05995445\n",
      "& Market 0.12050489\n",
      "& Participant -0.07486082\n",
      "& to 0.14305672\n",
      "& submit 0.0116835\n",
      "& a 0.021041088\n",
      "& preliminary -0.06837572\n",
      "& report 0.09280486\n",
      "& within 0.081746936\n",
      "& 24hours -0.119282864\n",
      "& & 1.0\n",
      "& a 0.021041088\n",
      "& detailed 0.10417614\n",
      "& report 0.09280486\n",
      "& within 0.081746936\n",
      "& 1 0.2858166\n",
      "& week 0.10855333\n",
      "& of 0.1719598\n",
      "& this 0.07998122\n",
      "& notice 0.048042104\n",
      "& . 0.16853671\n",
      "& ) 0.21475278\n",
      "a Outage 0.117808186\n",
      "a of 0.4505857\n",
      "a Paya -0.13864306\n"
     ]
    },
    {
     "name": "stderr",
     "output_type": "stream",
     "text": [
      "C:\\Users\\Sid\\Anaconda3\\lib\\runpy.py:193: UserWarning: [W008] Evaluating Token.similarity based on empty vectors.\n",
      "  \"__main__\", mod_spec)\n"
     ]
    },
    {
     "name": "stdout",
     "output_type": "stream",
     "text": [
      "a Lebar 0.0\n",
      "a I 0.30590197\n",
      "a / 0.08062348\n",
      "a Kaki -0.118620746\n",
      "a Bukit -0.091099285\n"
     ]
    },
    {
     "name": "stderr",
     "output_type": "stream",
     "text": [
      "C:\\Users\\Sid\\Anaconda3\\lib\\runpy.py:193: UserWarning: [W008] Evaluating Token.similarity based on empty vectors.\n",
      "  \"__main__\", mod_spec)\n"
     ]
    },
    {
     "name": "stdout",
     "output_type": "stream",
     "text": [
      "a 66kV 0.0\n",
      "a Feeder 0.14646702\n",
      "a No 0.471355\n",
      "a . 0.29160026\n",
      "a 1 0.21441382\n",
      "a on 0.3767637\n",
      "a 02 0.020246487\n",
      "a Jan 0.067579426\n",
      "a 2015 0.05140205\n",
      "a at 0.2630203\n"
     ]
    },
    {
     "name": "stderr",
     "output_type": "stream",
     "text": [
      "C:\\Users\\Sid\\Anaconda3\\lib\\runpy.py:193: UserWarning: [W008] Evaluating Token.similarity based on empty vectors.\n",
      "  \"__main__\", mod_spec)\n"
     ]
    },
    {
     "name": "stdout",
     "output_type": "stream",
     "text": [
      "a 1113Hrs 0.0\n",
      "a was 0.52676684\n",
      "a without 0.45670414\n",
      "a Final 0.43445694\n",
      "a Approval 0.26914692\n",
      "a / 0.08062348\n"
     ]
    },
    {
     "name": "stderr",
     "output_type": "stream",
     "text": [
      "C:\\Users\\Sid\\Anaconda3\\lib\\runpy.py:193: UserWarning: [W008] Evaluating Token.similarity based on empty vectors.\n",
      "  \"__main__\", mod_spec)\n"
     ]
    },
    {
     "name": "stdout",
     "output_type": "stream",
     "text": [
      "a Consent.(The 0.0\n",
      "a relevant 0.3071877\n",
      "a Market 0.27128407\n",
      "a Participant 0.30583888\n",
      "a to 0.5058919\n",
      "a submit 0.3160847\n",
      "a a 1.0\n",
      "a preliminary 0.31713507\n",
      "a report 0.32245213\n",
      "a within 0.42526042\n",
      "a 24hours -0.018350523\n",
      "a & 0.021041088\n",
      "a a 1.0\n",
      "a detailed 0.34833375\n",
      "a report 0.32245213\n",
      "a within 0.42526042\n",
      "a 1 0.21441382\n",
      "a week 0.3660633\n",
      "a of 0.4505857\n",
      "a this 0.5745549\n",
      "a notice 0.37288916\n",
      "a . 0.29160026\n",
      "a ) 0.118794486\n",
      "detailed Outage 0.09357784\n",
      "detailed of 0.32270616\n",
      "detailed Paya -0.13607961\n"
     ]
    },
    {
     "name": "stderr",
     "output_type": "stream",
     "text": [
      "C:\\Users\\Sid\\Anaconda3\\lib\\runpy.py:193: UserWarning: [W008] Evaluating Token.similarity based on empty vectors.\n",
      "  \"__main__\", mod_spec)\n"
     ]
    },
    {
     "name": "stdout",
     "output_type": "stream",
     "text": [
      "detailed Lebar 0.0\n",
      "detailed I 0.14216307\n",
      "detailed / 0.0060124556\n",
      "detailed Kaki -0.16575712\n",
      "detailed Bukit -0.12335796\n"
     ]
    },
    {
     "name": "stderr",
     "output_type": "stream",
     "text": [
      "C:\\Users\\Sid\\Anaconda3\\lib\\runpy.py:193: UserWarning: [W008] Evaluating Token.similarity based on empty vectors.\n",
      "  \"__main__\", mod_spec)\n"
     ]
    },
    {
     "name": "stdout",
     "output_type": "stream",
     "text": [
      "detailed 66kV 0.0\n",
      "detailed Feeder 0.04704458\n",
      "detailed No 0.28773773\n",
      "detailed . 0.24845503\n",
      "detailed 1 0.046406426\n",
      "detailed on 0.3108196\n",
      "detailed 02 -0.07097216\n",
      "detailed Jan -0.010936103\n",
      "detailed 2015 0.0396118\n",
      "detailed at 0.14899576\n"
     ]
    },
    {
     "name": "stderr",
     "output_type": "stream",
     "text": [
      "C:\\Users\\Sid\\Anaconda3\\lib\\runpy.py:193: UserWarning: [W008] Evaluating Token.similarity based on empty vectors.\n",
      "  \"__main__\", mod_spec)\n"
     ]
    },
    {
     "name": "stdout",
     "output_type": "stream",
     "text": [
      "detailed 1113Hrs 0.0\n",
      "detailed was 0.21211655\n",
      "detailed without 0.31145793\n",
      "detailed Final 0.3435362\n",
      "detailed Approval 0.29055768\n",
      "detailed / 0.0060124556\n"
     ]
    },
    {
     "name": "stderr",
     "output_type": "stream",
     "text": [
      "C:\\Users\\Sid\\Anaconda3\\lib\\runpy.py:193: UserWarning: [W008] Evaluating Token.similarity based on empty vectors.\n",
      "  \"__main__\", mod_spec)\n"
     ]
    },
    {
     "name": "stdout",
     "output_type": "stream",
     "text": [
      "detailed Consent.(The 0.0\n",
      "detailed relevant 0.5753644\n",
      "detailed Market 0.26919743\n",
      "detailed Participant 0.2426996\n",
      "detailed to 0.32020685\n",
      "detailed submit 0.40435848\n",
      "detailed a 0.34833375\n",
      "detailed preliminary 0.51599133\n",
      "detailed report 0.5078494\n",
      "detailed within 0.3393097\n",
      "detailed 24hours -0.05119142\n",
      "detailed & 0.10417614\n",
      "detailed a 0.34833375\n",
      "detailed detailed 1.0\n",
      "detailed report 0.5078494\n",
      "detailed within 0.3393097\n",
      "detailed 1 0.046406426\n",
      "detailed week 0.1791897\n",
      "detailed of 0.32270616\n",
      "detailed this 0.42969102\n",
      "detailed notice 0.34562418\n",
      "detailed . 0.24845503\n",
      "detailed ) 0.05749201\n",
      "report Outage 0.2567493\n",
      "report of 0.30852666\n",
      "report Paya -0.16985083\n"
     ]
    },
    {
     "name": "stderr",
     "output_type": "stream",
     "text": [
      "C:\\Users\\Sid\\Anaconda3\\lib\\runpy.py:193: UserWarning: [W008] Evaluating Token.similarity based on empty vectors.\n",
      "  \"__main__\", mod_spec)\n"
     ]
    },
    {
     "name": "stdout",
     "output_type": "stream",
     "text": [
      "report Lebar 0.0\n",
      "report I 0.2155716\n",
      "report / 0.08847272\n",
      "report Kaki -0.17778683\n",
      "report Bukit -0.1416983\n"
     ]
    },
    {
     "name": "stderr",
     "output_type": "stream",
     "text": [
      "C:\\Users\\Sid\\Anaconda3\\lib\\runpy.py:193: UserWarning: [W008] Evaluating Token.similarity based on empty vectors.\n",
      "  \"__main__\", mod_spec)\n"
     ]
    },
    {
     "name": "stdout",
     "output_type": "stream",
     "text": [
      "report 66kV 0.0\n",
      "report Feeder 0.03700346\n",
      "report No 0.2889068\n",
      "report . 0.26991194\n",
      "report 1 0.11742985\n",
      "report on 0.34672776\n",
      "report 02 0.057215918\n",
      "report Jan 0.085550055\n",
      "report 2015 0.17611088\n",
      "report at 0.21228464\n"
     ]
    },
    {
     "name": "stderr",
     "output_type": "stream",
     "text": [
      "C:\\Users\\Sid\\Anaconda3\\lib\\runpy.py:193: UserWarning: [W008] Evaluating Token.similarity based on empty vectors.\n",
      "  \"__main__\", mod_spec)\n"
     ]
    },
    {
     "name": "stdout",
     "output_type": "stream",
     "text": [
      "report 1113Hrs 0.0\n",
      "report was 0.37776133\n",
      "report without 0.28715846\n",
      "report Final 0.38749132\n",
      "report Approval 0.4100455\n",
      "report / 0.08847272\n"
     ]
    },
    {
     "name": "stderr",
     "output_type": "stream",
     "text": [
      "C:\\Users\\Sid\\Anaconda3\\lib\\runpy.py:193: UserWarning: [W008] Evaluating Token.similarity based on empty vectors.\n",
      "  \"__main__\", mod_spec)\n"
     ]
    },
    {
     "name": "stdout",
     "output_type": "stream",
     "text": [
      "report Consent.(The 0.0\n",
      "report relevant 0.44165492\n",
      "report Market 0.35224208\n",
      "report Participant 0.28337964\n",
      "report to 0.35051063\n",
      "report submit 0.43625093\n",
      "report a 0.32245213\n",
      "report preliminary 0.5515199\n",
      "report report 1.0\n",
      "report within 0.2720398\n",
      "report 24hours -0.028497485\n",
      "report & 0.09280486\n",
      "report a 0.32245213\n",
      "report detailed 0.5078494\n",
      "report report 1.0\n",
      "report within 0.2720398\n",
      "report 1 0.11742985\n",
      "report week 0.43345147\n",
      "report of 0.30852666\n",
      "report this 0.45053226\n",
      "report notice 0.4067047\n",
      "report . 0.26991194\n",
      "report ) 0.14006424\n",
      "within Outage 0.14153743\n",
      "within of 0.48493576\n",
      "within Paya -0.15600942\n"
     ]
    },
    {
     "name": "stderr",
     "output_type": "stream",
     "text": [
      "C:\\Users\\Sid\\Anaconda3\\lib\\runpy.py:193: UserWarning: [W008] Evaluating Token.similarity based on empty vectors.\n",
      "  \"__main__\", mod_spec)\n"
     ]
    },
    {
     "name": "stdout",
     "output_type": "stream",
     "text": [
      "within Lebar 0.0\n",
      "within I 0.21410444\n",
      "within / 0.07031502\n",
      "within Kaki -0.1690849\n",
      "within Bukit -0.048796173\n"
     ]
    },
    {
     "name": "stderr",
     "output_type": "stream",
     "text": [
      "C:\\Users\\Sid\\Anaconda3\\lib\\runpy.py:193: UserWarning: [W008] Evaluating Token.similarity based on empty vectors.\n",
      "  \"__main__\", mod_spec)\n"
     ]
    },
    {
     "name": "stdout",
     "output_type": "stream",
     "text": [
      "within 66kV 0.0\n",
      "within Feeder 0.15508002\n",
      "within No 0.32496074\n",
      "within . 0.26375017\n",
      "within 1 0.22533092\n",
      "within on 0.3245046\n",
      "within 02 -0.07739106\n",
      "within Jan 0.04098593\n",
      "within 2015 0.116897196\n",
      "within at 0.35864794\n"
     ]
    },
    {
     "name": "stderr",
     "output_type": "stream",
     "text": [
      "C:\\Users\\Sid\\Anaconda3\\lib\\runpy.py:193: UserWarning: [W008] Evaluating Token.similarity based on empty vectors.\n",
      "  \"__main__\", mod_spec)\n"
     ]
    },
    {
     "name": "stdout",
     "output_type": "stream",
     "text": [
      "within 1113Hrs 0.0\n",
      "within was 0.2847142\n",
      "within without 0.45092273\n",
      "within Final 0.33327648\n",
      "within Approval 0.35406303\n",
      "within / 0.07031502\n"
     ]
    },
    {
     "name": "stderr",
     "output_type": "stream",
     "text": [
      "C:\\Users\\Sid\\Anaconda3\\lib\\runpy.py:193: UserWarning: [W008] Evaluating Token.similarity based on empty vectors.\n",
      "  \"__main__\", mod_spec)\n"
     ]
    },
    {
     "name": "stdout",
     "output_type": "stream",
     "text": [
      "within Consent.(The 0.0\n",
      "within relevant 0.53709924\n",
      "within Market 0.36546224\n",
      "within Participant 0.30676797\n",
      "within to 0.4710565\n",
      "within submit 0.35617852\n",
      "within a 0.42526042\n",
      "within preliminary 0.255082\n",
      "within report 0.2720398\n",
      "within within 1.0\n",
      "within 24hours 0.1724149\n",
      "within & 0.081746936\n",
      "within a 0.42526042\n",
      "within detailed 0.3393097\n",
      "within report 0.2720398\n",
      "within within 1.0\n",
      "within 1 0.22533092\n",
      "within week 0.30286798\n",
      "within of 0.48493576\n",
      "within this 0.44141936\n",
      "within notice 0.38997886\n",
      "within . 0.26375017\n",
      "within ) 0.15337741\n",
      "1 Outage 0.001130742\n",
      "1 of 0.23696744\n",
      "1 Paya -0.16711165\n"
     ]
    },
    {
     "name": "stderr",
     "output_type": "stream",
     "text": [
      "C:\\Users\\Sid\\Anaconda3\\lib\\runpy.py:193: UserWarning: [W008] Evaluating Token.similarity based on empty vectors.\n",
      "  \"__main__\", mod_spec)\n"
     ]
    },
    {
     "name": "stdout",
     "output_type": "stream",
     "text": [
      "1 Lebar 0.0\n",
      "1 I 0.18238333\n",
      "1 / 0.3307608\n",
      "1 Kaki -0.10070785\n",
      "1 Bukit -0.03494045\n"
     ]
    },
    {
     "name": "stderr",
     "output_type": "stream",
     "text": [
      "C:\\Users\\Sid\\Anaconda3\\lib\\runpy.py:193: UserWarning: [W008] Evaluating Token.similarity based on empty vectors.\n",
      "  \"__main__\", mod_spec)\n"
     ]
    },
    {
     "name": "stdout",
     "output_type": "stream",
     "text": [
      "1 66kV 0.0\n",
      "1 Feeder 0.052728053\n",
      "1 No 0.15910721\n",
      "1 . 0.21600552\n",
      "1 1 1.0\n",
      "1 on 0.20950367\n",
      "1 02 0.35364988\n",
      "1 Jan 0.1328886\n",
      "1 2015 0.13906586\n",
      "1 at 0.20370494\n"
     ]
    },
    {
     "name": "stderr",
     "output_type": "stream",
     "text": [
      "C:\\Users\\Sid\\Anaconda3\\lib\\runpy.py:193: UserWarning: [W008] Evaluating Token.similarity based on empty vectors.\n",
      "  \"__main__\", mod_spec)\n"
     ]
    },
    {
     "name": "stdout",
     "output_type": "stream",
     "text": [
      "1 1113Hrs 0.0\n",
      "1 was 0.13218753\n",
      "1 without 0.09262657\n",
      "1 Final 0.20823985\n",
      "1 Approval 0.09570196\n",
      "1 / 0.3307608\n"
     ]
    },
    {
     "name": "stderr",
     "output_type": "stream",
     "text": [
      "C:\\Users\\Sid\\Anaconda3\\lib\\runpy.py:193: UserWarning: [W008] Evaluating Token.similarity based on empty vectors.\n",
      "  \"__main__\", mod_spec)\n"
     ]
    },
    {
     "name": "stdout",
     "output_type": "stream",
     "text": [
      "1 Consent.(The 0.0\n",
      "1 relevant 0.09954029\n",
      "1 Market 0.109104626\n",
      "1 Participant 0.107917756\n",
      "1 to 0.18657084\n",
      "1 submit 0.12592998\n",
      "1 a 0.21441382\n",
      "1 preliminary 0.059172645\n",
      "1 report 0.11742985\n",
      "1 within 0.22533092\n",
      "1 24hours -0.06341642\n",
      "1 & 0.2858166\n",
      "1 a 0.21441382\n",
      "1 detailed 0.046406426\n",
      "1 report 0.11742985\n",
      "1 within 0.22533092\n",
      "1 1 1.0\n",
      "1 week 0.2944326\n",
      "1 of 0.23696744\n",
      "1 this 0.200264\n",
      "1 notice 0.13940759\n",
      "1 . 0.21600552\n",
      "1 ) 0.49578607\n",
      "week Outage 0.26728383\n",
      "week of 0.34422174\n",
      "week Paya -0.15052634\n"
     ]
    },
    {
     "name": "stderr",
     "output_type": "stream",
     "text": [
      "C:\\Users\\Sid\\Anaconda3\\lib\\runpy.py:193: UserWarning: [W008] Evaluating Token.similarity based on empty vectors.\n",
      "  \"__main__\", mod_spec)\n"
     ]
    },
    {
     "name": "stdout",
     "output_type": "stream",
     "text": [
      "week Lebar 0.0\n",
      "week I 0.31380823\n",
      "week / 0.14223774\n",
      "week Kaki -0.09853282\n",
      "week Bukit -0.05069949\n"
     ]
    },
    {
     "name": "stderr",
     "output_type": "stream",
     "text": [
      "C:\\Users\\Sid\\Anaconda3\\lib\\runpy.py:193: UserWarning: [W008] Evaluating Token.similarity based on empty vectors.\n",
      "  \"__main__\", mod_spec)\n"
     ]
    },
    {
     "name": "stdout",
     "output_type": "stream",
     "text": [
      "week 66kV 0.0\n",
      "week Feeder 0.108425684\n",
      "week No 0.29652202\n",
      "week . 0.30663863\n",
      "week 1 0.2944326\n",
      "week on 0.37547812\n",
      "week 02 0.035017647\n",
      "week Jan 0.08603433\n",
      "week 2015 0.21559815\n",
      "week at 0.29970917\n"
     ]
    },
    {
     "name": "stderr",
     "output_type": "stream",
     "text": [
      "C:\\Users\\Sid\\Anaconda3\\lib\\runpy.py:193: UserWarning: [W008] Evaluating Token.similarity based on empty vectors.\n",
      "  \"__main__\", mod_spec)\n"
     ]
    },
    {
     "name": "stdout",
     "output_type": "stream",
     "text": [
      "week 1113Hrs 0.0\n",
      "week was 0.4798926\n",
      "week without 0.29443443\n",
      "week Final 0.46077707\n",
      "week Approval 0.26323318\n",
      "week / 0.14223774\n"
     ]
    },
    {
     "name": "stderr",
     "output_type": "stream",
     "text": [
      "C:\\Users\\Sid\\Anaconda3\\lib\\runpy.py:193: UserWarning: [W008] Evaluating Token.similarity based on empty vectors.\n",
      "  \"__main__\", mod_spec)\n"
     ]
    },
    {
     "name": "stdout",
     "output_type": "stream",
     "text": [
      "week Consent.(The 0.0\n",
      "week relevant 0.1943776\n",
      "week Market 0.31196582\n",
      "week Participant 0.23440823\n",
      "week to 0.36064085\n",
      "week submit 0.2360725\n",
      "week a 0.3660633\n",
      "week preliminary 0.32598683\n",
      "week report 0.43345147\n",
      "week within 0.30286798\n",
      "week 24hours 0.13334696\n",
      "week & 0.10855333\n",
      "week a 0.3660633\n",
      "week detailed 0.1791897\n",
      "week report 0.43345147\n",
      "week within 0.30286798\n",
      "week 1 0.2944326\n",
      "week week 1.0\n",
      "week of 0.34422174\n",
      "week this 0.5296559\n",
      "week notice 0.33211005\n",
      "week . 0.30663863\n",
      "week ) 0.16997671\n",
      "of Outage 0.10118017\n",
      "of of 1.0\n",
      "of Paya -0.2344447\n"
     ]
    },
    {
     "name": "stderr",
     "output_type": "stream",
     "text": [
      "C:\\Users\\Sid\\Anaconda3\\lib\\runpy.py:193: UserWarning: [W008] Evaluating Token.similarity based on empty vectors.\n",
      "  \"__main__\", mod_spec)\n"
     ]
    },
    {
     "name": "stdout",
     "output_type": "stream",
     "text": [
      "of Lebar 0.0\n",
      "of I 0.23158608\n",
      "of / 0.11303724\n",
      "of Kaki -0.16861627\n",
      "of Bukit -0.14818837\n"
     ]
    },
    {
     "name": "stderr",
     "output_type": "stream",
     "text": [
      "C:\\Users\\Sid\\Anaconda3\\lib\\runpy.py:193: UserWarning: [W008] Evaluating Token.similarity based on empty vectors.\n",
      "  \"__main__\", mod_spec)\n"
     ]
    },
    {
     "name": "stdout",
     "output_type": "stream",
     "text": [
      "of 66kV 0.0\n",
      "of Feeder 0.09884871\n",
      "of No 0.368211\n",
      "of . 0.3146837\n",
      "of 1 0.23696744\n",
      "of on 0.43057546\n",
      "of 02 0.044215884\n",
      "of Jan 0.09760648\n",
      "of 2015 0.06495885\n",
      "of at 0.37929595\n"
     ]
    },
    {
     "name": "stderr",
     "output_type": "stream",
     "text": [
      "C:\\Users\\Sid\\Anaconda3\\lib\\runpy.py:193: UserWarning: [W008] Evaluating Token.similarity based on empty vectors.\n",
      "  \"__main__\", mod_spec)\n"
     ]
    },
    {
     "name": "stdout",
     "output_type": "stream",
     "text": [
      "of 1113Hrs 0.0\n",
      "of was 0.43483952\n",
      "of without 0.44791552\n",
      "of Final 0.33789214\n",
      "of Approval 0.3168003\n",
      "of / 0.11303724\n"
     ]
    },
    {
     "name": "stderr",
     "output_type": "stream",
     "text": [
      "C:\\Users\\Sid\\Anaconda3\\lib\\runpy.py:193: UserWarning: [W008] Evaluating Token.similarity based on empty vectors.\n",
      "  \"__main__\", mod_spec)\n"
     ]
    },
    {
     "name": "stdout",
     "output_type": "stream",
     "text": [
      "of Consent.(The 0.0\n",
      "of relevant 0.34743223\n",
      "of Market 0.31343827\n",
      "of Participant 0.22943644\n",
      "of to 0.47368884\n",
      "of submit 0.21334375\n",
      "of a 0.4505857\n",
      "of preliminary 0.26707092\n",
      "of report 0.30852666\n",
      "of within 0.48493576\n",
      "of 24hours -0.1140748\n",
      "of & 0.1719598\n",
      "of a 0.4505857\n",
      "of detailed 0.32270616\n",
      "of report 0.30852666\n",
      "of within 0.48493576\n",
      "of 1 0.23696744\n",
      "of week 0.34422174\n",
      "of of 1.0\n",
      "of this 0.45488158\n",
      "of notice 0.38311297\n",
      "of . 0.3146837\n",
      "of ) 0.16387315\n",
      "this Outage 0.18531796\n",
      "this of 0.45488158\n",
      "this Paya -0.17011909\n"
     ]
    },
    {
     "name": "stderr",
     "output_type": "stream",
     "text": [
      "C:\\Users\\Sid\\Anaconda3\\lib\\runpy.py:193: UserWarning: [W008] Evaluating Token.similarity based on empty vectors.\n",
      "  \"__main__\", mod_spec)\n"
     ]
    },
    {
     "name": "stdout",
     "output_type": "stream",
     "text": [
      "this Lebar 0.0\n",
      "this I 0.44733685\n",
      "this / 0.084899634\n",
      "this Kaki -0.15251204\n",
      "this Bukit -0.07934091\n"
     ]
    },
    {
     "name": "stderr",
     "output_type": "stream",
     "text": [
      "C:\\Users\\Sid\\Anaconda3\\lib\\runpy.py:193: UserWarning: [W008] Evaluating Token.similarity based on empty vectors.\n",
      "  \"__main__\", mod_spec)\n"
     ]
    },
    {
     "name": "stdout",
     "output_type": "stream",
     "text": [
      "this 66kV 0.0\n",
      "this Feeder 0.19190635\n",
      "this No 0.46246904\n",
      "this . 0.37573797\n",
      "this 1 0.200264\n",
      "this on 0.41738042\n",
      "this 02 0.019654948\n",
      "this Jan 0.050530925\n",
      "this 2015 0.11059574\n",
      "this at 0.2597436\n"
     ]
    },
    {
     "name": "stderr",
     "output_type": "stream",
     "text": [
      "C:\\Users\\Sid\\Anaconda3\\lib\\runpy.py:193: UserWarning: [W008] Evaluating Token.similarity based on empty vectors.\n",
      "  \"__main__\", mod_spec)\n"
     ]
    },
    {
     "name": "stdout",
     "output_type": "stream",
     "text": [
      "this 1113Hrs 0.0\n",
      "this was 0.50793546\n",
      "this without 0.5270851\n",
      "this Final 0.44002488\n",
      "this Approval 0.31040883\n",
      "this / 0.084899634\n"
     ]
    },
    {
     "name": "stderr",
     "output_type": "stream",
     "text": [
      "C:\\Users\\Sid\\Anaconda3\\lib\\runpy.py:193: UserWarning: [W008] Evaluating Token.similarity based on empty vectors.\n",
      "  \"__main__\", mod_spec)\n"
     ]
    },
    {
     "name": "stdout",
     "output_type": "stream",
     "text": [
      "this Consent.(The 0.0\n",
      "this relevant 0.44457808\n",
      "this Market 0.3770068\n",
      "this Participant 0.24050343\n",
      "this to 0.5391266\n",
      "this submit 0.43751556\n",
      "this a 0.5745549\n",
      "this preliminary 0.34986773\n",
      "this report 0.45053226\n",
      "this within 0.44141936\n",
      "this 24hours -0.005259327\n",
      "this & 0.07998122\n",
      "this a 0.5745549\n",
      "this detailed 0.42969102\n",
      "this report 0.45053226\n",
      "this within 0.44141936\n",
      "this 1 0.200264\n",
      "this week 0.5296559\n",
      "this of 0.45488158\n",
      "this this 1.0\n",
      "this notice 0.48456302\n",
      "this . 0.37573797\n",
      "this ) 0.16601358\n",
      "notice Outage 0.24839458\n",
      "notice of 0.38311297\n",
      "notice Paya -0.067912035\n"
     ]
    },
    {
     "name": "stderr",
     "output_type": "stream",
     "text": [
      "C:\\Users\\Sid\\Anaconda3\\lib\\runpy.py:193: UserWarning: [W008] Evaluating Token.similarity based on empty vectors.\n",
      "  \"__main__\", mod_spec)\n"
     ]
    },
    {
     "name": "stdout",
     "output_type": "stream",
     "text": [
      "notice Lebar 0.0\n",
      "notice I 0.4726053\n",
      "notice / 0.042418737\n",
      "notice Kaki -0.03842039\n",
      "notice Bukit -0.054965634\n"
     ]
    },
    {
     "name": "stderr",
     "output_type": "stream",
     "text": [
      "C:\\Users\\Sid\\Anaconda3\\lib\\runpy.py:193: UserWarning: [W008] Evaluating Token.similarity based on empty vectors.\n",
      "  \"__main__\", mod_spec)\n"
     ]
    },
    {
     "name": "stdout",
     "output_type": "stream",
     "text": [
      "notice 66kV 0.0\n",
      "notice Feeder 0.12810725\n",
      "notice No 0.5404912\n",
      "notice . 0.35611314\n",
      "notice 1 0.13940759\n",
      "notice on 0.32554853\n",
      "notice 02 0.03840768\n",
      "notice Jan 0.11147635\n",
      "notice 2015 0.032370802\n",
      "notice at 0.2933656\n"
     ]
    },
    {
     "name": "stderr",
     "output_type": "stream",
     "text": [
      "C:\\Users\\Sid\\Anaconda3\\lib\\runpy.py:193: UserWarning: [W008] Evaluating Token.similarity based on empty vectors.\n",
      "  \"__main__\", mod_spec)\n"
     ]
    },
    {
     "name": "stdout",
     "output_type": "stream",
     "text": [
      "notice 1113Hrs 0.0\n",
      "notice was 0.40008837\n",
      "notice without 0.5396194\n",
      "notice Final 0.35479483\n",
      "notice Approval 0.5110701\n",
      "notice / 0.042418737\n"
     ]
    },
    {
     "name": "stderr",
     "output_type": "stream",
     "text": [
      "C:\\Users\\Sid\\Anaconda3\\lib\\runpy.py:193: UserWarning: [W008] Evaluating Token.similarity based on empty vectors.\n",
      "  \"__main__\", mod_spec)\n"
     ]
    },
    {
     "name": "stdout",
     "output_type": "stream",
     "text": [
      "notice Consent.(The 0.0\n",
      "notice relevant 0.45152336\n",
      "notice Market 0.2573685\n",
      "notice Participant 0.3028829\n",
      "notice to 0.4486459\n",
      "notice submit 0.5228056\n",
      "notice a 0.37288916\n",
      "notice preliminary 0.373315\n",
      "notice report 0.4067047\n",
      "notice within 0.38997886\n",
      "notice 24hours 0.15633398\n",
      "notice & 0.048042104\n",
      "notice a 0.37288916\n",
      "notice detailed 0.34562418\n",
      "notice report 0.4067047\n",
      "notice within 0.38997886\n",
      "notice 1 0.13940759\n",
      "notice week 0.33211005\n",
      "notice of 0.38311297\n",
      "notice this 0.48456302\n",
      "notice notice 1.0\n",
      "notice . 0.35611314\n",
      "notice ) 0.18745194\n",
      ". Outage 0.07834026\n",
      ". of 0.3146837\n",
      ". Paya -0.010789873\n"
     ]
    },
    {
     "name": "stderr",
     "output_type": "stream",
     "text": [
      "C:\\Users\\Sid\\Anaconda3\\lib\\runpy.py:193: UserWarning: [W008] Evaluating Token.similarity based on empty vectors.\n",
      "  \"__main__\", mod_spec)\n"
     ]
    },
    {
     "name": "stdout",
     "output_type": "stream",
     "text": [
      ". Lebar 0.0\n",
      ". I 0.3779279\n",
      ". / 0.30296203\n",
      ". Kaki -0.006775103\n",
      ". Bukit 0.062102217\n"
     ]
    },
    {
     "name": "stderr",
     "output_type": "stream",
     "text": [
      "C:\\Users\\Sid\\Anaconda3\\lib\\runpy.py:193: UserWarning: [W008] Evaluating Token.similarity based on empty vectors.\n",
      "  \"__main__\", mod_spec)\n"
     ]
    },
    {
     "name": "stdout",
     "output_type": "stream",
     "text": [
      ". 66kV 0.0\n",
      ". Feeder 0.077706754\n",
      ". No 0.36241406\n",
      ". . 1.0\n",
      ". 1 0.21600552\n",
      ". on 0.29028577\n",
      ". 02 0.13963448\n",
      ". Jan 0.16679074\n",
      ". 2015 0.10497709\n",
      ". at 0.3307109\n"
     ]
    },
    {
     "name": "stderr",
     "output_type": "stream",
     "text": [
      "C:\\Users\\Sid\\Anaconda3\\lib\\runpy.py:193: UserWarning: [W008] Evaluating Token.similarity based on empty vectors.\n",
      "  \"__main__\", mod_spec)\n"
     ]
    },
    {
     "name": "stdout",
     "output_type": "stream",
     "text": [
      ". 1113Hrs 0.0\n",
      ". was 0.38910556\n",
      ". without 0.43714267\n",
      ". Final 0.25159624\n",
      ". Approval 0.26995304\n",
      ". / 0.30296203\n"
     ]
    },
    {
     "name": "stderr",
     "output_type": "stream",
     "text": [
      "C:\\Users\\Sid\\Anaconda3\\lib\\runpy.py:193: UserWarning: [W008] Evaluating Token.similarity based on empty vectors.\n",
      "  \"__main__\", mod_spec)\n"
     ]
    },
    {
     "name": "stdout",
     "output_type": "stream",
     "text": [
      ". Consent.(The 0.0\n",
      ". relevant 0.2830945\n",
      ". Market 0.27776983\n",
      ". Participant 0.13250117\n",
      ". to 0.35827494\n",
      ". submit 0.20323052\n",
      ". a 0.29160026\n",
      ". preliminary 0.1668905\n",
      ". report 0.26991194\n",
      ". within 0.26375017\n",
      ". 24hours -0.03430295\n",
      ". & 0.16853671\n",
      ". a 0.29160026\n",
      ". detailed 0.24845503\n",
      ". report 0.26991194\n",
      ". within 0.26375017\n",
      ". 1 0.21600552\n",
      ". week 0.30663863\n",
      ". of 0.3146837\n",
      ". this 0.37573797\n",
      ". notice 0.35611314\n",
      ". . 1.0\n",
      ". ) 0.37816033\n",
      ") Outage 0.009075448\n",
      ") of 0.16387315\n",
      ") Paya -0.17190947\n"
     ]
    },
    {
     "name": "stderr",
     "output_type": "stream",
     "text": [
      "C:\\Users\\Sid\\Anaconda3\\lib\\runpy.py:193: UserWarning: [W008] Evaluating Token.similarity based on empty vectors.\n",
      "  \"__main__\", mod_spec)\n"
     ]
    },
    {
     "name": "stdout",
     "output_type": "stream",
     "text": [
      ") Lebar 0.0\n",
      ") I 0.12402085\n",
      ") / 0.3606067\n",
      ") Kaki -0.08754782\n",
      ") Bukit -0.076422565\n"
     ]
    },
    {
     "name": "stderr",
     "output_type": "stream",
     "text": [
      "C:\\Users\\Sid\\Anaconda3\\lib\\runpy.py:193: UserWarning: [W008] Evaluating Token.similarity based on empty vectors.\n",
      "  \"__main__\", mod_spec)\n"
     ]
    },
    {
     "name": "stdout",
     "output_type": "stream",
     "text": [
      ") 66kV 0.0\n",
      ") Feeder -0.0047891266\n",
      ") No 0.16060431\n",
      ") . 0.37816033\n",
      ") 1 0.49578607\n",
      ") on 0.13061488\n",
      ") 02 0.23491614\n",
      ") Jan 0.016475093\n",
      ") 2015 0.08736268\n",
      ") at 0.20790838\n"
     ]
    },
    {
     "name": "stderr",
     "output_type": "stream",
     "text": [
      "C:\\Users\\Sid\\Anaconda3\\lib\\runpy.py:193: UserWarning: [W008] Evaluating Token.similarity based on empty vectors.\n",
      "  \"__main__\", mod_spec)\n"
     ]
    },
    {
     "name": "stdout",
     "output_type": "stream",
     "text": [
      ") 1113Hrs 0.0\n",
      ") was 0.1591337\n",
      ") without 0.18338434\n",
      ") Final 0.16116618\n",
      ") Approval 0.16451322\n",
      ") / 0.3606067\n"
     ]
    },
    {
     "name": "stderr",
     "output_type": "stream",
     "text": [
      "C:\\Users\\Sid\\Anaconda3\\lib\\runpy.py:193: UserWarning: [W008] Evaluating Token.similarity based on empty vectors.\n",
      "  \"__main__\", mod_spec)\n"
     ]
    },
    {
     "name": "stdout",
     "output_type": "stream",
     "text": [
      ") Consent.(The 0.0\n",
      ") relevant 0.13740623\n",
      ") Market 0.114828214\n",
      ") Participant 0.10298862\n",
      ") to 0.18532217\n",
      ") submit 0.11662455\n",
      ") a 0.118794486\n",
      ") preliminary 0.054774564\n",
      ") report 0.14006424\n",
      ") within 0.15337741\n",
      ") 24hours -0.10443935\n",
      ") & 0.21475278\n",
      ") a 0.118794486\n",
      ") detailed 0.05749201\n",
      ") report 0.14006424\n",
      ") within 0.15337741\n",
      ") 1 0.49578607\n",
      ") week 0.16997671\n",
      ") of 0.16387315\n",
      ") this 0.16601358\n",
      ") notice 0.18745194\n",
      ") . 0.37816033\n",
      ") ) 1.0\n"
     ]
    }
   ],
   "source": [
    "for token1 in doc:\n",
    "    for token2 in doc:\n",
    "        print(token1.text, token2.text, token1.similarity(token2))\n"
   ]
  },
  {
   "cell_type": "code",
   "execution_count": 16,
   "metadata": {},
   "outputs": [
    {
     "name": "stdout",
     "output_type": "stream",
     "text": [
      "3943\n"
     ]
    },
    {
     "data": {
      "text/plain": [
       "0"
      ]
     },
     "execution_count": 16,
     "metadata": {},
     "output_type": "execute_result"
    }
   ],
   "source": [
    "length = df['CONDITION_DESCRIPTION'].shape\n",
    "print(length[0])\n",
    "df['CONDITION_DESCRIPTION'].isnull().sum()"
   ]
  },
  {
   "cell_type": "code",
   "execution_count": 17,
   "metadata": {},
   "outputs": [
    {
     "data": {
      "text/plain": [
       "[[]]"
      ]
     },
     "execution_count": 17,
     "metadata": {},
     "output_type": "execute_result"
    }
   ],
   "source": [
    "df.CONDITION_DESCRIPTION[32]\n",
    "doc = nlp(df.CONDITION_DESCRIPTION[33])\n",
    "document.append(doc)\n",
    "ents.append([(x.text,x.label_) for x  in  doc.ents])\n",
    "ents\n"
   ]
  },
  {
   "cell_type": "code",
   "execution_count": 18,
   "metadata": {},
   "outputs": [
    {
     "data": {
      "text/plain": [
       "[[]]"
      ]
     },
     "execution_count": 18,
     "metadata": {},
     "output_type": "execute_result"
    }
   ],
   "source": [
    "ents"
   ]
  },
  {
   "cell_type": "code",
   "execution_count": 19,
   "metadata": {},
   "outputs": [
    {
     "name": "stdout",
     "output_type": "stream",
     "text": [
      "Outage of Paya Lebar I/Kaki Bukit 66kV Feeder No. 1 on 02 Jan 2015 at 1113Hrs was without Final Approval/Consent.(The relevant Market Participant to submit a preliminary report within 24hours & a detailed report within 1 week of this notice.)\n"
     ]
    }
   ],
   "source": [
    "# Import spaCy Matcher\n",
    "from spacy.matcher import Matcher\n",
    "\n",
    "# Initialize the matcher with the spaCy vocabulary\n",
    "matcher = Matcher(nlp.vocab)\n",
    "\n",
    "doc = nlp(df.CONDITION_DESCRIPTION[0])\n",
    "print(doc)\n",
    "# Define rule\n",
    "pattern = [{'TEXT': 'outage'}, {'TEXT': 'without'}]\n",
    "\n",
    "# Add rule\n",
    "#matcher.add('rule_1', None, pattern)"
   ]
  },
  {
   "cell_type": "code",
   "execution_count": 20,
   "metadata": {},
   "outputs": [
    {
     "data": {
      "text/plain": [
       "[]"
      ]
     },
     "execution_count": 20,
     "metadata": {},
     "output_type": "execute_result"
    }
   ],
   "source": [
    "matches = matcher(doc)\n",
    "matches"
   ]
  },
  {
   "cell_type": "code",
   "execution_count": 21,
   "metadata": {},
   "outputs": [],
   "source": [
    "for match_id, start, end in matches:\n",
    "    # Get the matched span\n",
    "    matched_span = doc[start:end]\n",
    "    print(matched_span.text)"
   ]
  },
  {
   "cell_type": "code",
   "execution_count": 22,
   "metadata": {},
   "outputs": [
    {
     "data": {
      "text/plain": [
       "0       Outage of Paya Lebar I/Kaki Bukit 66kV Feeder ...\n",
       "1       Fuel changeover test of Generating Unit SNKCCP...\n",
       "2       Fuel changeover test of Generating Unit SNKCCP...\n",
       "3       Fuel changeover test of Generating Unit SER CC...\n",
       "4       Fuel changeover test of Generating Unit SER CC...\n",
       "                              ...                        \n",
       "4447    Forced outage of generating unit KMCBLK4 at 39...\n",
       "4448    Activate scheduled contingency reserve from Lo...\n",
       "4449    Load interrupted can be restored with immediat...\n",
       "4450    Outage of Generating Unit KMCBLK4 on 30 Dec 20...\n",
       "4451    Outage of Generating Unit SNKCCP2 on 30 Dec 20...\n",
       "Name: CONDITION_DESCRIPTION, Length: 3943, dtype: object"
      ]
     },
     "execution_count": 22,
     "metadata": {},
     "output_type": "execute_result"
    }
   ],
   "source": [
    "#convert entire text to lower case\n",
    "#for i in range(len(df.CONDITION_DESCRIPTION)):\n",
    "    #print(i)\n",
    "#df.CONDITION_DESCRIPTION[i] = df.CONDITION_DESCRIPTION[i].lower()\n",
    "df.CONDITION_DESCRIPTION"
   ]
  },
  {
   "cell_type": "code",
   "execution_count": 23,
   "metadata": {},
   "outputs": [
    {
     "data": {
      "text/plain": [
       "['Outage',\n",
       " 'of',\n",
       " 'Paya',\n",
       " 'Lebar',\n",
       " 'I/Kaki',\n",
       " 'Bukit',\n",
       " '66kV',\n",
       " 'Feeder',\n",
       " 'No',\n",
       " '.',\n",
       " '1',\n",
       " 'on',\n",
       " '02',\n",
       " 'Jan',\n",
       " '2015',\n",
       " 'at',\n",
       " '1113Hrs',\n",
       " 'was',\n",
       " 'without',\n",
       " 'Final',\n",
       " 'Approval/Consent',\n",
       " '.',\n",
       " '(',\n",
       " 'The',\n",
       " 'relevant',\n",
       " 'Market',\n",
       " 'Participant',\n",
       " 'to',\n",
       " 'submit',\n",
       " 'a',\n",
       " 'preliminary',\n",
       " 'report',\n",
       " 'within',\n",
       " '24hours',\n",
       " '&',\n",
       " 'a',\n",
       " 'detailed',\n",
       " 'report',\n",
       " 'within',\n",
       " '1',\n",
       " 'week',\n",
       " 'of',\n",
       " 'this',\n",
       " 'notice',\n",
       " '.',\n",
       " ')']"
      ]
     },
     "execution_count": 23,
     "metadata": {},
     "output_type": "execute_result"
    }
   ],
   "source": [
    "import nltk\n",
    "from nltk.tokenize import word_tokenize\n",
    "sent1 = df.CONDITION_DESCRIPTION[0]\n",
    "word_tokenize(sent1)"
   ]
  },
  {
   "cell_type": "code",
   "execution_count": 24,
   "metadata": {},
   "outputs": [
    {
     "data": {
      "text/plain": [
       "['Fuel',\n",
       " 'changeover',\n",
       " 'test',\n",
       " 'of',\n",
       " 'Generating',\n",
       " 'Unit',\n",
       " 'SNKCCP4',\n",
       " 'was',\n",
       " 'carried',\n",
       " 'out',\n",
       " 'and',\n",
       " 'completed',\n",
       " 'on',\n",
       " '06',\n",
       " 'Jan',\n",
       " '2015',\n",
       " 'at',\n",
       " 'the',\n",
       " 'following',\n",
       " 'timing',\n",
       " '.',\n",
       " 'Gas',\n",
       " 'to',\n",
       " 'Gas',\n",
       " ':',\n",
       " 'From',\n",
       " '1905Hrs',\n",
       " '-',\n",
       " '1910Hrs',\n",
       " '.',\n",
       " 'Gas',\n",
       " 'to',\n",
       " 'Gas',\n",
       " ':',\n",
       " 'From',\n",
       " '2005Hrs',\n",
       " '-',\n",
       " '2010Hrs',\n",
       " '.']"
      ]
     },
     "execution_count": 24,
     "metadata": {},
     "output_type": "execute_result"
    }
   ],
   "source": [
    "#sentence diagram\n",
    "sent2 = df.CONDITION_DESCRIPTION[1]\n",
    "word_tokenize(sent2)\n"
   ]
  },
  {
   "cell_type": "code",
   "execution_count": 25,
   "metadata": {},
   "outputs": [
    {
     "name": "stderr",
     "output_type": "stream",
     "text": [
      "Using TensorFlow backend.\n"
     ]
    }
   ],
   "source": [
    "import collections\n",
    "import seaborn as sns\n",
    "import glob\n",
    "import os\n",
    "import re\n",
    "from imblearn.over_sampling import SMOTE\n",
    "from sklearn.preprocessing import LabelEncoder\n",
    "from sklearn.feature_extraction.text import TfidfVectorizer\n",
    "from sklearn.feature_selection import chi2,SelectKBest\n",
    "from sklearn.naive_bayes import MultinomialNB\n",
    "from sklearn.svm import SVC\n",
    "from sklearn.tree import DecisionTreeClassifier\n",
    "from sklearn.model_selection import train_test_split\n",
    "from sklearn.metrics import accuracy_score, f1_score\n",
    "\n",
    "%matplotlib inline"
   ]
  },
  {
   "cell_type": "code",
   "execution_count": 26,
   "metadata": {},
   "outputs": [
    {
     "data": {
      "text/plain": [
       "0    outage of paya lebar i/kaki bukit 66kv feeder ...\n",
       "1    fuel changeover test of generating unit snkccp...\n",
       "2    fuel changeover test of generating unit snkccp...\n",
       "3    fuel changeover test of generating unit ser cc...\n",
       "4    fuel changeover test of generating unit ser cc...\n",
       "Name: CONDITION_DESC, dtype: object"
      ]
     },
     "execution_count": 26,
     "metadata": {},
     "output_type": "execute_result"
    }
   ],
   "source": [
    "# Load the regular expression library\n",
    "import re\n",
    "# Remove punctuation\n",
    "df['CONDITION_DESC'] = df['CONDITION_DESCRIPTION'].astype(str).map(lambda x: re.sub('[,\\.!?]', '', x))\n",
    "# Convert the titles to lowercase\n",
    "df['CONDITION_DESC'] = df['CONDITION_DESC'].astype(str).map(lambda x: x.lower())\n",
    "# Print out the first rows of papers\n",
    "df['CONDITION_DESC'].head()"
   ]
  },
  {
   "cell_type": "code",
   "execution_count": 27,
   "metadata": {},
   "outputs": [
    {
     "data": {
      "image/png": "[encoded data removed]",
      "text/plain": [
       "<PIL.Image.Image image mode=RGB size=400x200 at 0x2D0BD878F98>"
      ]
     },
     "execution_count": 27,
     "metadata": {},
     "output_type": "execute_result"
    }
   ],
   "source": [
    "# Import the wordcloud library\n",
    "from wordcloud import WordCloud\n",
    "# Join the different processed titles together.\n",
    "long_string = ','.join(list(df['CONDITION_DESC'].values))\n",
    "# Create a WordCloud object\n",
    "wordcloud = WordCloud(background_color=\"white\", max_words=5000, contour_width=3, contour_color='steelblue')\n",
    "# Generate a word cloud\n",
    "wordcloud.generate(long_string)\n",
    "# Visualize the word cloud\n",
    "wordcloud.to_image()\n"
   ]
  },
  {
   "cell_type": "code",
   "execution_count": 28,
   "metadata": {},
   "outputs": [
    {
     "data": {
      "text/plain": [
       "wordcloud.wordcloud.WordCloud"
      ]
     },
     "execution_count": 28,
     "metadata": {},
     "output_type": "execute_result"
    }
   ],
   "source": [
    "type(wordcloud)"
   ]
  },
  {
   "cell_type": "code",
   "execution_count": 29,
   "metadata": {},
   "outputs": [
    {
     "name": "stdout",
     "output_type": "stream",
     "text": [
      "Words ['gas', 'report', 'generating', 'unit', 'outage', 'diesel', 'detailed', 'participant', 'preliminary', 'relevant', 'submit', 'week', '24hours', 'market', 'test', 'changeover', 'fuel', 'following', 'timing', 'forced']\n",
      "Count [3194.0, 2724.0, 2291.0, 2289.0, 1906.0, 1538.0, 1362.0, 1362.0, 1362.0, 1362.0, 1362.0, 1362.0, 1361.0, 1361.0, 1291.0, 1284.0, 1284.0, 1226.0, 1224.0, 948.0]\n"
     ]
    },
    {
     "data": {
      "image/png": "[encoded data removed]",
      "text/plain": [
       "<Figure size 1080x667.491 with 1 Axes>"
      ]
     },
     "metadata": {
      "needs_background": "light"
     },
     "output_type": "display_data"
    }
   ],
   "source": [
    "# Load the library with the CountVectorizer method\n",
    "from sklearn.feature_extraction.text import CountVectorizer\n",
    "import numpy as np\n",
    "import matplotlib.pyplot as plt\n",
    "import seaborn as sns\n",
    "sns.set_style('whitegrid')\n",
    "%matplotlib inline\n",
    "# Helper function\n",
    "def plot_20_most_common_words(count_data, count_vectorizer):\n",
    "    import matplotlib.pyplot as plt\n",
    "    words = count_vectorizer.get_feature_names()\n",
    "    total_counts = np.zeros(len(words))\n",
    "    for t in count_data:\n",
    "        total_counts+=t.toarray()[0]\n",
    "    \n",
    "    count_dict = (zip(words, total_counts))\n",
    "    count_dict = sorted(count_dict, key=lambda x:x[1], reverse=True)[0:20]\n",
    "    words = [w[0] for w in count_dict]\n",
    "    print('Words',words)\n",
    "    counts = [w[1] for w in count_dict]\n",
    "    print('Count',counts)\n",
    "    x_pos = np.arange(len(words)) \n",
    "    \n",
    "    plt.figure(2, figsize=(15, 15/1.6180))\n",
    "    plt.subplot(title='20 most common words')\n",
    "    sns.set_context(\"notebook\", font_scale=1.25, rc={\"lines.linewidth\": 2.5})\n",
    "    sns.barplot(x_pos, counts, palette='husl')\n",
    "    plt.xticks(x_pos, words, rotation=90) \n",
    "    plt.xlabel('words')\n",
    "    plt.ylabel('counts')\n",
    "    plt.show()\n",
    "# Initialise the count vectorizer with the English stop words\n",
    "count_vectorizer = CountVectorizer(stop_words='english')\n",
    "# Fit and transform the processed titles\n",
    "count_data = count_vectorizer.fit_transform(df['CONDITION_DESC'])\n",
    "# Visualise the 10 most common words\n",
    "plot_20_most_common_words(count_data, count_vectorizer)"
   ]
  },
  {
   "cell_type": "code",
   "execution_count": 30,
   "metadata": {},
   "outputs": [
    {
     "name": "stderr",
     "output_type": "stream",
     "text": [
      "[nltk_data] Downloading package wordnet to\n",
      "[nltk_data]     C:\\Users\\Sid\\AppData\\Roaming\\nltk_data...\n",
      "[nltk_data]   Package wordnet is already up-to-date!\n"
     ]
    },
    {
     "data": {
      "text/plain": [
       "True"
      ]
     },
     "execution_count": 30,
     "metadata": {},
     "output_type": "execute_result"
    }
   ],
   "source": [
    "# Libraries for text preprocessing\n",
    "import re\n",
    "import nltk\n",
    "#nltk.download('stopwords')\n",
    "from nltk.corpus import stopwords\n",
    "from nltk.stem.porter import PorterStemmer\n",
    "from nltk.tokenize import RegexpTokenizer\n",
    "#nltk.download('wordnet') \n",
    "from nltk.stem.wordnet import WordNetLemmatizer\n",
    "import gensim\n",
    "from gensim.utils import simple_preprocess\n",
    "from gensim.parsing.preprocessing import STOPWORDS\n",
    "from nltk.stem import WordNetLemmatizer, SnowballStemmer\n",
    "from nltk.stem.porter import *\n",
    "import numpy as np\n",
    "np.random.seed(2018)\n",
    "import nltk\n",
    "nltk.download('wordnet')"
   ]
  },
  {
   "cell_type": "code",
   "execution_count": 31,
   "metadata": {},
   "outputs": [],
   "source": [
    "stemmer = SnowballStemmer('english')"
   ]
  },
  {
   "cell_type": "code",
   "execution_count": 32,
   "metadata": {},
   "outputs": [],
   "source": [
    "def lemmatize_stemming(text):\n",
    "    return stemmer.stem(WordNetLemmatizer().lemmatize(text, pos='v'))\n",
    "def preprocess(text):\n",
    "    result = []\n",
    "    for token in gensim.utils.simple_preprocess(text):\n",
    "        if token not in gensim.parsing.preprocessing.STOPWORDS and len(token) > 3:\n",
    "            result.append(lemmatize_stemming(token))\n",
    "    return result"
   ]
  },
  {
   "cell_type": "code",
   "execution_count": 33,
   "metadata": {},
   "outputs": [
    {
     "name": "stdout",
     "output_type": "stream",
     "text": [
      "original document: \n",
      "['outage', 'of', 'paya', 'lebar', 'i/kaki', 'bukit', '66kv', 'feeder', 'no', '1', 'on', '02', 'jan', '2015', 'at', '1113hrs', 'was', 'without', 'final', 'approval/consent(the', 'relevant', 'market', 'participant', 'to', 'submit', 'a', 'preliminary', 'report', 'within', '24hours', '&', 'a', 'detailed', 'report', 'within', '1', 'week', 'of', 'this', 'notice)']\n",
      "\n",
      "\n",
      " tokenized and lemmatized document: \n",
      "['outag', 'paya', 'lebar', 'kaki', 'bukit', 'feeder', 'final', 'approv', 'consent', 'relev', 'market', 'particip', 'submit', 'preliminari', 'report', 'hour', 'detail', 'report', 'week', 'notic']\n"
     ]
    }
   ],
   "source": [
    "print('original document: ')\n",
    "words = []\n",
    "for word in df.CONDITION_DESC[0].split(' '):\n",
    "    words.append(word)\n",
    "print(words)\n",
    "print('\\n\\n tokenized and lemmatized document: ')\n",
    "print(preprocess(df.CONDITION_DESC[0]))"
   ]
  },
  {
   "cell_type": "code",
   "execution_count": 34,
   "metadata": {},
   "outputs": [],
   "source": [
    "nlp = spacy.load('en_core_web_md')\n",
    "def lemmatize_text(text):\n",
    "    text = nlp(text)\n",
    "    text = ' '.join([word.lemma_ if word.lemma_ != '-PRON-' else word.text for word in text])\n",
    "    return text"
   ]
  },
  {
   "cell_type": "code",
   "execution_count": 35,
   "metadata": {},
   "outputs": [],
   "source": [
    "df['COND'] = df.apply(lambda _: '', axis=1)"
   ]
  },
  {
   "cell_type": "code",
   "execution_count": null,
   "metadata": {},
   "outputs": [],
   "source": []
  },
  {
   "cell_type": "code",
   "execution_count": null,
   "metadata": {},
   "outputs": [],
   "source": []
  },
  {
   "cell_type": "code",
   "execution_count": 36,
   "metadata": {},
   "outputs": [],
   "source": [
    "import nltk\n",
    "\n",
    "w_tokenizer = nltk.tokenize.WhitespaceTokenizer()\n",
    "lemmatizer = nltk.stem.WordNetLemmatizer()\n",
    "\n",
    "def lemmatize_text(text):\n",
    "    return [lemmatizer.lemmatize(w) for w in w_tokenizer.tokenize(text)]\n",
    "    "
   ]
  },
  {
   "cell_type": "code",
   "execution_count": 37,
   "metadata": {},
   "outputs": [],
   "source": [
    "df['text_lemmatized'] = df['CONDITION_DESCRIPTION'].apply(lemmatize_text)"
   ]
  },
  {
   "cell_type": "code",
   "execution_count": 38,
   "metadata": {},
   "outputs": [
    {
     "data": {
      "text/plain": [
       "0    [Outage, of, Paya, Lebar, I/Kaki, Bukit, 66kV,...\n",
       "1    [Fuel, changeover, test, of, Generating, Unit,...\n",
       "2    [Fuel, changeover, test, of, Generating, Unit,...\n",
       "3    [Fuel, changeover, test, of, Generating, Unit,...\n",
       "4    [Fuel, changeover, test, of, Generating, Unit,...\n",
       "Name: text_lemmatized, dtype: object"
      ]
     },
     "execution_count": 38,
     "metadata": {},
     "output_type": "execute_result"
    }
   ],
   "source": [
    "df['text_lemmatized'].head()"
   ]
  },
  {
   "cell_type": "code",
   "execution_count": 43,
   "metadata": {},
   "outputs": [
    {
     "data": {
      "text/plain": [
       "<bound method NDFrame.head of 0       Outage of Paya Lebar I/Kaki Bukit 66kV Feeder ...\n",
       "1       Fuel changeover test of Generating Unit SNKCCP...\n",
       "2       Fuel changeover test of Generating Unit SNKCCP...\n",
       "3       Fuel changeover test of Generating Unit SER CC...\n",
       "4       Fuel changeover test of Generating Unit SER CC...\n",
       "                              ...                        \n",
       "4447    Forced outage of generating unit KMCBLK4 at 39...\n",
       "4448    Activate scheduled contingency reserve from Lo...\n",
       "4449    Load interrupted can be restored with immediat...\n",
       "4450    Outage of Generating Unit KMCBLK4 on 30 Dec 20...\n",
       "4451    Outage of Generating Unit SNKCCP2 on 30 Dec 20...\n",
       "Name: joined_text, Length: 3943, dtype: object>"
      ]
     },
     "execution_count": 43,
     "metadata": {},
     "output_type": "execute_result"
    }
   ],
   "source": [
    "s = ' '\n",
    "df['joined_text'] = df['text_lemmatized'].apply(lambda x: s.join(x))\n",
    "df['joined_text'].head"
   ]
  },
  {
   "cell_type": "code",
   "execution_count": 44,
   "metadata": {},
   "outputs": [
    {
     "name": "stderr",
     "output_type": "stream",
     "text": [
      "[nltk_data] Downloading package vader_lexicon to\n",
      "[nltk_data]     C:\\Users\\Sid\\AppData\\Roaming\\nltk_data...\n",
      "[nltk_data]   Package vader_lexicon is already up-to-date!\n"
     ]
    }
   ],
   "source": [
    "import nltk\n",
    "import warnings\n",
    "warnings.filterwarnings('ignore')\n",
    "from nltk.sentiment.vader import SentimentIntensityAnalyzer\n",
    "nltk.download('vader_lexicon')\n",
    "sia = SentimentIntensityAnalyzer()"
   ]
  },
  {
   "cell_type": "code",
   "execution_count": 46,
   "metadata": {},
   "outputs": [
    {
     "data": {
      "text/plain": [
       "1     0.0000\n",
       "2     0.0000\n",
       "3     0.0000\n",
       "4     0.0000\n",
       "5    -0.7184\n",
       "6    -0.7184\n",
       "7     0.0000\n",
       "8    -0.3612\n",
       "9    -0.7184\n",
       "10    0.0000\n",
       "11    0.0000\n",
       "12   -0.4342\n",
       "13    0.0000\n",
       "14    0.0000\n",
       "15   -0.4342\n",
       "16    0.0000\n",
       "17    0.0000\n",
       "18   -0.2960\n",
       "19    0.0000\n",
       "Name: sentiment, dtype: float64"
      ]
     },
     "execution_count": 46,
     "metadata": {},
     "output_type": "execute_result"
    }
   ],
   "source": [
    "df['sentiment'] = df['joined_text'].apply(lambda x: sia.polarity_scores(x)['compound'])\n",
    "df['sentiment'][1:20]"
   ]
  },
  {
   "cell_type": "code",
   "execution_count": 48,
   "metadata": {},
   "outputs": [
    {
     "data": {
      "text/plain": [
       "1      0.0000\n",
       "2      0.0000\n",
       "3      0.0000\n",
       "4      0.0000\n",
       "5     -0.7184\n",
       "        ...  \n",
       "118    0.0000\n",
       "120    0.0000\n",
       "121   -0.3818\n",
       "122    0.0000\n",
       "123    0.0000\n",
       "Name: sentiment, Length: 99, dtype: float64"
      ]
     },
     "execution_count": 48,
     "metadata": {},
     "output_type": "execute_result"
    }
   ],
   "source": [
    "df['sentiment'][1:100]"
   ]
  },
  {
   "cell_type": "code",
   "execution_count": 55,
   "metadata": {},
   "outputs": [
    {
     "ename": "MemoryError",
     "evalue": "",
     "output_type": "error",
     "traceback": [
      "\u001b[1;31m---------------------------------------------------------------------------\u001b[0m",
      "\u001b[1;31mMemoryError\u001b[0m                               Traceback (most recent call last)",
      "\u001b[1;32m<ipython-input-55-3817483b0627>\u001b[0m in \u001b[0;36m<module>\u001b[1;34m\u001b[0m\n\u001b[0;32m     11\u001b[0m \u001b[0mplt\u001b[0m\u001b[1;33m.\u001b[0m\u001b[0mxlabel\u001b[0m\u001b[1;33m(\u001b[0m\u001b[1;34m'Date'\u001b[0m\u001b[1;33m,\u001b[0m \u001b[0mfontsize\u001b[0m \u001b[1;33m=\u001b[0m\u001b[1;36m150\u001b[0m\u001b[1;33m)\u001b[0m\u001b[1;33m\u001b[0m\u001b[1;33m\u001b[0m\u001b[0m\n\u001b[0;32m     12\u001b[0m \u001b[0mplt\u001b[0m\u001b[1;33m.\u001b[0m\u001b[0mylabel\u001b[0m\u001b[1;33m(\u001b[0m\u001b[1;34m'Sentiment'\u001b[0m\u001b[1;33m,\u001b[0m\u001b[0mfontsize\u001b[0m \u001b[1;33m=\u001b[0m\u001b[1;36m100\u001b[0m\u001b[1;33m)\u001b[0m\u001b[1;33m\u001b[0m\u001b[1;33m\u001b[0m\u001b[0m\n\u001b[1;32m---> 13\u001b[1;33m \u001b[0mSentiment_Picture\u001b[0m\u001b[1;33m=\u001b[0m \u001b[0mplt\u001b[0m\u001b[1;33m.\u001b[0m\u001b[0msavefig\u001b[0m\u001b[1;33m(\u001b[0m\u001b[1;34m'sentiment.jpg'\u001b[0m\u001b[1;33m)\u001b[0m\u001b[1;33m\u001b[0m\u001b[1;33m\u001b[0m\u001b[0m\n\u001b[0m\u001b[0;32m     14\u001b[0m \u001b[0mplt\u001b[0m\u001b[1;33m.\u001b[0m\u001b[0mshow\u001b[0m\u001b[1;33m(\u001b[0m\u001b[1;33m)\u001b[0m\u001b[1;33m\u001b[0m\u001b[1;33m\u001b[0m\u001b[0m\n",
      "\u001b[1;32m~\\Anaconda3\\lib\\site-packages\\matplotlib\\pyplot.py\u001b[0m in \u001b[0;36msavefig\u001b[1;34m(*args, **kwargs)\u001b[0m\n\u001b[0;32m    720\u001b[0m \u001b[1;32mdef\u001b[0m \u001b[0msavefig\u001b[0m\u001b[1;33m(\u001b[0m\u001b[1;33m*\u001b[0m\u001b[0margs\u001b[0m\u001b[1;33m,\u001b[0m \u001b[1;33m**\u001b[0m\u001b[0mkwargs\u001b[0m\u001b[1;33m)\u001b[0m\u001b[1;33m:\u001b[0m\u001b[1;33m\u001b[0m\u001b[1;33m\u001b[0m\u001b[0m\n\u001b[0;32m    721\u001b[0m     \u001b[0mfig\u001b[0m \u001b[1;33m=\u001b[0m \u001b[0mgcf\u001b[0m\u001b[1;33m(\u001b[0m\u001b[1;33m)\u001b[0m\u001b[1;33m\u001b[0m\u001b[1;33m\u001b[0m\u001b[0m\n\u001b[1;32m--> 722\u001b[1;33m     \u001b[0mres\u001b[0m \u001b[1;33m=\u001b[0m \u001b[0mfig\u001b[0m\u001b[1;33m.\u001b[0m\u001b[0msavefig\u001b[0m\u001b[1;33m(\u001b[0m\u001b[1;33m*\u001b[0m\u001b[0margs\u001b[0m\u001b[1;33m,\u001b[0m \u001b[1;33m**\u001b[0m\u001b[0mkwargs\u001b[0m\u001b[1;33m)\u001b[0m\u001b[1;33m\u001b[0m\u001b[1;33m\u001b[0m\u001b[0m\n\u001b[0m\u001b[0;32m    723\u001b[0m     \u001b[0mfig\u001b[0m\u001b[1;33m.\u001b[0m\u001b[0mcanvas\u001b[0m\u001b[1;33m.\u001b[0m\u001b[0mdraw_idle\u001b[0m\u001b[1;33m(\u001b[0m\u001b[1;33m)\u001b[0m   \u001b[1;31m# need this if 'transparent=True' to reset colors\u001b[0m\u001b[1;33m\u001b[0m\u001b[1;33m\u001b[0m\u001b[0m\n\u001b[0;32m    724\u001b[0m     \u001b[1;32mreturn\u001b[0m \u001b[0mres\u001b[0m\u001b[1;33m\u001b[0m\u001b[1;33m\u001b[0m\u001b[0m\n",
      "\u001b[1;32m~\\Anaconda3\\lib\\site-packages\\matplotlib\\figure.py\u001b[0m in \u001b[0;36msavefig\u001b[1;34m(self, fname, transparent, **kwargs)\u001b[0m\n\u001b[0;32m   2178\u001b[0m             \u001b[0mself\u001b[0m\u001b[1;33m.\u001b[0m\u001b[0mpatch\u001b[0m\u001b[1;33m.\u001b[0m\u001b[0mset_visible\u001b[0m\u001b[1;33m(\u001b[0m\u001b[0mframeon\u001b[0m\u001b[1;33m)\u001b[0m\u001b[1;33m\u001b[0m\u001b[1;33m\u001b[0m\u001b[0m\n\u001b[0;32m   2179\u001b[0m \u001b[1;33m\u001b[0m\u001b[0m\n\u001b[1;32m-> 2180\u001b[1;33m         \u001b[0mself\u001b[0m\u001b[1;33m.\u001b[0m\u001b[0mcanvas\u001b[0m\u001b[1;33m.\u001b[0m\u001b[0mprint_figure\u001b[0m\u001b[1;33m(\u001b[0m\u001b[0mfname\u001b[0m\u001b[1;33m,\u001b[0m \u001b[1;33m**\u001b[0m\u001b[0mkwargs\u001b[0m\u001b[1;33m)\u001b[0m\u001b[1;33m\u001b[0m\u001b[1;33m\u001b[0m\u001b[0m\n\u001b[0m\u001b[0;32m   2181\u001b[0m \u001b[1;33m\u001b[0m\u001b[0m\n\u001b[0;32m   2182\u001b[0m         \u001b[1;32mif\u001b[0m \u001b[0mframeon\u001b[0m\u001b[1;33m:\u001b[0m\u001b[1;33m\u001b[0m\u001b[1;33m\u001b[0m\u001b[0m\n",
      "\u001b[1;32m~\\Anaconda3\\lib\\site-packages\\matplotlib\\backend_bases.py\u001b[0m in \u001b[0;36mprint_figure\u001b[1;34m(self, filename, dpi, facecolor, edgecolor, orientation, format, bbox_inches, **kwargs)\u001b[0m\n\u001b[0;32m   2080\u001b[0m                     \u001b[0morientation\u001b[0m\u001b[1;33m=\u001b[0m\u001b[0morientation\u001b[0m\u001b[1;33m,\u001b[0m\u001b[1;33m\u001b[0m\u001b[1;33m\u001b[0m\u001b[0m\n\u001b[0;32m   2081\u001b[0m                     \u001b[0mbbox_inches_restore\u001b[0m\u001b[1;33m=\u001b[0m\u001b[0m_bbox_inches_restore\u001b[0m\u001b[1;33m,\u001b[0m\u001b[1;33m\u001b[0m\u001b[1;33m\u001b[0m\u001b[0m\n\u001b[1;32m-> 2082\u001b[1;33m                     **kwargs)\n\u001b[0m\u001b[0;32m   2083\u001b[0m             \u001b[1;32mfinally\u001b[0m\u001b[1;33m:\u001b[0m\u001b[1;33m\u001b[0m\u001b[1;33m\u001b[0m\u001b[0m\n\u001b[0;32m   2084\u001b[0m                 \u001b[1;32mif\u001b[0m \u001b[0mbbox_inches\u001b[0m \u001b[1;32mand\u001b[0m \u001b[0mrestore_bbox\u001b[0m\u001b[1;33m:\u001b[0m\u001b[1;33m\u001b[0m\u001b[1;33m\u001b[0m\u001b[0m\n",
      "\u001b[1;32m~\\Anaconda3\\lib\\site-packages\\matplotlib\\backends\\backend_agg.py\u001b[0m in \u001b[0;36mprint_jpg\u001b[1;34m(self, filename_or_obj, dryrun, pil_kwargs, *args, **kwargs)\u001b[0m\n\u001b[0;32m    585\u001b[0m             \u001b[0mrgba\u001b[0m \u001b[1;33m=\u001b[0m \u001b[0mmcolors\u001b[0m\u001b[1;33m.\u001b[0m\u001b[0mto_rgba\u001b[0m\u001b[1;33m(\u001b[0m\u001b[0mrcParams\u001b[0m\u001b[1;33m[\u001b[0m\u001b[1;34m'savefig.facecolor'\u001b[0m\u001b[1;33m]\u001b[0m\u001b[1;33m)\u001b[0m\u001b[1;33m\u001b[0m\u001b[1;33m\u001b[0m\u001b[0m\n\u001b[0;32m    586\u001b[0m             \u001b[0mcolor\u001b[0m \u001b[1;33m=\u001b[0m \u001b[0mtuple\u001b[0m\u001b[1;33m(\u001b[0m\u001b[1;33m[\u001b[0m\u001b[0mint\u001b[0m\u001b[1;33m(\u001b[0m\u001b[0mx\u001b[0m \u001b[1;33m*\u001b[0m \u001b[1;36m255\u001b[0m\u001b[1;33m)\u001b[0m \u001b[1;32mfor\u001b[0m \u001b[0mx\u001b[0m \u001b[1;32min\u001b[0m \u001b[0mrgba\u001b[0m\u001b[1;33m[\u001b[0m\u001b[1;33m:\u001b[0m\u001b[1;36m3\u001b[0m\u001b[1;33m]\u001b[0m\u001b[1;33m]\u001b[0m\u001b[1;33m)\u001b[0m\u001b[1;33m\u001b[0m\u001b[1;33m\u001b[0m\u001b[0m\n\u001b[1;32m--> 587\u001b[1;33m             \u001b[0mbackground\u001b[0m \u001b[1;33m=\u001b[0m \u001b[0mImage\u001b[0m\u001b[1;33m.\u001b[0m\u001b[0mnew\u001b[0m\u001b[1;33m(\u001b[0m\u001b[1;34m'RGB'\u001b[0m\u001b[1;33m,\u001b[0m \u001b[0msize\u001b[0m\u001b[1;33m,\u001b[0m \u001b[0mcolor\u001b[0m\u001b[1;33m)\u001b[0m\u001b[1;33m\u001b[0m\u001b[1;33m\u001b[0m\u001b[0m\n\u001b[0m\u001b[0;32m    588\u001b[0m             \u001b[0mbackground\u001b[0m\u001b[1;33m.\u001b[0m\u001b[0mpaste\u001b[0m\u001b[1;33m(\u001b[0m\u001b[0mimage\u001b[0m\u001b[1;33m,\u001b[0m \u001b[0mimage\u001b[0m\u001b[1;33m)\u001b[0m\u001b[1;33m\u001b[0m\u001b[1;33m\u001b[0m\u001b[0m\n\u001b[0;32m    589\u001b[0m             \u001b[1;32mif\u001b[0m \u001b[0mpil_kwargs\u001b[0m \u001b[1;32mis\u001b[0m \u001b[1;32mNone\u001b[0m\u001b[1;33m:\u001b[0m\u001b[1;33m\u001b[0m\u001b[1;33m\u001b[0m\u001b[0m\n",
      "\u001b[1;32m~\\Anaconda3\\lib\\site-packages\\PIL\\Image.py\u001b[0m in \u001b[0;36mnew\u001b[1;34m(mode, size, color)\u001b[0m\n\u001b[0;32m   2507\u001b[0m         \u001b[0mim\u001b[0m\u001b[1;33m.\u001b[0m\u001b[0mpalette\u001b[0m \u001b[1;33m=\u001b[0m \u001b[0mImagePalette\u001b[0m\u001b[1;33m.\u001b[0m\u001b[0mImagePalette\u001b[0m\u001b[1;33m(\u001b[0m\u001b[1;33m)\u001b[0m\u001b[1;33m\u001b[0m\u001b[1;33m\u001b[0m\u001b[0m\n\u001b[0;32m   2508\u001b[0m         \u001b[0mcolor\u001b[0m \u001b[1;33m=\u001b[0m \u001b[0mim\u001b[0m\u001b[1;33m.\u001b[0m\u001b[0mpalette\u001b[0m\u001b[1;33m.\u001b[0m\u001b[0mgetcolor\u001b[0m\u001b[1;33m(\u001b[0m\u001b[0mcolor\u001b[0m\u001b[1;33m)\u001b[0m\u001b[1;33m\u001b[0m\u001b[1;33m\u001b[0m\u001b[0m\n\u001b[1;32m-> 2509\u001b[1;33m     \u001b[1;32mreturn\u001b[0m \u001b[0mim\u001b[0m\u001b[1;33m.\u001b[0m\u001b[0m_new\u001b[0m\u001b[1;33m(\u001b[0m\u001b[0mcore\u001b[0m\u001b[1;33m.\u001b[0m\u001b[0mfill\u001b[0m\u001b[1;33m(\u001b[0m\u001b[0mmode\u001b[0m\u001b[1;33m,\u001b[0m \u001b[0msize\u001b[0m\u001b[1;33m,\u001b[0m \u001b[0mcolor\u001b[0m\u001b[1;33m)\u001b[0m\u001b[1;33m)\u001b[0m\u001b[1;33m\u001b[0m\u001b[1;33m\u001b[0m\u001b[0m\n\u001b[0m\u001b[0;32m   2510\u001b[0m \u001b[1;33m\u001b[0m\u001b[0m\n\u001b[0;32m   2511\u001b[0m \u001b[1;33m\u001b[0m\u001b[0m\n",
      "\u001b[1;31mMemoryError\u001b[0m: "
     ]
    },
    {
     "ename": "MemoryError",
     "evalue": "In RendererAgg: Out of memory",
     "output_type": "error",
     "traceback": [
      "\u001b[1;31m---------------------------------------------------------------------------\u001b[0m",
      "\u001b[1;31mMemoryError\u001b[0m                               Traceback (most recent call last)",
      "\u001b[1;32m~\\Anaconda3\\lib\\site-packages\\IPython\\core\\formatters.py\u001b[0m in \u001b[0;36m__call__\u001b[1;34m(self, obj)\u001b[0m\n\u001b[0;32m    339\u001b[0m                 \u001b[1;32mpass\u001b[0m\u001b[1;33m\u001b[0m\u001b[1;33m\u001b[0m\u001b[0m\n\u001b[0;32m    340\u001b[0m             \u001b[1;32melse\u001b[0m\u001b[1;33m:\u001b[0m\u001b[1;33m\u001b[0m\u001b[1;33m\u001b[0m\u001b[0m\n\u001b[1;32m--> 341\u001b[1;33m                 \u001b[1;32mreturn\u001b[0m \u001b[0mprinter\u001b[0m\u001b[1;33m(\u001b[0m\u001b[0mobj\u001b[0m\u001b[1;33m)\u001b[0m\u001b[1;33m\u001b[0m\u001b[1;33m\u001b[0m\u001b[0m\n\u001b[0m\u001b[0;32m    342\u001b[0m             \u001b[1;31m# Finally look for special method names\u001b[0m\u001b[1;33m\u001b[0m\u001b[1;33m\u001b[0m\u001b[1;33m\u001b[0m\u001b[0m\n\u001b[0;32m    343\u001b[0m             \u001b[0mmethod\u001b[0m \u001b[1;33m=\u001b[0m \u001b[0mget_real_method\u001b[0m\u001b[1;33m(\u001b[0m\u001b[0mobj\u001b[0m\u001b[1;33m,\u001b[0m \u001b[0mself\u001b[0m\u001b[1;33m.\u001b[0m\u001b[0mprint_method\u001b[0m\u001b[1;33m)\u001b[0m\u001b[1;33m\u001b[0m\u001b[1;33m\u001b[0m\u001b[0m\n",
      "\u001b[1;32m~\\Anaconda3\\lib\\site-packages\\IPython\\core\\pylabtools.py\u001b[0m in \u001b[0;36m<lambda>\u001b[1;34m(fig)\u001b[0m\n\u001b[0;32m    242\u001b[0m \u001b[1;33m\u001b[0m\u001b[0m\n\u001b[0;32m    243\u001b[0m     \u001b[1;32mif\u001b[0m \u001b[1;34m'png'\u001b[0m \u001b[1;32min\u001b[0m \u001b[0mformats\u001b[0m\u001b[1;33m:\u001b[0m\u001b[1;33m\u001b[0m\u001b[1;33m\u001b[0m\u001b[0m\n\u001b[1;32m--> 244\u001b[1;33m         \u001b[0mpng_formatter\u001b[0m\u001b[1;33m.\u001b[0m\u001b[0mfor_type\u001b[0m\u001b[1;33m(\u001b[0m\u001b[0mFigure\u001b[0m\u001b[1;33m,\u001b[0m \u001b[1;32mlambda\u001b[0m \u001b[0mfig\u001b[0m\u001b[1;33m:\u001b[0m \u001b[0mprint_figure\u001b[0m\u001b[1;33m(\u001b[0m\u001b[0mfig\u001b[0m\u001b[1;33m,\u001b[0m \u001b[1;34m'png'\u001b[0m\u001b[1;33m,\u001b[0m \u001b[1;33m**\u001b[0m\u001b[0mkwargs\u001b[0m\u001b[1;33m)\u001b[0m\u001b[1;33m)\u001b[0m\u001b[1;33m\u001b[0m\u001b[1;33m\u001b[0m\u001b[0m\n\u001b[0m\u001b[0;32m    245\u001b[0m     \u001b[1;32mif\u001b[0m \u001b[1;34m'retina'\u001b[0m \u001b[1;32min\u001b[0m \u001b[0mformats\u001b[0m \u001b[1;32mor\u001b[0m \u001b[1;34m'png2x'\u001b[0m \u001b[1;32min\u001b[0m \u001b[0mformats\u001b[0m\u001b[1;33m:\u001b[0m\u001b[1;33m\u001b[0m\u001b[1;33m\u001b[0m\u001b[0m\n\u001b[0;32m    246\u001b[0m         \u001b[0mpng_formatter\u001b[0m\u001b[1;33m.\u001b[0m\u001b[0mfor_type\u001b[0m\u001b[1;33m(\u001b[0m\u001b[0mFigure\u001b[0m\u001b[1;33m,\u001b[0m \u001b[1;32mlambda\u001b[0m \u001b[0mfig\u001b[0m\u001b[1;33m:\u001b[0m \u001b[0mretina_figure\u001b[0m\u001b[1;33m(\u001b[0m\u001b[0mfig\u001b[0m\u001b[1;33m,\u001b[0m \u001b[1;33m**\u001b[0m\u001b[0mkwargs\u001b[0m\u001b[1;33m)\u001b[0m\u001b[1;33m)\u001b[0m\u001b[1;33m\u001b[0m\u001b[1;33m\u001b[0m\u001b[0m\n",
      "\u001b[1;32m~\\Anaconda3\\lib\\site-packages\\IPython\\core\\pylabtools.py\u001b[0m in \u001b[0;36mprint_figure\u001b[1;34m(fig, fmt, bbox_inches, **kwargs)\u001b[0m\n\u001b[0;32m    126\u001b[0m \u001b[1;33m\u001b[0m\u001b[0m\n\u001b[0;32m    127\u001b[0m     \u001b[0mbytes_io\u001b[0m \u001b[1;33m=\u001b[0m \u001b[0mBytesIO\u001b[0m\u001b[1;33m(\u001b[0m\u001b[1;33m)\u001b[0m\u001b[1;33m\u001b[0m\u001b[1;33m\u001b[0m\u001b[0m\n\u001b[1;32m--> 128\u001b[1;33m     \u001b[0mfig\u001b[0m\u001b[1;33m.\u001b[0m\u001b[0mcanvas\u001b[0m\u001b[1;33m.\u001b[0m\u001b[0mprint_figure\u001b[0m\u001b[1;33m(\u001b[0m\u001b[0mbytes_io\u001b[0m\u001b[1;33m,\u001b[0m \u001b[1;33m**\u001b[0m\u001b[0mkw\u001b[0m\u001b[1;33m)\u001b[0m\u001b[1;33m\u001b[0m\u001b[1;33m\u001b[0m\u001b[0m\n\u001b[0m\u001b[0;32m    129\u001b[0m     \u001b[0mdata\u001b[0m \u001b[1;33m=\u001b[0m \u001b[0mbytes_io\u001b[0m\u001b[1;33m.\u001b[0m\u001b[0mgetvalue\u001b[0m\u001b[1;33m(\u001b[0m\u001b[1;33m)\u001b[0m\u001b[1;33m\u001b[0m\u001b[1;33m\u001b[0m\u001b[0m\n\u001b[0;32m    130\u001b[0m     \u001b[1;32mif\u001b[0m \u001b[0mfmt\u001b[0m \u001b[1;33m==\u001b[0m \u001b[1;34m'svg'\u001b[0m\u001b[1;33m:\u001b[0m\u001b[1;33m\u001b[0m\u001b[1;33m\u001b[0m\u001b[0m\n",
      "\u001b[1;32m~\\Anaconda3\\lib\\site-packages\\matplotlib\\backend_bases.py\u001b[0m in \u001b[0;36mprint_figure\u001b[1;34m(self, filename, dpi, facecolor, edgecolor, orientation, format, bbox_inches, **kwargs)\u001b[0m\n\u001b[0;32m   2080\u001b[0m                     \u001b[0morientation\u001b[0m\u001b[1;33m=\u001b[0m\u001b[0morientation\u001b[0m\u001b[1;33m,\u001b[0m\u001b[1;33m\u001b[0m\u001b[1;33m\u001b[0m\u001b[0m\n\u001b[0;32m   2081\u001b[0m                     \u001b[0mbbox_inches_restore\u001b[0m\u001b[1;33m=\u001b[0m\u001b[0m_bbox_inches_restore\u001b[0m\u001b[1;33m,\u001b[0m\u001b[1;33m\u001b[0m\u001b[1;33m\u001b[0m\u001b[0m\n\u001b[1;32m-> 2082\u001b[1;33m                     **kwargs)\n\u001b[0m\u001b[0;32m   2083\u001b[0m             \u001b[1;32mfinally\u001b[0m\u001b[1;33m:\u001b[0m\u001b[1;33m\u001b[0m\u001b[1;33m\u001b[0m\u001b[0m\n\u001b[0;32m   2084\u001b[0m                 \u001b[1;32mif\u001b[0m \u001b[0mbbox_inches\u001b[0m \u001b[1;32mand\u001b[0m \u001b[0mrestore_bbox\u001b[0m\u001b[1;33m:\u001b[0m\u001b[1;33m\u001b[0m\u001b[1;33m\u001b[0m\u001b[0m\n",
      "\u001b[1;32m~\\Anaconda3\\lib\\site-packages\\matplotlib\\backends\\backend_agg.py\u001b[0m in \u001b[0;36mprint_png\u001b[1;34m(self, filename_or_obj, metadata, pil_kwargs, *args, **kwargs)\u001b[0m\n\u001b[0;32m    525\u001b[0m \u001b[1;33m\u001b[0m\u001b[0m\n\u001b[0;32m    526\u001b[0m         \u001b[1;32melse\u001b[0m\u001b[1;33m:\u001b[0m\u001b[1;33m\u001b[0m\u001b[1;33m\u001b[0m\u001b[0m\n\u001b[1;32m--> 527\u001b[1;33m             \u001b[0mFigureCanvasAgg\u001b[0m\u001b[1;33m.\u001b[0m\u001b[0mdraw\u001b[0m\u001b[1;33m(\u001b[0m\u001b[0mself\u001b[0m\u001b[1;33m)\u001b[0m\u001b[1;33m\u001b[0m\u001b[1;33m\u001b[0m\u001b[0m\n\u001b[0m\u001b[0;32m    528\u001b[0m             \u001b[0mrenderer\u001b[0m \u001b[1;33m=\u001b[0m \u001b[0mself\u001b[0m\u001b[1;33m.\u001b[0m\u001b[0mget_renderer\u001b[0m\u001b[1;33m(\u001b[0m\u001b[1;33m)\u001b[0m\u001b[1;33m\u001b[0m\u001b[1;33m\u001b[0m\u001b[0m\n\u001b[0;32m    529\u001b[0m             \u001b[1;32mwith\u001b[0m \u001b[0mcbook\u001b[0m\u001b[1;33m.\u001b[0m\u001b[0m_setattr_cm\u001b[0m\u001b[1;33m(\u001b[0m\u001b[0mrenderer\u001b[0m\u001b[1;33m,\u001b[0m \u001b[0mdpi\u001b[0m\u001b[1;33m=\u001b[0m\u001b[0mself\u001b[0m\u001b[1;33m.\u001b[0m\u001b[0mfigure\u001b[0m\u001b[1;33m.\u001b[0m\u001b[0mdpi\u001b[0m\u001b[1;33m)\u001b[0m\u001b[1;33m,\u001b[0m\u001b[0;31m \u001b[0m\u001b[0;31m\\\u001b[0m\u001b[1;33m\u001b[0m\u001b[1;33m\u001b[0m\u001b[0m\n",
      "\u001b[1;32m~\\Anaconda3\\lib\\site-packages\\matplotlib\\backends\\backend_agg.py\u001b[0m in \u001b[0;36mdraw\u001b[1;34m(self)\u001b[0m\n\u001b[0;32m    384\u001b[0m         \u001b[0mDraw\u001b[0m \u001b[0mthe\u001b[0m \u001b[0mfigure\u001b[0m \u001b[0musing\u001b[0m \u001b[0mthe\u001b[0m \u001b[0mrenderer\u001b[0m\u001b[1;33m.\u001b[0m\u001b[1;33m\u001b[0m\u001b[1;33m\u001b[0m\u001b[0m\n\u001b[0;32m    385\u001b[0m         \"\"\"\n\u001b[1;32m--> 386\u001b[1;33m         \u001b[0mself\u001b[0m\u001b[1;33m.\u001b[0m\u001b[0mrenderer\u001b[0m \u001b[1;33m=\u001b[0m \u001b[0mself\u001b[0m\u001b[1;33m.\u001b[0m\u001b[0mget_renderer\u001b[0m\u001b[1;33m(\u001b[0m\u001b[0mcleared\u001b[0m\u001b[1;33m=\u001b[0m\u001b[1;32mTrue\u001b[0m\u001b[1;33m)\u001b[0m\u001b[1;33m\u001b[0m\u001b[1;33m\u001b[0m\u001b[0m\n\u001b[0m\u001b[0;32m    387\u001b[0m         \u001b[1;32mwith\u001b[0m \u001b[0mRendererAgg\u001b[0m\u001b[1;33m.\u001b[0m\u001b[0mlock\u001b[0m\u001b[1;33m:\u001b[0m\u001b[1;33m\u001b[0m\u001b[1;33m\u001b[0m\u001b[0m\n\u001b[0;32m    388\u001b[0m             \u001b[0mself\u001b[0m\u001b[1;33m.\u001b[0m\u001b[0mfigure\u001b[0m\u001b[1;33m.\u001b[0m\u001b[0mdraw\u001b[0m\u001b[1;33m(\u001b[0m\u001b[0mself\u001b[0m\u001b[1;33m.\u001b[0m\u001b[0mrenderer\u001b[0m\u001b[1;33m)\u001b[0m\u001b[1;33m\u001b[0m\u001b[1;33m\u001b[0m\u001b[0m\n",
      "\u001b[1;32m~\\Anaconda3\\lib\\site-packages\\matplotlib\\backends\\backend_agg.py\u001b[0m in \u001b[0;36mget_renderer\u001b[1;34m(self, cleared)\u001b[0m\n\u001b[0;32m    397\u001b[0m                           and getattr(self, \"_lastKey\", None) == key)\n\u001b[0;32m    398\u001b[0m         \u001b[1;32mif\u001b[0m \u001b[1;32mnot\u001b[0m \u001b[0mreuse_renderer\u001b[0m\u001b[1;33m:\u001b[0m\u001b[1;33m\u001b[0m\u001b[1;33m\u001b[0m\u001b[0m\n\u001b[1;32m--> 399\u001b[1;33m             \u001b[0mself\u001b[0m\u001b[1;33m.\u001b[0m\u001b[0mrenderer\u001b[0m \u001b[1;33m=\u001b[0m \u001b[0mRendererAgg\u001b[0m\u001b[1;33m(\u001b[0m\u001b[0mw\u001b[0m\u001b[1;33m,\u001b[0m \u001b[0mh\u001b[0m\u001b[1;33m,\u001b[0m \u001b[0mself\u001b[0m\u001b[1;33m.\u001b[0m\u001b[0mfigure\u001b[0m\u001b[1;33m.\u001b[0m\u001b[0mdpi\u001b[0m\u001b[1;33m)\u001b[0m\u001b[1;33m\u001b[0m\u001b[1;33m\u001b[0m\u001b[0m\n\u001b[0m\u001b[0;32m    400\u001b[0m             \u001b[0mself\u001b[0m\u001b[1;33m.\u001b[0m\u001b[0m_lastKey\u001b[0m \u001b[1;33m=\u001b[0m \u001b[0mkey\u001b[0m\u001b[1;33m\u001b[0m\u001b[1;33m\u001b[0m\u001b[0m\n\u001b[0;32m    401\u001b[0m         \u001b[1;32melif\u001b[0m \u001b[0mcleared\u001b[0m\u001b[1;33m:\u001b[0m\u001b[1;33m\u001b[0m\u001b[1;33m\u001b[0m\u001b[0m\n",
      "\u001b[1;32m~\\Anaconda3\\lib\\site-packages\\matplotlib\\backends\\backend_agg.py\u001b[0m in \u001b[0;36m__init__\u001b[1;34m(self, width, height, dpi)\u001b[0m\n\u001b[0;32m     84\u001b[0m         \u001b[0mself\u001b[0m\u001b[1;33m.\u001b[0m\u001b[0mwidth\u001b[0m \u001b[1;33m=\u001b[0m \u001b[0mwidth\u001b[0m\u001b[1;33m\u001b[0m\u001b[1;33m\u001b[0m\u001b[0m\n\u001b[0;32m     85\u001b[0m         \u001b[0mself\u001b[0m\u001b[1;33m.\u001b[0m\u001b[0mheight\u001b[0m \u001b[1;33m=\u001b[0m \u001b[0mheight\u001b[0m\u001b[1;33m\u001b[0m\u001b[1;33m\u001b[0m\u001b[0m\n\u001b[1;32m---> 86\u001b[1;33m         \u001b[0mself\u001b[0m\u001b[1;33m.\u001b[0m\u001b[0m_renderer\u001b[0m \u001b[1;33m=\u001b[0m \u001b[0m_RendererAgg\u001b[0m\u001b[1;33m(\u001b[0m\u001b[0mint\u001b[0m\u001b[1;33m(\u001b[0m\u001b[0mwidth\u001b[0m\u001b[1;33m)\u001b[0m\u001b[1;33m,\u001b[0m \u001b[0mint\u001b[0m\u001b[1;33m(\u001b[0m\u001b[0mheight\u001b[0m\u001b[1;33m)\u001b[0m\u001b[1;33m,\u001b[0m \u001b[0mdpi\u001b[0m\u001b[1;33m)\u001b[0m\u001b[1;33m\u001b[0m\u001b[1;33m\u001b[0m\u001b[0m\n\u001b[0m\u001b[0;32m     87\u001b[0m         \u001b[0mself\u001b[0m\u001b[1;33m.\u001b[0m\u001b[0m_filter_renderers\u001b[0m \u001b[1;33m=\u001b[0m \u001b[1;33m[\u001b[0m\u001b[1;33m]\u001b[0m\u001b[1;33m\u001b[0m\u001b[1;33m\u001b[0m\u001b[0m\n\u001b[0;32m     88\u001b[0m \u001b[1;33m\u001b[0m\u001b[0m\n",
      "\u001b[1;31mMemoryError\u001b[0m: In RendererAgg: Out of memory"
     ]
    },
    {
     "data": {
      "text/plain": [
       "<Figure size 20736x11520 with 1 Axes>"
      ]
     },
     "metadata": {
      "needs_background": "light"
     },
     "output_type": "display_data"
    }
   ],
   "source": [
    "\n",
    "import matplotlib.pyplot as plt\n",
    "%matplotlib inline\n",
    "\n",
    "#D = {u'Label1':26, u'Label2': 17, u'Label3':30}\n",
    "plt.rcParams[\"figure.figsize\"] = (288,160)\n",
    "plt.legend('Sentiment Analysis')\n",
    "\n",
    "plt.bar(range(len(df.sentiment)), df.sentiment, align='center',color = 'r')\n",
    "plt.xticks(range(len(df.sentiment)), df.sentiment)\n",
    "\n",
    "plt.xlabel('Date', fontsize =150)\n",
    "plt.ylabel('Sentiment',fontsize =100)\n",
    "Sentiment_Picture= plt.savefig('sentiment.jpg')\n",
    "plt.show()"
   ]
  },
  {
   "cell_type": "code",
   "execution_count": 39,
   "metadata": {},
   "outputs": [],
   "source": [
    "from nltk.tokenize.toktok import ToktokTokenizer\n",
    "stopword_list = nltk.corpus.stopwords.words('english')\n",
    "stopword_list.remove('no')\n",
    "stopword_list.remove('not')\n",
    "tokenizer = ToktokTokenizer()\n",
    "def remove_stopwords(text, is_lower_case=False):\n",
    "    tokens = tokenizer.tokenize(text)\n",
    "    tokens = [token.strip() for token in tokens]\n",
    "    if is_lower_case:\n",
    "        filtered_tokens = [token for token in tokens if token not in stopword_list]\n",
    "    else:\n",
    "        filtered_tokens = [token for token in tokens if token.lower() not in stopword_list]\n",
    "    filtered_text = ' '.join(filtered_tokens)    \n",
    "    return filtered_text\n",
    "\n"
   ]
  },
  {
   "cell_type": "code",
   "execution_count": 40,
   "metadata": {},
   "outputs": [
    {
     "ename": "NameError",
     "evalue": "name 'i' is not defined",
     "output_type": "error",
     "traceback": [
      "\u001b[1;31m---------------------------------------------------------------------------\u001b[0m",
      "\u001b[1;31mNameError\u001b[0m                                 Traceback (most recent call last)",
      "\u001b[1;32m<ipython-input-40-8376eafe9216>\u001b[0m in \u001b[0;36m<module>\u001b[1;34m\u001b[0m\n\u001b[1;32m----> 1\u001b[1;33m \u001b[0mdf\u001b[0m\u001b[1;33m[\u001b[0m\u001b[1;34m'COND'\u001b[0m\u001b[1;33m]\u001b[0m\u001b[1;33m[\u001b[0m\u001b[0mi\u001b[0m\u001b[1;33m]\u001b[0m \u001b[1;33m=\u001b[0m \u001b[0mdf\u001b[0m\u001b[1;33m[\u001b[0m\u001b[1;34m'text_lemmatized'\u001b[0m\u001b[1;33m]\u001b[0m\u001b[1;33m.\u001b[0m\u001b[0mapply\u001b[0m\u001b[1;33m(\u001b[0m\u001b[0mremove_stopwords\u001b[0m\u001b[1;33m)\u001b[0m\u001b[1;33m\u001b[0m\u001b[1;33m\u001b[0m\u001b[0m\n\u001b[0m",
      "\u001b[1;31mNameError\u001b[0m: name 'i' is not defined"
     ]
    }
   ],
   "source": [
    "df['COND'][i] = df['text_lemmatized'].apply(remove_stopwords)"
   ]
  },
  {
   "cell_type": "code",
   "execution_count": null,
   "metadata": {},
   "outputs": [],
   "source": []
  },
  {
   "cell_type": "code",
   "execution_count": null,
   "metadata": {},
   "outputs": [],
   "source": [
    "df.COND.head()"
   ]
  },
  {
   "cell_type": "code",
   "execution_count": null,
   "metadata": {},
   "outputs": [],
   "source": [
    "\n"
   ]
  },
  {
   "cell_type": "code",
   "execution_count": null,
   "metadata": {},
   "outputs": [],
   "source": []
  }
 ],
 "metadata": {
  "kernelspec": {
   "display_name": "Python 3",
   "language": "python",
   "name": "python3"
  },
  "language_info": {
   "codemirror_mode": {
    "name": "ipython",
    "version": 3
   },
   "file_extension": ".py",
   "mimetype": "text/x-python",
   "name": "python",
   "nbconvert_exporter": "python",
   "pygments_lexer": "ipython3",
   "version": "3.7.3"
  }
 },
 "nbformat": 4,
 "nbformat_minor": 2
}
