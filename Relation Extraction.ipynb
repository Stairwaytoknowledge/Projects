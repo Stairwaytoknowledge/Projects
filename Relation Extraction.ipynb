{
 "cells": [
  {
   "cell_type": "code",
   "execution_count": 9,
   "metadata": {},
   "outputs": [],
   "source": [
    "import spacy\n",
    "nlp = spacy.load('en_core_web_md')"
   ]
  },
  {
   "cell_type": "code",
   "execution_count": 10,
   "metadata": {},
   "outputs": [],
   "source": [
    "sentence = \"IC Asian Computer Services Pte Ltd is a subsidiary of UIC Technologies Pte Ltd\""
   ]
  },
  {
   "cell_type": "code",
   "execution_count": 11,
   "metadata": {},
   "outputs": [
    {
     "data": {
      "text/plain": [
       "IC Asian Computer Services Pte Ltd is a subsidiary of UIC Technologies Pte Ltd"
      ]
     },
     "execution_count": 11,
     "metadata": {},
     "output_type": "execute_result"
    }
   ],
   "source": [
    "doc = nlp(sentence)\n",
    "doc\n",
    "#ents = [ent for ent in doc.ents if ent.label_ == 'ORG']"
   ]
  },
  {
   "cell_type": "code",
   "execution_count": 12,
   "metadata": {},
   "outputs": [
    {
     "data": {
      "text/plain": [
       "[IC Asian Computer Services Pte Ltd, UIC, Pte Ltd]"
      ]
     },
     "execution_count": 12,
     "metadata": {},
     "output_type": "execute_result"
    }
   ],
   "source": [
    "ents = [ent for ent in doc.ents if ent.label_ == 'ORG']\n",
    "ents"
   ]
  },
  {
   "cell_type": "code",
   "execution_count": 17,
   "metadata": {},
   "outputs": [
    {
     "name": "stdout",
     "output_type": "stream",
     "text": [
      "IC\n",
      "IC\n",
      "compound\n",
      "Asian\n",
      "Asian\n",
      "compound\n",
      "Computer\n",
      "Computer\n",
      "compound\n",
      "Services\n",
      "Services\n",
      "compound\n",
      "Pte\n",
      "Pte\n",
      "compound\n",
      "Ltd\n",
      "Ltd\n",
      "nsubj\n",
      " \n",
      " \n",
      "\n",
      " \n",
      " \n",
      "\n",
      "subsidiary\n",
      "subsidiary\n",
      "attr\n",
      " \n",
      " \n",
      "\n",
      " \n",
      " \n",
      "\n",
      "UIC\n",
      "UIC\n",
      "compound\n",
      " \n",
      " \n",
      "\n",
      "Technologies\n",
      "Technologies\n",
      "compound\n",
      " \n",
      " \n",
      "\n",
      "Pte\n",
      "Pte\n",
      "compound\n",
      "Ltd\n",
      "Ltd\n",
      "pobj\n"
     ]
    }
   ],
   "source": [
    "for token in doc:\n",
    "    if not token.is_stop:\n",
    "        print (token)\n",
    "        print(token.text)\n",
    "        print(token.dep_)"
   ]
  },
  {
   "cell_type": "code",
   "execution_count": 23,
   "metadata": {},
   "outputs": [
    {
     "data": {
      "text/plain": [
       "spacy.tokens.doc.Doc"
      ]
     },
     "execution_count": 23,
     "metadata": {},
     "output_type": "execute_result"
    }
   ],
   "source": [
    "type(doc)"
   ]
  },
  {
   "cell_type": "code",
   "execution_count": 24,
   "metadata": {},
   "outputs": [
    {
     "name": "stdout",
     "output_type": "stream",
     "text": [
      "[IC, Asian, Computer, Services, Pte, Ltd,  ,  , subsidiary,  ,  , UIC,  , Technologies,  , Pte, Ltd]\n",
      "<class 'list'>\n"
     ]
    }
   ],
   "source": [
    "about_no_stopword_doc = [token for token in doc if not token.is_stop]\n",
    "print (about_no_stopword_doc)\n",
    "#conference_help_doc = nlp(doc)\n",
    "#for token in conference_help_doc:\n",
    " #   print (token, token.lemma_)\n",
    "print(type(about_no_stopword_doc))"
   ]
  },
  {
   "cell_type": "code",
   "execution_count": 14,
   "metadata": {},
   "outputs": [
    {
     "name": "stdout",
     "output_type": "stream",
     "text": [
      "IC Asian Computer Services Pte Ltd [subsidiary] UIC\n"
     ]
    }
   ],
   "source": [
    "if len(ents) > 1:\n",
    "    org_1 = ents[0]\n",
    "    org_2 = ents[1]\n",
    "    relation = [token for token in doc if token.dep_ == 'attr']\n",
    "print(org_1, relation, org_2)"
   ]
  },
  {
   "cell_type": "code",
   "execution_count": null,
   "metadata": {},
   "outputs": [],
   "source": []
  }
 ],
 "metadata": {
  "kernelspec": {
   "display_name": "Python 3",
   "language": "python",
   "name": "python3"
  },
  "language_info": {
   "codemirror_mode": {
    "name": "ipython",
    "version": 3
   },
   "file_extension": ".py",
   "mimetype": "text/x-python",
   "name": "python",
   "nbconvert_exporter": "python",
   "pygments_lexer": "ipython3",
   "version": "3.7.3"
  }
 },
 "nbformat": 4,
 "nbformat_minor": 2
}
