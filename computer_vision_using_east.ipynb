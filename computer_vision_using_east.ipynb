{
 "cells": [
  {
   "cell_type": "code",
   "execution_count": 1,
   "metadata": {},
   "outputs": [],
   "source": [
    "# USAGE\n",
    "# python text_detection.py --image images/lebron_james.jpg --east frozen_east_text_detection.pb\n",
    "\n",
    "# import the necessary packages\n",
    "from imutils.object_detection import non_max_suppression\n",
    "#for identifying bounding box\n",
    "import numpy as np\n",
    "import argparse\n",
    "import time\n",
    "import cv2\n",
    "\n"
   ]
  },
  {
   "cell_type": "code",
   "execution_count": 2,
   "metadata": {},
   "outputs": [],
   "source": [
    "import pytesseract\n",
    "#for text recognition"
   ]
  },
  {
   "cell_type": "code",
   "execution_count": 3,
   "metadata": {},
   "outputs": [],
   "source": [
    "pytesseract.pytesseract.tesseract_cmd = r'C:\\Users\\Sid\\AppData\\Local\\Tesseract-OCR\\tesseract.exe'"
   ]
  },
  {
   "cell_type": "code",
   "execution_count": 4,
   "metadata": {},
   "outputs": [],
   "source": [
    "net = cv2.dnn.readNet(\"frozen_east_text_detection.pb\")\n",
    "#pretraiined neural net via east "
   ]
  },
  {
   "cell_type": "code",
   "execution_count": 21,
   "metadata": {},
   "outputs": [],
   "source": [
    "im_to_text = []\n",
    "#image given here to process\n",
    "def text_detector(image):\n",
    "    orig  = image\n",
    "    (H,W) = image.shape[:2]\n",
    "    (newW,newH) = (320,320)\n",
    "    rW = W/float(newW)\n",
    "    rH = H/float(newH)\n",
    "    image = cv2.resize(image,(newW,newH))\n",
    "    (H,W)= image.shape[:2]\n",
    "    layerNames = [\"feature_fusion/Conv_7/Sigmoid\",\"feature_fusion/concat_3\"]\n",
    "    blob = cv2.dnn.blobFromImage(image,1.0,(W,H),(123.68,116.78,103.94),swapRB=True,crop=False)\n",
    "    net.setInput(blob)\n",
    "    (scores,geometry) = net.forward(layerNames)\n",
    "    (numRows,numCols)= scores.shape[2:4]\n",
    "    rects= []\n",
    "    confidences = []\n",
    "    \n",
    "    for y in range(0, numRows):\n",
    "        scoresData = scores[0,0,y]\n",
    "        xData0 = geometry[0,0,y]\n",
    "        xData1 = geometry[0,1,y]\n",
    "        xData2 = geometry[0,2,y]\n",
    "        xData3 = geometry[0,3,y]\n",
    "        anglesData = geometry[0,4,y]\n",
    "    \n",
    "        for x in range(0,numCols):\n",
    "            if scoresData[x]<0.5:\n",
    "                continue\n",
    "            (offsetX,offsetY) = (x*4.0,y*4.0)\n",
    "            angle = anglesData[x]\n",
    "            cos = np.cos(angle)\n",
    "            sin = np.sin(angle)\n",
    "            h = xData0[x] + xData2[x]\n",
    "            w = xData1[x] + xData3[x]\n",
    "            #text prediction bounding box\n",
    "            endX = int(offsetX + (cos*xData1[x])+ (sin*xData2[x]))\n",
    "            endY = int(offsetY - (sin*xData1[x])+ (cos*xData2[x]))\n",
    "\n",
    "            startX = int(endX-w)\n",
    "            startY = int(endY-h)\n",
    "            #add bounding box to list\n",
    "            rects.append((startX,startY,endX,endY))\n",
    "            confidences.append(scoresData[x])\n",
    "\n",
    "        boxes = non_max_suppression(np.array(rects),probs = confidences)\n",
    "        #this is where we identify the bounding boxes\n",
    "        #once we know where bounding boxes are we define a box where text is \n",
    "        #ROI -region of interest- bounding box\n",
    "        #startx,starty, endx,endy -> start left top coodinate, end bottom right coordinate\n",
    "        for(startX,startY,endX,endY) in boxes:\n",
    "            startX = int(startX*rW)\n",
    "            startY = int(startY*rH)\n",
    "\n",
    "            endX = int(endX*rW)\n",
    "            endY = int(endY*rH)\n",
    "            #this is an adjustable metric for improving accuracy\n",
    "            boundary = 5\n",
    "            #boundary is given to the box so that some information has some background of text\n",
    "            #else tesseract wont work properly\n",
    "            text = orig[startY-boundary:endY+ boundary,startX-boundary:endX+boundary]\n",
    "            #text is not a string,but an image vector\n",
    "            text = cv2.cvtColor(text.astype(np.uint8),cv2.COLOR_BGR2GRAY)\n",
    "            #this color image vector is converted to a gray  image for text recognition\n",
    "            textRecognized = pytesseract.image_to_string(text)\n",
    "            #the image is fairly visible now and the text can be fed into pytesseract for text recognition\n",
    "            im_to_text.append(textRecognized)\n",
    "            cv2.rectangle(orig,(startX,startY),(endX,endY),(0,255,0))\n",
    "            #draw the bounding box on the originial image \n",
    "            processed= cv2.putText(orig,textRecognized,(endX,endY+5),cv2.FONT_HERSHEY_SIMPLEX,1,\n",
    "                              (0, 0, 255), 2, cv2.LINE_AA)\n",
    "            #print the text onto the bounding box that we created in the last step \n",
    "            #0,0,255 is color and  2 is thickness , cv2.LINE_AA -> type of line we use\n",
    "    print(im_to_text)        \n",
    "    return processed\n",
    "        \n",
    "        \n",
    "    "
   ]
  },
  {
   "cell_type": "code",
   "execution_count": 22,
   "metadata": {},
   "outputs": [],
   "source": [
    "image0 = cv2.imread(r'C:\\Users\\Sid\\Documents\\ComputerVision\\images\\car_wash.png')\n",
    "image1 = cv2.imread(r'C:\\Users\\Sid\\Documents\\ComputerVision\\images\\lebron_james.jpg')\n",
    "image2 = cv2.imread(r'C:\\Users\\Sid\\Documents\\ComputerVision\\images\\sign.jpg')\n",
    "image3 = cv2.imread(r'C:\\Users\\Sid\\Documents\\ComputerVision\\images\\mug.jpeg')\n",
    "image4 = cv2.imread(r'C:\\Users\\Sid\\Documents\\ComputerVision\\images\\random.JPG')\n",
    "image5 = cv2.imread(r'C:\\Users\\Sid\\Documents\\ComputerVision\\images\\peanutbutter.JPEG')"
   ]
  },
  {
   "cell_type": "code",
   "execution_count": 23,
   "metadata": {},
   "outputs": [
    {
     "data": {
      "text/plain": [
       "array([[[ 11,  16,  19],\n",
       "        [ 11,  16,  19],\n",
       "        [  9,  16,  19],\n",
       "        ...,\n",
       "        [ 86, 107, 134],\n",
       "        [ 86, 107, 134],\n",
       "        [ 86, 107, 134]],\n",
       "\n",
       "       [[ 11,  16,  19],\n",
       "        [ 11,  16,  19],\n",
       "        [  9,  16,  19],\n",
       "        ...,\n",
       "        [ 86, 107, 134],\n",
       "        [ 86, 107, 134],\n",
       "        [ 86, 107, 134]],\n",
       "\n",
       "       [[ 11,  15,  20],\n",
       "        [ 11,  15,  20],\n",
       "        [  9,  15,  20],\n",
       "        ...,\n",
       "        [ 86, 107, 134],\n",
       "        [ 86, 107, 134],\n",
       "        [ 86, 107, 134]],\n",
       "\n",
       "       ...,\n",
       "\n",
       "       [[129, 151, 179],\n",
       "        [129, 151, 179],\n",
       "        [129, 151, 179],\n",
       "        ...,\n",
       "        [115, 138, 164],\n",
       "        [115, 138, 164],\n",
       "        [115, 138, 164]],\n",
       "\n",
       "       [[129, 151, 179],\n",
       "        [129, 151, 179],\n",
       "        [129, 151, 179],\n",
       "        ...,\n",
       "        [115, 138, 164],\n",
       "        [115, 138, 164],\n",
       "        [115, 138, 164]],\n",
       "\n",
       "       [[129, 151, 179],\n",
       "        [129, 151, 179],\n",
       "        [129, 151, 179],\n",
       "        ...,\n",
       "        [115, 138, 164],\n",
       "        [115, 138, 164],\n",
       "        [115, 138, 164]]], dtype=uint8)"
      ]
     },
     "execution_count": 23,
     "metadata": {},
     "output_type": "execute_result"
    }
   ],
   "source": [
    "#check if image is none, will cause error if image size is none\n",
    "image5"
   ]
  },
  {
   "cell_type": "code",
   "execution_count": 24,
   "metadata": {},
   "outputs": [],
   "source": [
    "#array = [image0,image1,image2,image3,image4]\n",
    "array = [image5]"
   ]
  },
  {
   "cell_type": "code",
   "execution_count": 25,
   "metadata": {},
   "outputs": [
    {
     "name": "stdout",
     "output_type": "stream",
     "text": [
      "['', '', '', '', '', '', '', '', '', '', '', '', '', '', '', '', '', '', '', '', '', '', '', '', '', '', '', '', '', '', '', '', '', '', '', '', '', '', '', '', '', '', '', '', '', '', '']\n",
      "['', '', '', '', '', '', '', '', '', '', '', '', '', '', '', '', '', '', '', '', '', '', '', '', '', '', '', '', '', '', '', '', '', '', '', '', '', '', '', '', '', '', '', '', '', '', '', '', '', '', '', '', '', '', '', '', '', '', '', '', '', '', '', '', '', '', '', '', '', '', '', '', '', '', '', '', '', '', '', '', '', '', '', '', '', '', '', '', '', '', '', '', '', '']\n"
     ]
    }
   ],
   "source": [
    "#loop the image 2 times, in first step the image is resized to multiple of 32 and interpolation by area\n",
    "#once again the resize is done to compare \n",
    "for i in range(0,2):\n",
    "    for img in array:\n",
    "        imageO = cv2.resize(img, (640,320) , interpolation= cv2.INTER_AREA)\n",
    "        orig = cv2.resize(img, (640,320) , interpolation= cv2.INTER_AREA)\n",
    "        textDetected = text_detector(imageO)\n",
    "        #identifies the bounding box and gets back the processed image\n",
    "        cv2.imshow(\"Orig image\",orig)\n",
    "        cv2.imshow(\"Text Detection\",textDetected)\n",
    "        time.sleep(2)\n",
    "        #to understand both images\n",
    "        k = cv2.waitKey(30)\n",
    "        #important to put this, else imshow function wont work\n",
    "        if k==27:\n",
    "            break\n",
    "cv2.destroyAllWindows()\n",
    "        "
   ]
  },
  {
   "cell_type": "code",
   "execution_count": 13,
   "metadata": {},
   "outputs": [],
   "source": [
    "import numpy as np \n",
    "  \n",
    "# function to get unique values \n",
    "def unique(list1): \n",
    "    x = np.array(list1) \n",
    "    print(np.unique(x)) "
   ]
  },
  {
   "cell_type": "code",
   "execution_count": 14,
   "metadata": {},
   "outputs": [
    {
     "name": "stdout",
     "output_type": "stream",
     "text": [
      "['']\n"
     ]
    }
   ],
   "source": [
    "unique(im_to_text)"
   ]
  },
  {
   "cell_type": "code",
   "execution_count": 26,
   "metadata": {},
   "outputs": [
    {
     "data": {
      "text/plain": [
       "(1600, 1600, 3)"
      ]
     },
     "execution_count": 26,
     "metadata": {},
     "output_type": "execute_result"
    }
   ],
   "source": [
    "image5.shape"
   ]
  },
  {
   "cell_type": "code",
   "execution_count": 29,
   "metadata": {},
   "outputs": [],
   "source": [
    "height,width,_ = image5.shape"
   ]
  },
  {
   "cell_type": "code",
   "execution_count": 30,
   "metadata": {},
   "outputs": [],
   "source": [
    "roi = image5[0:height, 400:width]"
   ]
  },
  {
   "cell_type": "code",
   "execution_count": 31,
   "metadata": {},
   "outputs": [],
   "source": [
    "cv2.imshow(\"roi\",roi)"
   ]
  },
  {
   "cell_type": "code",
   "execution_count": null,
   "metadata": {},
   "outputs": [],
   "source": []
  }
 ],
 "metadata": {
  "kernelspec": {
   "display_name": "Python 3",
   "language": "python",
   "name": "python3"
  },
  "language_info": {
   "codemirror_mode": {
    "name": "ipython",
    "version": 3
   },
   "file_extension": ".py",
   "mimetype": "text/x-python",
   "name": "python",
   "nbconvert_exporter": "python",
   "pygments_lexer": "ipython3",
   "version": "3.7.3"
  }
 },
 "nbformat": 4,
 "nbformat_minor": 2
}
