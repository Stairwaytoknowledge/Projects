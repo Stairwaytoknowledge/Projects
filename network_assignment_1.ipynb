{
 "cells": [
  {
   "cell_type": "markdown",
   "metadata": {},
   "source": [
    "Load the downloaded edge list using your preferred tool (R or Python) and module/package (e.g. igraph). Let’s call this “Network A”"
   ]
  },
  {
   "cell_type": "code",
   "execution_count": 521,
   "metadata": {},
   "outputs": [],
   "source": [
    "\n",
    "import numpy as np\n",
    "import pandas as pd\n",
    "from scipy.io import mmread\n",
    "import networkx as nw\n"
   ]
  },
  {
   "cell_type": "code",
   "execution_count": 522,
   "metadata": {},
   "outputs": [],
   "source": [
    "cell_matrix = mmread(r'C:\\Users\\Sid\\Downloads\\soc-karate\\soc-karate.mtx')\n"
   ]
  },
  {
   "cell_type": "code",
   "execution_count": 523,
   "metadata": {},
   "outputs": [
    {
     "data": {
      "text/plain": [
       "<34x34 sparse matrix of type '<class 'numpy.float64'>'\n",
       "\twith 156 stored elements in COOrdinate format>"
      ]
     },
     "execution_count": 523,
     "metadata": {},
     "output_type": "execute_result"
    }
   ],
   "source": [
    "cell_matrix"
   ]
  },
  {
   "cell_type": "markdown",
   "metadata": {},
   "source": [
    "Convert to a dataframe"
   ]
  },
  {
   "cell_type": "code",
   "execution_count": 524,
   "metadata": {},
   "outputs": [],
   "source": [
    "gph  = nw.Graph(cell_matrix)\n"
   ]
  },
  {
   "cell_type": "code",
   "execution_count": 525,
   "metadata": {},
   "outputs": [],
   "source": [
    "#Q2\n",
    "import scipy.sparse"
   ]
  },
  {
   "cell_type": "code",
   "execution_count": 526,
   "metadata": {},
   "outputs": [
    {
     "data": {
      "text/html": [
       "<div>\n",
       "<style scoped>\n",
       "    .dataframe tbody tr th:only-of-type {\n",
       "        vertical-align: middle;\n",
       "    }\n",
       "\n",
       "    .dataframe tbody tr th {\n",
       "        vertical-align: top;\n",
       "    }\n",
       "\n",
       "    .dataframe thead th {\n",
       "        text-align: right;\n",
       "    }\n",
       "</style>\n",
       "<table border=\"1\" class=\"dataframe\">\n",
       "  <thead>\n",
       "    <tr style=\"text-align: right;\">\n",
       "      <th></th>\n",
       "      <th>0</th>\n",
       "      <th>1</th>\n",
       "      <th>2</th>\n",
       "      <th>3</th>\n",
       "      <th>4</th>\n",
       "      <th>5</th>\n",
       "      <th>6</th>\n",
       "      <th>7</th>\n",
       "      <th>8</th>\n",
       "      <th>9</th>\n",
       "      <th>...</th>\n",
       "      <th>24</th>\n",
       "      <th>25</th>\n",
       "      <th>26</th>\n",
       "      <th>27</th>\n",
       "      <th>28</th>\n",
       "      <th>29</th>\n",
       "      <th>30</th>\n",
       "      <th>31</th>\n",
       "      <th>32</th>\n",
       "      <th>33</th>\n",
       "    </tr>\n",
       "  </thead>\n",
       "  <tbody>\n",
       "    <tr>\n",
       "      <td>0</td>\n",
       "      <td>0.0</td>\n",
       "      <td>1.0</td>\n",
       "      <td>1.0</td>\n",
       "      <td>1.0</td>\n",
       "      <td>1.0</td>\n",
       "      <td>1.0</td>\n",
       "      <td>1.0</td>\n",
       "      <td>1.0</td>\n",
       "      <td>1.0</td>\n",
       "      <td>0.0</td>\n",
       "      <td>...</td>\n",
       "      <td>0.0</td>\n",
       "      <td>0.0</td>\n",
       "      <td>0.0</td>\n",
       "      <td>0.0</td>\n",
       "      <td>0.0</td>\n",
       "      <td>0.0</td>\n",
       "      <td>0.0</td>\n",
       "      <td>1.0</td>\n",
       "      <td>0.0</td>\n",
       "      <td>0.0</td>\n",
       "    </tr>\n",
       "    <tr>\n",
       "      <td>1</td>\n",
       "      <td>1.0</td>\n",
       "      <td>0.0</td>\n",
       "      <td>1.0</td>\n",
       "      <td>1.0</td>\n",
       "      <td>0.0</td>\n",
       "      <td>0.0</td>\n",
       "      <td>0.0</td>\n",
       "      <td>1.0</td>\n",
       "      <td>0.0</td>\n",
       "      <td>0.0</td>\n",
       "      <td>...</td>\n",
       "      <td>0.0</td>\n",
       "      <td>0.0</td>\n",
       "      <td>0.0</td>\n",
       "      <td>0.0</td>\n",
       "      <td>0.0</td>\n",
       "      <td>0.0</td>\n",
       "      <td>1.0</td>\n",
       "      <td>0.0</td>\n",
       "      <td>0.0</td>\n",
       "      <td>0.0</td>\n",
       "    </tr>\n",
       "    <tr>\n",
       "      <td>2</td>\n",
       "      <td>1.0</td>\n",
       "      <td>1.0</td>\n",
       "      <td>0.0</td>\n",
       "      <td>1.0</td>\n",
       "      <td>0.0</td>\n",
       "      <td>0.0</td>\n",
       "      <td>0.0</td>\n",
       "      <td>1.0</td>\n",
       "      <td>1.0</td>\n",
       "      <td>1.0</td>\n",
       "      <td>...</td>\n",
       "      <td>0.0</td>\n",
       "      <td>0.0</td>\n",
       "      <td>0.0</td>\n",
       "      <td>1.0</td>\n",
       "      <td>1.0</td>\n",
       "      <td>0.0</td>\n",
       "      <td>0.0</td>\n",
       "      <td>0.0</td>\n",
       "      <td>1.0</td>\n",
       "      <td>0.0</td>\n",
       "    </tr>\n",
       "    <tr>\n",
       "      <td>3</td>\n",
       "      <td>1.0</td>\n",
       "      <td>1.0</td>\n",
       "      <td>1.0</td>\n",
       "      <td>0.0</td>\n",
       "      <td>0.0</td>\n",
       "      <td>0.0</td>\n",
       "      <td>0.0</td>\n",
       "      <td>1.0</td>\n",
       "      <td>0.0</td>\n",
       "      <td>0.0</td>\n",
       "      <td>...</td>\n",
       "      <td>0.0</td>\n",
       "      <td>0.0</td>\n",
       "      <td>0.0</td>\n",
       "      <td>0.0</td>\n",
       "      <td>0.0</td>\n",
       "      <td>0.0</td>\n",
       "      <td>0.0</td>\n",
       "      <td>0.0</td>\n",
       "      <td>0.0</td>\n",
       "      <td>0.0</td>\n",
       "    </tr>\n",
       "    <tr>\n",
       "      <td>4</td>\n",
       "      <td>1.0</td>\n",
       "      <td>0.0</td>\n",
       "      <td>0.0</td>\n",
       "      <td>0.0</td>\n",
       "      <td>0.0</td>\n",
       "      <td>0.0</td>\n",
       "      <td>1.0</td>\n",
       "      <td>0.0</td>\n",
       "      <td>0.0</td>\n",
       "      <td>0.0</td>\n",
       "      <td>...</td>\n",
       "      <td>0.0</td>\n",
       "      <td>0.0</td>\n",
       "      <td>0.0</td>\n",
       "      <td>0.0</td>\n",
       "      <td>0.0</td>\n",
       "      <td>0.0</td>\n",
       "      <td>0.0</td>\n",
       "      <td>0.0</td>\n",
       "      <td>0.0</td>\n",
       "      <td>0.0</td>\n",
       "    </tr>\n",
       "  </tbody>\n",
       "</table>\n",
       "<p>5 rows × 34 columns</p>\n",
       "</div>"
      ],
      "text/plain": [
       "    0    1    2    3    4    5    6    7    8    9   ...   24   25   26   27  \\\n",
       "0  0.0  1.0  1.0  1.0  1.0  1.0  1.0  1.0  1.0  0.0  ...  0.0  0.0  0.0  0.0   \n",
       "1  1.0  0.0  1.0  1.0  0.0  0.0  0.0  1.0  0.0  0.0  ...  0.0  0.0  0.0  0.0   \n",
       "2  1.0  1.0  0.0  1.0  0.0  0.0  0.0  1.0  1.0  1.0  ...  0.0  0.0  0.0  1.0   \n",
       "3  1.0  1.0  1.0  0.0  0.0  0.0  0.0  1.0  0.0  0.0  ...  0.0  0.0  0.0  0.0   \n",
       "4  1.0  0.0  0.0  0.0  0.0  0.0  1.0  0.0  0.0  0.0  ...  0.0  0.0  0.0  0.0   \n",
       "\n",
       "    28   29   30   31   32   33  \n",
       "0  0.0  0.0  0.0  1.0  0.0  0.0  \n",
       "1  0.0  0.0  1.0  0.0  0.0  0.0  \n",
       "2  1.0  0.0  0.0  0.0  1.0  0.0  \n",
       "3  0.0  0.0  0.0  0.0  0.0  0.0  \n",
       "4  0.0  0.0  0.0  0.0  0.0  0.0  \n",
       "\n",
       "[5 rows x 34 columns]"
      ]
     },
     "execution_count": 526,
     "metadata": {},
     "output_type": "execute_result"
    }
   ],
   "source": [
    "df = pd.DataFrame.sparse.from_spmatrix(cell_matrix)\n",
    "df.head()"
   ]
  },
  {
   "cell_type": "code",
   "execution_count": 527,
   "metadata": {},
   "outputs": [
    {
     "data": {
      "text/plain": [
       "'Name: \\nType: Graph\\nNumber of nodes: 34\\nNumber of edges: 78\\nAverage degree:   4.5882'"
      ]
     },
     "execution_count": 527,
     "metadata": {},
     "output_type": "execute_result"
    }
   ],
   "source": [
    "#Type\n",
    "#number of nodes = 34\n",
    "#number of edges = 78\n",
    "#average degree = 4.5882\n",
    "#Undirected graph\n",
    "nw.info(gph)"
   ]
  },
  {
   "cell_type": "code",
   "execution_count": 528,
   "metadata": {},
   "outputs": [
    {
     "data": {
      "text/plain": [
       "False"
      ]
     },
     "execution_count": 528,
     "metadata": {},
     "output_type": "execute_result"
    }
   ],
   "source": [
    "#Undirected graph \n",
    "nw.number_of_nodes(gph) #889\n",
    "nw.number_of_edges(gph) #2914\n",
    "nw.is_directed(gph) #false"
   ]
  },
  {
   "cell_type": "code",
   "execution_count": 529,
   "metadata": {},
   "outputs": [
    {
     "data": {
      "image/png": "[encoded data removed]",
      "text/plain": [
       "<Figure size 432x288 with 1 Axes>"
      ]
     },
     "metadata": {},
     "output_type": "display_data"
    }
   ],
   "source": [
    "import matplotlib.pyplot as plt\n",
    "nw.draw(gph,with_labels = 'True',centre = 'array-like'\n",
    "                    ,weight = 'weight',alpha =0.3,linewidth = 0.0001,\n",
    "                   node_color = 'blue',edge_color = 'red',node_size = 0.001,font_size = 6)\n",
    "plt.show()"
   ]
  },
  {
   "cell_type": "code",
   "execution_count": 530,
   "metadata": {},
   "outputs": [
    {
     "data": {
      "image/png": "[encoded data removed]",
      "text/plain": [
       "<Figure size 432x288 with 1 Axes>"
      ]
     },
     "metadata": {},
     "output_type": "display_data"
    }
   ],
   "source": [
    "nw.draw_kamada_kawai(gph,with_labels = 'True',centre = 'array-like'\n",
    "                    ,weight = 'weight',alpha =0.3,linewidth = 0.0001,\n",
    "                   node_color = 'blue',edge_color = 'red',node_size = 0.001,font_size = 6 )"
   ]
  },
  {
   "cell_type": "code",
   "execution_count": 531,
   "metadata": {},
   "outputs": [
    {
     "data": {
      "image/png": "[encoded data removed]",
      "text/plain": [
       "<Figure size 432x288 with 1 Axes>"
      ]
     },
     "metadata": {},
     "output_type": "display_data"
    }
   ],
   "source": [
    "nw.draw_random(gph,with_labels = 'True',centre = 'array-like'\n",
    "                    ,weight = 'weight',alpha =0.1,linewidth = 0.0001,\n",
    "                   node_color = 'blue',edge_color = 'red',node_size = 0.001,font_size = 6 )"
   ]
  },
  {
   "cell_type": "code",
   "execution_count": 532,
   "metadata": {},
   "outputs": [
    {
     "data": {
      "text/plain": [
       "DegreeView({0: 16, 1: 9, 2: 10, 3: 6, 4: 3, 5: 4, 6: 4, 7: 4, 8: 5, 9: 2, 10: 3, 11: 1, 12: 2, 13: 5, 14: 2, 15: 2, 16: 2, 17: 2, 18: 2, 19: 3, 20: 2, 21: 2, 22: 2, 23: 5, 24: 3, 25: 3, 26: 2, 27: 4, 28: 3, 29: 4, 30: 4, 31: 6, 32: 12, 33: 17})"
      ]
     },
     "execution_count": 532,
     "metadata": {},
     "output_type": "execute_result"
    }
   ],
   "source": [
    "#basic analysis\n",
    "#Degree distribution of nodes\n",
    "deg =nw.degree(gph)\n",
    "deg\n"
   ]
  },
  {
   "cell_type": "markdown",
   "metadata": {},
   "source": [
    "NETWORK A  STATISTICS\n",
    "    1.Degree\n",
    "    2.Closeness\n",
    "    3.Clustering\n",
    "    4.Pagerank\n",
    "    5. Eccentricity"
   ]
  },
  {
   "cell_type": "code",
   "execution_count": 533,
   "metadata": {},
   "outputs": [],
   "source": [
    "d1 =dict(nw.degree(gph))"
   ]
  },
  {
   "cell_type": "code",
   "execution_count": 534,
   "metadata": {},
   "outputs": [],
   "source": [
    "#closeness centrality\n",
    "d2=nw.closeness_centrality(gph)\n",
    "#nw.closeness_centrality(G)"
   ]
  },
  {
   "cell_type": "code",
   "execution_count": 535,
   "metadata": {},
   "outputs": [],
   "source": [
    "#degree distribution: number of nodes connected to each node\n",
    "#Clustering coefficient -> actual number pf links present between neighbors/total possible links\n",
    "d3 =nw.clustering(gph)\n",
    "#nw.clustering(G)"
   ]
  },
  {
   "cell_type": "code",
   "execution_count": 536,
   "metadata": {},
   "outputs": [],
   "source": [
    "#page rank\n",
    "d4=nw.pagerank(gph)\n",
    "#nw.pagerank(G)"
   ]
  },
  {
   "cell_type": "code",
   "execution_count": 537,
   "metadata": {},
   "outputs": [],
   "source": [
    "d5 =nw.eccentricity(gph)\n",
    "#nw.eccentricity(G)"
   ]
  },
  {
   "cell_type": "code",
   "execution_count": 538,
   "metadata": {},
   "outputs": [],
   "source": [
    "df1= pd.DataFrame([d1,d2,d3,d4,d5])#,columns = [\"degree centrality\",\"closeness centrality\",\n",
    "df1 = df1.transpose()                                        #     \"clustering\",\"pagerank\",\"eccentricity\"])"
   ]
  },
  {
   "cell_type": "code",
   "execution_count": 539,
   "metadata": {},
   "outputs": [],
   "source": [
    "#df1.\n",
    "df1.columns = [\"degree \",\"closeness centrality\",\"clustering\",\"pagerank\",\"eccentricity\"]"
   ]
  },
  {
   "cell_type": "code",
   "execution_count": 540,
   "metadata": {},
   "outputs": [
    {
     "data": {
      "text/html": [
       "<div>\n",
       "<style scoped>\n",
       "    .dataframe tbody tr th:only-of-type {\n",
       "        vertical-align: middle;\n",
       "    }\n",
       "\n",
       "    .dataframe tbody tr th {\n",
       "        vertical-align: top;\n",
       "    }\n",
       "\n",
       "    .dataframe thead th {\n",
       "        text-align: right;\n",
       "    }\n",
       "</style>\n",
       "<table border=\"1\" class=\"dataframe\">\n",
       "  <thead>\n",
       "    <tr style=\"text-align: right;\">\n",
       "      <th></th>\n",
       "      <th>degree</th>\n",
       "      <th>closeness centrality</th>\n",
       "      <th>clustering</th>\n",
       "      <th>pagerank</th>\n",
       "      <th>eccentricity</th>\n",
       "    </tr>\n",
       "  </thead>\n",
       "  <tbody>\n",
       "    <tr>\n",
       "      <td>0</td>\n",
       "      <td>16.0</td>\n",
       "      <td>0.568966</td>\n",
       "      <td>0.150000</td>\n",
       "      <td>0.097002</td>\n",
       "      <td>3.0</td>\n",
       "    </tr>\n",
       "    <tr>\n",
       "      <td>1</td>\n",
       "      <td>9.0</td>\n",
       "      <td>0.485294</td>\n",
       "      <td>0.333333</td>\n",
       "      <td>0.052878</td>\n",
       "      <td>3.0</td>\n",
       "    </tr>\n",
       "    <tr>\n",
       "      <td>2</td>\n",
       "      <td>10.0</td>\n",
       "      <td>0.559322</td>\n",
       "      <td>0.244444</td>\n",
       "      <td>0.057078</td>\n",
       "      <td>3.0</td>\n",
       "    </tr>\n",
       "    <tr>\n",
       "      <td>3</td>\n",
       "      <td>6.0</td>\n",
       "      <td>0.464789</td>\n",
       "      <td>0.666667</td>\n",
       "      <td>0.035861</td>\n",
       "      <td>3.0</td>\n",
       "    </tr>\n",
       "    <tr>\n",
       "      <td>4</td>\n",
       "      <td>3.0</td>\n",
       "      <td>0.379310</td>\n",
       "      <td>0.666667</td>\n",
       "      <td>0.021979</td>\n",
       "      <td>4.0</td>\n",
       "    </tr>\n",
       "  </tbody>\n",
       "</table>\n",
       "</div>"
      ],
      "text/plain": [
       "   degree   closeness centrality  clustering  pagerank  eccentricity\n",
       "0     16.0              0.568966    0.150000  0.097002           3.0\n",
       "1      9.0              0.485294    0.333333  0.052878           3.0\n",
       "2     10.0              0.559322    0.244444  0.057078           3.0\n",
       "3      6.0              0.464789    0.666667  0.035861           3.0\n",
       "4      3.0              0.379310    0.666667  0.021979           4.0"
      ]
     },
     "execution_count": 540,
     "metadata": {},
     "output_type": "execute_result"
    }
   ],
   "source": [
    "df1.head()"
   ]
  },
  {
   "cell_type": "code",
   "execution_count": 541,
   "metadata": {},
   "outputs": [
    {
     "data": {
      "image/png": "[encoded data removed]",
      "text/plain": [
       "<Figure size 576x432 with 2 Axes>"
      ]
     },
     "metadata": {
      "needs_background": "light"
     },
     "output_type": "display_data"
    }
   ],
   "source": [
    "import seaborn as sns\n",
    "sns.heatmap(df1.corr(),annot =True,cmap = 'bwr',linewidths = 0.2)\n",
    "fig = plt.gcf()\n",
    "fig.set_size_inches(8,6)\n",
    "plt.title('Pearson')\n",
    "plt.show()"
   ]
  },
  {
   "cell_type": "code",
   "execution_count": 542,
   "metadata": {},
   "outputs": [
    {
     "data": {
      "text/plain": [
       "17"
      ]
     },
     "execution_count": 542,
     "metadata": {},
     "output_type": "execute_result"
    }
   ],
   "source": [
    "int((nw.number_of_nodes(gph))/2)"
   ]
  },
  {
   "cell_type": "code",
   "execution_count": 543,
   "metadata": {},
   "outputs": [],
   "source": [
    "import random\n",
    "i =0\n",
    "k = int((nw.number_of_nodes(gph))/2)\n",
    "rg_node= []\n",
    "rg_edge = []\n",
    "for keys in deg:\n",
    "    if i < k: #444:#int(nw.number_of_nodes(gph)/2):\n",
    "        redge = random.choice(list(deg))\n",
    "        rnode = keys\n",
    "        rg_node.append(rnode)\n",
    "        #print(type(keys))\n",
    "        rg_edge.append(redge)\n",
    "        i+=1\n",
    "    "
   ]
  },
  {
   "cell_type": "code",
   "execution_count": 544,
   "metadata": {},
   "outputs": [
    {
     "data": {
      "text/plain": [
       "[(8, 5),\n",
       " (22, 2),\n",
       " (29, 4),\n",
       " (8, 5),\n",
       " (5, 4),\n",
       " (0, 16),\n",
       " (12, 2),\n",
       " (1, 9),\n",
       " (21, 2),\n",
       " (8, 5),\n",
       " (2, 10),\n",
       " (13, 5),\n",
       " (32, 12),\n",
       " (30, 4),\n",
       " (14, 2),\n",
       " (8, 5),\n",
       " (11, 1)]"
      ]
     },
     "execution_count": 544,
     "metadata": {},
     "output_type": "execute_result"
    }
   ],
   "source": [
    "rg_edge"
   ]
  },
  {
   "cell_type": "code",
   "execution_count": 545,
   "metadata": {},
   "outputs": [
    {
     "data": {
      "text/plain": [
       "[(0, 16),\n",
       " (1, 9),\n",
       " (2, 10),\n",
       " (3, 6),\n",
       " (4, 3),\n",
       " (5, 4),\n",
       " (6, 4),\n",
       " (7, 4),\n",
       " (8, 5),\n",
       " (9, 2),\n",
       " (10, 3),\n",
       " (11, 1),\n",
       " (12, 2),\n",
       " (13, 5),\n",
       " (14, 2),\n",
       " (15, 2),\n",
       " (16, 2)]"
      ]
     },
     "execution_count": 545,
     "metadata": {},
     "output_type": "execute_result"
    }
   ],
   "source": [
    "rg_node"
   ]
  },
  {
   "cell_type": "code",
   "execution_count": 546,
   "metadata": {},
   "outputs": [],
   "source": [
    "G=nw.Graph()\n"
   ]
  },
  {
   "cell_type": "code",
   "execution_count": 547,
   "metadata": {},
   "outputs": [],
   "source": [
    "G.add_edges_from(rg_edge)\n",
    "#G.add_nodes_from(rg_node)"
   ]
  },
  {
   "cell_type": "code",
   "execution_count": 548,
   "metadata": {},
   "outputs": [
    {
     "data": {
      "image/png": "[encoded data removed]",
      "text/plain": [
       "<Figure size 432x288 with 1 Axes>"
      ]
     },
     "metadata": {},
     "output_type": "display_data"
    }
   ],
   "source": [
    "import matplotlib.pyplot as plt\n",
    "nw.draw(G,with_labels = 'True',centre = 'array-like'\n",
    "                    ,weight = 'weight',alpha =0.5,linewidth = 0.0001,\n",
    "                   node_color = 'blue',edge_color = 'red',node_size = 0.001,font_size = 3)\n",
    "plt.show()"
   ]
  },
  {
   "cell_type": "code",
   "execution_count": 549,
   "metadata": {},
   "outputs": [
    {
     "data": {
      "text/plain": [
       "False"
      ]
     },
     "execution_count": 549,
     "metadata": {},
     "output_type": "execute_result"
    }
   ],
   "source": [
    "nw.number_of_nodes(G) #367\n",
    "nw.number_of_edges(G) #353\n",
    "nw.is_directed(G) #false"
   ]
  },
  {
   "cell_type": "markdown",
   "metadata": {},
   "source": [
    "NETWORK SAMPLE  STATISTICS\n",
    "    1.Degree\n",
    "    2.Closeness\n",
    "    3.Clustering\n",
    "    4.Pagerank\n",
    "    5. Average shortest path"
   ]
  },
  {
   "cell_type": "code",
   "execution_count": 550,
   "metadata": {},
   "outputs": [],
   "source": [
    "d1rs =dict(nw.degree(G))"
   ]
  },
  {
   "cell_type": "code",
   "execution_count": 551,
   "metadata": {},
   "outputs": [],
   "source": [
    "#closeness centrality\n",
    "d2rs=nw.closeness_centrality(G)\n",
    "#nw.closeness_centrality(G)"
   ]
  },
  {
   "cell_type": "code",
   "execution_count": 552,
   "metadata": {},
   "outputs": [],
   "source": [
    "#degree distribution: number of nodes connected to each node\n",
    "#Clustering coefficient -> actual number pf links present between neighbors/total possible links\n",
    "d3rs =nw.clustering(G)\n",
    "#nw.clustering(G)"
   ]
  },
  {
   "cell_type": "code",
   "execution_count": 553,
   "metadata": {},
   "outputs": [
    {
     "data": {
      "text/plain": [
       "{8: 0.035460992907801414,\n",
       " 5: 0.09574468085106386,\n",
       " 22: 0.034158174814102535,\n",
       " 2: 0.15191579884713072,\n",
       " 29: 0.035460992907801414,\n",
       " 4: 0.09574468085106383,\n",
       " 0: 0.05555555555555555,\n",
       " 16: 0.05555555555555555,\n",
       " 12: 0.06456576359913802,\n",
       " 1: 0.08108199386296544,\n",
       " 9: 0.04279233640185062,\n",
       " 21: 0.034158174814102535,\n",
       " 10: 0.034158174814102535,\n",
       " 13: 0.035460992907801414,\n",
       " 32: 0.03577462718621002,\n",
       " 30: 0.035460992907801414,\n",
       " 14: 0.034158174814102535,\n",
       " 11: 0.04279233640185062}"
      ]
     },
     "execution_count": 553,
     "metadata": {},
     "output_type": "execute_result"
    }
   ],
   "source": [
    "#page rank\n",
    "d4rs=nw.pagerank(G)\n",
    "nw.pagerank(G)"
   ]
  },
  {
   "cell_type": "code",
   "execution_count": 554,
   "metadata": {},
   "outputs": [
    {
     "name": "stdout",
     "output_type": "stream",
     "text": [
      "1.9333333333333333\n",
      "1.9047619047619047\n",
      "1.0\n",
      "1.3333333333333333\n"
     ]
    }
   ],
   "source": [
    "for C in (G.subgraph(c).copy() for c in nw.connected_components(G)):\n",
    "        d5rs = nw.average_shortest_path_length(C)\n",
    "        print(nw.average_shortest_path_length(C))\n",
    "#nw.eccentricity(G)"
   ]
  },
  {
   "cell_type": "code",
   "execution_count": null,
   "metadata": {},
   "outputs": [],
   "source": []
  },
  {
   "cell_type": "code",
   "execution_count": 555,
   "metadata": {},
   "outputs": [
    {
     "data": {
      "text/plain": [
       "dict_values([16, 9, 10, 6, 3, 4, 4, 4, 5, 2, 3, 1, 2, 5, 2, 2, 2, 2, 2, 3, 2, 2, 2, 5, 3, 3, 2, 4, 3, 4, 4, 6, 12, 17])"
      ]
     },
     "execution_count": 555,
     "metadata": {},
     "output_type": "execute_result"
    }
   ],
   "source": [
    "dict(nw.degree(gph)).values()"
   ]
  },
  {
   "cell_type": "code",
   "execution_count": 556,
   "metadata": {},
   "outputs": [
    {
     "data": {
      "text/plain": [
       "0.13903743315508021"
      ]
     },
     "execution_count": 556,
     "metadata": {},
     "output_type": "execute_result"
    }
   ],
   "source": [
    "#Density of the graph -> number of edges present/total number of edges->0.06 ,hence sparse graph\n",
    "nw.density(gph) #0.007382523130554626\n"
   ]
  },
  {
   "cell_type": "code",
   "execution_count": 557,
   "metadata": {},
   "outputs": [
    {
     "data": {
      "text/plain": [
       "0.0915032679738562"
      ]
     },
     "execution_count": 557,
     "metadata": {},
     "output_type": "execute_result"
    }
   ],
   "source": [
    "nw.density(G)  #0.005256026563035095"
   ]
  },
  {
   "cell_type": "code",
   "execution_count": 558,
   "metadata": {},
   "outputs": [
    {
     "data": {
      "text/plain": [
       "'Name: \\nType: Graph\\nNumber of nodes: 18\\nNumber of edges: 14\\nAverage degree:   1.5556'"
      ]
     },
     "execution_count": 558,
     "metadata": {},
     "output_type": "execute_result"
    }
   ],
   "source": [
    "nw.info(G)"
   ]
  },
  {
   "cell_type": "code",
   "execution_count": 559,
   "metadata": {},
   "outputs": [
    {
     "data": {
      "text/plain": [
       "{8: 0,\n",
       " 5: 0,\n",
       " 22: 0,\n",
       " 2: 0,\n",
       " 29: 0,\n",
       " 4: 0,\n",
       " 0: 0,\n",
       " 16: 0,\n",
       " 12: 0,\n",
       " 1: 0,\n",
       " 9: 0,\n",
       " 21: 0,\n",
       " 10: 0,\n",
       " 13: 0,\n",
       " 32: 0,\n",
       " 30: 0,\n",
       " 14: 0,\n",
       " 11: 0}"
      ]
     },
     "execution_count": 559,
     "metadata": {},
     "output_type": "execute_result"
    }
   ],
   "source": [
    "nw.clustering(G)"
   ]
  },
  {
   "cell_type": "code",
   "execution_count": 560,
   "metadata": {},
   "outputs": [],
   "source": [
    "#for i in nw.clustering(gph).items():\n",
    " #   print(i)"
   ]
  },
  {
   "cell_type": "code",
   "execution_count": 561,
   "metadata": {},
   "outputs": [
    {
     "data": {
      "text/plain": [
       "0.5706384782076823"
      ]
     },
     "execution_count": 561,
     "metadata": {},
     "output_type": "execute_result"
    }
   ],
   "source": [
    "#average clustering -> more average clustering -> more tightly knitted -> 38% \n",
    "nw.average_clustering(gph) #0.15284694735014312\n",
    "#nw.average_clustering(G) #0\n"
   ]
  },
  {
   "cell_type": "code",
   "execution_count": 562,
   "metadata": {},
   "outputs": [
    {
     "data": {
      "text/plain": [
       "5"
      ]
     },
     "execution_count": 562,
     "metadata": {},
     "output_type": "execute_result"
    }
   ],
   "source": [
    "#diameter of a network-> maximum shortest path from A to B\n",
    "nw.diameter(gph) #13\n",
    "#nw.diameter(G) #"
   ]
  },
  {
   "cell_type": "code",
   "execution_count": 563,
   "metadata": {},
   "outputs": [],
   "source": [
    "#nw.draw(gph)\n",
    "#plt.show()"
   ]
  },
  {
   "cell_type": "code",
   "execution_count": 564,
   "metadata": {},
   "outputs": [
    {
     "data": {
      "text/plain": [
       "{0: 0.48484848484848486,\n",
       " 1: 0.2727272727272727,\n",
       " 2: 0.30303030303030304,\n",
       " 3: 0.18181818181818182,\n",
       " 4: 0.09090909090909091,\n",
       " 5: 0.12121212121212122,\n",
       " 6: 0.12121212121212122,\n",
       " 7: 0.12121212121212122,\n",
       " 8: 0.15151515151515152,\n",
       " 9: 0.06060606060606061,\n",
       " 10: 0.09090909090909091,\n",
       " 11: 0.030303030303030304,\n",
       " 12: 0.06060606060606061,\n",
       " 13: 0.15151515151515152,\n",
       " 14: 0.06060606060606061,\n",
       " 15: 0.06060606060606061,\n",
       " 16: 0.06060606060606061,\n",
       " 17: 0.06060606060606061,\n",
       " 18: 0.06060606060606061,\n",
       " 19: 0.09090909090909091,\n",
       " 20: 0.06060606060606061,\n",
       " 21: 0.06060606060606061,\n",
       " 22: 0.06060606060606061,\n",
       " 23: 0.15151515151515152,\n",
       " 24: 0.09090909090909091,\n",
       " 25: 0.09090909090909091,\n",
       " 26: 0.06060606060606061,\n",
       " 27: 0.12121212121212122,\n",
       " 28: 0.09090909090909091,\n",
       " 29: 0.12121212121212122,\n",
       " 30: 0.12121212121212122,\n",
       " 31: 0.18181818181818182,\n",
       " 32: 0.36363636363636365,\n",
       " 33: 0.5151515151515151}"
      ]
     },
     "execution_count": 564,
     "metadata": {},
     "output_type": "execute_result"
    }
   ],
   "source": [
    "#nw.draw(G)\n",
    "#plt.show()\n",
    "nw.degree_centrality(gph)"
   ]
  },
  {
   "cell_type": "code",
   "execution_count": 565,
   "metadata": {},
   "outputs": [
    {
     "data": {
      "text/plain": [
       "{8: 0.13368983957219252,\n",
       " 5: 0.21008403361344538,\n",
       " 22: 0.17647058823529413,\n",
       " 2: 0.3025210084033613,\n",
       " 29: 0.13368983957219252,\n",
       " 4: 0.21008403361344538,\n",
       " 0: 0.058823529411764705,\n",
       " 16: 0.058823529411764705,\n",
       " 12: 0.21176470588235294,\n",
       " 1: 0.11764705882352941,\n",
       " 9: 0.0784313725490196,\n",
       " 21: 0.17647058823529413,\n",
       " 10: 0.17647058823529413,\n",
       " 13: 0.13368983957219252,\n",
       " 32: 0.14117647058823532,\n",
       " 30: 0.13368983957219252,\n",
       " 14: 0.17647058823529413,\n",
       " 11: 0.0784313725490196}"
      ]
     },
     "execution_count": 565,
     "metadata": {},
     "output_type": "execute_result"
    }
   ],
   "source": [
    "nw.closeness_centrality(G)"
   ]
  },
  {
   "cell_type": "code",
   "execution_count": 566,
   "metadata": {},
   "outputs": [
    {
     "data": {
      "text/plain": [
       "{0: 0.43763528138528146,\n",
       " 1: 0.053936688311688304,\n",
       " 2: 0.14365680615680618,\n",
       " 3: 0.011909271284271283,\n",
       " 4: 0.0006313131313131313,\n",
       " 5: 0.02998737373737374,\n",
       " 6: 0.029987373737373736,\n",
       " 7: 0.0,\n",
       " 8: 0.05592682780182781,\n",
       " 9: 0.0008477633477633478,\n",
       " 10: 0.0006313131313131313,\n",
       " 11: 0.0,\n",
       " 12: 0.0,\n",
       " 13: 0.04586339586339586,\n",
       " 14: 0.0,\n",
       " 15: 0.0,\n",
       " 16: 0.0,\n",
       " 17: 0.0,\n",
       " 18: 0.0,\n",
       " 19: 0.03247504810004811,\n",
       " 20: 0.0,\n",
       " 21: 0.0,\n",
       " 22: 0.0,\n",
       " 23: 0.017613636363636363,\n",
       " 24: 0.0022095959595959595,\n",
       " 25: 0.0038404882154882154,\n",
       " 26: 0.0,\n",
       " 27: 0.02233345358345358,\n",
       " 28: 0.0017947330447330447,\n",
       " 29: 0.0029220779220779218,\n",
       " 30: 0.014411976911976909,\n",
       " 31: 0.13827561327561325,\n",
       " 32: 0.145247113997114,\n",
       " 33: 0.30407497594997596}"
      ]
     },
     "execution_count": 566,
     "metadata": {},
     "output_type": "execute_result"
    }
   ],
   "source": [
    "nw.betweenness_centrality(gph,normalized = True)"
   ]
  },
  {
   "cell_type": "code",
   "execution_count": 567,
   "metadata": {},
   "outputs": [
    {
     "data": {
      "text/plain": [
       "{8: 0.0,\n",
       " 5: 0.051470588235294115,\n",
       " 22: 0.0,\n",
       " 2: 0.10294117647058823,\n",
       " 29: 0.0,\n",
       " 4: 0.051470588235294115,\n",
       " 0: 0.0,\n",
       " 16: 0.0,\n",
       " 12: 0.03676470588235294,\n",
       " 1: 0.007352941176470588,\n",
       " 9: 0.0,\n",
       " 21: 0.0,\n",
       " 10: 0.0,\n",
       " 13: 0.0,\n",
       " 32: 0.0,\n",
       " 30: 0.0,\n",
       " 14: 0.0,\n",
       " 11: 0.0}"
      ]
     },
     "execution_count": 567,
     "metadata": {},
     "output_type": "execute_result"
    }
   ],
   "source": [
    "nw.betweenness_centrality(G,normalized = True)"
   ]
  },
  {
   "cell_type": "code",
   "execution_count": 568,
   "metadata": {},
   "outputs": [
    {
     "data": {
      "text/plain": [
       "{8: 0.035460992907801414,\n",
       " 5: 0.09574468085106386,\n",
       " 22: 0.034158174814102535,\n",
       " 2: 0.15191579884713072,\n",
       " 29: 0.035460992907801414,\n",
       " 4: 0.09574468085106383,\n",
       " 0: 0.05555555555555555,\n",
       " 16: 0.05555555555555555,\n",
       " 12: 0.06456576359913802,\n",
       " 1: 0.08108199386296544,\n",
       " 9: 0.04279233640185062,\n",
       " 21: 0.034158174814102535,\n",
       " 10: 0.034158174814102535,\n",
       " 13: 0.035460992907801414,\n",
       " 32: 0.03577462718621002,\n",
       " 30: 0.035460992907801414,\n",
       " 14: 0.034158174814102535,\n",
       " 11: 0.04279233640185062}"
      ]
     },
     "execution_count": 568,
     "metadata": {},
     "output_type": "execute_result"
    }
   ],
   "source": [
    "nw.pagerank(G)"
   ]
  },
  {
   "cell_type": "code",
   "execution_count": 569,
   "metadata": {},
   "outputs": [
    {
     "name": "stdout",
     "output_type": "stream",
     "text": [
      "1.9333333333333333\n",
      "1.9047619047619047\n",
      "1.0\n",
      "1.3333333333333333\n"
     ]
    }
   ],
   "source": [
    "#nw.eccentricity(G)\n",
    "#G1=nw.Graph() \n",
    "for C in (G.subgraph(c).copy() for c in nw.connected_components(G)):\n",
    "      print(nw.average_shortest_path_length(C))"
   ]
  },
  {
   "cell_type": "code",
   "execution_count": 570,
   "metadata": {},
   "outputs": [
    {
     "data": {
      "text/plain": [
       "-0.4907407407407407"
      ]
     },
     "execution_count": 570,
     "metadata": {},
     "output_type": "execute_result"
    }
   ],
   "source": [
    "#pearson correlation coefficient\n",
    "nw.degree_pearson_correlation_coefficient(gph) #-0.028776339281457734\n",
    "nw.degree_pearson_correlation_coefficient(G) #-0.47861497205290643"
   ]
  },
  {
   "cell_type": "code",
   "execution_count": 571,
   "metadata": {},
   "outputs": [],
   "source": [
    "#G1 = nw.cubical_graph()\n",
    "#1.add_edges_from(rg_edge)\n",
    "#nw.draw(G1)\n",
    "def _coo_to_sparse_series(A, dense_index=False):\n",
    "    \"\"\" Convert a scipy.sparse.coo_matrix to a SparseSeries.\n",
    "    Use the defaults given in the SparseSeries constructor. \"\"\"\n",
    "    s = Series(A.data, MultiIndex.from_arrays((A.row, A.col)))\n",
    "    s = s.sort_index()\n",
    "    s = s.to_sparse()  # TODO: specify kind?\n",
    "    # ...\n",
    "    return s"
   ]
  },
  {
   "cell_type": "code",
   "execution_count": 572,
   "metadata": {},
   "outputs": [],
   "source": [
    "#import pandas as pd\n",
    "#df = _coo_to_sparse_series(cell_matrix)"
   ]
  },
  {
   "cell_type": "code",
   "execution_count": 573,
   "metadata": {},
   "outputs": [],
   "source": [
    "#df1.head()"
   ]
  },
  {
   "cell_type": "code",
   "execution_count": 574,
   "metadata": {},
   "outputs": [],
   "source": [
    "def correlation_matrix(df):\n",
    "    from matplotlib import pyplot as plt\n",
    "    from matplotlib import cm as cm\n",
    "\n",
    "    fig = plt.figure()\n",
    "    ax1 = fig.add_subplot(111)\n",
    "    cmap = cm.get_cmap('jet', 30)\n",
    "    cax = ax1.imshow(df.corr(), interpolation=\"nearest\", cmap=cmap)\n",
    "    ax1.grid(True)\n",
    "    # Add colorbar, make sure to specify tick locations to match desired ticklabels\n",
    "    fig.colorbar(cax, ticks=[.75,.8,.85,.90,.95,1])\n",
    "    plt.show()\n"
   ]
  },
  {
   "cell_type": "code",
   "execution_count": null,
   "metadata": {},
   "outputs": [],
   "source": []
  },
  {
   "cell_type": "code",
   "execution_count": null,
   "metadata": {},
   "outputs": [],
   "source": []
  },
  {
   "cell_type": "code",
   "execution_count": 575,
   "metadata": {
    "scrolled": true
   },
   "outputs": [
    {
     "data": {
      "text/html": [
       "<div>\n",
       "<style scoped>\n",
       "    .dataframe tbody tr th:only-of-type {\n",
       "        vertical-align: middle;\n",
       "    }\n",
       "\n",
       "    .dataframe tbody tr th {\n",
       "        vertical-align: top;\n",
       "    }\n",
       "\n",
       "    .dataframe thead th {\n",
       "        text-align: right;\n",
       "    }\n",
       "</style>\n",
       "<table border=\"1\" class=\"dataframe\">\n",
       "  <thead>\n",
       "    <tr style=\"text-align: right;\">\n",
       "      <th></th>\n",
       "      <th>0</th>\n",
       "      <th>1</th>\n",
       "      <th>2</th>\n",
       "      <th>3</th>\n",
       "      <th>4</th>\n",
       "      <th>5</th>\n",
       "    </tr>\n",
       "  </thead>\n",
       "  <tbody>\n",
       "    <tr>\n",
       "      <td>0</td>\n",
       "      <td>0.0</td>\n",
       "      <td>1.0</td>\n",
       "      <td>1.0</td>\n",
       "      <td>1.0</td>\n",
       "      <td>1.0</td>\n",
       "      <td>1.0</td>\n",
       "    </tr>\n",
       "    <tr>\n",
       "      <td>1</td>\n",
       "      <td>1.0</td>\n",
       "      <td>0.0</td>\n",
       "      <td>1.0</td>\n",
       "      <td>1.0</td>\n",
       "      <td>0.0</td>\n",
       "      <td>0.0</td>\n",
       "    </tr>\n",
       "    <tr>\n",
       "      <td>2</td>\n",
       "      <td>1.0</td>\n",
       "      <td>1.0</td>\n",
       "      <td>0.0</td>\n",
       "      <td>1.0</td>\n",
       "      <td>0.0</td>\n",
       "      <td>0.0</td>\n",
       "    </tr>\n",
       "    <tr>\n",
       "      <td>3</td>\n",
       "      <td>1.0</td>\n",
       "      <td>1.0</td>\n",
       "      <td>1.0</td>\n",
       "      <td>0.0</td>\n",
       "      <td>0.0</td>\n",
       "      <td>0.0</td>\n",
       "    </tr>\n",
       "    <tr>\n",
       "      <td>4</td>\n",
       "      <td>1.0</td>\n",
       "      <td>0.0</td>\n",
       "      <td>0.0</td>\n",
       "      <td>0.0</td>\n",
       "      <td>0.0</td>\n",
       "      <td>0.0</td>\n",
       "    </tr>\n",
       "    <tr>\n",
       "      <td>5</td>\n",
       "      <td>1.0</td>\n",
       "      <td>0.0</td>\n",
       "      <td>0.0</td>\n",
       "      <td>0.0</td>\n",
       "      <td>0.0</td>\n",
       "      <td>0.0</td>\n",
       "    </tr>\n",
       "  </tbody>\n",
       "</table>\n",
       "</div>"
      ],
      "text/plain": [
       "     0    1    2    3    4    5\n",
       "0  0.0  1.0  1.0  1.0  1.0  1.0\n",
       "1  1.0  0.0  1.0  1.0  0.0  0.0\n",
       "2  1.0  1.0  0.0  1.0  0.0  0.0\n",
       "3  1.0  1.0  1.0  0.0  0.0  0.0\n",
       "4  1.0  0.0  0.0  0.0  0.0  0.0\n",
       "5  1.0  0.0  0.0  0.0  0.0  0.0"
      ]
     },
     "execution_count": 575,
     "metadata": {},
     "output_type": "execute_result"
    }
   ],
   "source": [
    "#df2 = df[df.isnull() =='True'].drop()\n",
    "df.loc[0:5,0:5]#.corr(method = 'pearson')"
   ]
  },
  {
   "cell_type": "code",
   "execution_count": null,
   "metadata": {},
   "outputs": [],
   "source": []
  },
  {
   "cell_type": "markdown",
   "metadata": {},
   "source": [
    "CREATION OF RANDOM NETWORK"
   ]
  },
  {
   "cell_type": "code",
   "execution_count": 576,
   "metadata": {},
   "outputs": [],
   "source": [
    "G_random = nw.dense_gnm_random_graph(nw.number_of_nodes(gph),nw.number_of_edges(gph))"
   ]
  },
  {
   "cell_type": "code",
   "execution_count": 577,
   "metadata": {},
   "outputs": [
    {
     "data": {
      "image/png": "[encoded data removed]",
      "text/plain": [
       "<Figure size 432x288 with 1 Axes>"
      ]
     },
     "metadata": {},
     "output_type": "display_data"
    }
   ],
   "source": [
    "\n",
    "nw.draw(G_random,with_labels = 'True',centre = 'array-like'\n",
    "                    ,weight = 'weight',alpha =0.3,linewidth = 0.00001,\n",
    "                   node_color = 'blue',edge_color = 'red',node_size = 0.001,font_size = 6)\n",
    "plt.show()"
   ]
  },
  {
   "cell_type": "code",
   "execution_count": 578,
   "metadata": {},
   "outputs": [
    {
     "data": {
      "text/plain": [
       "False"
      ]
     },
     "execution_count": 578,
     "metadata": {},
     "output_type": "execute_result"
    }
   ],
   "source": [
    "nw.number_of_nodes(G_random)\n",
    "nw.number_of_edges(G_random)\n",
    "nw.is_directed(G_random)"
   ]
  },
  {
   "cell_type": "code",
   "execution_count": 579,
   "metadata": {},
   "outputs": [
    {
     "data": {
      "text/plain": [
       "dict_values([16, 9, 10, 6, 3, 4, 4, 4, 5, 2, 3, 1, 2, 5, 2, 2, 2, 2, 2, 3, 2, 2, 2, 5, 3, 3, 2, 4, 3, 4, 4, 6, 12, 17])"
      ]
     },
     "execution_count": 579,
     "metadata": {},
     "output_type": "execute_result"
    }
   ],
   "source": [
    "dict(nw.degree(gph)).values()"
   ]
  },
  {
   "cell_type": "code",
   "execution_count": 580,
   "metadata": {},
   "outputs": [
    {
     "data": {
      "text/plain": [
       "'Name: \\nType: Graph\\nNumber of nodes: 34\\nNumber of edges: 78\\nAverage degree:   4.5882'"
      ]
     },
     "execution_count": 580,
     "metadata": {},
     "output_type": "execute_result"
    }
   ],
   "source": [
    "nw.info(G_random)"
   ]
  },
  {
   "cell_type": "markdown",
   "metadata": {},
   "source": [
    "NETWORK RANDOM STATISTICS\n",
    "    1.Degree\n",
    "    2.Closeness\n",
    "    3.Clustering\n",
    "    4.Pagerank\n",
    "    5. Eccentricity"
   ]
  },
  {
   "cell_type": "code",
   "execution_count": 581,
   "metadata": {},
   "outputs": [],
   "source": [
    "d1random =dict(nw.degree(G_random))"
   ]
  },
  {
   "cell_type": "code",
   "execution_count": 582,
   "metadata": {},
   "outputs": [],
   "source": [
    "#closeness centrality\n",
    "d2random=nw.closeness_centrality(G_random)\n",
    "#nw.closeness_centrality(G)"
   ]
  },
  {
   "cell_type": "code",
   "execution_count": 583,
   "metadata": {},
   "outputs": [],
   "source": [
    "#degree distribution: number of nodes connected to each node\n",
    "#Clustering coefficient -> actual number pf links present between neighbors/total possible links\n",
    "d3random =nw.clustering(G_random)\n",
    "#nw.clustering(G)"
   ]
  },
  {
   "cell_type": "code",
   "execution_count": 584,
   "metadata": {},
   "outputs": [],
   "source": [
    "#page rank\n",
    "d4random=nw.pagerank(G_random)\n",
    "#nw.pagerank(G)"
   ]
  },
  {
   "cell_type": "code",
   "execution_count": 585,
   "metadata": {},
   "outputs": [],
   "source": [
    "d5random =nw.eccentricity(G_random)\n",
    "#nw.eccentricity(G)"
   ]
  },
  {
   "cell_type": "code",
   "execution_count": 586,
   "metadata": {},
   "outputs": [],
   "source": [
    "dfrandom= pd.DataFrame([d1random,d2random,d3random,d4random,d5random])#,columns = [\"degree centrality\",\"closeness centrality\",\n",
    "dfrandom = dfrandom.transpose()                                        #     \"clustering\",\"pagerank\",\"eccentricity\"])"
   ]
  },
  {
   "cell_type": "code",
   "execution_count": 587,
   "metadata": {},
   "outputs": [],
   "source": [
    "#df1.\n",
    "dfrandom.columns = [\"degree \",\"closeness centrality\",\"clustering\",\"pagerank\",\"eccentricity\"]"
   ]
  },
  {
   "cell_type": "code",
   "execution_count": 588,
   "metadata": {},
   "outputs": [
    {
     "data": {
      "text/html": [
       "<div>\n",
       "<style scoped>\n",
       "    .dataframe tbody tr th:only-of-type {\n",
       "        vertical-align: middle;\n",
       "    }\n",
       "\n",
       "    .dataframe tbody tr th {\n",
       "        vertical-align: top;\n",
       "    }\n",
       "\n",
       "    .dataframe thead th {\n",
       "        text-align: right;\n",
       "    }\n",
       "</style>\n",
       "<table border=\"1\" class=\"dataframe\">\n",
       "  <thead>\n",
       "    <tr style=\"text-align: right;\">\n",
       "      <th></th>\n",
       "      <th>degree</th>\n",
       "      <th>closeness centrality</th>\n",
       "      <th>clustering</th>\n",
       "      <th>pagerank</th>\n",
       "      <th>eccentricity</th>\n",
       "    </tr>\n",
       "  </thead>\n",
       "  <tbody>\n",
       "    <tr>\n",
       "      <td>0</td>\n",
       "      <td>3.0</td>\n",
       "      <td>0.392857</td>\n",
       "      <td>0.000000</td>\n",
       "      <td>0.021782</td>\n",
       "      <td>4.0</td>\n",
       "    </tr>\n",
       "    <tr>\n",
       "      <td>1</td>\n",
       "      <td>7.0</td>\n",
       "      <td>0.478261</td>\n",
       "      <td>0.142857</td>\n",
       "      <td>0.043931</td>\n",
       "      <td>4.0</td>\n",
       "    </tr>\n",
       "    <tr>\n",
       "      <td>2</td>\n",
       "      <td>5.0</td>\n",
       "      <td>0.434211</td>\n",
       "      <td>0.200000</td>\n",
       "      <td>0.031663</td>\n",
       "      <td>4.0</td>\n",
       "    </tr>\n",
       "    <tr>\n",
       "      <td>3</td>\n",
       "      <td>5.0</td>\n",
       "      <td>0.452055</td>\n",
       "      <td>0.200000</td>\n",
       "      <td>0.030786</td>\n",
       "      <td>4.0</td>\n",
       "    </tr>\n",
       "    <tr>\n",
       "      <td>4</td>\n",
       "      <td>7.0</td>\n",
       "      <td>0.478261</td>\n",
       "      <td>0.238095</td>\n",
       "      <td>0.041361</td>\n",
       "      <td>4.0</td>\n",
       "    </tr>\n",
       "  </tbody>\n",
       "</table>\n",
       "</div>"
      ],
      "text/plain": [
       "   degree   closeness centrality  clustering  pagerank  eccentricity\n",
       "0      3.0              0.392857    0.000000  0.021782           4.0\n",
       "1      7.0              0.478261    0.142857  0.043931           4.0\n",
       "2      5.0              0.434211    0.200000  0.031663           4.0\n",
       "3      5.0              0.452055    0.200000  0.030786           4.0\n",
       "4      7.0              0.478261    0.238095  0.041361           4.0"
      ]
     },
     "execution_count": 588,
     "metadata": {},
     "output_type": "execute_result"
    }
   ],
   "source": [
    "dfrandom.head()"
   ]
  },
  {
   "cell_type": "code",
   "execution_count": 589,
   "metadata": {},
   "outputs": [
    {
     "data": {
      "image/png": "[encoded data removed]",
      "text/plain": [
       "<Figure size 576x432 with 2 Axes>"
      ]
     },
     "metadata": {
      "needs_background": "light"
     },
     "output_type": "display_data"
    }
   ],
   "source": [
    "import seaborn as sns\n",
    "sns.heatmap(dfrandom.corr(),annot =True,cmap = 'bwr',linewidths = 0.2)\n",
    "fig = plt.gcf()\n",
    "fig.set_size_inches(8,6)\n",
    "plt.title('Pearson')\n",
    "plt.show()"
   ]
  },
  {
   "cell_type": "code",
   "execution_count": 590,
   "metadata": {},
   "outputs": [
    {
     "data": {
      "text/plain": [
       "0.13903743315508021"
      ]
     },
     "execution_count": 590,
     "metadata": {},
     "output_type": "execute_result"
    }
   ],
   "source": [
    "nw.density(G_random)"
   ]
  },
  {
   "cell_type": "code",
   "execution_count": 591,
   "metadata": {},
   "outputs": [
    {
     "name": "stdout",
     "output_type": "stream",
     "text": [
      "2.409982174688057\n"
     ]
    }
   ],
   "source": [
    "for C in (G_random.subgraph(c).copy() for c in nw.connected_components(G_random)):\n",
    "      print(nw.average_shortest_path_length(C))"
   ]
  },
  {
   "cell_type": "code",
   "execution_count": 592,
   "metadata": {},
   "outputs": [
    {
     "data": {
      "text/plain": [
       "-0.20068134502555043"
      ]
     },
     "execution_count": 592,
     "metadata": {},
     "output_type": "execute_result"
    }
   ],
   "source": [
    "nw.degree_pearson_correlation_coefficient(G_random)"
   ]
  },
  {
   "cell_type": "markdown",
   "metadata": {},
   "source": [
    "STATISTICAL TEST\n"
   ]
  },
  {
   "cell_type": "code",
   "execution_count": 593,
   "metadata": {},
   "outputs": [],
   "source": [
    "from scipy import stats\n",
    "f1 = np.var(df1['clustering'],ddof =1)\n",
    "f2 = np.var(dfrandom['clustering'],ddof =1)\n",
    "lendf1 = len(df1['clustering']) -1\n",
    "lendf2 = len(dfrandom['clustering']) -1\n",
    "f =f1/f2\n"
   ]
  },
  {
   "cell_type": "markdown",
   "metadata": {},
   "source": [
    "F test -> Check if data is from same population\n",
    "If p value <0.05 null hypothesis is rejected(homoskedasticity rejected)\n",
    "Which means alternative hypothesis (heteroskedasticity between Network A and Network Random is possible"
   ]
  },
  {
   "cell_type": "code",
   "execution_count": 594,
   "metadata": {},
   "outputs": [
    {
     "data": {
      "text/plain": [
       "0.9976019164617174"
      ]
     },
     "execution_count": 594,
     "metadata": {},
     "output_type": "execute_result"
    }
   ],
   "source": [
    "pval_1 = stats.f.cdf(f,lendf1,lendf2)\n",
    "pval_1"
   ]
  },
  {
   "cell_type": "code",
   "execution_count": 595,
   "metadata": {},
   "outputs": [
    {
     "data": {
      "text/plain": [
       "0.0023980835382825874"
      ]
     },
     "execution_count": 595,
     "metadata": {},
     "output_type": "execute_result"
    }
   ],
   "source": [
    "pval_2 = stats.f.sf(f,lendf1,lendf2)\n",
    "pval_2"
   ]
  },
  {
   "cell_type": "code",
   "execution_count": 596,
   "metadata": {},
   "outputs": [
    {
     "data": {
      "text/plain": [
       "0.004796167076565175"
      ]
     },
     "execution_count": 596,
     "metadata": {},
     "output_type": "execute_result"
    }
   ],
   "source": [
    "pval_bothsides = min(pval_1,pval_2)*2\n",
    "pval_bothsides"
   ]
  },
  {
   "cell_type": "markdown",
   "metadata": {},
   "source": [
    "P value is very less (order of -9) hence null hypothesis rejected \n"
   ]
  },
  {
   "cell_type": "code",
   "execution_count": 597,
   "metadata": {},
   "outputs": [
    {
     "data": {
      "text/plain": [
       "2.74433888350248"
      ]
     },
     "execution_count": 597,
     "metadata": {},
     "output_type": "execute_result"
    }
   ],
   "source": [
    "#F VALUE\n",
    "f"
   ]
  },
  {
   "cell_type": "markdown",
   "metadata": {},
   "source": [
    "Welch T test"
   ]
  },
  {
   "cell_type": "code",
   "execution_count": 599,
   "metadata": {},
   "outputs": [
    {
     "data": {
      "text/plain": [
       "0     0.150000\n",
       "1     0.333333\n",
       "2     0.244444\n",
       "3     0.666667\n",
       "4     0.666667\n",
       "5     0.500000\n",
       "6     0.500000\n",
       "7     1.000000\n",
       "8     0.500000\n",
       "9     0.000000\n",
       "10    0.666667\n",
       "11    0.000000\n",
       "12    1.000000\n",
       "13    0.600000\n",
       "14    1.000000\n",
       "15    1.000000\n",
       "16    1.000000\n",
       "17    1.000000\n",
       "18    1.000000\n",
       "19    0.333333\n",
       "20    1.000000\n",
       "21    1.000000\n",
       "22    1.000000\n",
       "23    0.400000\n",
       "24    0.333333\n",
       "25    0.333333\n",
       "26    1.000000\n",
       "27    0.166667\n",
       "28    0.333333\n",
       "29    0.666667\n",
       "30    0.500000\n",
       "31    0.200000\n",
       "32    0.196970\n",
       "33    0.110294\n",
       "Name: clustering, dtype: float64"
      ]
     },
     "execution_count": 599,
     "metadata": {},
     "output_type": "execute_result"
    }
   ],
   "source": [
    "df1.clustering"
   ]
  },
  {
   "cell_type": "code",
   "execution_count": null,
   "metadata": {},
   "outputs": [],
   "source": [
    "t1 = df1.clustering\n",
    "t2 = dfrandom.clustering\n",
    "stats.ttest_ind(t1,t2,equal_var = False)"
   ]
  },
  {
   "cell_type": "markdown",
   "metadata": {},
   "source": [
    "Once again p value is of the order of -9 which means that the alternate hypothesis is more valid\n",
    "Which signifies that the clustering of networkA and network random are different"
   ]
  }
 ],
 "metadata": {
  "kernelspec": {
   "display_name": "Python 3",
   "language": "python",
   "name": "python3"
  },
  "language_info": {
   "codemirror_mode": {
    "name": "ipython",
    "version": 3
   },
   "file_extension": ".py",
   "mimetype": "text/x-python",
   "name": "python",
   "nbconvert_exporter": "python",
   "pygments_lexer": "ipython3",
   "version": "3.7.3"
  }
 },
 "nbformat": 4,
 "nbformat_minor": 2
}
