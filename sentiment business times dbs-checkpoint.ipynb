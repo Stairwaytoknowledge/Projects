{
 "cells": [
  {
   "cell_type": "code",
   "execution_count": 11,
   "metadata": {},
   "outputs": [
    {
     "name": "stderr",
     "output_type": "stream",
     "text": [
      "[nltk_data] Downloading package vader_lexicon to\n",
      "[nltk_data]     C:\\Users\\Sid\\AppData\\Roaming\\nltk_data...\n"
     ]
    }
   ],
   "source": [
    "import nltk\n",
    "import warnings\n",
    "warnings.filterwarnings('ignore')\n",
    "from nltk.sentiment.vader import SentimentIntensityAnalyzer\n",
    "nltk.download('vader_lexicon')\n",
    "sia = SentimentIntensityAnalyzer()\n",
    "#import numpy as np\n",
    "#import pandas as pd"
   ]
  },
  {
   "cell_type": "code",
   "execution_count": null,
   "metadata": {},
   "outputs": [
    {
     "name": "stdout",
     "output_type": "stream",
     "text": [
      "22 Feb 2020 https://www.businesstimes.com.sg/companies-markets/dbs-us1b-perp-said-to-set-benchmark-for-other-asian-banks\n",
      "21 Feb 2020 https://www.businesstimes.com.sg/companies-markets/dbs-prices-us1b-perp-deal-at-33-first-callable-in-2025\n",
      "21 Feb 2020 https://www.businesstimes.com.sg/stocks/stocks-to-watch-ocbc-uob-sembcorp-dbs-wilmar-hongkong-land-comfortdelgro-starhub\n",
      "20 Feb 2020 https://www.businesstimes.com.sg/companies-markets/dbs-says-it-will-provide-abridged-financial-disclosures-in-place-of-qr\n",
      "18 Feb 2020 https://www.businesstimes.com.sg/companies-markets/dbs-says-second-employee-infected-with-covid-19-works-at-satellite-office\n",
      "14 Feb 2020 https://www.businesstimes.com.sg/companies-markets/brokers-take-analysts-cut-target-prices-for-dbs-on-expectations-of-weaker-fy20\n",
      "14 Feb 2020 https://www.businesstimes.com.sg/stocks/stocks-to-watch-dbs-ocbc-keppel-sats-hi-p-far-east-h-trust-sbs-transit\n",
      "14 Feb 2020 https://www.businesstimes.com.sg/companies-markets/dbs-outperforms-in-q4-hunkers-down-to-tackle-impact-from-virus-outbreak\n",
      "13 Feb 2020 https://www.businesstimes.com.sg/stocks/stocks-to-watch-dbs-singtel-uob-genting-sembcorp-sia-sia-engg-thomson-medical\n",
      "13 Feb 2020 https://www.businesstimes.com.sg/companies-markets/dbs-sees-1-2-revenue-impact-in-2020-on-covid-19-outbreak\n",
      "13 Feb 2020 https://www.businesstimes.com.sg/companies-markets/200-dbs-staff-vacate-mbfc-after-case-confirmed\n",
      "12 Feb 2020 https://www.businesstimes.com.sg/government-economy/coronavirus-3-new-cases-in-singapore-2-from-grace-assembly-of-god-church-1-from\n",
      "12 Feb 2020 https://www.businesstimes.com.sg/companies-markets/under-200-dbs-staff-sent-home-after-mbfc-employee-found-to-have-covid-19\n",
      "08 Feb 2020 https://www.businesstimes.com.sg/government-economy/dbs-cuts-singapores-2020-growth-forecast-to-09\n",
      "07 Feb 2020 https://www.businesstimes.com.sg/government-economy/dbs-downgrades-singapores-gdp-forecast-on-potential-virus-impact\n",
      "07 Feb 2020 https://www.businesstimes.com.sg/companies-markets/dbs-completes-first-trade-financing-deal-on-nations-networked-trade-platform\n"
     ]
    }
   ],
   "source": [
    "from urllib.request import urlopen\n",
    "from bs4 import BeautifulSoup\n",
    "from datetime import datetime, timedelta\n",
    "import time\n",
    "import pprint\n",
    "\n",
    "date_sentiments = {}\n",
    "\n",
    "for i in range(1,10):\n",
    "    page = urlopen('https://www.businesstimes.com.sg/search/dbs?page='+str(i)).read()\n",
    "    soup = BeautifulSoup(page, features=\"html.parser\")\n",
    "    posts = soup.findAll(\"div\", {\"class\": \"media-body\"})\n",
    "    for post in posts:\n",
    "        time.sleep(1)\n",
    "        url = post.a['href']\n",
    "        date = post.time.text\n",
    "        print(date, url)\n",
    "        try:\n",
    "            link_page = urlopen(url).read()\n",
    "        except:\n",
    "            url = url[:-2]\n",
    "            link_page = urlopen(url).read()\n",
    "        link_soup = BeautifulSoup(link_page)\n",
    "        sentences = link_soup.findAll(\"p\")\n",
    "        passage = \"\"\n",
    "        for sentence in sentences:\n",
    "            passage += sentence.text\n",
    "        sentiment =sia.polarity_scores(passage)['compound']\n",
    "        date_sentiments.setdefault(date, []).append(sentiment)\n",
    "\n",
    "date_sentiment = {}\n",
    "\n",
    "for k,v in date_sentiments.items():\n",
    "    date_sentiment[datetime.strptime(k, '%d %b %Y').date() + timedelta(days=1)] = round(sum(v)/float(len(v)),3)\n",
    "\n",
    "earliest_date = min(date_sentiment.keys())\n",
    "\n",
    "print(date_sentiment)"
   ]
  },
  {
   "cell_type": "code",
   "execution_count": null,
   "metadata": {},
   "outputs": [],
   "source": []
  }
 ],
 "metadata": {
  "kernelspec": {
   "display_name": "Python 3",
   "language": "python",
   "name": "python3"
  },
  "language_info": {
   "codemirror_mode": {
    "name": "ipython",
    "version": 3
   },
   "file_extension": ".py",
   "mimetype": "text/x-python",
   "name": "python",
   "nbconvert_exporter": "python",
   "pygments_lexer": "ipython3",
   "version": "3.7.3"
  }
 },
 "nbformat": 4,
 "nbformat_minor": 2
}
